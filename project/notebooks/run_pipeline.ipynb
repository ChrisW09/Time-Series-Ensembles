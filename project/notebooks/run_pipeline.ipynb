{
 "cells": [
  {
   "cell_type": "markdown",
   "metadata": {},
   "source": [
    "# Interface for Pipeline Execution"
   ]
  },
  {
   "cell_type": "markdown",
   "source": [
    "## 1) Import Models, Metrics, Paths, and Functions"
   ],
   "metadata": {
    "collapsed": false
   }
  },
  {
   "cell_type": "code",
   "outputs": [
    {
     "name": "stdout",
     "output_type": "stream",
     "text": [
      "Loading paths...\n",
      "Loading helper functions...\n",
      "Loading data transformers...\n",
      "Loading models...\n",
      "Loading metrics...\n"
     ]
    }
   ],
   "source": [
    "from utils.helpers import csv_reader\n",
    "from utils.paths import *\n",
    "from pipeline.run_pipeline import run_pipeline\n",
    "\n",
    "\n",
    "from models import MODELS\n",
    "from metrics import METRICS\n"
   ],
   "metadata": {
    "collapsed": false,
    "ExecuteTime": {
     "end_time": "2024-03-06T07:05:48.820049Z",
     "start_time": "2024-03-06T07:05:25.557238Z"
    }
   },
   "execution_count": 1
  },
  {
   "cell_type": "code",
   "outputs": [],
   "source": [
    "# print(METRICS)\n",
    "# print(MODELS)"
   ],
   "metadata": {
    "collapsed": false,
    "ExecuteTime": {
     "end_time": "2024-03-06T07:05:48.828454Z",
     "start_time": "2024-03-06T07:05:48.823099Z"
    }
   },
   "execution_count": 2
  },
  {
   "cell_type": "markdown",
   "source": [
    "## 2) Select Input Data "
   ],
   "metadata": {
    "collapsed": false
   }
  },
  {
   "cell_type": "code",
   "execution_count": 3,
   "metadata": {
    "ExecuteTime": {
     "end_time": "2024-03-06T07:05:48.880062Z",
     "start_time": "2024-03-06T07:05:48.830465Z"
    }
   },
   "outputs": [
    {
     "name": "stdout",
     "output_type": "stream",
     "text": [
      "                    y          x1         x2          x3\n",
      "Date                                                    \n",
      "2004-01-01  50.840469  427.595799  55.337904  900.325291\n",
      "2004-02-01  52.871538  434.062163  54.959155  900.775888\n",
      "2004-03-01  53.769316  453.264284  56.470633  899.510058\n",
      "2004-04-01  57.672973  459.367523  56.704233  903.524834\n",
      "2004-05-01  57.182051  462.354356  61.557907  905.071762\n"
     ]
    }
   ],
   "source": [
    "# Read input data\n",
    "df = csv_reader(SIMDATA_DIR, 'noisy_simdata')\n",
    "print(df.head())\n",
    "\n",
    "# For testng pipeline for now I use a subset of 10 years:\n",
    "df = df.iloc[:120, :]"
   ]
  },
  {
   "cell_type": "code",
   "outputs": [],
   "source": [
    "# ## Using the EUR-USD Exchange Rate data\n",
    "# \n",
    "# df = csv_reader(TESTDATA_DIR, 'eurusd', columns=['datetime', 'bid_close'])\n",
    "# import sys\n",
    "# import warnings\n",
    "# # warnings( sys.__stdout__())\n",
    "# \n",
    "# #sys.jupyter_stdout = sys.__stdout__\n",
    "# print(\"hey\")\n",
    "# print(df.head())\n",
    "# \n",
    "# # For testng pipeline for now I use a small subset:\n",
    "# df = df.iloc[:10000, :]"
   ],
   "metadata": {
    "collapsed": false,
    "ExecuteTime": {
     "end_time": "2024-03-06T07:05:48.894051Z",
     "start_time": "2024-03-06T07:05:48.885096Z"
    }
   },
   "execution_count": 4
  },
  {
   "cell_type": "markdown",
   "source": [
    "## 3) Run Pipeline"
   ],
   "metadata": {
    "collapsed": false
   }
  },
  {
   "cell_type": "markdown",
   "source": [
    "### 3.1) ... on Simulated Data"
   ],
   "metadata": {
    "collapsed": false
   }
  },
  {
   "cell_type": "code",
   "execution_count": 5,
   "metadata": {
    "ExecuteTime": {
     "end_time": "2024-03-06T07:10:34.767479Z",
     "start_time": "2024-03-06T07:05:48.899583Z"
    }
   },
   "outputs": [
    {
     "name": "stdout",
     "output_type": "stream",
     "text": [
      "\u001B[33;1m=================================================================================\n",
      "[2024-03-06 08:05] Starting  Pipeline...\u001B[0m\n",
      "\u001B[33;1m\n",
      "=====================================================\n",
      "== Starting Step 1 in Pipeline: Data Preprocessing ==\n",
      "=====================================================\n",
      "\u001B[0m\n",
      "\u001B[33;1mSearching for time information...\u001B[0m\n",
      "\u001B[33;1mDates found in 'index' column!\u001B[0m\n",
      "\u001B[33;1mInferred frequency: month start\u001B[0m\n",
      "\u001B[33;1mData from goes from 2004-01-01 to 2013-12-01, resulting in 120 observations.\n",
      "\u001B[0m\n",
      "\u001B[33;1mSelecting target and covariates...\u001B[0m\n",
      "\u001B[33;1mTarget: y\u001B[0m\n",
      "\u001B[33;1mCovariates: x1, x2, x3\u001B[0m\n",
      "\u001B[33;1m\n",
      "Data Insight:\n",
      "\u001B[0m\n",
      "\u001B[33;1m                    y          x1         x2          x3\n",
      "Date                                                    \n",
      "2004-01-01  50.840469  427.595799  55.337904  900.325291\n",
      "2004-02-01  52.871538  434.062163  54.959155  900.775888\n",
      "2004-03-01  53.769316  453.264284  56.470633  899.510058\n",
      "2004-04-01  57.672973  459.367523  56.704233  903.524834\n",
      "2004-05-01  57.182051  462.354356  61.557907  905.071762\u001B[0m\n",
      "\u001B[33;1m[Time elapsed: 00s]\n",
      "\u001B[0m\n",
      "\u001B[33;1m\n",
      "=======================================================\n",
      "== Starting Step 2 in Pipeline: Individual Forecasts ==\n",
      "=======================================================\n",
      "\u001B[0m\n",
      "\u001B[33;1mSplitting data (train/test ratio: 30/70)...\n",
      "Initial training set has 36 observations \u001B[0m\n",
      "\u001B[33;1mand goes from 2004-01-01 to 2006-12-01\n",
      "There are 84 periods to be forecasted: \u001B[0m\n",
      "\u001B[33;1m2007-01-01 to 2013-12-01\n",
      "\u001B[0m\n",
      "\u001B[33;1mNow generating 84 one-step ahead expanding window predictions from model: Naive (sktime)\u001B[0m\n",
      "\u001B[33;1m...finished!\n",
      "\u001B[0m\n",
      "\u001B[33;1mNow generating 84 one-step ahead expanding window predictions from model: Naive (drift) (sktime)\u001B[0m\n",
      "\u001B[33;1m...finished!\n",
      "\u001B[0m\n",
      "\u001B[33;1mNow generating 84 one-step ahead expanding window predictions from model: AutoSARIMA (sktime)\u001B[0m\n",
      "\u001B[33;1mAuto-fitting model. Refitting every 28th period.\u001B[0m\n",
      "\u001B[33;1mAutoSARIMA forecast 1 / 84\u001B[0m\n",
      "\u001B[33;1mAutoSARIMA forecast 17 / 84\u001B[0m\n",
      "\u001B[33;1mAutoSARIMA forecast 34 / 84\u001B[0m\n",
      "\u001B[33;1mAutoSARIMA forecast 51 / 84\u001B[0m\n",
      "\u001B[33;1mAutoSARIMA forecast 68 / 84\u001B[0m\n",
      "\u001B[33;1mAutoSARIMA forecast 84 / 84\u001B[0m\n",
      "\u001B[33;1m...finished!\n",
      "\u001B[0m\n",
      "\u001B[33;1mNow generating 84 one-step ahead expanding window predictions from model: Exponential Smoothing (sktime)\u001B[0m\n",
      "\u001B[33;1m...finished!\n",
      "\u001B[0m\n",
      "\u001B[33;1mNow generating 84 one-step ahead expanding window predictions from model: STL (sktime)\u001B[0m\n",
      "\u001B[33;1m...finished!\n",
      "\u001B[0m\n",
      "\u001B[33;1mNow generating 84 one-step ahead expanding window predictions from model: XGBoost (darts)\u001B[0m\n",
      "\u001B[33;1m...finished!\n",
      "\u001B[0m\n",
      "\u001B[33;1mNow generating 84 one-step ahead expanding window predictions from model: AutoSARIMAX with covariates (sktime)\u001B[0m\n",
      "\u001B[33;1mAuto-fitting model. Refitting every 28th period.\u001B[0m\n",
      "\u001B[33;1mAutoSARIMAX with covariates forecast 1 / 84\u001B[0m\n",
      "\u001B[33;1mAutoSARIMAX with covariates forecast 17 / 84\u001B[0m\n",
      "\u001B[33;1mAutoSARIMAX with covariates forecast 34 / 84\u001B[0m\n",
      "\u001B[33;1mAutoSARIMAX with covariates forecast 51 / 84\u001B[0m\n",
      "\u001B[33;1mAutoSARIMAX with covariates forecast 68 / 84\u001B[0m\n",
      "\u001B[33;1mAutoSARIMAX with covariates forecast 84 / 84\u001B[0m\n",
      "\u001B[33;1m...finished!\n",
      "\u001B[0m\n",
      "\u001B[33;1mNow generating 84 one-step ahead expanding window predictions from model: XGBoost with covariates (darts)\u001B[0m\n",
      "\u001B[33;1m...finished!\n",
      "\u001B[0m\n",
      "\u001B[33;1m\n",
      "Individual forecasters' predictions finished!\n",
      "\n",
      "Insights into forecasters' predictions:\u001B[0m\n",
      "\u001B[33;1m             Naive  Naive (drift)  AutoSARIMA  Exponential Smoothing  \\\n",
      "Date                                                                   \n",
      "2007-01  48.857243      48.800580   49.606623              49.016606   \n",
      "2007-02  48.254157      48.182315   48.515764              48.500499   \n",
      "2007-03  47.765006      47.681886   47.973535              48.001824   \n",
      "2007-04  46.394433      46.277432   46.969779              46.904911   \n",
      "2007-05  44.212976      44.043041   45.108821              45.025232   \n",
      "\n",
      "               STL    XGBoost  AutoSARIMAX with covariates  \\\n",
      "Date                                                         \n",
      "2007-01  40.574201  48.632446                    44.513787   \n",
      "2007-02  41.374739  50.458118                    44.359217   \n",
      "2007-03  45.653502  47.823650                    48.442624   \n",
      "2007-04  41.569708  47.594688                    49.511544   \n",
      "2007-05  49.855823  48.784794                    53.863918   \n",
      "\n",
      "         XGBoost with covariates  \n",
      "Date                              \n",
      "2007-01                49.624989  \n",
      "2007-02                49.453224  \n",
      "2007-03                48.497398  \n",
      "2007-04                48.059471  \n",
      "2007-05                45.706074  \u001B[0m\n",
      "\u001B[33;1m\n",
      "\u001B[0m\n",
      "\u001B[33;1mExporting individual predictions as csv...\u001B[0m\n",
      "\u001B[33;1m...finished!\n",
      "\u001B[0m\n",
      "\u001B[33;1m[Time elapsed: 04m 30s]\n",
      "\u001B[0m\n",
      "\u001B[33;1m\n",
      "=============================================\n",
      "== Step 3: Historical Ensemble Predictions ==\n",
      "=============================================\n",
      "\u001B[0m\n",
      "\u001B[33;1mSplitting forecast data (n = 84) for ensemble forecasts (train/test ratio: 30/70)...\u001B[0m\n",
      "\u001B[33;1mInitial training set has 25 observations and goes from 2007-01 to 2009-01\u001B[0m\n",
      "\u001B[33;1mThere are 59 periods to be forecasted by the individual models 2009-02 to 2013-12\u001B[0m\n",
      "\u001B[33;1m\n",
      "Now generating 59 one-step ahead expanding window predictions from ensemble model: 'Weighted - Simple ()'\u001B[0m\n",
      "\u001B[33;1mEnsemble forecast 1 / 59\u001B[0m\n",
      "\u001B[33;1mEnsemble forecast 12 / 59\u001B[0m\n",
      "\u001B[33;1mEnsemble forecast 24 / 59\u001B[0m\n",
      "\u001B[33;1mEnsemble forecast 36 / 59\u001B[0m\n",
      "\u001B[33;1mEnsemble forecast 48 / 59\u001B[0m\n",
      "\u001B[33;1mEnsemble forecast 59 / 59\u001B[0m\n",
      "\u001B[33;1m...finished!\u001B[0m\n",
      "\u001B[33;1m\n",
      "Now generating 59 one-step ahead expanding window predictions from ensemble model: 'Weighted - Inverse RMSE ()'\u001B[0m\n",
      "\u001B[33;1mEnsemble forecast 1 / 59\u001B[0m\n",
      "\u001B[33;1mEnsemble forecast 12 / 59\u001B[0m\n",
      "\u001B[33;1mEnsemble forecast 24 / 59\u001B[0m\n",
      "\u001B[33;1mEnsemble forecast 36 / 59\u001B[0m\n",
      "\u001B[33;1mEnsemble forecast 48 / 59\u001B[0m\n",
      "\u001B[33;1mEnsemble forecast 59 / 59\u001B[0m\n",
      "\u001B[33;1m...finished!\u001B[0m\n",
      "\u001B[33;1m\n",
      "Now generating 59 one-step ahead expanding window predictions from ensemble model: 'Weighted - Inverse Variance ()'\u001B[0m\n",
      "\u001B[33;1mEnsemble forecast 1 / 59\u001B[0m\n",
      "\u001B[33;1mEnsemble forecast 12 / 59\u001B[0m\n",
      "\u001B[33;1mEnsemble forecast 24 / 59\u001B[0m\n",
      "\u001B[33;1mEnsemble forecast 36 / 59\u001B[0m\n",
      "\u001B[33;1mEnsemble forecast 48 / 59\u001B[0m\n",
      "\u001B[33;1mEnsemble forecast 59 / 59\u001B[0m\n",
      "\u001B[33;1m...finished!\u001B[0m\n",
      "\u001B[33;1m\n",
      "Now generating 59 one-step ahead expanding window predictions from ensemble model: 'Weighted - Inverse Error Covariance ()'\u001B[0m\n",
      "\u001B[33;1mEnsemble forecast 1 / 59\u001B[0m\n",
      "\u001B[33;1mEnsemble forecast 12 / 59\u001B[0m\n",
      "\u001B[33;1mEnsemble forecast 24 / 59\u001B[0m\n",
      "\u001B[33;1mEnsemble forecast 36 / 59\u001B[0m\n",
      "\u001B[33;1mEnsemble forecast 48 / 59\u001B[0m\n",
      "\u001B[33;1mEnsemble forecast 59 / 59\u001B[0m\n",
      "\u001B[33;1m...finished!\u001B[0m\n",
      "\u001B[33;1m\n",
      "Now generating 59 one-step ahead expanding window predictions from ensemble model: 'Meta - SVR (sklearn)'\u001B[0m\n",
      "\u001B[33;1mEnsemble forecast 1 / 59\u001B[0m\n",
      "\u001B[33;1mEnsemble forecast 12 / 59\u001B[0m\n",
      "\u001B[33;1mEnsemble forecast 24 / 59\u001B[0m\n",
      "\u001B[33;1mEnsemble forecast 36 / 59\u001B[0m\n",
      "\u001B[33;1mEnsemble forecast 48 / 59\u001B[0m\n",
      "\u001B[33;1mEnsemble forecast 59 / 59\u001B[0m\n",
      "\u001B[33;1m...finished!\u001B[0m\n",
      "\u001B[33;1m\n",
      "Now generating 59 one-step ahead expanding window predictions from ensemble model: 'Meta - RandomForest (sklearn)'\u001B[0m\n",
      "\u001B[33;1mEnsemble forecast 1 / 59\u001B[0m\n",
      "\u001B[33;1mEnsemble forecast 12 / 59\u001B[0m\n",
      "\u001B[33;1mEnsemble forecast 24 / 59\u001B[0m\n",
      "\u001B[33;1mEnsemble forecast 36 / 59\u001B[0m\n",
      "\u001B[33;1mEnsemble forecast 48 / 59\u001B[0m\n",
      "\u001B[33;1mEnsemble forecast 59 / 59\u001B[0m\n",
      "\u001B[33;1m...finished!\u001B[0m\n",
      "\u001B[33;1m\n",
      "Ensemble predictions finished!\n",
      "\n",
      "Insights into ensembles' predictions:\u001B[0m\n",
      "\u001B[33;1m         Weighted Ensemble: Simple  Weighted Ensemble: Inverse RMSE  \\\n",
      "2009-02                  61.612665                        61.202309   \n",
      "2009-03                  59.163315                        59.052996   \n",
      "2009-04                  58.909339                        58.899096   \n",
      "2009-05                  58.412994                        58.140892   \n",
      "2009-06                  59.456828                        59.618394   \n",
      "\n",
      "         Weighted Ensemble: Inverse Variance  \\\n",
      "2009-02                            61.365692   \n",
      "2009-03                            58.941138   \n",
      "2009-04                            58.693316   \n",
      "2009-05                            58.041535   \n",
      "2009-06                            59.282305   \n",
      "\n",
      "         Weighted Ensemble: Inverse Error Covariance  Meta Ensemble: SVR  \\\n",
      "2009-02                                    62.946926           64.898382   \n",
      "2009-03                                    58.894965           58.877583   \n",
      "2009-04                                    58.342223           59.828429   \n",
      "2009-05                                    54.614041           57.724974   \n",
      "2009-06                                    59.082615           59.781163   \n",
      "\n",
      "         Meta Ensemble: RandomForest  \n",
      "2009-02                    60.199472  \n",
      "2009-03                    60.147054  \n",
      "2009-04                    59.389127  \n",
      "2009-05                    59.195406  \n",
      "2009-06                    58.708187  \u001B[0m\n",
      "\u001B[33;1m\n",
      "Merging...\u001B[0m\n",
      "\u001B[33;1m...finished!\n",
      "\u001B[0m\n",
      "\u001B[33;1mExporting ensemble predictions as csv...\u001B[0m\n",
      "\u001B[33;1mExporting full predictions as csv...\u001B[0m\n",
      "\u001B[33;1m...finished!\n",
      "\u001B[0m\n",
      "\u001B[33;1m[Time elapsed: 04m 45s]\n",
      "\u001B[0m\n",
      "\u001B[33;1m\n",
      "============================================\n",
      "== Step 4: Creating Metrics Ranking Table ==\n",
      "============================================\n",
      "\u001B[0m\n",
      "\u001B[33;1mCalculating MAE, RMSE, MAPE, sMAPE per model...\u001B[0m\n",
      "\u001B[33;1mRanking forecasters ...\u001B[0m\n",
      "\u001B[33;1m...finished!\n",
      "\u001B[0m\n",
      "\u001B[33;1mExporting metrics ranking as csv...\u001B[0m\n",
      "\u001B[33;1m...finished!\n",
      "\u001B[0m\n",
      "\u001B[33;1mResults:\u001B[0m\n",
      "\u001B[33;1m                                          Model       MAE      RMSE      MAPE  \\\n",
      "0               Weighted Ensemble: Inverse RMSE  1.987962  2.618257  0.027556   \n",
      "1                     Weighted Ensemble: Simple  1.992834  2.636096  0.027619   \n",
      "2           Weighted Ensemble: Inverse Variance  2.004749  2.638848  0.027790   \n",
      "3                         Exponential Smoothing  2.073113  2.706564  0.028698   \n",
      "4                                         Naive  2.090017  2.747925  0.028985   \n",
      "5                                    AutoSARIMA  2.111371  2.730580  0.029175   \n",
      "6                                 Naive (drift)  2.117502  2.748343  0.029382   \n",
      "7                   Meta Ensemble: RandomForest  2.209277  2.790585  0.030548   \n",
      "8                   AutoSARIMAX with covariates  2.249503  2.968497  0.031303   \n",
      "9   Weighted Ensemble: Inverse Error Covariance  2.260794  3.031370  0.031419   \n",
      "10                      XGBoost with covariates  2.297179  3.130366  0.031591   \n",
      "11                                      XGBoost  2.238183  2.986848  0.031609   \n",
      "12                           Meta Ensemble: SVR  2.282060  2.986565  0.031856   \n",
      "13                                          STL  3.529755  4.620506  0.049142   \n",
      "\n",
      "       sMAPE  MAE Ranking  RMSE Ranking  MAPE Ranking  sMAPE Ranking  \n",
      "0   1.846892            1             1             1              1  \n",
      "1   1.850825            2             2             2              2  \n",
      "2   1.863383            3             3             3              3  \n",
      "3   1.923401            4             4             4              4  \n",
      "4   1.941180            5             6             5              5  \n",
      "5   1.953598            6             5             6              6  \n",
      "6   1.963672            7             7             7              7  \n",
      "7   2.048812            8             8             8              8  \n",
      "8   2.085660           10             9             9              9  \n",
      "9   2.105506           11            12            10             10  \n",
      "10  2.131706           13            13            11             12  \n",
      "11  2.135754            9            11            12             13  \n",
      "12  2.127017           12            10            13             11  \n",
      "13  3.266421           14            14            14             14  \u001B[0m\n",
      "\u001B[33;1m\n",
      "\n",
      "[2024-03-06 08:10] Finished Pipeline!\n",
      "[Total time elapsed: 04m 45s]\n",
      "=================================================================================\u001B[0m\n"
     ]
    }
   ],
   "source": [
    "output_dict = run_pipeline(\n",
    "    df=df, models=MODELS, metrics=METRICS,\n",
    "    select_forecasters=['all'],\n",
    "    verbose=True\n",
    ")"
   ]
  },
  {
   "cell_type": "markdown",
   "source": [
    "### 3.2) ... on EUR-USD Exchange Data"
   ],
   "metadata": {
    "collapsed": false
   }
  },
  {
   "cell_type": "code",
   "outputs": [],
   "source": [
    "# output_dict = (\n",
    "#     run_pipeline(\n",
    "#         df=df, models=MODELS, metrics=METRICS,\n",
    "#         agg_method='last', agg_freq='B',\n",
    "#         forecast_init_train=0.3, ensemble_init_train=0.3,\n",
    "#         autosarimax_refit_interval=0.33,\n",
    "#         select_forecasters=['Naive', 'STL'],\n",
    "#         select_ensemblers=['Simple', 'Inverse RMSE'],\n",
    "#         verbose=True\n",
    "#     )\n",
    "# )"
   ],
   "metadata": {
    "collapsed": false,
    "ExecuteTime": {
     "end_time": "2024-03-06T07:10:34.778438Z",
     "start_time": "2024-03-06T07:10:34.770492Z"
    }
   },
   "execution_count": 6
  },
  {
   "cell_type": "markdown",
   "source": [
    "## 4) Show Ranking Table"
   ],
   "metadata": {
    "collapsed": false
   }
  },
  {
   "cell_type": "code",
   "execution_count": 7,
   "metadata": {
    "ExecuteTime": {
     "end_time": "2024-03-06T07:10:35.039299Z",
     "start_time": "2024-03-06T07:10:34.781466Z"
    }
   },
   "outputs": [
    {
     "data": {
      "text/plain": "<pandas.io.formats.style.Styler at 0x1d011866dd0>",
      "text/html": "<style type=\"text/css\">\n</style>\n<table id=\"T_0eba2\">\n  <thead>\n    <tr>\n      <th id=\"T_0eba2_level0_col0\" class=\"col_heading level0 col0\" >Model</th>\n      <th id=\"T_0eba2_level0_col1\" class=\"col_heading level0 col1\" >MAE</th>\n      <th id=\"T_0eba2_level0_col2\" class=\"col_heading level0 col2\" >RMSE</th>\n      <th id=\"T_0eba2_level0_col3\" class=\"col_heading level0 col3\" >MAPE</th>\n      <th id=\"T_0eba2_level0_col4\" class=\"col_heading level0 col4\" >sMAPE</th>\n      <th id=\"T_0eba2_level0_col5\" class=\"col_heading level0 col5\" >MAE Ranking</th>\n      <th id=\"T_0eba2_level0_col6\" class=\"col_heading level0 col6\" >RMSE Ranking</th>\n      <th id=\"T_0eba2_level0_col7\" class=\"col_heading level0 col7\" >MAPE Ranking</th>\n      <th id=\"T_0eba2_level0_col8\" class=\"col_heading level0 col8\" >sMAPE Ranking</th>\n    </tr>\n  </thead>\n  <tbody>\n    <tr>\n      <td id=\"T_0eba2_row0_col0\" class=\"data row0 col0\" >Weighted Ensemble: Inverse RMSE</td>\n      <td id=\"T_0eba2_row0_col1\" class=\"data row0 col1\" >1.987962</td>\n      <td id=\"T_0eba2_row0_col2\" class=\"data row0 col2\" >2.618257</td>\n      <td id=\"T_0eba2_row0_col3\" class=\"data row0 col3\" >0.027556</td>\n      <td id=\"T_0eba2_row0_col4\" class=\"data row0 col4\" >1.846892</td>\n      <td id=\"T_0eba2_row0_col5\" class=\"data row0 col5\" >1</td>\n      <td id=\"T_0eba2_row0_col6\" class=\"data row0 col6\" >1</td>\n      <td id=\"T_0eba2_row0_col7\" class=\"data row0 col7\" >1</td>\n      <td id=\"T_0eba2_row0_col8\" class=\"data row0 col8\" >1</td>\n    </tr>\n    <tr>\n      <td id=\"T_0eba2_row1_col0\" class=\"data row1 col0\" >Weighted Ensemble: Simple</td>\n      <td id=\"T_0eba2_row1_col1\" class=\"data row1 col1\" >1.992834</td>\n      <td id=\"T_0eba2_row1_col2\" class=\"data row1 col2\" >2.636096</td>\n      <td id=\"T_0eba2_row1_col3\" class=\"data row1 col3\" >0.027619</td>\n      <td id=\"T_0eba2_row1_col4\" class=\"data row1 col4\" >1.850825</td>\n      <td id=\"T_0eba2_row1_col5\" class=\"data row1 col5\" >2</td>\n      <td id=\"T_0eba2_row1_col6\" class=\"data row1 col6\" >2</td>\n      <td id=\"T_0eba2_row1_col7\" class=\"data row1 col7\" >2</td>\n      <td id=\"T_0eba2_row1_col8\" class=\"data row1 col8\" >2</td>\n    </tr>\n    <tr>\n      <td id=\"T_0eba2_row2_col0\" class=\"data row2 col0\" >Weighted Ensemble: Inverse Variance</td>\n      <td id=\"T_0eba2_row2_col1\" class=\"data row2 col1\" >2.004749</td>\n      <td id=\"T_0eba2_row2_col2\" class=\"data row2 col2\" >2.638848</td>\n      <td id=\"T_0eba2_row2_col3\" class=\"data row2 col3\" >0.027790</td>\n      <td id=\"T_0eba2_row2_col4\" class=\"data row2 col4\" >1.863383</td>\n      <td id=\"T_0eba2_row2_col5\" class=\"data row2 col5\" >3</td>\n      <td id=\"T_0eba2_row2_col6\" class=\"data row2 col6\" >3</td>\n      <td id=\"T_0eba2_row2_col7\" class=\"data row2 col7\" >3</td>\n      <td id=\"T_0eba2_row2_col8\" class=\"data row2 col8\" >3</td>\n    </tr>\n    <tr>\n      <td id=\"T_0eba2_row3_col0\" class=\"data row3 col0\" >Exponential Smoothing</td>\n      <td id=\"T_0eba2_row3_col1\" class=\"data row3 col1\" >2.073113</td>\n      <td id=\"T_0eba2_row3_col2\" class=\"data row3 col2\" >2.706564</td>\n      <td id=\"T_0eba2_row3_col3\" class=\"data row3 col3\" >0.028698</td>\n      <td id=\"T_0eba2_row3_col4\" class=\"data row3 col4\" >1.923401</td>\n      <td id=\"T_0eba2_row3_col5\" class=\"data row3 col5\" >4</td>\n      <td id=\"T_0eba2_row3_col6\" class=\"data row3 col6\" >4</td>\n      <td id=\"T_0eba2_row3_col7\" class=\"data row3 col7\" >4</td>\n      <td id=\"T_0eba2_row3_col8\" class=\"data row3 col8\" >4</td>\n    </tr>\n    <tr>\n      <td id=\"T_0eba2_row4_col0\" class=\"data row4 col0\" >Naive</td>\n      <td id=\"T_0eba2_row4_col1\" class=\"data row4 col1\" >2.090017</td>\n      <td id=\"T_0eba2_row4_col2\" class=\"data row4 col2\" >2.747925</td>\n      <td id=\"T_0eba2_row4_col3\" class=\"data row4 col3\" >0.028985</td>\n      <td id=\"T_0eba2_row4_col4\" class=\"data row4 col4\" >1.941180</td>\n      <td id=\"T_0eba2_row4_col5\" class=\"data row4 col5\" >5</td>\n      <td id=\"T_0eba2_row4_col6\" class=\"data row4 col6\" >6</td>\n      <td id=\"T_0eba2_row4_col7\" class=\"data row4 col7\" >5</td>\n      <td id=\"T_0eba2_row4_col8\" class=\"data row4 col8\" >5</td>\n    </tr>\n    <tr>\n      <td id=\"T_0eba2_row5_col0\" class=\"data row5 col0\" >AutoSARIMA</td>\n      <td id=\"T_0eba2_row5_col1\" class=\"data row5 col1\" >2.111371</td>\n      <td id=\"T_0eba2_row5_col2\" class=\"data row5 col2\" >2.730580</td>\n      <td id=\"T_0eba2_row5_col3\" class=\"data row5 col3\" >0.029175</td>\n      <td id=\"T_0eba2_row5_col4\" class=\"data row5 col4\" >1.953598</td>\n      <td id=\"T_0eba2_row5_col5\" class=\"data row5 col5\" >6</td>\n      <td id=\"T_0eba2_row5_col6\" class=\"data row5 col6\" >5</td>\n      <td id=\"T_0eba2_row5_col7\" class=\"data row5 col7\" >6</td>\n      <td id=\"T_0eba2_row5_col8\" class=\"data row5 col8\" >6</td>\n    </tr>\n    <tr>\n      <td id=\"T_0eba2_row6_col0\" class=\"data row6 col0\" >Naive (drift)</td>\n      <td id=\"T_0eba2_row6_col1\" class=\"data row6 col1\" >2.117502</td>\n      <td id=\"T_0eba2_row6_col2\" class=\"data row6 col2\" >2.748343</td>\n      <td id=\"T_0eba2_row6_col3\" class=\"data row6 col3\" >0.029382</td>\n      <td id=\"T_0eba2_row6_col4\" class=\"data row6 col4\" >1.963672</td>\n      <td id=\"T_0eba2_row6_col5\" class=\"data row6 col5\" >7</td>\n      <td id=\"T_0eba2_row6_col6\" class=\"data row6 col6\" >7</td>\n      <td id=\"T_0eba2_row6_col7\" class=\"data row6 col7\" >7</td>\n      <td id=\"T_0eba2_row6_col8\" class=\"data row6 col8\" >7</td>\n    </tr>\n    <tr>\n      <td id=\"T_0eba2_row7_col0\" class=\"data row7 col0\" >Meta Ensemble: RandomForest</td>\n      <td id=\"T_0eba2_row7_col1\" class=\"data row7 col1\" >2.209277</td>\n      <td id=\"T_0eba2_row7_col2\" class=\"data row7 col2\" >2.790585</td>\n      <td id=\"T_0eba2_row7_col3\" class=\"data row7 col3\" >0.030548</td>\n      <td id=\"T_0eba2_row7_col4\" class=\"data row7 col4\" >2.048812</td>\n      <td id=\"T_0eba2_row7_col5\" class=\"data row7 col5\" >8</td>\n      <td id=\"T_0eba2_row7_col6\" class=\"data row7 col6\" >8</td>\n      <td id=\"T_0eba2_row7_col7\" class=\"data row7 col7\" >8</td>\n      <td id=\"T_0eba2_row7_col8\" class=\"data row7 col8\" >8</td>\n    </tr>\n    <tr>\n      <td id=\"T_0eba2_row8_col0\" class=\"data row8 col0\" >AutoSARIMAX with covariates</td>\n      <td id=\"T_0eba2_row8_col1\" class=\"data row8 col1\" >2.249503</td>\n      <td id=\"T_0eba2_row8_col2\" class=\"data row8 col2\" >2.968497</td>\n      <td id=\"T_0eba2_row8_col3\" class=\"data row8 col3\" >0.031303</td>\n      <td id=\"T_0eba2_row8_col4\" class=\"data row8 col4\" >2.085660</td>\n      <td id=\"T_0eba2_row8_col5\" class=\"data row8 col5\" >10</td>\n      <td id=\"T_0eba2_row8_col6\" class=\"data row8 col6\" >9</td>\n      <td id=\"T_0eba2_row8_col7\" class=\"data row8 col7\" >9</td>\n      <td id=\"T_0eba2_row8_col8\" class=\"data row8 col8\" >9</td>\n    </tr>\n    <tr>\n      <td id=\"T_0eba2_row9_col0\" class=\"data row9 col0\" >Weighted Ensemble: Inverse Error Covariance</td>\n      <td id=\"T_0eba2_row9_col1\" class=\"data row9 col1\" >2.260794</td>\n      <td id=\"T_0eba2_row9_col2\" class=\"data row9 col2\" >3.031370</td>\n      <td id=\"T_0eba2_row9_col3\" class=\"data row9 col3\" >0.031419</td>\n      <td id=\"T_0eba2_row9_col4\" class=\"data row9 col4\" >2.105506</td>\n      <td id=\"T_0eba2_row9_col5\" class=\"data row9 col5\" >11</td>\n      <td id=\"T_0eba2_row9_col6\" class=\"data row9 col6\" >12</td>\n      <td id=\"T_0eba2_row9_col7\" class=\"data row9 col7\" >10</td>\n      <td id=\"T_0eba2_row9_col8\" class=\"data row9 col8\" >10</td>\n    </tr>\n    <tr>\n      <td id=\"T_0eba2_row10_col0\" class=\"data row10 col0\" >XGBoost with covariates</td>\n      <td id=\"T_0eba2_row10_col1\" class=\"data row10 col1\" >2.297179</td>\n      <td id=\"T_0eba2_row10_col2\" class=\"data row10 col2\" >3.130366</td>\n      <td id=\"T_0eba2_row10_col3\" class=\"data row10 col3\" >0.031591</td>\n      <td id=\"T_0eba2_row10_col4\" class=\"data row10 col4\" >2.131706</td>\n      <td id=\"T_0eba2_row10_col5\" class=\"data row10 col5\" >13</td>\n      <td id=\"T_0eba2_row10_col6\" class=\"data row10 col6\" >13</td>\n      <td id=\"T_0eba2_row10_col7\" class=\"data row10 col7\" >11</td>\n      <td id=\"T_0eba2_row10_col8\" class=\"data row10 col8\" >12</td>\n    </tr>\n    <tr>\n      <td id=\"T_0eba2_row11_col0\" class=\"data row11 col0\" >XGBoost</td>\n      <td id=\"T_0eba2_row11_col1\" class=\"data row11 col1\" >2.238183</td>\n      <td id=\"T_0eba2_row11_col2\" class=\"data row11 col2\" >2.986848</td>\n      <td id=\"T_0eba2_row11_col3\" class=\"data row11 col3\" >0.031609</td>\n      <td id=\"T_0eba2_row11_col4\" class=\"data row11 col4\" >2.135754</td>\n      <td id=\"T_0eba2_row11_col5\" class=\"data row11 col5\" >9</td>\n      <td id=\"T_0eba2_row11_col6\" class=\"data row11 col6\" >11</td>\n      <td id=\"T_0eba2_row11_col7\" class=\"data row11 col7\" >12</td>\n      <td id=\"T_0eba2_row11_col8\" class=\"data row11 col8\" >13</td>\n    </tr>\n    <tr>\n      <td id=\"T_0eba2_row12_col0\" class=\"data row12 col0\" >Meta Ensemble: SVR</td>\n      <td id=\"T_0eba2_row12_col1\" class=\"data row12 col1\" >2.282060</td>\n      <td id=\"T_0eba2_row12_col2\" class=\"data row12 col2\" >2.986565</td>\n      <td id=\"T_0eba2_row12_col3\" class=\"data row12 col3\" >0.031856</td>\n      <td id=\"T_0eba2_row12_col4\" class=\"data row12 col4\" >2.127017</td>\n      <td id=\"T_0eba2_row12_col5\" class=\"data row12 col5\" >12</td>\n      <td id=\"T_0eba2_row12_col6\" class=\"data row12 col6\" >10</td>\n      <td id=\"T_0eba2_row12_col7\" class=\"data row12 col7\" >13</td>\n      <td id=\"T_0eba2_row12_col8\" class=\"data row12 col8\" >11</td>\n    </tr>\n    <tr>\n      <td id=\"T_0eba2_row13_col0\" class=\"data row13 col0\" >STL</td>\n      <td id=\"T_0eba2_row13_col1\" class=\"data row13 col1\" >3.529755</td>\n      <td id=\"T_0eba2_row13_col2\" class=\"data row13 col2\" >4.620506</td>\n      <td id=\"T_0eba2_row13_col3\" class=\"data row13 col3\" >0.049142</td>\n      <td id=\"T_0eba2_row13_col4\" class=\"data row13 col4\" >3.266421</td>\n      <td id=\"T_0eba2_row13_col5\" class=\"data row13 col5\" >14</td>\n      <td id=\"T_0eba2_row13_col6\" class=\"data row13 col6\" >14</td>\n      <td id=\"T_0eba2_row13_col7\" class=\"data row13 col7\" >14</td>\n      <td id=\"T_0eba2_row13_col8\" class=\"data row13 col8\" >14</td>\n    </tr>\n  </tbody>\n</table>\n"
     },
     "metadata": {},
     "output_type": "display_data"
    }
   ],
   "source": [
    "display(output_dict['metrics ranking'].style.hide())"
   ]
  }
 ],
 "metadata": {
  "kernelspec": {
   "display_name": "Python 3",
   "language": "python",
   "name": "python3"
  },
  "language_info": {
   "codemirror_mode": {
    "name": "ipython",
    "version": 3
   },
   "file_extension": ".py",
   "mimetype": "text/x-python",
   "name": "python",
   "nbconvert_exporter": "python",
   "pygments_lexer": "ipython3",
   "version": "3.11.3"
  }
 },
 "nbformat": 4,
 "nbformat_minor": 2
}
