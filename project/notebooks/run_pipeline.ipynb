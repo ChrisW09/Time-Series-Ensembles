{
 "cells": [
  {
   "cell_type": "markdown",
   "metadata": {},
   "source": [
    "# Interface for Pipeline Execution"
   ]
  },
  {
   "cell_type": "markdown",
   "source": [
    "## 1) Import Models, Metrics, Paths, and Functions"
   ],
   "metadata": {
    "collapsed": false
   }
  },
  {
   "cell_type": "code",
   "outputs": [
    {
     "name": "stdout",
     "output_type": "stream",
     "text": [
      "Loading paths...\n",
      "Loading helper functions...\n",
      "Loading data transformers...\n",
      "Loading models...\n",
      "Loading metrics...\n"
     ]
    }
   ],
   "source": [
    "from utils.helpers import csv_reader\n",
    "from utils.paths import *\n",
    "from pipeline.run_pipeline import run_pipeline\n",
    "\n",
    "\n",
    "from models import MODELS\n",
    "from metrics import METRICS\n"
   ],
   "metadata": {
    "collapsed": false,
    "ExecuteTime": {
     "end_time": "2024-03-06T03:15:24.093238Z",
     "start_time": "2024-03-06T03:15:02.102767Z"
    }
   },
   "execution_count": 1
  },
  {
   "cell_type": "code",
   "outputs": [],
   "source": [
    "# print(METRICS)\n",
    "# print(MODELS)"
   ],
   "metadata": {
    "collapsed": false,
    "ExecuteTime": {
     "end_time": "2024-03-06T03:15:24.101547Z",
     "start_time": "2024-03-06T03:15:24.096254Z"
    }
   },
   "execution_count": 2
  },
  {
   "cell_type": "markdown",
   "source": [
    "## 2) Select Input Data "
   ],
   "metadata": {
    "collapsed": false
   }
  },
  {
   "cell_type": "code",
   "execution_count": 3,
   "metadata": {
    "ExecuteTime": {
     "end_time": "2024-03-06T03:15:24.117105Z",
     "start_time": "2024-03-06T03:15:24.104562Z"
    }
   },
   "outputs": [],
   "source": [
    "## Read input data\n",
    "# df = csv_reader(SIMDATA_DIR, 'noisy_simdata')\n",
    "# print(df.head())\n",
    "\n",
    "# For testng pipeline for now I use a subset of 10 years:\n",
    "# df = df.iloc[:120, :]"
   ]
  },
  {
   "cell_type": "code",
   "outputs": [
    {
     "name": "stdout",
     "output_type": "stream",
     "text": [
      "hey\n",
      "                     bid_close\n",
      "datetime                      \n",
      "2020-01-01 00:00:00        NaN\n",
      "2020-01-01 00:15:00        NaN\n",
      "2020-01-01 00:30:00        NaN\n",
      "2020-01-01 00:45:00        NaN\n",
      "2020-01-01 01:00:00        NaN\n"
     ]
    }
   ],
   "source": [
    "## Using the EUR-USD Exchange Rate data\n",
    "\n",
    "df = csv_reader(TESTDATA_DIR, 'eurusd', columns=['datetime', 'bid_close'])\n",
    "import sys\n",
    "import warnings\n",
    "# warnings( sys.__stdout__())\n",
    "\n",
    "#sys.jupyter_stdout = sys.__stdout__\n",
    "print(\"hey\")\n",
    "print(df.head())\n",
    "\n",
    "# For testng pipeline for now I use a small subset:\n",
    "df = df.iloc[:10000, :]"
   ],
   "metadata": {
    "collapsed": false,
    "ExecuteTime": {
     "end_time": "2024-03-06T03:15:24.437158Z",
     "start_time": "2024-03-06T03:15:24.120116Z"
    }
   },
   "execution_count": 4
  },
  {
   "cell_type": "markdown",
   "source": [
    "## 3) Run Pipeline"
   ],
   "metadata": {
    "collapsed": false
   }
  },
  {
   "cell_type": "markdown",
   "source": [
    "### 3.1) ... on Simulated Data"
   ],
   "metadata": {
    "collapsed": false
   }
  },
  {
   "cell_type": "code",
   "execution_count": 5,
   "metadata": {
    "ExecuteTime": {
     "end_time": "2024-03-06T03:15:24.450445Z",
     "start_time": "2024-03-06T03:15:24.443169Z"
    }
   },
   "outputs": [],
   "source": [
    "# # output_dict = (\n",
    "#     run_pipeline(\n",
    "#         df=df, models=MODELS, metrics=METRICS,\n",
    "#         verbose=True\n",
    "#     )\n",
    "# )"
   ]
  },
  {
   "cell_type": "markdown",
   "source": [
    "### 3.2) ... on EUR-USD Exchange Data"
   ],
   "metadata": {
    "collapsed": false
   }
  },
  {
   "cell_type": "code",
   "outputs": [
    {
     "name": "stdout",
     "output_type": "stream",
     "text": [
      "\u001B[33;1m=================================================================================\n",
      "[2024-03-06 04:18] Starting  Pipeline...\u001B[0m\n",
      "\u001B[33;1m=================================================================================\n",
      "[2024-03-06 04:18] Starting  Pipeline...\u001B[0m\n",
      "\u001B[33;1m=================================================================================\n",
      "[2024-03-06 04:18] Starting  Pipeline...\u001B[0m\n",
      "\u001B[33;1m\n",
      "=====================================================\n",
      "== Starting Step 1 in Pipeline: Data Preprocessing ==\n",
      "=====================================================\n",
      "\u001B[0m\n",
      "\u001B[33;1m\n",
      "=====================================================\n",
      "== Starting Step 1 in Pipeline: Data Preprocessing ==\n",
      "=====================================================\n",
      "\u001B[0m\n",
      "\u001B[33;1m\n",
      "=====================================================\n",
      "== Starting Step 1 in Pipeline: Data Preprocessing ==\n",
      "=====================================================\n",
      "\u001B[0m\n",
      "\u001B[33;1mSearching for time information...\u001B[0m\n",
      "\u001B[33;1mSearching for time information...\u001B[0m\n",
      "\u001B[33;1mSearching for time information...\u001B[0m\n",
      "\u001B[33;1mDates found in 'index' column!\u001B[0m\n",
      "\u001B[33;1mDates found in 'index' column!\u001B[0m\n",
      "\u001B[33;1mDates found in 'index' column!\u001B[0m\n",
      "\u001B[33;1mInferred frequency: 15T\u001B[0m\n",
      "\u001B[33;1mInferred frequency: 15T\u001B[0m\n",
      "\u001B[33;1mInferred frequency: 15T\u001B[0m\n",
      "\u001B[33;1mData from goes from 2020-01-01 to 2020-04-14, resulting in 10000 observations.\n",
      "\u001B[0m\n",
      "\u001B[33;1mData from goes from 2020-01-01 to 2020-04-14, resulting in 10000 observations.\n",
      "\u001B[0m\n",
      "\u001B[33;1mData from goes from 2020-01-01 to 2020-04-14, resulting in 10000 observations.\n",
      "\u001B[0m\n",
      "\u001B[33;1mAggregating data to frequency 'business day' using method 'last' and dropping NaNs...\u001B[0m\n",
      "\u001B[33;1mAggregating data to frequency 'business day' using method 'last' and dropping NaNs...\u001B[0m\n",
      "\u001B[33;1mAggregating data to frequency 'business day' using method 'last' and dropping NaNs...\u001B[0m\n",
      "\u001B[33;1m...finished!\n",
      "Data now has 74 observations.\n",
      "\u001B[0m\n",
      "\u001B[33;1m...finished!\n",
      "Data now has 74 observations.\n",
      "\u001B[0m\n",
      "\u001B[33;1m...finished!\n",
      "Data now has 74 observations.\n",
      "\u001B[0m\n",
      "\u001B[33;1mSelecting target and covariates...\u001B[0m\n",
      "\u001B[33;1mSelecting target and covariates...\u001B[0m\n",
      "\u001B[33;1mSelecting target and covariates...\u001B[0m\n",
      "\u001B[33;1mTarget: bid_close\u001B[0m\n",
      "\u001B[33;1mTarget: bid_close\u001B[0m\n",
      "\u001B[33;1mTarget: bid_close\u001B[0m\n",
      "\u001B[33;1mCovariates: None\u001B[0m\n",
      "\u001B[33;1mCovariates: None\u001B[0m\n",
      "\u001B[33;1mCovariates: None\u001B[0m\n",
      "\u001B[33;1m\n",
      "Data Insight:\n",
      "\u001B[0m\n",
      "\u001B[33;1m\n",
      "Data Insight:\n",
      "\u001B[0m\n",
      "\u001B[33;1m\n",
      "Data Insight:\n",
      "\u001B[0m\n",
      "\u001B[33;1m            bid_close\n",
      "datetime             \n",
      "2020-01-02    1.11702\n",
      "2020-01-03    1.11599\n",
      "2020-01-06    1.11948\n",
      "2020-01-07    1.11530\n",
      "2020-01-08    1.11124\u001B[0m\n",
      "\u001B[33;1m            bid_close\n",
      "datetime             \n",
      "2020-01-02    1.11702\n",
      "2020-01-03    1.11599\n",
      "2020-01-06    1.11948\n",
      "2020-01-07    1.11530\n",
      "2020-01-08    1.11124\u001B[0m\n",
      "\u001B[33;1m            bid_close\n",
      "datetime             \n",
      "2020-01-02    1.11702\n",
      "2020-01-03    1.11599\n",
      "2020-01-06    1.11948\n",
      "2020-01-07    1.11530\n",
      "2020-01-08    1.11124\u001B[0m\n",
      "\u001B[33;1m[Time elapsed: 00s]\n",
      "\u001B[0m\n",
      "\u001B[33;1m[Time elapsed: 00s]\n",
      "\u001B[0m\n",
      "\u001B[33;1m[Time elapsed: 00s]\n",
      "\u001B[0m\n",
      "\u001B[33;1m\n",
      "=======================================================\n",
      "== Starting Step 2 in Pipeline: Individual Forecasts ==\n",
      "=======================================================\n",
      "\u001B[0m\n",
      "\u001B[33;1m\n",
      "=======================================================\n",
      "== Starting Step 2 in Pipeline: Individual Forecasts ==\n",
      "=======================================================\n",
      "\u001B[0m\n",
      "\u001B[33;1m\n",
      "=======================================================\n",
      "== Starting Step 2 in Pipeline: Individual Forecasts ==\n",
      "=======================================================\n",
      "\u001B[0m\n",
      "\u001B[33;1mSplitting data (train/test ratio: 30/70)...\n",
      "Initial training set has 22 observations \u001B[0m\n",
      "\u001B[33;1mSplitting data (train/test ratio: 30/70)...\n",
      "Initial training set has 22 observations \u001B[0m\n",
      "\u001B[33;1mSplitting data (train/test ratio: 30/70)...\n",
      "Initial training set has 22 observations \u001B[0m\n",
      "\u001B[33;1mand goes from 2020-01-02 to 2020-01-31\n",
      "There are 52 periods to be forecasted: \u001B[0m\n",
      "\u001B[33;1mand goes from 2020-01-02 to 2020-01-31\n",
      "There are 52 periods to be forecasted: \u001B[0m\n",
      "\u001B[33;1mand goes from 2020-01-02 to 2020-01-31\n",
      "There are 52 periods to be forecasted: \u001B[0m\n",
      "\u001B[33;1m2020-02-03 to 2020-04-14\n",
      "\u001B[0m\n",
      "\u001B[33;1m2020-02-03 to 2020-04-14\n",
      "\u001B[0m\n",
      "\u001B[33;1m2020-02-03 to 2020-04-14\n",
      "\u001B[0m\n",
      "\u001B[33;1mNow generating 52 one-step ahead expanding window predictions from model: Naive (sktime)\u001B[0m\n",
      "\u001B[33;1mNow generating 52 one-step ahead expanding window predictions from model: Naive (sktime)\u001B[0m\n",
      "\u001B[33;1mNow generating 52 one-step ahead expanding window predictions from model: Naive (sktime)\u001B[0m\n",
      "\u001B[33;1m...finished!\n",
      "\u001B[0m\n",
      "\u001B[33;1m...finished!\n",
      "\u001B[0m\n",
      "\u001B[33;1m...finished!\n",
      "\u001B[0m\n",
      "\u001B[33;1mNow generating 52 one-step ahead expanding window predictions from model: STL (sktime)\u001B[0m\n",
      "\u001B[33;1mNow generating 52 one-step ahead expanding window predictions from model: STL (sktime)\u001B[0m\n",
      "\u001B[33;1mNow generating 52 one-step ahead expanding window predictions from model: STL (sktime)\u001B[0m\n",
      "\u001B[33;1m...finished!\n",
      "\u001B[0m\n",
      "\u001B[33;1m...finished!\n",
      "\u001B[0m\n",
      "\u001B[33;1m...finished!\n",
      "\u001B[0m\n",
      "\u001B[33;1m\n",
      "Since no covariates are given, skipping covariate forecasters.\u001B[0m\n",
      "\u001B[33;1m\n",
      "Since no covariates are given, skipping covariate forecasters.\u001B[0m\n",
      "\u001B[33;1m\n",
      "Since no covariates are given, skipping covariate forecasters.\u001B[0m\n",
      "\u001B[33;1m\n",
      "Individual forecasters' predictions finished!\n",
      "\n",
      "Insights into forecasters' predictions:\u001B[0m\n",
      "\u001B[33;1m\n",
      "Individual forecasters' predictions finished!\n",
      "\n",
      "Insights into forecasters' predictions:\u001B[0m\n",
      "\u001B[33;1m\n",
      "Individual forecasters' predictions finished!\n",
      "\n",
      "Insights into forecasters' predictions:\u001B[0m\n",
      "\u001B[33;1m              Naive       STL\n",
      "Date                         \n",
      "2020-02-03  1.10885  1.099680\n",
      "2020-02-04  1.10618  1.103271\n",
      "2020-02-05  1.10440  1.105145\n",
      "2020-02-06  1.09994  1.104768\n",
      "2020-02-07  1.09802  1.105307\u001B[0m\n",
      "\u001B[33;1m              Naive       STL\n",
      "Date                         \n",
      "2020-02-03  1.10885  1.099680\n",
      "2020-02-04  1.10618  1.103271\n",
      "2020-02-05  1.10440  1.105145\n",
      "2020-02-06  1.09994  1.104768\n",
      "2020-02-07  1.09802  1.105307\u001B[0m\n",
      "\u001B[33;1m              Naive       STL\n",
      "Date                         \n",
      "2020-02-03  1.10885  1.099680\n",
      "2020-02-04  1.10618  1.103271\n",
      "2020-02-05  1.10440  1.105145\n",
      "2020-02-06  1.09994  1.104768\n",
      "2020-02-07  1.09802  1.105307\u001B[0m\n",
      "\u001B[33;1m\n",
      "\u001B[0m\n",
      "\u001B[33;1m\n",
      "\u001B[0m\n",
      "\u001B[33;1m\n",
      "\u001B[0m\n",
      "\u001B[33;1mExporting individual predictions as csv...\u001B[0m\n",
      "\u001B[33;1mExporting individual predictions as csv...\u001B[0m\n",
      "\u001B[33;1mExporting individual predictions as csv...\u001B[0m\n",
      "\u001B[33;1m...finished!\n",
      "\u001B[0m\n",
      "\u001B[33;1m...finished!\n",
      "\u001B[0m\n",
      "\u001B[33;1m...finished!\n",
      "\u001B[0m\n",
      "\u001B[33;1m[Time elapsed: 17s]\n",
      "\u001B[0m\n",
      "\u001B[33;1m[Time elapsed: 17s]\n",
      "\u001B[0m\n",
      "\u001B[33;1m[Time elapsed: 17s]\n",
      "\u001B[0m\n",
      "\u001B[33;1m\n",
      "=============================================\n",
      "== Step 3: Historical Ensemble Predictions ==\n",
      "=============================================\n",
      "\u001B[0m\n",
      "\u001B[33;1m\n",
      "=============================================\n",
      "== Step 3: Historical Ensemble Predictions ==\n",
      "=============================================\n",
      "\u001B[0m\n",
      "\u001B[33;1m\n",
      "=============================================\n",
      "== Step 3: Historical Ensemble Predictions ==\n",
      "=============================================\n",
      "\u001B[0m\n",
      "\u001B[33;1mSplitting forecast data (n = 52) for ensemble forecasts (train/test ratio: 30/70)...\u001B[0m\n",
      "\u001B[33;1mSplitting forecast data (n = 52) for ensemble forecasts (train/test ratio: 30/70)...\u001B[0m\n",
      "\u001B[33;1mSplitting forecast data (n = 52) for ensemble forecasts (train/test ratio: 30/70)...\u001B[0m\n",
      "\u001B[33;1mInitial training set has 15 observations and goes from 2020-02-03 to 2020-02-21\u001B[0m\n",
      "\u001B[33;1mInitial training set has 15 observations and goes from 2020-02-03 to 2020-02-21\u001B[0m\n",
      "\u001B[33;1mInitial training set has 15 observations and goes from 2020-02-03 to 2020-02-21\u001B[0m\n",
      "\u001B[33;1mThere are 37 periods to be forecasted by the individual models 2020-02-24 to 2020-04-14\u001B[0m\n",
      "\u001B[33;1mThere are 37 periods to be forecasted by the individual models 2020-02-24 to 2020-04-14\u001B[0m\n",
      "\u001B[33;1mThere are 37 periods to be forecasted by the individual models 2020-02-24 to 2020-04-14\u001B[0m\n"
     ]
    },
    {
     "ename": "KeyboardInterrupt",
     "evalue": "",
     "output_type": "error",
     "traceback": [
      "\u001B[1;31m---------------------------------------------------------------------------\u001B[0m",
      "\u001B[1;31mKeyboardInterrupt\u001B[0m                         Traceback (most recent call last)",
      "Cell \u001B[1;32mIn[10], line 2\u001B[0m\n\u001B[0;32m      1\u001B[0m output_dict \u001B[38;5;241m=\u001B[39m (\n\u001B[1;32m----> 2\u001B[0m     \u001B[43mrun_pipeline\u001B[49m\u001B[43m(\u001B[49m\n\u001B[0;32m      3\u001B[0m \u001B[43m        \u001B[49m\u001B[43mdf\u001B[49m\u001B[38;5;241;43m=\u001B[39;49m\u001B[43mdf\u001B[49m\u001B[43m,\u001B[49m\u001B[43m \u001B[49m\u001B[43mmodels\u001B[49m\u001B[38;5;241;43m=\u001B[39;49m\u001B[43mMODELS\u001B[49m\u001B[43m,\u001B[49m\u001B[43m \u001B[49m\u001B[43mmetrics\u001B[49m\u001B[38;5;241;43m=\u001B[39;49m\u001B[43mMETRICS\u001B[49m\u001B[43m,\u001B[49m\n\u001B[0;32m      4\u001B[0m \u001B[43m        \u001B[49m\u001B[43magg_method\u001B[49m\u001B[38;5;241;43m=\u001B[39;49m\u001B[38;5;124;43m'\u001B[39;49m\u001B[38;5;124;43mlast\u001B[39;49m\u001B[38;5;124;43m'\u001B[39;49m\u001B[43m,\u001B[49m\u001B[43m \u001B[49m\u001B[43magg_freq\u001B[49m\u001B[38;5;241;43m=\u001B[39;49m\u001B[38;5;124;43m'\u001B[39;49m\u001B[38;5;124;43mB\u001B[39;49m\u001B[38;5;124;43m'\u001B[39;49m\u001B[43m,\u001B[49m\n\u001B[0;32m      5\u001B[0m \u001B[43m        \u001B[49m\u001B[43mforecast_init_train\u001B[49m\u001B[38;5;241;43m=\u001B[39;49m\u001B[38;5;241;43m0.3\u001B[39;49m\u001B[43m,\u001B[49m\u001B[43m \u001B[49m\u001B[43mensemble_init_train\u001B[49m\u001B[38;5;241;43m=\u001B[39;49m\u001B[38;5;241;43m0.3\u001B[39;49m\u001B[43m,\u001B[49m\n\u001B[0;32m      6\u001B[0m \u001B[43m        \u001B[49m\u001B[43mautosarimax_refit_interval\u001B[49m\u001B[38;5;241;43m=\u001B[39;49m\u001B[38;5;241;43m0.33\u001B[39;49m\u001B[43m,\u001B[49m\n\u001B[0;32m      7\u001B[0m \u001B[43m        \u001B[49m\u001B[43mselect_forecasters\u001B[49m\u001B[38;5;241;43m=\u001B[39;49m\u001B[43m[\u001B[49m\u001B[38;5;124;43m'\u001B[39;49m\u001B[38;5;124;43mNaive\u001B[39;49m\u001B[38;5;124;43m'\u001B[39;49m\u001B[43m,\u001B[49m\u001B[43m \u001B[49m\u001B[38;5;124;43m'\u001B[39;49m\u001B[38;5;124;43mSTL\u001B[39;49m\u001B[38;5;124;43m'\u001B[39;49m\u001B[43m]\u001B[49m\u001B[43m,\u001B[49m\n\u001B[0;32m      8\u001B[0m \u001B[43m        \u001B[49m\u001B[43mselect_ensemblers\u001B[49m\u001B[38;5;241;43m=\u001B[39;49m\u001B[43m[\u001B[49m\u001B[38;5;124;43m'\u001B[39;49m\u001B[38;5;124;43mSimple\u001B[39;49m\u001B[38;5;124;43m'\u001B[39;49m\u001B[43m,\u001B[49m\u001B[43m \u001B[49m\u001B[38;5;124;43m'\u001B[39;49m\u001B[38;5;124;43mInverse RMSE\u001B[39;49m\u001B[38;5;124;43m'\u001B[39;49m\u001B[43m]\u001B[49m\u001B[43m,\u001B[49m\n\u001B[0;32m      9\u001B[0m \u001B[43m        \u001B[49m\u001B[43mverbose\u001B[49m\u001B[38;5;241;43m=\u001B[39;49m\u001B[38;5;28;43;01mTrue\u001B[39;49;00m\n\u001B[0;32m     10\u001B[0m \u001B[43m    \u001B[49m\u001B[43m)\u001B[49m\n\u001B[0;32m     11\u001B[0m )\n",
      "File \u001B[1;32m~\\OneDrive\\GAU\\3. Semester\\Statistisches Praktikum\\Git\\NEW_Ensemble_Techniques_TS_FC\\project\\pipeline\\run_pipeline.py:114\u001B[0m, in \u001B[0;36mrun_pipeline\u001B[1;34m(df, models, metrics, date_col, date_format, target, covariates, exclude, agg_method, agg_freq, select_forecasters, autosarimax_refit_interval, forecast_init_train, select_ensemblers, ensemble_init_train, sort_by, export, errors, verbose, *args, **kwargs)\u001B[0m\n\u001B[0;32m    111\u001B[0m pipe_input \u001B[38;5;241m=\u001B[39m df\n\u001B[0;32m    113\u001B[0m \u001B[38;5;28;01mfor\u001B[39;00m step, process \u001B[38;5;129;01min\u001B[39;00m \u001B[38;5;28menumerate\u001B[39m(processes):\n\u001B[1;32m--> 114\u001B[0m     pipe_output \u001B[38;5;241m=\u001B[39m \u001B[43mprocess\u001B[49m\u001B[43m(\u001B[49m\n\u001B[0;32m    115\u001B[0m \u001B[43m        \u001B[49m\u001B[43mpipe_input\u001B[49m\u001B[43m,\u001B[49m\n\u001B[0;32m    116\u001B[0m \u001B[43m        \u001B[49m\u001B[38;5;66;43;03m# Pipe 1 arguments\u001B[39;49;00m\n\u001B[0;32m    117\u001B[0m \u001B[43m        \u001B[49m\u001B[43mdate_col\u001B[49m\u001B[38;5;241;43m=\u001B[39;49m\u001B[43mdate_col\u001B[49m\u001B[43m,\u001B[49m\u001B[43m \u001B[49m\u001B[43mdate_format\u001B[49m\u001B[38;5;241;43m=\u001B[39;49m\u001B[43mdate_format\u001B[49m\u001B[43m,\u001B[49m\n\u001B[0;32m    118\u001B[0m \u001B[43m        \u001B[49m\u001B[43mtarget\u001B[49m\u001B[38;5;241;43m=\u001B[39;49m\u001B[43mtarget\u001B[49m\u001B[43m,\u001B[49m\u001B[43m \u001B[49m\u001B[43mcovariates\u001B[49m\u001B[38;5;241;43m=\u001B[39;49m\u001B[43mcovariates\u001B[49m\u001B[43m,\u001B[49m\u001B[43m \u001B[49m\u001B[43mexclude\u001B[49m\u001B[38;5;241;43m=\u001B[39;49m\u001B[43mexclude\u001B[49m\u001B[43m,\u001B[49m\n\u001B[0;32m    119\u001B[0m \u001B[43m        \u001B[49m\u001B[43magg_method\u001B[49m\u001B[38;5;241;43m=\u001B[39;49m\u001B[43magg_method\u001B[49m\u001B[43m,\u001B[49m\u001B[43m \u001B[49m\u001B[43magg_freq\u001B[49m\u001B[38;5;241;43m=\u001B[39;49m\u001B[43magg_freq\u001B[49m\u001B[43m,\u001B[49m\n\u001B[0;32m    120\u001B[0m \u001B[43m        \u001B[49m\u001B[38;5;66;43;03m# Pipe 2 arguments\u001B[39;49;00m\n\u001B[0;32m    121\u001B[0m \u001B[43m        \u001B[49m\u001B[43mforecasters\u001B[49m\u001B[38;5;241;43m=\u001B[39;49m\u001B[43mmodels\u001B[49m\u001B[43m[\u001B[49m\u001B[38;5;124;43m'\u001B[39;49m\u001B[38;5;124;43mFORECASTERS\u001B[39;49m\u001B[38;5;124;43m'\u001B[39;49m\u001B[43m]\u001B[49m\u001B[43m,\u001B[49m\u001B[43m \u001B[49m\u001B[43mselect_forecasters\u001B[49m\u001B[38;5;241;43m=\u001B[39;49m\u001B[43mselect_forecasters\u001B[49m\u001B[43m,\u001B[49m\n\u001B[0;32m    122\u001B[0m \u001B[43m        \u001B[49m\u001B[43mforecast_init_train\u001B[49m\u001B[38;5;241;43m=\u001B[39;49m\u001B[43mforecast_init_train\u001B[49m\u001B[43m,\u001B[49m\n\u001B[0;32m    123\u001B[0m \u001B[43m        \u001B[49m\u001B[43mautosarimax_refit_interval\u001B[49m\u001B[38;5;241;43m=\u001B[39;49m\u001B[43mautosarimax_refit_interval\u001B[49m\u001B[43m,\u001B[49m\n\u001B[0;32m    124\u001B[0m \u001B[43m        \u001B[49m\u001B[38;5;66;43;03m# Pipe 3 arguments\u001B[39;49;00m\n\u001B[0;32m    125\u001B[0m \u001B[43m        \u001B[49m\u001B[43mensemblers\u001B[49m\u001B[38;5;241;43m=\u001B[39;49m\u001B[43mmodels\u001B[49m\u001B[43m[\u001B[49m\u001B[38;5;124;43m'\u001B[39;49m\u001B[38;5;124;43mENSEMBLERS\u001B[39;49m\u001B[38;5;124;43m'\u001B[39;49m\u001B[43m]\u001B[49m\u001B[43m,\u001B[49m\u001B[43m \u001B[49m\u001B[43mselect_ensemblers\u001B[49m\u001B[38;5;241;43m=\u001B[39;49m\u001B[43mselect_ensemblers\u001B[49m\u001B[43m,\u001B[49m\n\u001B[0;32m    126\u001B[0m \u001B[43m        \u001B[49m\u001B[43mensemble_init_train\u001B[49m\u001B[38;5;241;43m=\u001B[39;49m\u001B[43mensemble_init_train\u001B[49m\u001B[43m,\u001B[49m\n\u001B[0;32m    127\u001B[0m \u001B[43m        \u001B[49m\u001B[38;5;66;43;03m# Pipe 4 arguments\u001B[39;49;00m\n\u001B[0;32m    128\u001B[0m \u001B[43m        \u001B[49m\u001B[43mmetrics\u001B[49m\u001B[38;5;241;43m=\u001B[39;49m\u001B[43mmetrics\u001B[49m\u001B[43m,\u001B[49m\n\u001B[0;32m    129\u001B[0m \u001B[43m        \u001B[49m\u001B[43msort_by\u001B[49m\u001B[38;5;241;43m=\u001B[39;49m\u001B[43msort_by\u001B[49m\u001B[43m,\u001B[49m\n\u001B[0;32m    130\u001B[0m \u001B[43m        \u001B[49m\u001B[38;5;66;43;03m# Generic/shared arguments\u001B[39;49;00m\n\u001B[0;32m    131\u001B[0m \u001B[43m        \u001B[49m\u001B[43mexport_path\u001B[49m\u001B[38;5;241;43m=\u001B[39;49m\u001B[43mexport_path\u001B[49m\u001B[43m,\u001B[49m\n\u001B[0;32m    132\u001B[0m \u001B[43m        \u001B[49m\u001B[43merrors\u001B[49m\u001B[38;5;241;43m=\u001B[39;49m\u001B[43merrors\u001B[49m\u001B[43m,\u001B[49m\u001B[43m \u001B[49m\u001B[43mverbose\u001B[49m\u001B[38;5;241;43m=\u001B[39;49m\u001B[43mverbose\u001B[49m\u001B[43m,\u001B[49m\n\u001B[0;32m    133\u001B[0m \u001B[43m        \u001B[49m\u001B[38;5;241;43m*\u001B[39;49m\u001B[43margs\u001B[49m\u001B[43m,\u001B[49m\u001B[43m \u001B[49m\u001B[38;5;241;43m*\u001B[39;49m\u001B[38;5;241;43m*\u001B[39;49m\u001B[43mkwargs\u001B[49m\n\u001B[0;32m    134\u001B[0m \u001B[43m    \u001B[49m\u001B[43m)\u001B[49m\n\u001B[0;32m    135\u001B[0m     \u001B[38;5;66;03m# Store results to output dictionary\u001B[39;00m\n\u001B[0;32m    136\u001B[0m     output_dict[expected_outputs[step]] \u001B[38;5;241m=\u001B[39m pipe_output\n",
      "File \u001B[1;32m~\\OneDrive\\GAU\\3. Semester\\Statistisches Praktikum\\Git\\NEW_Ensemble_Techniques_TS_FC\\project\\pipeline\\processes\\pipe3_ensemble_forecasts.py:51\u001B[0m, in \u001B[0;36mpipe3_ensemble_forecasts\u001B[1;34m(individual_predictions, ensemblers, select_ensemblers, ensemble_init_train, export_path, verbose, *args, **kwargs)\u001B[0m\n\u001B[0;32m     47\u001B[0m \u001B[38;5;66;03m# Set percentage interval for printing forecast updates\u001B[39;00m\n\u001B[0;32m     48\u001B[0m \u001B[38;5;66;03m# (e.g., print 0.2 means printing at 0%, 20%, 40%, 60%, 80%, and 100%)\u001B[39;00m\n\u001B[0;32m     49\u001B[0m \u001B[38;5;66;03m# Include first and last prediction in console output\u001B[39;00m\n\u001B[0;32m     50\u001B[0m printout_percentage_interval \u001B[38;5;241m=\u001B[39m \u001B[38;5;241m0.2\u001B[39m\n\u001B[1;32m---> 51\u001B[0m printed_k \u001B[38;5;241m=\u001B[39m [ceil(x) \u001B[38;5;28;01mfor\u001B[39;00m x \u001B[38;5;129;01min\u001B[39;00m\n\u001B[0;32m     52\u001B[0m              H_ensemble \u001B[38;5;241m*\u001B[39m np\u001B[38;5;241m.\u001B[39marange(\u001B[38;5;241m0\u001B[39m, \u001B[38;5;241m1\u001B[39m \u001B[38;5;241m+\u001B[39m printout_percentage_interval, printout_percentage_interval)]\n\u001B[0;32m     53\u001B[0m printed_k[\u001B[38;5;241m0\u001B[39m] \u001B[38;5;241m=\u001B[39m \u001B[38;5;241m1\u001B[39m\n\u001B[0;32m     55\u001B[0m \u001B[38;5;66;03m# Loop over ensemble approach: weighted or meta\u001B[39;00m\n",
      "File \u001B[1;32m~\\OneDrive\\GAU\\3. Semester\\Statistisches Praktikum\\Git\\NEW_Ensemble_Techniques_TS_FC\\project\\pipeline\\processes\\pipe3_ensemble_forecasts.py:51\u001B[0m, in \u001B[0;36mpipe3_ensemble_forecasts\u001B[1;34m(individual_predictions, ensemblers, select_ensemblers, ensemble_init_train, export_path, verbose, *args, **kwargs)\u001B[0m\n\u001B[0;32m     47\u001B[0m \u001B[38;5;66;03m# Set percentage interval for printing forecast updates\u001B[39;00m\n\u001B[0;32m     48\u001B[0m \u001B[38;5;66;03m# (e.g., print 0.2 means printing at 0%, 20%, 40%, 60%, 80%, and 100%)\u001B[39;00m\n\u001B[0;32m     49\u001B[0m \u001B[38;5;66;03m# Include first and last prediction in console output\u001B[39;00m\n\u001B[0;32m     50\u001B[0m printout_percentage_interval \u001B[38;5;241m=\u001B[39m \u001B[38;5;241m0.2\u001B[39m\n\u001B[1;32m---> 51\u001B[0m printed_k \u001B[38;5;241m=\u001B[39m [ceil(x) \u001B[38;5;28;01mfor\u001B[39;00m x \u001B[38;5;129;01min\u001B[39;00m\n\u001B[0;32m     52\u001B[0m              H_ensemble \u001B[38;5;241m*\u001B[39m np\u001B[38;5;241m.\u001B[39marange(\u001B[38;5;241m0\u001B[39m, \u001B[38;5;241m1\u001B[39m \u001B[38;5;241m+\u001B[39m printout_percentage_interval, printout_percentage_interval)]\n\u001B[0;32m     53\u001B[0m printed_k[\u001B[38;5;241m0\u001B[39m] \u001B[38;5;241m=\u001B[39m \u001B[38;5;241m1\u001B[39m\n\u001B[0;32m     55\u001B[0m \u001B[38;5;66;03m# Loop over ensemble approach: weighted or meta\u001B[39;00m\n",
      "File \u001B[1;32m_pydevd_bundle\\pydevd_cython_win32_311_64.pyx:1187\u001B[0m, in \u001B[0;36m_pydevd_bundle.pydevd_cython_win32_311_64.SafeCallWrapper.__call__\u001B[1;34m()\u001B[0m\n",
      "File \u001B[1;32m_pydevd_bundle\\pydevd_cython_win32_311_64.pyx:627\u001B[0m, in \u001B[0;36m_pydevd_bundle.pydevd_cython_win32_311_64.PyDBFrame.trace_dispatch\u001B[1;34m()\u001B[0m\n",
      "File \u001B[1;32m_pydevd_bundle\\pydevd_cython_win32_311_64.pyx:937\u001B[0m, in \u001B[0;36m_pydevd_bundle.pydevd_cython_win32_311_64.PyDBFrame.trace_dispatch\u001B[1;34m()\u001B[0m\n",
      "File \u001B[1;32m_pydevd_bundle\\pydevd_cython_win32_311_64.pyx:928\u001B[0m, in \u001B[0;36m_pydevd_bundle.pydevd_cython_win32_311_64.PyDBFrame.trace_dispatch\u001B[1;34m()\u001B[0m\n",
      "File \u001B[1;32m_pydevd_bundle\\pydevd_cython_win32_311_64.pyx:585\u001B[0m, in \u001B[0;36m_pydevd_bundle.pydevd_cython_win32_311_64.PyDBFrame.do_wait_suspend\u001B[1;34m()\u001B[0m\n",
      "File \u001B[1;32mC:\\Program Files\\JetBrains\\PyCharm 2023.3.4\\plugins\\python\\helpers\\pydev\\pydevd.py:1184\u001B[0m, in \u001B[0;36mPyDB.do_wait_suspend\u001B[1;34m(self, thread, frame, event, arg, send_suspend_message, is_unhandled_exception)\u001B[0m\n\u001B[0;32m   1181\u001B[0m         from_this_thread\u001B[38;5;241m.\u001B[39mappend(frame_id)\n\u001B[0;32m   1183\u001B[0m \u001B[38;5;28;01mwith\u001B[39;00m \u001B[38;5;28mself\u001B[39m\u001B[38;5;241m.\u001B[39m_threads_suspended_single_notification\u001B[38;5;241m.\u001B[39mnotify_thread_suspended(thread_id, stop_reason):\n\u001B[1;32m-> 1184\u001B[0m     \u001B[38;5;28;43mself\u001B[39;49m\u001B[38;5;241;43m.\u001B[39;49m\u001B[43m_do_wait_suspend\u001B[49m\u001B[43m(\u001B[49m\u001B[43mthread\u001B[49m\u001B[43m,\u001B[49m\u001B[43m \u001B[49m\u001B[43mframe\u001B[49m\u001B[43m,\u001B[49m\u001B[43m \u001B[49m\u001B[43mevent\u001B[49m\u001B[43m,\u001B[49m\u001B[43m \u001B[49m\u001B[43marg\u001B[49m\u001B[43m,\u001B[49m\u001B[43m \u001B[49m\u001B[43msuspend_type\u001B[49m\u001B[43m,\u001B[49m\u001B[43m \u001B[49m\u001B[43mfrom_this_thread\u001B[49m\u001B[43m)\u001B[49m\n",
      "File \u001B[1;32mC:\\Program Files\\JetBrains\\PyCharm 2023.3.4\\plugins\\python\\helpers\\pydev\\pydevd.py:1199\u001B[0m, in \u001B[0;36mPyDB._do_wait_suspend\u001B[1;34m(self, thread, frame, event, arg, suspend_type, from_this_thread)\u001B[0m\n\u001B[0;32m   1196\u001B[0m             \u001B[38;5;28mself\u001B[39m\u001B[38;5;241m.\u001B[39m_call_mpl_hook()\n\u001B[0;32m   1198\u001B[0m         \u001B[38;5;28mself\u001B[39m\u001B[38;5;241m.\u001B[39mprocess_internal_commands()\n\u001B[1;32m-> 1199\u001B[0m         \u001B[43mtime\u001B[49m\u001B[38;5;241;43m.\u001B[39;49m\u001B[43msleep\u001B[49m\u001B[43m(\u001B[49m\u001B[38;5;241;43m0.01\u001B[39;49m\u001B[43m)\u001B[49m\n\u001B[0;32m   1201\u001B[0m \u001B[38;5;28mself\u001B[39m\u001B[38;5;241m.\u001B[39mcancel_async_evaluation(get_current_thread_id(thread), \u001B[38;5;28mstr\u001B[39m(\u001B[38;5;28mid\u001B[39m(frame)))\n\u001B[0;32m   1203\u001B[0m \u001B[38;5;66;03m# process any stepping instructions\u001B[39;00m\n",
      "\u001B[1;31mKeyboardInterrupt\u001B[0m: "
     ]
    }
   ],
   "source": [
    "output_dict = (\n",
    "    run_pipeline(\n",
    "        df=df, models=MODELS, metrics=METRICS,\n",
    "        agg_method='last', agg_freq='B',\n",
    "        forecast_init_train=0.3, ensemble_init_train=0.3,\n",
    "        autosarimax_refit_interval=0.33,\n",
    "        select_forecasters=['Naive', 'STL'],\n",
    "        select_ensemblers=['Simple', 'Inverse RMSE'],\n",
    "        verbose=True\n",
    "    )\n",
    ")"
   ],
   "metadata": {
    "collapsed": false,
    "ExecuteTime": {
     "end_time": "2024-03-06T03:27:12.074276Z",
     "start_time": "2024-03-06T03:18:52.735931Z"
    }
   },
   "execution_count": 20
  },
  {
   "cell_type": "markdown",
   "source": [
    "## 4) Show Ranking Table"
   ],
   "metadata": {
    "collapsed": false
   }
  },
  {
   "cell_type": "code",
   "execution_count": 9,
   "metadata": {
    "ExecuteTime": {
     "end_time": "2024-03-06T03:15:48.226207Z",
     "start_time": "2024-03-06T03:15:48.207179Z"
    }
   },
   "outputs": [
    {
     "data": {
      "text/plain": "<pandas.io.formats.style.Styler at 0x21dad101cd0>",
      "text/html": "<style type=\"text/css\">\n</style>\n<table id=\"T_8b58b\">\n  <thead>\n    <tr>\n      <th id=\"T_8b58b_level0_col0\" class=\"col_heading level0 col0\" >Model</th>\n      <th id=\"T_8b58b_level0_col1\" class=\"col_heading level0 col1\" >mape</th>\n      <th id=\"T_8b58b_level0_col2\" class=\"col_heading level0 col2\" >rmse</th>\n      <th id=\"T_8b58b_level0_col3\" class=\"col_heading level0 col3\" >smape</th>\n      <th id=\"T_8b58b_level0_col4\" class=\"col_heading level0 col4\" >MODEL Ranking</th>\n      <th id=\"T_8b58b_level0_col5\" class=\"col_heading level0 col5\" >MAPE Ranking</th>\n      <th id=\"T_8b58b_level0_col6\" class=\"col_heading level0 col6\" >RMSE Ranking</th>\n      <th id=\"T_8b58b_level0_col7\" class=\"col_heading level0 col7\" >SMAPE Ranking</th>\n    </tr>\n  </thead>\n  <tbody>\n    <tr>\n      <td id=\"T_8b58b_row0_col0\" class=\"data row0 col0\" >Naive</td>\n      <td id=\"T_8b58b_row0_col1\" class=\"data row0 col1\" >0.604318</td>\n      <td id=\"T_8b58b_row0_col2\" class=\"data row0 col2\" >0.008753</td>\n      <td id=\"T_8b58b_row0_col3\" class=\"data row0 col3\" >0.402667</td>\n      <td id=\"T_8b58b_row0_col4\" class=\"data row0 col4\" >1</td>\n      <td id=\"T_8b58b_row0_col5\" class=\"data row0 col5\" >1</td>\n      <td id=\"T_8b58b_row0_col6\" class=\"data row0 col6\" >1</td>\n      <td id=\"T_8b58b_row0_col7\" class=\"data row0 col7\" >1</td>\n    </tr>\n    <tr>\n      <td id=\"T_8b58b_row1_col0\" class=\"data row1 col0\" >Weighted Ensemble: Inverse RMSE</td>\n      <td id=\"T_8b58b_row1_col1\" class=\"data row1 col1\" >0.816708</td>\n      <td id=\"T_8b58b_row1_col2\" class=\"data row1 col2\" >0.011273</td>\n      <td id=\"T_8b58b_row1_col3\" class=\"data row1 col3\" >0.544612</td>\n      <td id=\"T_8b58b_row1_col4\" class=\"data row1 col4\" >3</td>\n      <td id=\"T_8b58b_row1_col5\" class=\"data row1 col5\" >2</td>\n      <td id=\"T_8b58b_row1_col6\" class=\"data row1 col6\" >2</td>\n      <td id=\"T_8b58b_row1_col7\" class=\"data row1 col7\" >2</td>\n    </tr>\n    <tr>\n      <td id=\"T_8b58b_row2_col0\" class=\"data row2 col0\" >Weighted Ensemble: Simple</td>\n      <td id=\"T_8b58b_row2_col1\" class=\"data row2 col1\" >0.904869</td>\n      <td id=\"T_8b58b_row2_col2\" class=\"data row2 col2\" >0.012397</td>\n      <td id=\"T_8b58b_row2_col3\" class=\"data row2 col3\" >0.603531</td>\n      <td id=\"T_8b58b_row2_col4\" class=\"data row2 col4\" >4</td>\n      <td id=\"T_8b58b_row2_col5\" class=\"data row2 col5\" >3</td>\n      <td id=\"T_8b58b_row2_col6\" class=\"data row2 col6\" >3</td>\n      <td id=\"T_8b58b_row2_col7\" class=\"data row2 col7\" >3</td>\n    </tr>\n    <tr>\n      <td id=\"T_8b58b_row3_col0\" class=\"data row3 col0\" >STL</td>\n      <td id=\"T_8b58b_row3_col1\" class=\"data row3 col1\" >1.288438</td>\n      <td id=\"T_8b58b_row3_col2\" class=\"data row3 col2\" >0.017665</td>\n      <td id=\"T_8b58b_row3_col3\" class=\"data row3 col3\" >0.859981</td>\n      <td id=\"T_8b58b_row3_col4\" class=\"data row3 col4\" >2</td>\n      <td id=\"T_8b58b_row3_col5\" class=\"data row3 col5\" >4</td>\n      <td id=\"T_8b58b_row3_col6\" class=\"data row3 col6\" >4</td>\n      <td id=\"T_8b58b_row3_col7\" class=\"data row3 col7\" >4</td>\n    </tr>\n  </tbody>\n</table>\n"
     },
     "metadata": {},
     "output_type": "display_data"
    }
   ],
   "source": [
    "display(output_dict['metrics ranking'].style.hide())"
   ]
  },
  {
   "cell_type": "code",
   "outputs": [],
   "source": [],
   "metadata": {
    "collapsed": false
   }
  }
 ],
 "metadata": {
  "kernelspec": {
   "display_name": "Python 3",
   "language": "python",
   "name": "python3"
  },
  "language_info": {
   "codemirror_mode": {
    "name": "ipython",
    "version": 3
   },
   "file_extension": ".py",
   "mimetype": "text/x-python",
   "name": "python",
   "nbconvert_exporter": "python",
   "pygments_lexer": "ipython3",
   "version": "3.11.3"
  }
 },
 "nbformat": 4,
 "nbformat_minor": 2
}
