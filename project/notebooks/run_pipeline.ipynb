{
 "cells": [
  {
   "cell_type": "markdown",
   "metadata": {},
   "source": [
    "# Interface for Pipeline Execution"
   ]
  },
  {
   "cell_type": "markdown",
   "source": [
    "## 1) Import Models, Metrics, Paths, and Functions"
   ],
   "metadata": {
    "collapsed": false
   }
  },
  {
   "cell_type": "code",
   "outputs": [
    {
     "name": "stdout",
     "output_type": "stream",
     "text": [
      "Loading paths...\n",
      "Loading helper functions...\n",
      "Loading data transformers...\n",
      "Loading models...\n",
      "Loading metrics...\n"
     ]
    }
   ],
   "source": [
    "from utils.helpers import csv_reader\n",
    "from utils.paths import *\n",
    "from pipeline.run_pipeline import run_pipeline\n",
    "\n",
    "\n",
    "from models import MODELS\n",
    "from metrics import METRICS\n"
   ],
   "metadata": {
    "collapsed": false,
    "ExecuteTime": {
     "end_time": "2024-03-06T07:05:48.820049Z",
     "start_time": "2024-03-06T07:05:25.557238Z"
    }
   },
   "execution_count": 1
  },
  {
   "cell_type": "code",
   "outputs": [],
   "source": [
    "# print(METRICS)\n",
    "# print(MODELS)"
   ],
   "metadata": {
    "collapsed": false,
    "ExecuteTime": {
     "end_time": "2024-03-06T07:05:48.828454Z",
     "start_time": "2024-03-06T07:05:48.823099Z"
    }
   },
   "execution_count": 2
  },
  {
   "cell_type": "markdown",
   "source": [
    "## 2) Select Input Data "
   ],
   "metadata": {
    "collapsed": false
   }
  },
  {
   "cell_type": "code",
   "execution_count": 3,
   "metadata": {
    "ExecuteTime": {
     "end_time": "2024-03-06T07:05:48.880062Z",
     "start_time": "2024-03-06T07:05:48.830465Z"
    }
   },
   "outputs": [
    {
     "name": "stdout",
     "output_type": "stream",
     "text": [
      "                    y          x1         x2          x3\n",
      "Date                                                    \n",
      "2004-01-01  50.840469  427.595799  55.337904  900.325291\n",
      "2004-02-01  52.871538  434.062163  54.959155  900.775888\n",
      "2004-03-01  53.769316  453.264284  56.470633  899.510058\n",
      "2004-04-01  57.672973  459.367523  56.704233  903.524834\n",
      "2004-05-01  57.182051  462.354356  61.557907  905.071762\n"
     ]
    }
   ],
   "source": [
    "# Read input data\n",
    "df = csv_reader(SIMDATA_DIR, 'noisy_simdata')\n",
    "print(df.head())\n",
    "\n",
    "# For testng pipeline for now I use a subset of 10 years:\n",
    "df = df.iloc[:120, :]"
   ]
  },
  {
   "cell_type": "code",
   "outputs": [],
   "source": [
    "# ## Using the EUR-USD Exchange Rate data\n",
    "# \n",
    "# df = csv_reader(TESTDATA_DIR, 'eurusd', columns=['datetime', 'bid_close'])\n",
    "# import sys\n",
    "# import warnings\n",
    "# # warnings( sys.__stdout__())\n",
    "# \n",
    "# #sys.jupyter_stdout = sys.__stdout__\n",
    "# print(\"hey\")\n",
    "# print(df.head())\n",
    "# \n",
    "# # For testng pipeline for now I use a small subset:\n",
    "# df = df.iloc[:10000, :]"
   ],
   "metadata": {
    "collapsed": false,
    "ExecuteTime": {
     "end_time": "2024-03-06T07:05:48.894051Z",
     "start_time": "2024-03-06T07:05:48.885096Z"
    }
   },
   "execution_count": 4
  },
  {
   "cell_type": "markdown",
   "source": [
    "## 3) Run Pipeline"
   ],
   "metadata": {
    "collapsed": false
   }
  },
  {
   "cell_type": "markdown",
   "source": [
    "### 3.1) ... on Simulated Data"
   ],
   "metadata": {
    "collapsed": false
   }
  },
  {
   "cell_type": "code",
   "execution_count": 5,
   "metadata": {
    "ExecuteTime": {
     "end_time": "2024-03-06T07:10:34.767479Z",
     "start_time": "2024-03-06T07:05:48.899583Z"
    }
   },
   "outputs": [
    {
     "name": "stdout",
     "output_type": "stream",
     "text": [
      "\u001B[33;1m=================================================================================\n",
      "[2024-03-06 08:05] Starting  Pipeline...\u001B[0m\n",
      "\u001B[33;1m\n",
      "=====================================================\n",
      "== Starting Step 1 in Pipeline: Data Preprocessing ==\n",
      "=====================================================\n",
      "\u001B[0m\n",
      "\u001B[33;1mSearching for time information...\u001B[0m\n",
      "\u001B[33;1mDates found in 'index' column!\u001B[0m\n",
      "\u001B[33;1mInferred frequency: month start\u001B[0m\n",
      "\u001B[33;1mData from goes from 2004-01-01 to 2013-12-01, resulting in 120 observations.\n",
      "\u001B[0m\n",
      "\u001B[33;1mSelecting target and covariates...\u001B[0m\n",
      "\u001B[33;1mTarget: y\u001B[0m\n",
      "\u001B[33;1mCovariates: x1, x2, x3\u001B[0m\n",
      "\u001B[33;1m\n",
      "Data Insight:\n",
      "\u001B[0m\n",
      "\u001B[33;1m                    y          x1         x2          x3\n",
      "Date                                                    \n",
      "2004-01-01  50.840469  427.595799  55.337904  900.325291\n",
      "2004-02-01  52.871538  434.062163  54.959155  900.775888\n",
      "2004-03-01  53.769316  453.264284  56.470633  899.510058\n",
      "2004-04-01  57.672973  459.367523  56.704233  903.524834\n",
      "2004-05-01  57.182051  462.354356  61.557907  905.071762\u001B[0m\n",
      "\u001B[33;1m[Time elapsed: 00s]\n",
      "\u001B[0m\n",
      "\u001B[33;1m\n",
      "=======================================================\n",
      "== Starting Step 2 in Pipeline: Individual Forecasts ==\n",
      "=======================================================\n",
      "\u001B[0m\n",
      "\u001B[33;1mSplitting data (train/test ratio: 30/70)...\n",
      "Initial training set has 36 observations \u001B[0m\n",
      "\u001B[33;1mand goes from 2004-01-01 to 2006-12-01\n",
      "There are 84 periods to be forecasted: \u001B[0m\n",
      "\u001B[33;1m2007-01-01 to 2013-12-01\n",
      "\u001B[0m\n",
      "\u001B[33;1mNow generating 84 one-step ahead expanding window predictions from model: Naive (sktime)\u001B[0m\n",
      "\u001B[33;1m...finished!\n",
      "\u001B[0m\n",
      "\u001B[33;1mNow generating 84 one-step ahead expanding window predictions from model: Naive (drift) (sktime)\u001B[0m\n",
      "\u001B[33;1m...finished!\n",
      "\u001B[0m\n",
      "\u001B[33;1mNow generating 84 one-step ahead expanding window predictions from model: AutoSARIMA (sktime)\u001B[0m\n",
      "\u001B[33;1mAuto-fitting model. Refitting every 28th period.\u001B[0m\n",
      "\u001B[33;1mAutoSARIMA forecast 1 / 84\u001B[0m\n",
      "\u001B[33;1mAutoSARIMA forecast 17 / 84\u001B[0m\n",
      "\u001B[33;1mAutoSARIMA forecast 34 / 84\u001B[0m\n",
      "\u001B[33;1mAutoSARIMA forecast 51 / 84\u001B[0m\n",
      "\u001B[33;1mAutoSARIMA forecast 68 / 84\u001B[0m\n",
      "\u001B[33;1mAutoSARIMA forecast 84 / 84\u001B[0m\n",
      "\u001B[33;1m...finished!\n",
      "\u001B[0m\n",
      "\u001B[33;1mNow generating 84 one-step ahead expanding window predictions from model: Exponential Smoothing (sktime)\u001B[0m\n",
      "\u001B[33;1m...finished!\n",
      "\u001B[0m\n",
      "\u001B[33;1mNow generating 84 one-step ahead expanding window predictions from model: STL (sktime)\u001B[0m\n",
      "\u001B[33;1m...finished!\n",
      "\u001B[0m\n",
      "\u001B[33;1mNow generating 84 one-step ahead expanding window predictions from model: XGBoost (darts)\u001B[0m\n",
      "\u001B[33;1m...finished!\n",
      "\u001B[0m\n",
      "\u001B[33;1mNow generating 84 one-step ahead expanding window predictions from model: AutoSARIMAX with covariates (sktime)\u001B[0m\n",
      "\u001B[33;1mAuto-fitting model. Refitting every 28th period.\u001B[0m\n",
      "\u001B[33;1mAutoSARIMAX with covariates forecast 1 / 84\u001B[0m\n",
      "\u001B[33;1mAutoSARIMAX with covariates forecast 17 / 84\u001B[0m\n",
      "\u001B[33;1mAutoSARIMAX with covariates forecast 34 / 84\u001B[0m\n",
      "\u001B[33;1mAutoSARIMAX with covariates forecast 51 / 84\u001B[0m\n",
      "\u001B[33;1mAutoSARIMAX with covariates forecast 68 / 84\u001B[0m\n",
      "\u001B[33;1mAutoSARIMAX with covariates forecast 84 / 84\u001B[0m\n",
      "\u001B[33;1m...finished!\n",
      "\u001B[0m\n",
      "\u001B[33;1mNow generating 84 one-step ahead expanding window predictions from model: XGBoost with covariates (darts)\u001B[0m\n",
      "\u001B[33;1m...finished!\n",
      "\u001B[0m\n",
      "\u001B[33;1m\n",
      "Individual forecasters' predictions finished!\n",
      "\n",
      "Insights into forecasters' predictions:\u001B[0m\n",
      "\u001B[33;1m             Naive  Naive (drift)  AutoSARIMA  Exponential Smoothing  \\\n",
      "Date                                                                   \n",
      "2007-01  48.857243      48.800580   49.606623              49.016606   \n",
      "2007-02  48.254157      48.182315   48.515764              48.500499   \n",
      "2007-03  47.765006      47.681886   47.973535              48.001824   \n",
      "2007-04  46.394433      46.277432   46.969779              46.904911   \n",
      "2007-05  44.212976      44.043041   45.108821              45.025232   \n",
      "\n",
      "               STL    XGBoost  AutoSARIMAX with covariates  \\\n",
      "Date                                                         \n",
      "2007-01  40.574201  48.632446                    44.513787   \n",
      "2007-02  41.374739  50.458118                    44.359217   \n",
      "2007-03  45.653502  47.823650                    48.442624   \n",
      "2007-04  41.569708  47.594688                    49.511544   \n",
      "2007-05  49.855823  48.784794                    53.863918   \n",
      "\n",
      "         XGBoost with covariates  \n",
      "Date                              \n",
      "2007-01                49.624989  \n",
      "2007-02                49.453224  \n",
      "2007-03                48.497398  \n",
      "2007-04                48.059471  \n",
      "2007-05                45.706074  \u001B[0m\n",
      "\u001B[33;1m\n",
      "\u001B[0m\n",
      "\u001B[33;1mExporting individual predictions as csv...\u001B[0m\n",
      "\u001B[33;1m...finished!\n",
      "\u001B[0m\n",
      "\u001B[33;1m[Time elapsed: 04m 30s]\n",
      "\u001B[0m\n",
      "\u001B[33;1m\n",
      "=============================================\n",
      "== Step 3: Historical Ensemble Predictions ==\n",
      "=============================================\n",
      "\u001B[0m\n",
      "\u001B[33;1mSplitting forecast data (n = 84) for ensemble forecasts (train/test ratio: 30/70)...\u001B[0m\n",
      "\u001B[33;1mInitial training set has 25 observations and goes from 2007-01 to 2009-01\u001B[0m\n",
      "\u001B[33;1mThere are 59 periods to be forecasted by the individual models 2009-02 to 2013-12\u001B[0m\n",
      "\u001B[33;1m\n",
      "Now generating 59 one-step ahead expanding window predictions from ensemble model: 'Weighted - Simple ()'\u001B[0m\n",
      "\u001B[33;1mEnsemble forecast 1 / 59\u001B[0m\n",
      "\u001B[33;1mEnsemble forecast 12 / 59\u001B[0m\n",
      "\u001B[33;1mEnsemble forecast 24 / 59\u001B[0m\n",
      "\u001B[33;1mEnsemble forecast 36 / 59\u001B[0m\n",
      "\u001B[33;1mEnsemble forecast 48 / 59\u001B[0m\n",
      "\u001B[33;1mEnsemble forecast 59 / 59\u001B[0m\n",
      "\u001B[33;1m...finished!\u001B[0m\n",
      "\u001B[33;1m\n",
      "Now generating 59 one-step ahead expanding window predictions from ensemble model: 'Weighted - Inverse RMSE ()'\u001B[0m\n",
      "\u001B[33;1mEnsemble forecast 1 / 59\u001B[0m\n",
      "\u001B[33;1mEnsemble forecast 12 / 59\u001B[0m\n",
      "\u001B[33;1mEnsemble forecast 24 / 59\u001B[0m\n",
      "\u001B[33;1mEnsemble forecast 36 / 59\u001B[0m\n",
      "\u001B[33;1mEnsemble forecast 48 / 59\u001B[0m\n",
      "\u001B[33;1mEnsemble forecast 59 / 59\u001B[0m\n",
      "\u001B[33;1m...finished!\u001B[0m\n",
      "\u001B[33;1m\n",
      "Now generating 59 one-step ahead expanding window predictions from ensemble model: 'Weighted - Inverse Variance ()'\u001B[0m\n",
      "\u001B[33;1mEnsemble forecast 1 / 59\u001B[0m\n",
      "\u001B[33;1mEnsemble forecast 12 / 59\u001B[0m\n",
      "\u001B[33;1mEnsemble forecast 24 / 59\u001B[0m\n",
      "\u001B[33;1mEnsemble forecast 36 / 59\u001B[0m\n",
      "\u001B[33;1mEnsemble forecast 48 / 59\u001B[0m\n",
      "\u001B[33;1mEnsemble forecast 59 / 59\u001B[0m\n",
      "\u001B[33;1m...finished!\u001B[0m\n",
      "\u001B[33;1m\n",
      "Now generating 59 one-step ahead expanding window predictions from ensemble model: 'Weighted - Inverse Error Covariance ()'\u001B[0m\n",
      "\u001B[33;1mEnsemble forecast 1 / 59\u001B[0m\n",
      "\u001B[33;1mEnsemble forecast 12 / 59\u001B[0m\n",
      "\u001B[33;1mEnsemble forecast 24 / 59\u001B[0m\n",
      "\u001B[33;1mEnsemble forecast 36 / 59\u001B[0m\n",
      "\u001B[33;1mEnsemble forecast 48 / 59\u001B[0m\n",
      "\u001B[33;1mEnsemble forecast 59 / 59\u001B[0m\n",
      "\u001B[33;1m...finished!\u001B[0m\n",
      "\u001B[33;1m\n",
      "Now generating 59 one-step ahead expanding window predictions from ensemble model: 'Meta - SVR (sklearn)'\u001B[0m\n",
      "\u001B[33;1mEnsemble forecast 1 / 59\u001B[0m\n",
      "\u001B[33;1mEnsemble forecast 12 / 59\u001B[0m\n",
      "\u001B[33;1mEnsemble forecast 24 / 59\u001B[0m\n",
      "\u001B[33;1mEnsemble forecast 36 / 59\u001B[0m\n",
      "\u001B[33;1mEnsemble forecast 48 / 59\u001B[0m\n",
      "\u001B[33;1mEnsemble forecast 59 / 59\u001B[0m\n",
      "\u001B[33;1m...finished!\u001B[0m\n",
      "\u001B[33;1m\n",
      "Now generating 59 one-step ahead expanding window predictions from ensemble model: 'Meta - RandomForest (sklearn)'\u001B[0m\n",
      "\u001B[33;1mEnsemble forecast 1 / 59\u001B[0m\n",
      "\u001B[33;1mEnsemble forecast 12 / 59\u001B[0m\n",
      "\u001B[33;1mEnsemble forecast 24 / 59\u001B[0m\n",
      "\u001B[33;1mEnsemble forecast 36 / 59\u001B[0m\n",
      "\u001B[33;1mEnsemble forecast 48 / 59\u001B[0m\n",
      "\u001B[33;1mEnsemble forecast 59 / 59\u001B[0m\n",
      "\u001B[33;1m...finished!\u001B[0m\n",
      "\u001B[33;1m\n",
      "Ensemble predictions finished!\n",
      "\n",
      "Insights into ensembles' predictions:\u001B[0m\n",
      "\u001B[33;1m         Weighted Ensemble: Simple  Weighted Ensemble: Inverse RMSE  \\\n",
      "2009-02                  61.612665                        61.202309   \n",
      "2009-03                  59.163315                        59.052996   \n",
      "2009-04                  58.909339                        58.899096   \n",
      "2009-05                  58.412994                        58.140892   \n",
      "2009-06                  59.456828                        59.618394   \n",
      "\n",
      "         Weighted Ensemble: Inverse Variance  \\\n",
      "2009-02                            61.365692   \n",
      "2009-03                            58.941138   \n",
      "2009-04                            58.693316   \n",
      "2009-05                            58.041535   \n",
      "2009-06                            59.282305   \n",
      "\n",
      "         Weighted Ensemble: Inverse Error Covariance  Meta Ensemble: SVR  \\\n",
      "2009-02                                    62.946926           64.898382   \n",
      "2009-03                                    58.894965           58.877583   \n",
      "2009-04                                    58.342223           59.828429   \n",
      "2009-05                                    54.614041           57.724974   \n",
      "2009-06                                    59.082615           59.781163   \n",
      "\n",
      "         Meta Ensemble: RandomForest  \n",
      "2009-02                    60.199472  \n",
      "2009-03                    60.147054  \n",
      "2009-04                    59.389127  \n",
      "2009-05                    59.195406  \n",
      "2009-06                    58.708187  \u001B[0m\n",
      "\u001B[33;1m\n",
      "Merging...\u001B[0m\n",
      "\u001B[33;1m...finished!\n",
      "\u001B[0m\n",
      "\u001B[33;1mExporting ensemble predictions as csv...\u001B[0m\n",
      "\u001B[33;1mExporting full predictions as csv...\u001B[0m\n",
      "\u001B[33;1m...finished!\n",
      "\u001B[0m\n",
      "\u001B[33;1m[Time elapsed: 04m 45s]\n",
      "\u001B[0m\n",
      "\u001B[33;1m\n",
      "============================================\n",
      "== Step 4: Creating Metrics Ranking Table ==\n",
      "============================================\n",
      "\u001B[0m\n",
      "\u001B[33;1mCalculating MAE, RMSE, MAPE, sMAPE per model...\u001B[0m\n",
      "\u001B[33;1mRanking forecasters ...\u001B[0m\n",
      "\u001B[33;1m...finished!\n",
      "\u001B[0m\n",
      "\u001B[33;1mExporting metrics ranking as csv...\u001B[0m\n",
      "\u001B[33;1m...finished!\n",
      "\u001B[0m\n",
      "\u001B[33;1mResults:\u001B[0m\n",
      "\u001B[33;1m                                          Model       MAE      RMSE      MAPE  \\\n",
      "0               Weighted Ensemble: Inverse RMSE  1.987962  2.618257  0.027556   \n",
      "1                     Weighted Ensemble: Simple  1.992834  2.636096  0.027619   \n",
      "2           Weighted Ensemble: Inverse Variance  2.004749  2.638848  0.027790   \n",
      "3                         Exponential Smoothing  2.073113  2.706564  0.028698   \n",
      "4                                         Naive  2.090017  2.747925  0.028985   \n",
      "5                                    AutoSARIMA  2.111371  2.730580  0.029175   \n",
      "6                                 Naive (drift)  2.117502  2.748343  0.029382   \n",
      "7                   Meta Ensemble: RandomForest  2.209277  2.790585  0.030548   \n",
      "8                   AutoSARIMAX with covariates  2.249503  2.968497  0.031303   \n",
      "9   Weighted Ensemble: Inverse Error Covariance  2.260794  3.031370  0.031419   \n",
      "10                      XGBoost with covariates  2.297179  3.130366  0.031591   \n",
      "11                                      XGBoost  2.238183  2.986848  0.031609   \n",
      "12                           Meta Ensemble: SVR  2.282060  2.986565  0.031856   \n",
      "13                                          STL  3.529755  4.620506  0.049142   \n",
      "\n",
      "       sMAPE  MAE Ranking  RMSE Ranking  MAPE Ranking  sMAPE Ranking  \n",
      "0   1.846892            1             1             1              1  \n",
      "1   1.850825            2             2             2              2  \n",
      "2   1.863383            3             3             3              3  \n",
      "3   1.923401            4             4             4              4  \n",
      "4   1.941180            5             6             5              5  \n",
      "5   1.953598            6             5             6              6  \n",
      "6   1.963672            7             7             7              7  \n",
      "7   2.048812            8             8             8              8  \n",
      "8   2.085660           10             9             9              9  \n",
      "9   2.105506           11            12            10             10  \n",
      "10  2.131706           13            13            11             12  \n",
      "11  2.135754            9            11            12             13  \n",
      "12  2.127017           12            10            13             11  \n",
      "13  3.266421           14            14            14             14  \u001B[0m\n",
      "\u001B[33;1m\n",
      "\n",
      "[2024-03-06 08:10] Finished Pipeline!\n",
      "[Total time elapsed: 04m 45s]\n",
      "=================================================================================\u001B[0m\n"
     ]
    }
   ],
   "source": [
    "output_dict = run_pipeline(\n",
    "    df=df, models=MODELS, metrics=METRICS,\n",
    "    select_forecasters=['all'],\n",
    "    verbose=True\n",
    ")"
   ]
  },
  {
   "cell_type": "markdown",
   "source": [
    "### 3.2) ... on EUR-USD Exchange Data"
   ],
   "metadata": {
    "collapsed": false
   }
  },
  {
   "cell_type": "code",
   "outputs": [],
   "source": [
    "# output_dict = (\n",
    "#     run_pipeline(\n",
    "#         df=df, models=MODELS, metrics=METRICS,\n",
    "#         agg_method='last', agg_freq='B',\n",
    "#         forecast_init_train=0.3, ensemble_init_train=0.3,\n",
    "#         autosarimax_refit_interval=0.33,\n",
    "#         select_forecasters=['Naive', 'STL'],\n",
    "#         select_ensemblers=['Simple', 'Inverse RMSE'],\n",
    "#         verbose=True\n",
    "#     )\n",
    "# )"
   ],
   "metadata": {
    "collapsed": false,
    "ExecuteTime": {
     "end_time": "2024-03-06T07:10:34.778438Z",
     "start_time": "2024-03-06T07:10:34.770492Z"
    }
   },
   "execution_count": 6
  },
  {
   "cell_type": "markdown",
   "source": [
    "## 4) Show Ranking Table"
   ],
   "metadata": {
    "collapsed": false
   }
  },
  {
   "cell_type": "code",
   "execution_count": 25,
   "metadata": {
    "ExecuteTime": {
     "end_time": "2024-03-06T07:24:24.334864Z",
     "start_time": "2024-03-06T07:24:24.309719Z"
    }
   },
   "outputs": [
    {
     "data": {
      "text/plain": "<pandas.io.formats.style.Styler at 0x1d01070f150>",
      "text/html": "<style type=\"text/css\">\n</style>\n<table id=\"T_830b1\">\n  <thead>\n    <tr>\n      <th id=\"T_830b1_level0_col0\" class=\"col_heading level0 col0\" >Model</th>\n      <th id=\"T_830b1_level0_col1\" class=\"col_heading level0 col1\" >MAE</th>\n      <th id=\"T_830b1_level0_col2\" class=\"col_heading level0 col2\" >RMSE</th>\n      <th id=\"T_830b1_level0_col3\" class=\"col_heading level0 col3\" >MAPE</th>\n      <th id=\"T_830b1_level0_col4\" class=\"col_heading level0 col4\" >sMAPE</th>\n      <th id=\"T_830b1_level0_col5\" class=\"col_heading level0 col5\" >MAE Ranking</th>\n      <th id=\"T_830b1_level0_col6\" class=\"col_heading level0 col6\" >RMSE Ranking</th>\n      <th id=\"T_830b1_level0_col7\" class=\"col_heading level0 col7\" >MAPE Ranking</th>\n      <th id=\"T_830b1_level0_col8\" class=\"col_heading level0 col8\" >sMAPE Ranking</th>\n    </tr>\n  </thead>\n  <tbody>\n    <tr>\n      <td id=\"T_830b1_row0_col0\" class=\"data row0 col0\" >Weighted Ensemble: Inverse RMSE</td>\n      <td id=\"T_830b1_row0_col1\" class=\"data row0 col1\" >1.9880</td>\n      <td id=\"T_830b1_row0_col2\" class=\"data row0 col2\" >2.6183</td>\n      <td id=\"T_830b1_row0_col3\" class=\"data row0 col3\" >0.0276</td>\n      <td id=\"T_830b1_row0_col4\" class=\"data row0 col4\" >1.8469</td>\n      <td id=\"T_830b1_row0_col5\" class=\"data row0 col5\" >1</td>\n      <td id=\"T_830b1_row0_col6\" class=\"data row0 col6\" >1</td>\n      <td id=\"T_830b1_row0_col7\" class=\"data row0 col7\" >1</td>\n      <td id=\"T_830b1_row0_col8\" class=\"data row0 col8\" >1</td>\n    </tr>\n    <tr>\n      <td id=\"T_830b1_row1_col0\" class=\"data row1 col0\" >Weighted Ensemble: Simple</td>\n      <td id=\"T_830b1_row1_col1\" class=\"data row1 col1\" >1.9928</td>\n      <td id=\"T_830b1_row1_col2\" class=\"data row1 col2\" >2.6361</td>\n      <td id=\"T_830b1_row1_col3\" class=\"data row1 col3\" >0.0276</td>\n      <td id=\"T_830b1_row1_col4\" class=\"data row1 col4\" >1.8508</td>\n      <td id=\"T_830b1_row1_col5\" class=\"data row1 col5\" >2</td>\n      <td id=\"T_830b1_row1_col6\" class=\"data row1 col6\" >2</td>\n      <td id=\"T_830b1_row1_col7\" class=\"data row1 col7\" >2</td>\n      <td id=\"T_830b1_row1_col8\" class=\"data row1 col8\" >2</td>\n    </tr>\n    <tr>\n      <td id=\"T_830b1_row2_col0\" class=\"data row2 col0\" >Weighted Ensemble: Inverse Variance</td>\n      <td id=\"T_830b1_row2_col1\" class=\"data row2 col1\" >2.0047</td>\n      <td id=\"T_830b1_row2_col2\" class=\"data row2 col2\" >2.6388</td>\n      <td id=\"T_830b1_row2_col3\" class=\"data row2 col3\" >0.0278</td>\n      <td id=\"T_830b1_row2_col4\" class=\"data row2 col4\" >1.8634</td>\n      <td id=\"T_830b1_row2_col5\" class=\"data row2 col5\" >3</td>\n      <td id=\"T_830b1_row2_col6\" class=\"data row2 col6\" >3</td>\n      <td id=\"T_830b1_row2_col7\" class=\"data row2 col7\" >3</td>\n      <td id=\"T_830b1_row2_col8\" class=\"data row2 col8\" >3</td>\n    </tr>\n    <tr>\n      <td id=\"T_830b1_row3_col0\" class=\"data row3 col0\" >Exponential Smoothing</td>\n      <td id=\"T_830b1_row3_col1\" class=\"data row3 col1\" >2.0731</td>\n      <td id=\"T_830b1_row3_col2\" class=\"data row3 col2\" >2.7066</td>\n      <td id=\"T_830b1_row3_col3\" class=\"data row3 col3\" >0.0287</td>\n      <td id=\"T_830b1_row3_col4\" class=\"data row3 col4\" >1.9234</td>\n      <td id=\"T_830b1_row3_col5\" class=\"data row3 col5\" >4</td>\n      <td id=\"T_830b1_row3_col6\" class=\"data row3 col6\" >4</td>\n      <td id=\"T_830b1_row3_col7\" class=\"data row3 col7\" >4</td>\n      <td id=\"T_830b1_row3_col8\" class=\"data row3 col8\" >4</td>\n    </tr>\n    <tr>\n      <td id=\"T_830b1_row4_col0\" class=\"data row4 col0\" >Naive</td>\n      <td id=\"T_830b1_row4_col1\" class=\"data row4 col1\" >2.0900</td>\n      <td id=\"T_830b1_row4_col2\" class=\"data row4 col2\" >2.7479</td>\n      <td id=\"T_830b1_row4_col3\" class=\"data row4 col3\" >0.0290</td>\n      <td id=\"T_830b1_row4_col4\" class=\"data row4 col4\" >1.9412</td>\n      <td id=\"T_830b1_row4_col5\" class=\"data row4 col5\" >5</td>\n      <td id=\"T_830b1_row4_col6\" class=\"data row4 col6\" >6</td>\n      <td id=\"T_830b1_row4_col7\" class=\"data row4 col7\" >5</td>\n      <td id=\"T_830b1_row4_col8\" class=\"data row4 col8\" >5</td>\n    </tr>\n    <tr>\n      <td id=\"T_830b1_row5_col0\" class=\"data row5 col0\" >AutoSARIMA</td>\n      <td id=\"T_830b1_row5_col1\" class=\"data row5 col1\" >2.1114</td>\n      <td id=\"T_830b1_row5_col2\" class=\"data row5 col2\" >2.7306</td>\n      <td id=\"T_830b1_row5_col3\" class=\"data row5 col3\" >0.0292</td>\n      <td id=\"T_830b1_row5_col4\" class=\"data row5 col4\" >1.9536</td>\n      <td id=\"T_830b1_row5_col5\" class=\"data row5 col5\" >6</td>\n      <td id=\"T_830b1_row5_col6\" class=\"data row5 col6\" >5</td>\n      <td id=\"T_830b1_row5_col7\" class=\"data row5 col7\" >6</td>\n      <td id=\"T_830b1_row5_col8\" class=\"data row5 col8\" >6</td>\n    </tr>\n    <tr>\n      <td id=\"T_830b1_row6_col0\" class=\"data row6 col0\" >Naive (drift)</td>\n      <td id=\"T_830b1_row6_col1\" class=\"data row6 col1\" >2.1175</td>\n      <td id=\"T_830b1_row6_col2\" class=\"data row6 col2\" >2.7483</td>\n      <td id=\"T_830b1_row6_col3\" class=\"data row6 col3\" >0.0294</td>\n      <td id=\"T_830b1_row6_col4\" class=\"data row6 col4\" >1.9637</td>\n      <td id=\"T_830b1_row6_col5\" class=\"data row6 col5\" >7</td>\n      <td id=\"T_830b1_row6_col6\" class=\"data row6 col6\" >7</td>\n      <td id=\"T_830b1_row6_col7\" class=\"data row6 col7\" >7</td>\n      <td id=\"T_830b1_row6_col8\" class=\"data row6 col8\" >7</td>\n    </tr>\n    <tr>\n      <td id=\"T_830b1_row7_col0\" class=\"data row7 col0\" >Meta Ensemble: RandomForest</td>\n      <td id=\"T_830b1_row7_col1\" class=\"data row7 col1\" >2.2093</td>\n      <td id=\"T_830b1_row7_col2\" class=\"data row7 col2\" >2.7906</td>\n      <td id=\"T_830b1_row7_col3\" class=\"data row7 col3\" >0.0305</td>\n      <td id=\"T_830b1_row7_col4\" class=\"data row7 col4\" >2.0488</td>\n      <td id=\"T_830b1_row7_col5\" class=\"data row7 col5\" >8</td>\n      <td id=\"T_830b1_row7_col6\" class=\"data row7 col6\" >8</td>\n      <td id=\"T_830b1_row7_col7\" class=\"data row7 col7\" >8</td>\n      <td id=\"T_830b1_row7_col8\" class=\"data row7 col8\" >8</td>\n    </tr>\n    <tr>\n      <td id=\"T_830b1_row8_col0\" class=\"data row8 col0\" >AutoSARIMAX with covariates</td>\n      <td id=\"T_830b1_row8_col1\" class=\"data row8 col1\" >2.2495</td>\n      <td id=\"T_830b1_row8_col2\" class=\"data row8 col2\" >2.9685</td>\n      <td id=\"T_830b1_row8_col3\" class=\"data row8 col3\" >0.0313</td>\n      <td id=\"T_830b1_row8_col4\" class=\"data row8 col4\" >2.0857</td>\n      <td id=\"T_830b1_row8_col5\" class=\"data row8 col5\" >10</td>\n      <td id=\"T_830b1_row8_col6\" class=\"data row8 col6\" >9</td>\n      <td id=\"T_830b1_row8_col7\" class=\"data row8 col7\" >9</td>\n      <td id=\"T_830b1_row8_col8\" class=\"data row8 col8\" >9</td>\n    </tr>\n    <tr>\n      <td id=\"T_830b1_row9_col0\" class=\"data row9 col0\" >Weighted Ensemble: Inverse Error Covariance</td>\n      <td id=\"T_830b1_row9_col1\" class=\"data row9 col1\" >2.2608</td>\n      <td id=\"T_830b1_row9_col2\" class=\"data row9 col2\" >3.0314</td>\n      <td id=\"T_830b1_row9_col3\" class=\"data row9 col3\" >0.0314</td>\n      <td id=\"T_830b1_row9_col4\" class=\"data row9 col4\" >2.1055</td>\n      <td id=\"T_830b1_row9_col5\" class=\"data row9 col5\" >11</td>\n      <td id=\"T_830b1_row9_col6\" class=\"data row9 col6\" >12</td>\n      <td id=\"T_830b1_row9_col7\" class=\"data row9 col7\" >10</td>\n      <td id=\"T_830b1_row9_col8\" class=\"data row9 col8\" >10</td>\n    </tr>\n    <tr>\n      <td id=\"T_830b1_row10_col0\" class=\"data row10 col0\" >XGBoost with covariates</td>\n      <td id=\"T_830b1_row10_col1\" class=\"data row10 col1\" >2.2972</td>\n      <td id=\"T_830b1_row10_col2\" class=\"data row10 col2\" >3.1304</td>\n      <td id=\"T_830b1_row10_col3\" class=\"data row10 col3\" >0.0316</td>\n      <td id=\"T_830b1_row10_col4\" class=\"data row10 col4\" >2.1317</td>\n      <td id=\"T_830b1_row10_col5\" class=\"data row10 col5\" >13</td>\n      <td id=\"T_830b1_row10_col6\" class=\"data row10 col6\" >13</td>\n      <td id=\"T_830b1_row10_col7\" class=\"data row10 col7\" >11</td>\n      <td id=\"T_830b1_row10_col8\" class=\"data row10 col8\" >12</td>\n    </tr>\n    <tr>\n      <td id=\"T_830b1_row11_col0\" class=\"data row11 col0\" >XGBoost</td>\n      <td id=\"T_830b1_row11_col1\" class=\"data row11 col1\" >2.2382</td>\n      <td id=\"T_830b1_row11_col2\" class=\"data row11 col2\" >2.9868</td>\n      <td id=\"T_830b1_row11_col3\" class=\"data row11 col3\" >0.0316</td>\n      <td id=\"T_830b1_row11_col4\" class=\"data row11 col4\" >2.1358</td>\n      <td id=\"T_830b1_row11_col5\" class=\"data row11 col5\" >9</td>\n      <td id=\"T_830b1_row11_col6\" class=\"data row11 col6\" >11</td>\n      <td id=\"T_830b1_row11_col7\" class=\"data row11 col7\" >12</td>\n      <td id=\"T_830b1_row11_col8\" class=\"data row11 col8\" >13</td>\n    </tr>\n    <tr>\n      <td id=\"T_830b1_row12_col0\" class=\"data row12 col0\" >Meta Ensemble: SVR</td>\n      <td id=\"T_830b1_row12_col1\" class=\"data row12 col1\" >2.2821</td>\n      <td id=\"T_830b1_row12_col2\" class=\"data row12 col2\" >2.9866</td>\n      <td id=\"T_830b1_row12_col3\" class=\"data row12 col3\" >0.0319</td>\n      <td id=\"T_830b1_row12_col4\" class=\"data row12 col4\" >2.1270</td>\n      <td id=\"T_830b1_row12_col5\" class=\"data row12 col5\" >12</td>\n      <td id=\"T_830b1_row12_col6\" class=\"data row12 col6\" >10</td>\n      <td id=\"T_830b1_row12_col7\" class=\"data row12 col7\" >13</td>\n      <td id=\"T_830b1_row12_col8\" class=\"data row12 col8\" >11</td>\n    </tr>\n    <tr>\n      <td id=\"T_830b1_row13_col0\" class=\"data row13 col0\" >STL</td>\n      <td id=\"T_830b1_row13_col1\" class=\"data row13 col1\" >3.5298</td>\n      <td id=\"T_830b1_row13_col2\" class=\"data row13 col2\" >4.6205</td>\n      <td id=\"T_830b1_row13_col3\" class=\"data row13 col3\" >0.0491</td>\n      <td id=\"T_830b1_row13_col4\" class=\"data row13 col4\" >3.2664</td>\n      <td id=\"T_830b1_row13_col5\" class=\"data row13 col5\" >14</td>\n      <td id=\"T_830b1_row13_col6\" class=\"data row13 col6\" >14</td>\n      <td id=\"T_830b1_row13_col7\" class=\"data row13 col7\" >14</td>\n      <td id=\"T_830b1_row13_col8\" class=\"data row13 col8\" >14</td>\n    </tr>\n  </tbody>\n</table>\n"
     },
     "metadata": {},
     "output_type": "display_data"
    }
   ],
   "source": [
    "import pandas as pd\n",
    "pd.set_option('display.float_format', '{:.2f}'.format)\n",
    "# Format performance metric values\n",
    "def format_numeric(val):\n",
    "    if isinstance(val, (float)):\n",
    "        return '{:.3f}'.format(val)\n",
    "    return val\n",
    "formatted_metrics = output_dict['metrics ranking'].applymap(format_numeric)\n",
    "display(formatted_metrics.style.hide())"
   ]
  },
  {
   "cell_type": "code",
   "outputs": [
    {
     "data": {
      "text/plain": "{'target and covariates': (Date\n  2004-01-01   50.84\n  2004-02-01   52.87\n  2004-03-01   53.77\n  2004-04-01   57.67\n  2004-05-01   57.18\n                ... \n  2013-08-01   72.60\n  2013-09-01   72.94\n  2013-10-01   75.54\n  2013-11-01   75.67\n  2013-12-01   78.51\n  Freq: MS, Name: y, Length: 120, dtype: float64,\n                 x1    x2     x3\n  Date                          \n  2004-01-01 427.60 55.34 900.33\n  2004-02-01 434.06 54.96 900.78\n  2004-03-01 453.26 56.47 899.51\n  2004-04-01 459.37 56.70 903.52\n  2004-05-01 462.35 61.56 905.07\n  ...           ...   ...    ...\n  2013-08-01 353.11 52.07 918.10\n  2013-09-01 353.01 52.22 917.28\n  2013-10-01 358.91 51.91 916.61\n  2013-11-01 352.36 52.79 917.95\n  2013-12-01 367.60 52.98 922.26\n  \n  [120 rows x 3 columns]),\n 'individual_predictions':          Target  Naive  Naive (drift)  AutoSARIMA  Exponential Smoothing  \\\n Date                                                                       \n 2007-01   48.25  48.86          48.80       49.61                  49.02   \n 2007-02   47.77  48.25          48.18       48.52                  48.50   \n 2007-03   46.39  47.77          47.68       47.97                  48.00   \n 2007-04   44.21  46.39          46.28       46.97                  46.90   \n 2007-05   41.85  44.21          44.04       45.11                  45.03   \n ...         ...    ...            ...         ...                    ...   \n 2013-08   72.60  73.92          74.13       74.16                  74.12   \n 2013-09   72.94  72.60          72.79       72.84                  72.95   \n 2013-10   75.54  72.94          73.13       72.83                  72.94   \n 2013-11   75.67  75.54          75.75       75.02                  74.94   \n 2013-12   78.51  75.67          75.88       75.69                  75.51   \n \n           STL  XGBoost  AutoSARIMAX with covariates  XGBoost with covariates  \n Date                                                                          \n 2007-01 40.57    48.63                        44.51                    49.62  \n 2007-02 41.37    50.46                        44.36                    49.45  \n 2007-03 45.65    47.82                        48.44                    48.50  \n 2007-04 41.57    47.59                        49.51                    48.06  \n 2007-05 49.86    48.78                        53.86                    45.71  \n ...       ...      ...                          ...                      ...  \n 2013-08 72.05    72.25                        73.99                    75.68  \n 2013-09 76.66    74.47                        75.36                    74.09  \n 2013-10 79.35    71.08                        73.50                    71.15  \n 2013-11 76.48    72.19                        74.10                    73.57  \n 2013-12 75.97    75.68                        76.72                    76.13  \n \n [84 rows x 9 columns],\n 'full predictions':          Naive  Naive (drift)  AutoSARIMA  Exponential Smoothing   STL  \\\n 2009-02  60.44          60.60       60.89                  60.60 65.34   \n 2009-03  58.96          59.09       59.46                  59.34 61.82   \n 2009-04  59.11          59.24       59.06                  59.16 60.28   \n 2009-05  57.92          58.04       57.81                  58.20 61.64   \n 2009-06  60.41          60.56       59.40                  59.90 59.21   \n 2009-07  58.40          58.52       59.25                  58.75 59.73   \n 2009-08  60.22          60.36       59.87                  59.87 59.36   \n 2009-09  60.22          60.36       60.10                  60.14 62.52   \n 2009-10  60.55          60.69       60.84                  60.45 59.89   \n 2009-11  59.70          59.83       60.03                  59.88 63.38   \n 2009-12  62.27          62.44       61.37                  61.70 64.49   \n 2010-01  59.51          59.63       60.66                  60.05 63.26   \n 2010-02  61.92          62.07       61.21                  61.45 62.61   \n 2010-03  62.37          62.53       62.09                  62.14 60.73   \n 2010-04  62.62          62.78       63.04                  62.50 60.30   \n 2010-05  70.65          70.92       68.15                  68.69 64.10   \n 2010-06  71.22          71.49       72.10                  70.73 63.50   \n 2010-07  70.49          70.75       71.86                  70.54 66.62   \n 2010-08  74.60          74.91       73.33                  73.75 68.41   \n 2010-09  72.88          73.16       73.67                  73.06 71.14   \n 2010-10  78.32          78.66       76.98                  77.19 71.62   \n 2010-11  80.53          80.89       80.13                  79.89 76.66   \n 2010-12  79.86          80.22       80.57                  79.87 77.17   \n 2011-01  74.71          75.00       76.19                  75.75 79.95   \n 2011-02  74.20          74.47       74.03                  74.48 79.85   \n 2011-03  73.26          73.52       73.20                  73.49 78.72   \n 2011-04  76.37          76.67       75.53                  75.81 83.41   \n 2011-05  72.89          73.14       73.88                  73.48 82.40   \n 2011-06  72.06          72.30       72.19                  72.34 78.66   \n 2011-07  72.75          72.99       72.37                  72.67 79.90   \n 2011-08  70.02          70.23       70.65                  70.54 75.97   \n 2011-09  71.44          71.67       70.67                  71.26 77.43   \n 2011-10  77.43          77.72       75.87                  76.20 76.73   \n 2011-11  76.97          77.25       77.64                  76.82 75.73   \n 2011-12  76.13          76.40       76.58                  76.26 70.78   \n 2012-01  75.80          76.06       75.85                  75.89 71.79   \n 2012-02  73.09          73.32       73.61                  73.63 70.90   \n 2012-03  71.71          71.92       71.87                  72.07 72.92   \n 2012-04  71.70          71.91       71.58                  71.76 73.34   \n 2012-05  75.99          76.24       75.17                  75.18 73.60   \n 2012-06  72.99          73.22       73.75                  73.43 73.60   \n 2012-07  76.85          77.11       76.14                  76.15 74.22   \n 2012-08  75.57          75.81       75.91                  75.69 75.10   \n 2012-09  70.42          70.61       71.43                  71.52 79.81   \n 2012-10  72.77          72.98       72.13                  72.51 78.91   \n 2012-11  77.09          77.34       76.27                  76.11 77.18   \n 2012-12  74.81          75.03       75.46                  75.09 73.61   \n 2013-01  75.80          76.03       75.65                  75.64 72.20   \n 2013-02  80.86          81.14       79.89                  79.73 72.17   \n 2013-03  75.48          75.71       76.66                  76.47 74.36   \n 2013-04  73.26          73.46       73.69                  73.99 76.72   \n 2013-05  73.03          73.23       72.94                  73.25 73.75   \n 2013-06  74.74          74.95       74.36                  74.40 76.89   \n 2013-07  74.92          75.13       74.91                  74.80 74.97   \n 2013-08  73.92          74.13       74.16                  74.12 72.05   \n 2013-09  72.60          72.79       72.84                  72.95 76.66   \n 2013-10  72.94          73.13       72.83                  72.94 79.35   \n 2013-11  75.54          75.75       75.02                  74.94 76.48   \n 2013-12  75.67          75.88       75.69                  75.51 75.97   \n \n          XGBoost  AutoSARIMAX with covariates  XGBoost with covariates  \\\n 2009-02    60.91                        65.11                    59.01   \n 2009-03    55.63                        59.03                    59.98   \n 2009-04    56.61                        59.68                    58.14   \n 2009-05    53.57                        60.16                    59.96   \n 2009-06    56.63                        59.84                    59.72   \n 2009-07    57.47                        60.09                    59.49   \n 2009-08    58.11                        58.45                    58.56   \n 2009-09    59.92                        62.01                    59.04   \n 2009-10    59.56                        59.90                    60.58   \n 2009-11    60.28                        60.46                    59.45   \n 2009-12    59.67                        62.22                    60.40   \n 2010-01    60.26                        61.69                    60.01   \n 2010-02    59.19                        60.76                    60.87   \n 2010-03    59.75                        61.00                    61.05   \n 2010-04    61.40                        63.00                    61.77   \n 2010-05    64.50                        69.54                    61.78   \n 2010-06    71.21                        73.21                    71.00   \n 2010-07    70.53                        73.06                    70.54   \n 2010-08    71.03                        72.38                    70.81   \n 2010-09    74.35                        73.43                    73.39   \n 2010-10    74.59                        78.59                    73.39   \n 2010-11    80.51                        81.57                    79.72   \n 2010-12    79.87                        82.50                    79.87   \n 2011-01    76.76                        77.53                    78.74   \n 2011-02    74.20                        73.25                    75.73   \n 2011-03    73.26                        71.32                    73.79   \n 2011-04    74.56                        75.86                    75.16   \n 2011-05    73.35                        73.98                    74.52   \n 2011-06    72.86                        71.80                    72.55   \n 2011-07    71.97                        72.08                    67.69   \n 2011-08    70.01                        70.92                    72.03   \n 2011-09    71.92                        73.33                    75.74   \n 2011-10    73.68                        77.12                    74.18   \n 2011-11    75.81                        76.52                    70.89   \n 2011-12    75.67                        76.09                    76.88   \n 2012-01    74.91                        77.58                    73.25   \n 2012-02    75.22                        72.04                    73.24   \n 2012-03    73.97                        72.35                    71.89   \n 2012-04    75.06                        72.54                    70.82   \n 2012-05    73.08                        75.78                    73.26   \n 2012-06    75.40                        74.25                    72.72   \n 2012-07    75.42                        74.63                    75.67   \n 2012-08    73.67                        75.14                    74.01   \n 2012-09    72.31                        75.43                    72.41   \n 2012-10    73.01                        71.35                    71.19   \n 2012-11    73.99                        76.05                    75.75   \n 2012-12    75.51                        75.90                    74.04   \n 2013-01    75.92                        73.76                    76.49   \n 2013-02    73.97                        80.00                    75.90   \n 2013-03    74.03                        77.01                    76.15   \n 2013-04    72.80                        74.19                    74.72   \n 2013-05    74.85                        72.85                    74.71   \n 2013-06    74.83                        73.55                    73.37   \n 2013-07    75.04                        73.29                    74.38   \n 2013-08    72.25                        73.99                    75.68   \n 2013-09    74.47                        75.36                    74.09   \n 2013-10    71.08                        73.50                    71.15   \n 2013-11    72.19                        74.10                    73.57   \n 2013-12    75.68                        76.72                    76.13   \n \n          Weighted Ensemble: Simple  Weighted Ensemble: Inverse RMSE  \\\n 2009-02                      61.61                            61.20   \n 2009-03                      59.16                            59.05   \n 2009-04                      58.91                            58.90   \n 2009-05                      58.41                            58.14   \n 2009-06                      59.46                            59.62   \n 2009-07                      58.96                            58.87   \n 2009-08                      59.35                            59.54   \n 2009-09                      60.54                            60.37   \n 2009-10                      60.31                            60.41   \n 2009-11                      60.38                            60.14   \n 2009-12                      61.82                            61.75   \n 2010-01                      60.63                            60.37   \n 2010-02                      61.26                            61.30   \n 2010-03                      61.46                            61.68   \n 2010-04                      62.18                            62.37   \n 2010-05                      67.29                            67.84   \n 2010-06                      70.56                            70.96   \n 2010-07                      70.55                            70.76   \n 2010-08                      72.40                            72.91   \n 2010-09                      73.14                            73.22   \n 2010-10                      76.17                            76.65   \n 2010-11                      79.99                            80.19   \n 2010-12                      79.99                            80.13   \n 2011-01                      76.83                            76.45   \n 2011-02                      75.03                            74.72   \n 2011-03                      73.82                            73.56   \n 2011-04                      76.67                            76.33   \n 2011-05                      74.70                            74.17   \n 2011-06                      73.09                            72.72   \n 2011-07                      72.80                            72.51   \n 2011-08                      71.29                            70.93   \n 2011-09                      72.93                            72.43   \n 2011-10                      76.12                            76.20   \n 2011-11                      75.95                            76.17   \n 2011-12                      75.60                            75.92   \n 2012-01                      75.14                            75.42   \n 2012-02                      73.13                            73.27   \n 2012-03                      72.34                            72.24   \n 2012-04                      72.34                            72.20   \n 2012-05                      74.79                            74.97   \n 2012-06                      73.67                            73.63   \n 2012-07                      75.77                            75.95   \n 2012-08                      75.11                            75.21   \n 2012-09                      72.99                            72.44   \n 2012-10                      73.11                            72.80   \n 2012-11                      76.22                            76.24   \n 2012-12                      74.93                            75.01   \n 2013-01                      75.18                            75.38   \n 2013-02                      77.96                            78.50   \n 2013-03                      75.73                            75.82   \n 2013-04                      74.10                            73.93   \n 2013-05                      73.58                            73.52   \n 2013-06                      74.64                            74.55   \n 2013-07                      74.68                            74.71   \n 2013-08                      73.79                            73.88   \n 2013-09                      73.97                            73.72   \n 2013-10                      73.36                            73.06   \n 2013-11                      74.70                            74.69   \n 2013-12                      75.91                            75.87   \n \n          Weighted Ensemble: Inverse Variance  \\\n 2009-02                                61.37   \n 2009-03                                58.94   \n 2009-04                                58.69   \n 2009-05                                58.04   \n 2009-06                                59.28   \n 2009-07                                58.84   \n 2009-08                                59.26   \n 2009-09                                60.36   \n 2009-10                                60.29   \n 2009-11                                60.23   \n 2009-12                                61.55   \n 2010-01                                60.48   \n 2010-02                                61.09   \n 2010-03                                61.40   \n 2010-04                                62.20   \n 2010-05                                67.12   \n 2010-06                                70.82   \n 2010-07                                70.62   \n 2010-08                                72.39   \n 2010-09                                73.22   \n 2010-10                                76.09   \n 2010-11                                80.00   \n 2010-12                                79.97   \n 2011-01                                76.86   \n 2011-02                                75.01   \n 2011-03                                73.78   \n 2011-04                                76.53   \n 2011-05                                74.54   \n 2011-06                                72.96   \n 2011-07                                72.57   \n 2011-08                                71.15   \n 2011-09                                72.80   \n 2011-10                                76.05   \n 2011-11                                75.92   \n 2011-12                                75.75   \n 2012-01                                75.20   \n 2012-02                                73.22   \n 2012-03                                72.33   \n 2012-04                                72.32   \n 2012-05                                74.79   \n 2012-06                                73.67   \n 2012-07                                75.81   \n 2012-08                                75.10   \n 2012-09                                72.82   \n 2012-10                                72.95   \n 2012-11                                76.18   \n 2012-12                                74.96   \n 2013-01                                75.28   \n 2013-02                                78.05   \n 2013-03                                75.75   \n 2013-04                                74.04   \n 2013-05                                73.59   \n 2013-06                                74.58   \n 2013-07                                74.68   \n 2013-08                                73.83   \n 2013-09                                73.91   \n 2013-10                                73.20   \n 2013-11                                74.64   \n 2013-12                                75.90   \n \n          Weighted Ensemble: Inverse Error Covariance  Meta Ensemble: SVR  \\\n 2009-02                                        62.95               64.90   \n 2009-03                                        58.89               58.88   \n 2009-04                                        58.34               59.83   \n 2009-05                                        54.61               57.72   \n 2009-06                                        59.08               59.78   \n 2009-07                                        59.76               58.93   \n 2009-08                                        60.51               58.83   \n 2009-09                                        59.91               61.28   \n 2009-10                                        61.69               60.66   \n 2009-11                                        60.04               59.89   \n 2009-12                                        61.66               61.53   \n 2010-01                                        61.19               61.19   \n 2010-02                                        61.26               60.42   \n 2010-03                                        62.14               62.13   \n 2010-04                                        63.77               63.70   \n 2010-05                                        69.20               70.06   \n 2010-06                                        76.32               73.58   \n 2010-07                                        72.66               72.74   \n 2010-08                                        72.94               74.57   \n 2010-09                                        73.60               74.08   \n 2010-10                                        76.94               79.12   \n 2010-11                                        80.63               83.05   \n 2010-12                                        81.12               82.03   \n 2011-01                                        74.89               75.36   \n 2011-02                                        72.78               72.68   \n 2011-03                                        72.76               72.77   \n 2011-04                                        76.53               76.14   \n 2011-05                                        74.17               74.03   \n 2011-06                                        71.60               72.04   \n 2011-07                                        73.47               75.14   \n 2011-08                                        69.83               70.17   \n 2011-09                                        68.73               70.41   \n 2011-10                                        76.86               76.37   \n 2011-11                                        77.34               75.81   \n 2011-12                                        76.17               76.09   \n 2012-01                                        74.74               75.72   \n 2012-02                                        71.95               71.91   \n 2012-03                                        70.40               70.86   \n 2012-04                                        70.33               70.57   \n 2012-05                                        75.66               75.55   \n 2012-06                                        72.85               72.72   \n 2012-07                                        76.65               75.49   \n 2012-08                                        75.33               74.97   \n 2012-09                                        70.12               71.46   \n 2012-10                                        72.52               71.70   \n 2012-11                                        77.11               76.48   \n 2012-12                                        74.72               74.76   \n 2013-01                                        75.45               74.63   \n 2013-02                                        79.18               79.82   \n 2013-03                                        74.52               75.77   \n 2013-04                                        72.59               73.17   \n 2013-05                                        73.16               72.79   \n 2013-06                                        75.06               74.17   \n 2013-07                                        75.11               74.54   \n 2013-08                                        73.14               73.09   \n 2013-09                                        72.86               73.19   \n 2013-10                                        72.61               72.93   \n 2013-11                                        75.01               74.72   \n 2013-12                                        75.64               75.39   \n \n          Meta Ensemble: RandomForest  \n 2009-02                        60.20  \n 2009-03                        60.15  \n 2009-04                        59.39  \n 2009-05                        59.20  \n 2009-06                        58.71  \n 2009-07                        59.01  \n 2009-08                        58.58  \n 2009-09                        59.55  \n 2009-10                        59.49  \n 2009-11                        60.15  \n 2009-12                        60.17  \n 2010-01                        61.07  \n 2010-02                        60.08  \n 2010-03                        60.63  \n 2010-04                        61.32  \n 2010-05                        66.99  \n 2010-06                        69.20  \n 2010-07                        69.99  \n 2010-08                        72.80  \n 2010-09                        73.18  \n 2010-10                        76.24  \n 2010-11                        79.01  \n 2010-12                        79.46  \n 2011-01                        78.09  \n 2011-02                        75.41  \n 2011-03                        73.59  \n 2011-04                        75.40  \n 2011-05                        74.93  \n 2011-06                        74.75  \n 2011-07                        72.94  \n 2011-08                        73.62  \n 2011-09                        72.95  \n 2011-10                        76.05  \n 2011-11                        76.88  \n 2011-12                        77.14  \n 2012-01                        76.82  \n 2012-02                        74.37  \n 2012-03                        72.60  \n 2012-04                        72.21  \n 2012-05                        74.38  \n 2012-06                        74.00  \n 2012-07                        76.20  \n 2012-08                        75.11  \n 2012-09                        73.55  \n 2012-10                        72.89  \n 2012-11                        75.04  \n 2012-12                        74.60  \n 2013-01                        75.17  \n 2013-02                        76.86  \n 2013-03                        74.95  \n 2013-04                        73.71  \n 2013-05                        75.48  \n 2013-06                        74.54  \n 2013-07                        74.72  \n 2013-08                        73.99  \n 2013-09                        75.21  \n 2013-10                        73.52  \n 2013-11                        72.84  \n 2013-12                        75.70  ,\n 'metrics ranking':                                           Model  MAE  RMSE  MAPE  sMAPE  \\\n 0               Weighted Ensemble: Inverse RMSE 1.99  2.62  0.03   1.85   \n 1                     Weighted Ensemble: Simple 1.99  2.64  0.03   1.85   \n 2           Weighted Ensemble: Inverse Variance 2.00  2.64  0.03   1.86   \n 3                         Exponential Smoothing 2.07  2.71  0.03   1.92   \n 4                                         Naive 2.09  2.75  0.03   1.94   \n 5                                    AutoSARIMA 2.11  2.73  0.03   1.95   \n 6                                 Naive (drift) 2.12  2.75  0.03   1.96   \n 7                   Meta Ensemble: RandomForest 2.21  2.79  0.03   2.05   \n 8                   AutoSARIMAX with covariates 2.25  2.97  0.03   2.09   \n 9   Weighted Ensemble: Inverse Error Covariance 2.26  3.03  0.03   2.11   \n 10                      XGBoost with covariates 2.30  3.13  0.03   2.13   \n 11                                      XGBoost 2.24  2.99  0.03   2.14   \n 12                           Meta Ensemble: SVR 2.28  2.99  0.03   2.13   \n 13                                          STL 3.53  4.62  0.05   3.27   \n \n     MAE Ranking  RMSE Ranking  MAPE Ranking  sMAPE Ranking  \n 0             1             1             1              1  \n 1             2             2             2              2  \n 2             3             3             3              3  \n 3             4             4             4              4  \n 4             5             6             5              5  \n 5             6             5             6              6  \n 6             7             7             7              7  \n 7             8             8             8              8  \n 8            10             9             9              9  \n 9            11            12            10             10  \n 10           13            13            11             12  \n 11            9            11            12             13  \n 12           12            10            13             11  \n 13           14            14            14             14  }"
     },
     "execution_count": 19,
     "metadata": {},
     "output_type": "execute_result"
    }
   ],
   "source": [
    "+output_dict"
   ],
   "metadata": {
    "collapsed": false,
    "ExecuteTime": {
     "end_time": "2024-03-06T07:21:44.283891Z",
     "start_time": "2024-03-06T07:21:44.236229Z"
    }
   },
   "execution_count": 19
  },
  {
   "cell_type": "code",
   "outputs": [],
   "source": [],
   "metadata": {
    "collapsed": false
   }
  }
 ],
 "metadata": {
  "kernelspec": {
   "display_name": "Python 3",
   "language": "python",
   "name": "python3"
  },
  "language_info": {
   "codemirror_mode": {
    "name": "ipython",
    "version": 3
   },
   "file_extension": ".py",
   "mimetype": "text/x-python",
   "name": "python",
   "nbconvert_exporter": "python",
   "pygments_lexer": "ipython3",
   "version": "3.11.3"
  }
 },
 "nbformat": 4,
 "nbformat_minor": 2
}
