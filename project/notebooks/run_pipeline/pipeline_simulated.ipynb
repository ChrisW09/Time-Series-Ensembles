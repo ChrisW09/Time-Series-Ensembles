{
 "cells": [
  {
   "cell_type": "markdown",
   "metadata": {},
   "source": [
    "# Interface for Pipeline Execution \n",
    "## (Simulated Data from SARIMAX Process)"
   ]
  },
  {
   "cell_type": "markdown",
   "source": [
    "## 1) Import Models, Metrics, Paths, and Functions"
   ],
   "metadata": {
    "collapsed": false
   }
  },
  {
   "cell_type": "code",
   "outputs": [
    {
     "name": "stdout",
     "output_type": "stream",
     "text": [
      "Loading paths...\n",
      "Loading helper functions...\n",
      "Loading data transformers...\n",
      "Loading models...\n",
      "Loading metrics...\n"
     ]
    }
   ],
   "source": [
    "from utils.helpers import csv_reader, display_ranking_table\n",
    "from utils.paths import *\n",
    "from pipeline.run_pipeline import run_pipeline\n",
    "\n",
    "\n",
    "from models import MODELS\n",
    "from metrics import METRICS\n"
   ],
   "metadata": {
    "collapsed": false,
    "ExecuteTime": {
     "end_time": "2024-03-07T10:32:28.973031Z",
     "start_time": "2024-03-07T10:32:10.437337Z"
    }
   },
   "execution_count": 1
  },
  {
   "cell_type": "code",
   "outputs": [],
   "source": [
    "# print(METRICS)\n",
    "# print(MODELS)"
   ],
   "metadata": {
    "collapsed": false,
    "ExecuteTime": {
     "end_time": "2024-03-07T10:32:28.980499Z",
     "start_time": "2024-03-07T10:32:28.975046Z"
    }
   },
   "execution_count": 2
  },
  {
   "cell_type": "markdown",
   "source": [
    "## 2) Select Input Data "
   ],
   "metadata": {
    "collapsed": false
   }
  },
  {
   "cell_type": "code",
   "execution_count": 3,
   "metadata": {
    "ExecuteTime": {
     "end_time": "2024-03-07T10:32:29.040292Z",
     "start_time": "2024-03-07T10:32:28.983516Z"
    }
   },
   "outputs": [
    {
     "name": "stdout",
     "output_type": "stream",
     "text": [
      "                    y          x1         x2          x3\n",
      "Date                                                    \n",
      "2004-01-01  50.840469  427.595799  55.337904  900.325291\n",
      "2004-02-01  52.871538  434.062163  54.959155  900.775888\n",
      "2004-03-01  53.769316  453.264284  56.470633  899.510058\n",
      "2004-04-01  57.672973  459.367523  56.704233  903.524834\n",
      "2004-05-01  57.182051  462.354356  61.557907  905.071762\n"
     ]
    }
   ],
   "source": [
    "# Read input data\n",
    "df = csv_reader(SIMDATA_DIR, 'noisy_simdata')\n",
    "print(df.head())"
   ]
  },
  {
   "cell_type": "code",
   "outputs": [],
   "source": [
    "# ## Using the EUR-USD Exchange Rate data\n",
    "# \n",
    "# df = csv_reader(TESTDATA_DIR, 'eurusd', columns=['datetime', 'bid_close'])\n",
    "# import sys\n",
    "# import warnings\n",
    "# # warnings( sys.__stdout__())\n",
    "# \n",
    "# #sys.jupyter_stdout = sys.__stdout__\n",
    "# print(\"hey\")\n",
    "# print(df.head())\n",
    "# \n",
    "# # For testng pipeline for now I use a small subset:\n",
    "# df = df.iloc[:10000, :]"
   ],
   "metadata": {
    "collapsed": false,
    "ExecuteTime": {
     "end_time": "2024-03-07T10:32:29.050425Z",
     "start_time": "2024-03-07T10:32:29.043306Z"
    }
   },
   "execution_count": 4
  },
  {
   "cell_type": "markdown",
   "source": [
    "## 3) Run Pipeline"
   ],
   "metadata": {
    "collapsed": false
   }
  },
  {
   "cell_type": "code",
   "outputs": [
    {
     "name": "stdout",
     "output_type": "stream",
     "text": [
      "\u001B[33;1m=================================================================================\n",
      "[2024-03-07 11:32] Starting  Pipeline...\u001B[0m\n",
      "\u001B[33;1m\n",
      "=========================================\n",
      "== Pipeline Step 1: Data Preprocessing ==\n",
      "=========================================\n",
      "\u001B[0m\n",
      "\u001B[33;1mSearching time information...\u001B[0m\n",
      "\u001B[33;1mDates found in 'index' column!\u001B[0m\n",
      "\u001B[33;1mInferred frequency: month start\u001B[0m\n",
      "\u001B[33;1mData goes from 2004-01 to 2015-12, resulting in 144 observations.\n",
      "\u001B[0m\n",
      "\u001B[33;1mSelecting target and covariates...\u001B[0m\n",
      "\u001B[33;1mTarget: y\u001B[0m\n",
      "\u001B[33;1mCovariates: x1, x2, x3\u001B[0m\n",
      "\u001B[33;1m\n",
      "Data Insights:\u001B[0m\n",
      "\u001B[33;1m                 y          x1         x2          x3\n",
      "Date                                                 \n",
      "2004-01  50.840469  427.595799  55.337904  900.325291\n",
      "2004-02  52.871538  434.062163  54.959155  900.775888\n",
      "2004-03  53.769316  453.264284  56.470633  899.510058\n",
      "2004-04  57.672973  459.367523  56.704233  903.524834\n",
      "2004-05  57.182051  462.354356  61.557907  905.071762\u001B[0m\n",
      "\u001B[33;1m\n",
      "[Time elapsed: 00s]\n",
      "\u001B[0m\n",
      "\u001B[33;1m\n",
      "=====================================================\n",
      "== Pipeline Step 2: Individual Models' Predictions ==\n",
      "=====================================================\n",
      "\u001B[0m\n",
      "\u001B[33;1mSplitting data for training of forecasters (train/test ratio: 30/70)...\u001B[0m\n",
      "\u001B[33;1mInitial training set has 44 observations and goes from 2004-01 to 2007-08.\u001B[0m\n",
      "\u001B[33;1m\n",
      "In an historical expanding window approach, there are 100 periods to be forecasted by the individual models: 2007-09 to 2015-12\u001B[0m\n",
      "\u001B[33;1mOut-of-sample predictions are generated for next period: 2016-01\u001B[0m\n",
      "\u001B[33;1m\n",
      "Now generating 100 one-step ahead historical expanding window predictions from model: Naive (sktime)\u001B[0m\n",
      "\u001B[33;1mPerforming out-of-sample predictions...\u001B[0m\n",
      "\u001B[33;1m...finished!\u001B[0m\n",
      "\u001B[33;1m\n",
      "Now generating 100 one-step ahead historical expanding window predictions from model: Naive (drift) (sktime)\u001B[0m\n",
      "\u001B[33;1mPerforming out-of-sample predictions...\u001B[0m\n",
      "\u001B[33;1m...finished!\u001B[0m\n",
      "\u001B[33;1m\n",
      "Now generating 100 one-step ahead historical expanding window predictions from model: AutoSARIMA (sktime)\u001B[0m\n",
      "\u001B[33;1mAuto-fitting model. Refitting every 33th period.\u001B[0m\n",
      "\u001B[33;1m...forecast 1 / 100\u001B[0m\n",
      "\u001B[33;1m...forecast 25 / 100\u001B[0m\n",
      "\u001B[33;1m...forecast 50 / 100\u001B[0m\n",
      "\u001B[33;1m...forecast 75 / 100\u001B[0m\n",
      "\u001B[33;1mPerforming out-of-sample predictions...\u001B[0m\n",
      "\u001B[33;1m...finished!\u001B[0m\n",
      "\u001B[33;1m\n",
      "Now generating 100 one-step ahead historical expanding window predictions from model: Exponential Smoothing (sktime)\u001B[0m\n",
      "\u001B[33;1mPerforming out-of-sample predictions...\u001B[0m\n",
      "\u001B[33;1m...finished!\u001B[0m\n",
      "\u001B[33;1m\n",
      "Now generating 100 one-step ahead historical expanding window predictions from model: STL (sktime)\u001B[0m\n",
      "\u001B[33;1mPerforming out-of-sample predictions...\u001B[0m\n",
      "\u001B[33;1m...finished!\u001B[0m\n",
      "\u001B[33;1m\n",
      "Now generating 100 one-step ahead historical expanding window predictions from model: XGBoost (darts)\u001B[0m\n",
      "\u001B[33;1mNow performing corresponding out-of-sample predictions...\u001B[0m\n",
      "\u001B[33;1m...finished!\u001B[0m\n",
      "\u001B[33;1mSkipping with_covariates since no models are provided.\u001B[0m\n",
      "\u001B[33;1m\n",
      "Finished predictions of individual forecasters!\u001B[0m\n",
      "\u001B[33;1m\n",
      "Insights into forecasters' historical predictions:\u001B[0m\n",
      "\u001B[33;1m             Naive  Naive (drift)  AutoSARIMA  Exponential Smoothing  \\\n",
      "Date                                                                   \n",
      "2007-09  39.396929      39.130800   41.216324              39.948088   \n",
      "2007-10  43.742069      43.580742   42.315641              42.692676   \n",
      "2007-11  43.020168      42.846384   43.686398              42.931328   \n",
      "2007-12  47.340548      47.264462   46.583302              46.171010   \n",
      "2008-01  48.280066      48.225590   49.209715              47.785350   \n",
      "\n",
      "               STL    XGBoost  \n",
      "Date                           \n",
      "2007-09  45.096682  40.291088  \n",
      "2007-10  42.109471  41.772690  \n",
      "2007-11  45.768581  41.873455  \n",
      "2007-12  44.613499  46.844360  \n",
      "2008-01  42.637916  49.353115  \u001B[0m\n",
      "\u001B[33;1m\n",
      "Insights into forecasters' future predictions:\u001B[0m\n",
      "\u001B[33;1m             Naive  Naive (drift)  AutoSARIMA  Exponential Smoothing  \\\n",
      "Date                                                                   \n",
      "2016-01  84.936483      85.174917   84.964209              84.851498   \n",
      "\n",
      "               STL    XGBoost  \n",
      "Date                           \n",
      "2016-01  91.278306  84.968803  \u001B[0m\n",
      "\u001B[33;1m\n",
      "[Time elapsed: 02m 46s]\n",
      "\u001B[0m\n",
      "\u001B[33;1m\n",
      "===================================================\n",
      "== Pipeline Step 3: Ensemble Models' Predictions ==\n",
      "===================================================\n",
      "\u001B[0m\n",
      "\u001B[33;1mSplitting individual forecast data (n = 100) for training of ensemblers (train/test ratio: 25/75)...\u001B[0m\n",
      "\u001B[33;1mInitial training set has 25 observations and goes from 2007-09 to 2009-09\u001B[0m\n",
      "\u001B[33;1m\n",
      "In an historical expanding window approach, there are 75 periods to be forecasted by the ensemble models: 2009-10 to 2015-12\u001B[0m\n",
      "\u001B[33;1mOut-of-sample predictions are generated for next period: 2015-12-31 00:00:00\u001B[0m\n",
      "\u001B[33;1m\n",
      "Now generating 75 one-step ahead historical expanding window predictions from ensemble model: 'Weighted - Simple'\u001B[0m\n",
      "\u001B[33;1m...Forecast 1 / 75\u001B[0m\n",
      "\u001B[33;1m...Forecast 19 / 75\u001B[0m\n",
      "\u001B[33;1m...Forecast 38 / 75\u001B[0m\n",
      "\u001B[33;1m...Forecast 57 / 75\u001B[0m\n",
      "\u001B[33;1m...finished!\u001B[0m\n",
      "\u001B[33;1mPerforming out-of-sample predictions...\u001B[0m\n",
      "\u001B[33;1m...finished!\u001B[0m\n",
      "\u001B[33;1m\n",
      "Now generating 75 one-step ahead historical expanding window predictions from ensemble model: 'Weighted - Inverse RMSE'\u001B[0m\n",
      "\u001B[33;1m...Forecast 1 / 75\u001B[0m\n",
      "\u001B[33;1m...Forecast 19 / 75\u001B[0m\n",
      "\u001B[33;1m...Forecast 38 / 75\u001B[0m\n",
      "\u001B[33;1m...Forecast 57 / 75\u001B[0m\n",
      "\u001B[33;1m...finished!\u001B[0m\n",
      "\u001B[33;1mPerforming out-of-sample predictions...\u001B[0m\n",
      "\u001B[33;1m...finished!\u001B[0m\n",
      "\u001B[33;1m\n",
      "Now generating 75 one-step ahead historical expanding window predictions from ensemble model: 'Weighted - Inverse Variance'\u001B[0m\n",
      "\u001B[33;1m...Forecast 1 / 75\u001B[0m\n",
      "\u001B[33;1m...Forecast 19 / 75\u001B[0m\n",
      "\u001B[33;1m...Forecast 38 / 75\u001B[0m\n",
      "\u001B[33;1m...Forecast 57 / 75\u001B[0m\n",
      "\u001B[33;1m...finished!\u001B[0m\n",
      "\u001B[33;1mPerforming out-of-sample predictions...\u001B[0m\n",
      "\u001B[33;1m...finished!\u001B[0m\n",
      "\u001B[33;1m\n",
      "Now generating 75 one-step ahead historical expanding window predictions from ensemble model: 'Weighted - Inverse Error Covariance'\u001B[0m\n",
      "\u001B[33;1m...Forecast 1 / 75\u001B[0m\n",
      "\u001B[33;1m...Forecast 19 / 75\u001B[0m\n",
      "\u001B[33;1m...Forecast 38 / 75\u001B[0m\n",
      "\u001B[33;1m...Forecast 57 / 75\u001B[0m\n",
      "\u001B[33;1m...finished!\u001B[0m\n",
      "\u001B[33;1mPerforming out-of-sample predictions...\u001B[0m\n",
      "\u001B[33;1m...finished!\u001B[0m\n",
      "\u001B[33;1m\n",
      "Now generating 75 one-step ahead historical expanding window predictions from ensemble model: 'Meta - SVR (sklearn)'\u001B[0m\n",
      "\u001B[33;1m...Forecast 1 / 75\u001B[0m\n",
      "\u001B[33;1m...Forecast 19 / 75\u001B[0m\n",
      "\u001B[33;1m...Forecast 38 / 75\u001B[0m\n",
      "\u001B[33;1m...Forecast 57 / 75\u001B[0m\n",
      "\u001B[33;1m...finished!\u001B[0m\n",
      "\u001B[33;1mPerforming out-of-sample predictions...\u001B[0m\n",
      "\u001B[33;1m...finished!\u001B[0m\n",
      "\u001B[33;1m\n",
      "Now generating 75 one-step ahead historical expanding window predictions from ensemble model: 'Meta - Ridge (sklearn)'\u001B[0m\n",
      "\u001B[33;1m...Forecast 1 / 75\u001B[0m\n",
      "\u001B[33;1m...Forecast 19 / 75\u001B[0m\n",
      "\u001B[33;1m...Forecast 38 / 75\u001B[0m\n",
      "\u001B[33;1m...Forecast 57 / 75\u001B[0m\n",
      "\u001B[33;1m...finished!\u001B[0m\n",
      "\u001B[33;1mPerforming out-of-sample predictions...\u001B[0m\n",
      "\u001B[33;1m...finished!\u001B[0m\n",
      "\u001B[33;1m\n",
      "Now generating 75 one-step ahead historical expanding window predictions from ensemble model: 'Meta - Linear Regression (sklearn)'\u001B[0m\n",
      "\u001B[33;1m...Forecast 1 / 75\u001B[0m\n",
      "\u001B[33;1m...Forecast 19 / 75\u001B[0m\n",
      "\u001B[33;1m...Forecast 38 / 75\u001B[0m\n",
      "\u001B[33;1m...Forecast 57 / 75\u001B[0m\n",
      "\u001B[33;1m...finished!\u001B[0m\n",
      "\u001B[33;1mPerforming out-of-sample predictions...\u001B[0m\n",
      "\u001B[33;1m...finished!\u001B[0m\n",
      "\u001B[33;1m\n",
      "Now generating 75 one-step ahead historical expanding window predictions from ensemble model: 'Meta - MLP (sklearn)'\u001B[0m\n",
      "\u001B[33;1m...Forecast 1 / 75\u001B[0m\n",
      "\u001B[33;1m...Forecast 19 / 75\u001B[0m\n",
      "\u001B[33;1m...Forecast 38 / 75\u001B[0m\n",
      "\u001B[33;1m...Forecast 57 / 75\u001B[0m\n",
      "\u001B[33;1m...finished!\u001B[0m\n",
      "\u001B[33;1mPerforming out-of-sample predictions...\u001B[0m\n",
      "\u001B[33;1m...finished!\u001B[0m\n",
      "\u001B[33;1m\n",
      "Now generating 75 one-step ahead historical expanding window predictions from ensemble model: 'Meta - RandomForest (sklearn)'\u001B[0m\n",
      "\u001B[33;1m...Forecast 1 / 75\u001B[0m\n",
      "\u001B[33;1m...Forecast 19 / 75\u001B[0m\n",
      "\u001B[33;1m...Forecast 38 / 75\u001B[0m\n",
      "\u001B[33;1m...Forecast 57 / 75\u001B[0m\n",
      "\u001B[33;1m...finished!\u001B[0m\n",
      "\u001B[33;1mPerforming out-of-sample predictions...\u001B[0m\n",
      "\u001B[33;1m...finished!\u001B[0m\n",
      "\u001B[33;1m\n",
      "Finished predictions of ensemble forecasters!\u001B[0m\n",
      "\u001B[33;1m\n",
      "Insights into ensemblers' historical predictions:\u001B[0m\n",
      "\u001B[33;1m         Weighted Ensemble: Simple  Weighted Ensemble: Inverse RMSE  \\\n",
      "2009-10                  60.309512                        60.410434   \n",
      "2009-11                  60.591584                        60.299030   \n",
      "2009-12                  61.999543                        61.851927   \n",
      "2010-01                  60.544735                        60.271974   \n",
      "2010-02                  61.353211                        61.321100   \n",
      "\n",
      "         Weighted Ensemble: Inverse Variance  \\\n",
      "2009-10                            60.312001   \n",
      "2009-11                            60.354677   \n",
      "2009-12                            61.708747   \n",
      "2010-01                            60.308058   \n",
      "2010-02                            61.175722   \n",
      "\n",
      "         Weighted Ensemble: Inverse Error Covariance  Meta Ensemble: SVR  \\\n",
      "2009-10                                    59.123901           60.611275   \n",
      "2009-11                                    58.948999           60.227471   \n",
      "2009-12                                    59.727398           61.832129   \n",
      "2010-01                                    59.609583           60.161045   \n",
      "2010-02                                    59.409608           61.142866   \n",
      "\n",
      "         Meta Ensemble: Ridge  Meta Ensemble: Linear Regression  \\\n",
      "2009-10             60.528963                         58.872243   \n",
      "2009-11             60.399068                         59.699757   \n",
      "2009-12             61.346531                         59.929335   \n",
      "2010-01             61.030074                         60.690040   \n",
      "2010-02             60.939069                         59.575960   \n",
      "\n",
      "         Meta Ensemble: MLP  Meta Ensemble: RandomForest  \n",
      "2009-10           76.921426                    59.714563  \n",
      "2009-11           61.588751                    60.158205  \n",
      "2009-12           76.113341                    60.261278  \n",
      "2010-01           75.172796                    61.325414  \n",
      "2010-02           77.343945                    59.924012  \u001B[0m\n",
      "\u001B[33;1m\n",
      "Insights into ensemblers' future predictions:\u001B[0m\n",
      "\u001B[33;1m         Weighted Ensemble: Simple  Weighted Ensemble: Inverse RMSE  \\\n",
      "Date                                                                  \n",
      "2016-01                  86.029036                        85.616501   \n",
      "\n",
      "         Weighted Ensemble: Inverse Variance  \\\n",
      "Date                                           \n",
      "2016-01                            85.903644   \n",
      "\n",
      "         Weighted Ensemble: Inverse Error Covariance  Meta Ensemble: SVR  \\\n",
      "Date                                                                       \n",
      "2016-01                                    83.639792           85.077433   \n",
      "\n",
      "         Meta Ensemble: Ridge  Meta Ensemble: Linear Regression  \\\n",
      "Date                                                              \n",
      "2016-01             85.169797                         85.626185   \n",
      "\n",
      "         Meta Ensemble: MLP  Meta Ensemble: RandomForest  \n",
      "Date                                                      \n",
      "2016-01          103.187702                    84.354358  \u001B[0m\n",
      "\u001B[33;1m\n",
      "Merging...\u001B[0m\n",
      "\u001B[33;1m...finished!\n",
      "\u001B[0m\n",
      "\u001B[33;1m\n",
      "Exporting historical predictions and future predictions as csv to C:\\Users\\Work\\OneDrive\\GAU\\3. Semester\\Statistisches Praktikum\\Git\\NEW_Ensemble_Techniques_TS_FC\\project\\results\\noisy_simdata\\20240307_1132...\u001B[0m\n",
      "\u001B[33;1m...finished!\u001B[0m\n",
      "\u001B[33;1m\n",
      "[Time elapsed: 03m 26s]\n",
      "\u001B[0m\n",
      "\u001B[33;1m\n",
      "==============================================================\n",
      "== Pipeline Step 4: Ranking Models' Predictive Performance ==\n",
      "==============================================================\n",
      "\u001B[0m\n",
      "\u001B[33;1mCalculating RMSE, MAPE, sMAPE per model...\u001B[0m\n",
      "\u001B[33;1mRanking models ...\u001B[0m\n",
      "\u001B[33;1m...finished!\u001B[0m\n",
      "\u001B[33;1m\n",
      "Results:\u001B[0m\n",
      "\u001B[33;1m                                          Model       RMSE      MAPE  \\\n",
      "0               Weighted Ensemble: Inverse RMSE   2.811203  0.028420   \n",
      "1           Weighted Ensemble: Inverse Variance   2.828961  0.028457   \n",
      "2                     Weighted Ensemble: Simple   2.849349  0.028489   \n",
      "3                         Exponential Smoothing   2.837649  0.029072   \n",
      "4                                         Naive   2.883142  0.029242   \n",
      "5                                 Naive (drift)   2.882004  0.029617   \n",
      "6                          Meta Ensemble: Ridge   2.937377  0.029939   \n",
      "7                            Meta Ensemble: SVR   3.079198  0.030364   \n",
      "8                                    AutoSARIMA   2.883281  0.030442   \n",
      "9              Meta Ensemble: Linear Regression   3.046754  0.031136   \n",
      "10                  Meta Ensemble: RandomForest   3.275245  0.031402   \n",
      "11                                      XGBoost   3.342290  0.032360   \n",
      "12  Weighted Ensemble: Inverse Error Covariance   3.539178  0.034571   \n",
      "13                                          STL   4.901734  0.050245   \n",
      "14                           Meta Ensemble: MLP  16.500338  0.200884   \n",
      "\n",
      "        sMAPE  RMSE Ranking  MAPE Ranking  sMAPE Ranking  \n",
      "0    1.905886             1             1              1  \n",
      "1    1.908820             2             2              2  \n",
      "2    1.910962             4             3              3  \n",
      "3    1.948458             3             4              4  \n",
      "4    1.957764             6             5              5  \n",
      "5    1.978757             5             6              6  \n",
      "6    2.008962             8             7              7  \n",
      "7    2.046130            10             8              9  \n",
      "8    2.037102             7             9              8  \n",
      "9    2.083072             9            10             10  \n",
      "10   2.115527            11            11             11  \n",
      "11   2.187298            12            12             12  \n",
      "12   2.346372            13            13             13  \n",
      "13   3.360780            14            14             14  \n",
      "14  12.417443            15            15             15  \u001B[0m\n",
      "\u001B[33;1m\n",
      "The 'Weighted Ensemble: Inverse RMSE' is identified as the best model based on the MAPE value of its the historical predictions\u001B[0m\n",
      "\u001B[33;1mThus, it is recommended to work with the future predictions coming from this model:\u001B[0m\n",
      "\u001B[33;1mDate\n",
      "2016-01    85.616501\n",
      "Freq: M, Name: Weighted Ensemble: Inverse RMSE, dtype: float64\u001B[0m\n",
      "\u001B[33;1m\n",
      "Exporting metrics_ranking as csv to C:\\Users\\Work\\OneDrive\\GAU\\3. Semester\\Statistisches Praktikum\\Git\\NEW_Ensemble_Techniques_TS_FC\\project\\results\\noisy_simdata\\20240307_1132...\u001B[0m\n",
      "\u001B[33;1m...finished!\u001B[0m\n",
      "\u001B[33;1m\n",
      "[2024-03-07 11:35] Finished Pipeline!\n",
      "[Total time elapsed: 03m 26s]\n",
      "=================================================================================\u001B[0m\n"
     ]
    }
   ],
   "source": [
    "output_dict = run_pipeline(\n",
    "    df=df, models=MODELS, metrics=METRICS,\n",
    "    fh=1,\n",
    "    # select_forecasters=['Naive', 'XGBoost', 'STL'],\n",
    "    # select_ensemblers='Simple',\n",
    "    start=\"2004-01-01\", end=\"2015-12-31\",  # filtering the first 12 years of data\n",
    "    verbose=True\n",
    ")"
   ],
   "metadata": {
    "collapsed": false,
    "ExecuteTime": {
     "end_time": "2024-03-07T10:35:55.703623Z",
     "start_time": "2024-03-07T10:32:29.056441Z"
    }
   },
   "execution_count": 5
  },
  {
   "cell_type": "markdown",
   "source": [
    "## 4) Show Ranking Table"
   ],
   "metadata": {
    "collapsed": false
   }
  },
  {
   "cell_type": "code",
   "execution_count": 6,
   "metadata": {
    "ExecuteTime": {
     "end_time": "2024-03-07T10:35:56.018019Z",
     "start_time": "2024-03-07T10:35:55.707639Z"
    }
   },
   "outputs": [
    {
     "data": {
      "text/plain": "<pandas.io.formats.style.Styler at 0x208200cd310>",
      "text/html": "<style type=\"text/css\">\n</style>\n<table id=\"T_efffe\">\n  <thead>\n    <tr>\n      <th id=\"T_efffe_level0_col0\" class=\"col_heading level0 col0\" >Model</th>\n      <th id=\"T_efffe_level0_col1\" class=\"col_heading level0 col1\" >RMSE</th>\n      <th id=\"T_efffe_level0_col2\" class=\"col_heading level0 col2\" >MAPE</th>\n      <th id=\"T_efffe_level0_col3\" class=\"col_heading level0 col3\" >sMAPE</th>\n      <th id=\"T_efffe_level0_col4\" class=\"col_heading level0 col4\" >RMSE Ranking</th>\n      <th id=\"T_efffe_level0_col5\" class=\"col_heading level0 col5\" >MAPE Ranking</th>\n      <th id=\"T_efffe_level0_col6\" class=\"col_heading level0 col6\" >sMAPE Ranking</th>\n    </tr>\n  </thead>\n  <tbody>\n    <tr>\n      <td id=\"T_efffe_row0_col0\" class=\"data row0 col0\" >Weighted Ensemble: Inverse RMSE</td>\n      <td id=\"T_efffe_row0_col1\" class=\"data row0 col1\" >2.811</td>\n      <td id=\"T_efffe_row0_col2\" class=\"data row0 col2\" >0.028</td>\n      <td id=\"T_efffe_row0_col3\" class=\"data row0 col3\" >1.906</td>\n      <td id=\"T_efffe_row0_col4\" class=\"data row0 col4\" >1</td>\n      <td id=\"T_efffe_row0_col5\" class=\"data row0 col5\" >1</td>\n      <td id=\"T_efffe_row0_col6\" class=\"data row0 col6\" >1</td>\n    </tr>\n    <tr>\n      <td id=\"T_efffe_row1_col0\" class=\"data row1 col0\" >Weighted Ensemble: Inverse Variance</td>\n      <td id=\"T_efffe_row1_col1\" class=\"data row1 col1\" >2.829</td>\n      <td id=\"T_efffe_row1_col2\" class=\"data row1 col2\" >0.028</td>\n      <td id=\"T_efffe_row1_col3\" class=\"data row1 col3\" >1.909</td>\n      <td id=\"T_efffe_row1_col4\" class=\"data row1 col4\" >2</td>\n      <td id=\"T_efffe_row1_col5\" class=\"data row1 col5\" >2</td>\n      <td id=\"T_efffe_row1_col6\" class=\"data row1 col6\" >2</td>\n    </tr>\n    <tr>\n      <td id=\"T_efffe_row2_col0\" class=\"data row2 col0\" >Weighted Ensemble: Simple</td>\n      <td id=\"T_efffe_row2_col1\" class=\"data row2 col1\" >2.849</td>\n      <td id=\"T_efffe_row2_col2\" class=\"data row2 col2\" >0.028</td>\n      <td id=\"T_efffe_row2_col3\" class=\"data row2 col3\" >1.911</td>\n      <td id=\"T_efffe_row2_col4\" class=\"data row2 col4\" >4</td>\n      <td id=\"T_efffe_row2_col5\" class=\"data row2 col5\" >3</td>\n      <td id=\"T_efffe_row2_col6\" class=\"data row2 col6\" >3</td>\n    </tr>\n    <tr>\n      <td id=\"T_efffe_row3_col0\" class=\"data row3 col0\" >Exponential Smoothing</td>\n      <td id=\"T_efffe_row3_col1\" class=\"data row3 col1\" >2.838</td>\n      <td id=\"T_efffe_row3_col2\" class=\"data row3 col2\" >0.029</td>\n      <td id=\"T_efffe_row3_col3\" class=\"data row3 col3\" >1.948</td>\n      <td id=\"T_efffe_row3_col4\" class=\"data row3 col4\" >3</td>\n      <td id=\"T_efffe_row3_col5\" class=\"data row3 col5\" >4</td>\n      <td id=\"T_efffe_row3_col6\" class=\"data row3 col6\" >4</td>\n    </tr>\n    <tr>\n      <td id=\"T_efffe_row4_col0\" class=\"data row4 col0\" >Naive</td>\n      <td id=\"T_efffe_row4_col1\" class=\"data row4 col1\" >2.883</td>\n      <td id=\"T_efffe_row4_col2\" class=\"data row4 col2\" >0.029</td>\n      <td id=\"T_efffe_row4_col3\" class=\"data row4 col3\" >1.958</td>\n      <td id=\"T_efffe_row4_col4\" class=\"data row4 col4\" >6</td>\n      <td id=\"T_efffe_row4_col5\" class=\"data row4 col5\" >5</td>\n      <td id=\"T_efffe_row4_col6\" class=\"data row4 col6\" >5</td>\n    </tr>\n    <tr>\n      <td id=\"T_efffe_row5_col0\" class=\"data row5 col0\" >Naive (drift)</td>\n      <td id=\"T_efffe_row5_col1\" class=\"data row5 col1\" >2.882</td>\n      <td id=\"T_efffe_row5_col2\" class=\"data row5 col2\" >0.030</td>\n      <td id=\"T_efffe_row5_col3\" class=\"data row5 col3\" >1.979</td>\n      <td id=\"T_efffe_row5_col4\" class=\"data row5 col4\" >5</td>\n      <td id=\"T_efffe_row5_col5\" class=\"data row5 col5\" >6</td>\n      <td id=\"T_efffe_row5_col6\" class=\"data row5 col6\" >6</td>\n    </tr>\n    <tr>\n      <td id=\"T_efffe_row6_col0\" class=\"data row6 col0\" >Meta Ensemble: Ridge</td>\n      <td id=\"T_efffe_row6_col1\" class=\"data row6 col1\" >2.937</td>\n      <td id=\"T_efffe_row6_col2\" class=\"data row6 col2\" >0.030</td>\n      <td id=\"T_efffe_row6_col3\" class=\"data row6 col3\" >2.009</td>\n      <td id=\"T_efffe_row6_col4\" class=\"data row6 col4\" >8</td>\n      <td id=\"T_efffe_row6_col5\" class=\"data row6 col5\" >7</td>\n      <td id=\"T_efffe_row6_col6\" class=\"data row6 col6\" >7</td>\n    </tr>\n    <tr>\n      <td id=\"T_efffe_row7_col0\" class=\"data row7 col0\" >Meta Ensemble: SVR</td>\n      <td id=\"T_efffe_row7_col1\" class=\"data row7 col1\" >3.079</td>\n      <td id=\"T_efffe_row7_col2\" class=\"data row7 col2\" >0.030</td>\n      <td id=\"T_efffe_row7_col3\" class=\"data row7 col3\" >2.046</td>\n      <td id=\"T_efffe_row7_col4\" class=\"data row7 col4\" >10</td>\n      <td id=\"T_efffe_row7_col5\" class=\"data row7 col5\" >8</td>\n      <td id=\"T_efffe_row7_col6\" class=\"data row7 col6\" >9</td>\n    </tr>\n    <tr>\n      <td id=\"T_efffe_row8_col0\" class=\"data row8 col0\" >AutoSARIMA</td>\n      <td id=\"T_efffe_row8_col1\" class=\"data row8 col1\" >2.883</td>\n      <td id=\"T_efffe_row8_col2\" class=\"data row8 col2\" >0.030</td>\n      <td id=\"T_efffe_row8_col3\" class=\"data row8 col3\" >2.037</td>\n      <td id=\"T_efffe_row8_col4\" class=\"data row8 col4\" >7</td>\n      <td id=\"T_efffe_row8_col5\" class=\"data row8 col5\" >9</td>\n      <td id=\"T_efffe_row8_col6\" class=\"data row8 col6\" >8</td>\n    </tr>\n    <tr>\n      <td id=\"T_efffe_row9_col0\" class=\"data row9 col0\" >Meta Ensemble: Linear Regression</td>\n      <td id=\"T_efffe_row9_col1\" class=\"data row9 col1\" >3.047</td>\n      <td id=\"T_efffe_row9_col2\" class=\"data row9 col2\" >0.031</td>\n      <td id=\"T_efffe_row9_col3\" class=\"data row9 col3\" >2.083</td>\n      <td id=\"T_efffe_row9_col4\" class=\"data row9 col4\" >9</td>\n      <td id=\"T_efffe_row9_col5\" class=\"data row9 col5\" >10</td>\n      <td id=\"T_efffe_row9_col6\" class=\"data row9 col6\" >10</td>\n    </tr>\n    <tr>\n      <td id=\"T_efffe_row10_col0\" class=\"data row10 col0\" >Meta Ensemble: RandomForest</td>\n      <td id=\"T_efffe_row10_col1\" class=\"data row10 col1\" >3.275</td>\n      <td id=\"T_efffe_row10_col2\" class=\"data row10 col2\" >0.031</td>\n      <td id=\"T_efffe_row10_col3\" class=\"data row10 col3\" >2.116</td>\n      <td id=\"T_efffe_row10_col4\" class=\"data row10 col4\" >11</td>\n      <td id=\"T_efffe_row10_col5\" class=\"data row10 col5\" >11</td>\n      <td id=\"T_efffe_row10_col6\" class=\"data row10 col6\" >11</td>\n    </tr>\n    <tr>\n      <td id=\"T_efffe_row11_col0\" class=\"data row11 col0\" >XGBoost</td>\n      <td id=\"T_efffe_row11_col1\" class=\"data row11 col1\" >3.342</td>\n      <td id=\"T_efffe_row11_col2\" class=\"data row11 col2\" >0.032</td>\n      <td id=\"T_efffe_row11_col3\" class=\"data row11 col3\" >2.187</td>\n      <td id=\"T_efffe_row11_col4\" class=\"data row11 col4\" >12</td>\n      <td id=\"T_efffe_row11_col5\" class=\"data row11 col5\" >12</td>\n      <td id=\"T_efffe_row11_col6\" class=\"data row11 col6\" >12</td>\n    </tr>\n    <tr>\n      <td id=\"T_efffe_row12_col0\" class=\"data row12 col0\" >Weighted Ensemble: Inverse Error Covariance</td>\n      <td id=\"T_efffe_row12_col1\" class=\"data row12 col1\" >3.539</td>\n      <td id=\"T_efffe_row12_col2\" class=\"data row12 col2\" >0.035</td>\n      <td id=\"T_efffe_row12_col3\" class=\"data row12 col3\" >2.346</td>\n      <td id=\"T_efffe_row12_col4\" class=\"data row12 col4\" >13</td>\n      <td id=\"T_efffe_row12_col5\" class=\"data row12 col5\" >13</td>\n      <td id=\"T_efffe_row12_col6\" class=\"data row12 col6\" >13</td>\n    </tr>\n    <tr>\n      <td id=\"T_efffe_row13_col0\" class=\"data row13 col0\" >STL</td>\n      <td id=\"T_efffe_row13_col1\" class=\"data row13 col1\" >4.902</td>\n      <td id=\"T_efffe_row13_col2\" class=\"data row13 col2\" >0.050</td>\n      <td id=\"T_efffe_row13_col3\" class=\"data row13 col3\" >3.361</td>\n      <td id=\"T_efffe_row13_col4\" class=\"data row13 col4\" >14</td>\n      <td id=\"T_efffe_row13_col5\" class=\"data row13 col5\" >14</td>\n      <td id=\"T_efffe_row13_col6\" class=\"data row13 col6\" >14</td>\n    </tr>\n    <tr>\n      <td id=\"T_efffe_row14_col0\" class=\"data row14 col0\" >Meta Ensemble: MLP</td>\n      <td id=\"T_efffe_row14_col1\" class=\"data row14 col1\" >16.500</td>\n      <td id=\"T_efffe_row14_col2\" class=\"data row14 col2\" >0.201</td>\n      <td id=\"T_efffe_row14_col3\" class=\"data row14 col3\" >12.417</td>\n      <td id=\"T_efffe_row14_col4\" class=\"data row14 col4\" >15</td>\n      <td id=\"T_efffe_row14_col5\" class=\"data row14 col5\" >15</td>\n      <td id=\"T_efffe_row14_col6\" class=\"data row14 col6\" >15</td>\n    </tr>\n  </tbody>\n</table>\n"
     },
     "metadata": {},
     "output_type": "display_data"
    }
   ],
   "source": [
    "display_ranking_table(output_dict['metrics ranking'])"
   ]
  }
 ],
 "metadata": {
  "kernelspec": {
   "display_name": "Python 3",
   "language": "python",
   "name": "python3"
  },
  "language_info": {
   "codemirror_mode": {
    "name": "ipython",
    "version": 3
   },
   "file_extension": ".py",
   "mimetype": "text/x-python",
   "name": "python",
   "nbconvert_exporter": "python",
   "pygments_lexer": "ipython3",
   "version": "3.11.3"
  }
 },
 "nbformat": 4,
 "nbformat_minor": 2
}
