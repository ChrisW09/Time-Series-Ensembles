{
 "cells": [
  {
   "cell_type": "markdown",
   "metadata": {},
   "source": [
    "# Interface for Pipeline Execution\n",
    "## (EUR-USD Exchange Data)"
   ]
  },
  {
   "cell_type": "code",
   "execution_count": 1,
   "metadata": {
    "ExecuteTime": {
     "end_time": "2024-03-07T05:35:52.027607Z",
     "start_time": "2024-03-07T05:35:28.391131Z"
    }
   },
   "outputs": [
    {
     "name": "stdout",
     "output_type": "stream",
     "text": [
      "Loading paths...\n",
      "Loading helper functions...\n",
      "Loading data transformers...\n",
      "Loading models...\n",
      "Loading metrics...\n"
     ]
    }
   ],
   "source": [
    "# Import models, metrics, paths and functions\n",
    "from utils.helpers import csv_reader, display_ranking_table\n",
    "from utils.paths import *\n",
    "from pipeline.run_pipeline import run_pipeline\n",
    "\n",
    "from models import MODELS\n",
    "from metrics import METRICS"
   ]
  },
  {
   "cell_type": "code",
   "execution_count": 2,
   "metadata": {
    "ExecuteTime": {
     "end_time": "2024-03-07T05:35:52.037253Z",
     "start_time": "2024-03-07T05:35:52.030616Z"
    }
   },
   "outputs": [],
   "source": [
    "# Get current models and metrics\n",
    "# print(METRICS)\n",
    "# print(MODELS)"
   ]
  },
  {
   "cell_type": "code",
   "execution_count": 3,
   "metadata": {
    "ExecuteTime": {
     "end_time": "2024-03-07T05:35:52.397995Z",
     "start_time": "2024-03-07T05:35:52.040271Z"
    }
   },
   "outputs": [],
   "source": [
    "## Using the EUR-USD Exchange Rate data\n",
    "\n",
    "# Read EUR-USD exchange data\n",
    "df = csv_reader(TESTDATA_DIR, 'eurusd', columns=['datetime', 'bid_close'])"
   ]
  },
  {
   "cell_type": "code",
   "execution_count": 4,
   "metadata": {
    "ExecuteTime": {
     "end_time": "2024-03-07T05:36:24.173986Z",
     "start_time": "2024-03-07T05:35:52.401009Z"
    }
   },
   "outputs": [
    {
     "name": "stdout",
     "output_type": "stream",
     "text": [
      "\u001B[33;1m=================================================================================\n",
      "[2024-03-07 06:35] Starting  Pipeline...\u001B[0m\n",
      "\u001B[33;1m\n",
      "=========================================\n",
      "== Pipeline Step 1: Data Preprocessing ==\n",
      "=========================================\n",
      "\u001B[0m\n",
      "\u001B[33;1mSearching for time information...\u001B[0m\n",
      "\u001B[33;1mDates found in 'index' column!\u001B[0m\n",
      "\u001B[33;1mInferred frequency: 15T\u001B[0m\n",
      "\u001B[33;1mData from goes from 2020-01-01 to 2020-03-31, resulting in 8736 observations.\n",
      "\u001B[0m\n",
      "\u001B[33;1mAggregating data to frequency 'business day' using method 'last' and dropping NaNs...\u001B[0m\n",
      "\u001B[33;1m...finished!\n",
      "Data now has 64 observations.\n",
      "\u001B[0m\n",
      "\u001B[33;1mSelecting target and covariates...\u001B[0m\n",
      "\u001B[33;1mTarget: bid_close\u001B[0m\n",
      "\u001B[33;1mCovariates: None\u001B[0m\n",
      "\u001B[33;1m\n",
      "Data Insight:\n",
      "\u001B[0m\n",
      "\u001B[33;1m            bid_close\n",
      "datetime             \n",
      "2020-01-02    1.11702\n",
      "2020-01-03    1.11599\n",
      "2020-01-06    1.11948\n",
      "2020-01-07    1.11530\n",
      "2020-01-08    1.11124\u001B[0m\n",
      "\u001B[33;1m[Time elapsed: 00s]\n",
      "\u001B[0m\n",
      "\u001B[33;1m\n",
      "=====================================================\n",
      "== Pipeline Step 2: Individual Models' Predictions ==\n",
      "=====================================================\n",
      "\u001B[0m\n",
      "\u001B[33;1mSplitting data (train/test ratio: 30/70)...\n",
      "Initial training set has 20 observations and goes from 2020-01-02 to 2020-01-29.\n",
      "In the historical forecasts, there are 44 periods to be forecasted: 2020-01-30 to 2020-03-31\n",
      "\u001B[0m\n",
      "\u001B[33;1mNow generating 44 one-step ahead historical expanding window predictions from model: Naive (sktime)\u001B[0m\n",
      "\u001B[33;1m...finished!\n",
      "\u001B[0m\n",
      "\u001B[33;1mNow generating 44 one-step ahead historical expanding window predictions from model: Naive (drift) (sktime)\u001B[0m\n",
      "\u001B[33;1m...finished!\n",
      "\u001B[0m\n",
      "\u001B[33;1mNow generating 44 one-step ahead historical expanding window predictions from model: AutoSARIMA (sktime)\u001B[0m\n",
      "\u001B[33;1mAuto-fitting model. Refitting every 15th period.\u001B[0m\n",
      "\u001B[33;1mAutoSARIMA forecast 1 / 44\u001B[0m\n",
      "\u001B[33;1mAutoSARIMA forecast 9 / 44\u001B[0m\n",
      "\u001B[33;1mAutoSARIMA forecast 18 / 44\u001B[0m\n",
      "\u001B[33;1mAutoSARIMA forecast 27 / 44\u001B[0m\n",
      "\u001B[33;1mAutoSARIMA forecast 36 / 44\u001B[0m\n",
      "\u001B[33;1mAutoSARIMA forecast 44 / 44\u001B[0m\n",
      "\u001B[33;1m...finished!\n",
      "\u001B[0m\n",
      "\u001B[33;1mNow generating 44 one-step ahead historical expanding window predictions from model: Exponential Smoothing (sktime)\u001B[0m\n",
      "\u001B[33;1m...finished!\n",
      "\u001B[0m\n",
      "\u001B[33;1mNow generating 44 one-step ahead historical expanding window predictions from model: STL (sktime)\u001B[0m\n",
      "\u001B[33;1m...finished!\n",
      "\u001B[0m\n",
      "\u001B[33;1mNow generating 44 one-step ahead historical expanding window predictions from model: XGBoost (darts)\u001B[0m\n",
      "\u001B[33;1m...finished!\n",
      "\u001B[0m\n",
      "\u001B[33;1m\n",
      "Since no covariates are given, skipping covariate forecasters.\u001B[0m\n",
      "\u001B[33;1m\n",
      "Finished predictions of individual forecasters!\u001B[0m\n",
      "\u001B[33;1m\n",
      "Insights into forecasters' historical predictions:\u001B[0m\n",
      "\u001B[33;1m              Naive  Naive (drift)  AutoSARIMA  Exponential Smoothing  \\\n",
      "Date                                                                    \n",
      "2020-01-30  1.10132       1.100494     1.09728               1.101324   \n",
      "2020-01-31  1.10282       1.102110     1.09973               1.102813   \n",
      "2020-02-03  1.10885       1.108461     1.10833               1.108820   \n",
      "2020-02-04  1.10618       1.105687     1.10646               1.106193   \n",
      "2020-02-05  1.10440       1.103851     1.10357               1.104409   \n",
      "\n",
      "                 STL   XGBoost  \n",
      "Date                            \n",
      "2020-01-30  1.099366  1.102249  \n",
      "2020-01-31  1.096396  1.104599  \n",
      "2020-02-03  1.099680  1.108045  \n",
      "2020-02-04  1.103271  1.107951  \n",
      "2020-02-05  1.105145  1.104865  \u001B[0m\n",
      "\u001B[33;1m\n",
      "\u001B[0m\n",
      "PeriodIndex(['2020-01-30', '2020-01-31', '2020-02-03', '2020-02-04',\n",
      "             '2020-02-05', '2020-02-06', '2020-02-07', '2020-02-10',\n",
      "             '2020-02-11', '2020-02-12', '2020-02-13', '2020-02-14',\n",
      "             '2020-02-17', '2020-02-18', '2020-02-19', '2020-02-20',\n",
      "             '2020-02-21', '2020-02-24', '2020-02-25', '2020-02-26',\n",
      "             '2020-02-27', '2020-02-28', '2020-03-02', '2020-03-03',\n",
      "             '2020-03-04', '2020-03-05', '2020-03-06', '2020-03-09',\n",
      "             '2020-03-10', '2020-03-11', '2020-03-12', '2020-03-13',\n",
      "             '2020-03-16', '2020-03-17', '2020-03-18', '2020-03-19',\n",
      "             '2020-03-20', '2020-03-23', '2020-03-24', '2020-03-25',\n",
      "             '2020-03-26', '2020-03-27', '2020-03-30', '2020-03-31'],\n",
      "            dtype='period[B]', name='Date')\n"
     ]
    },
    {
     "ename": "AttributeError",
     "evalue": "'NoneType' object has no attribute 'index'",
     "output_type": "error",
     "traceback": [
      "\u001B[1;31m---------------------------------------------------------------------------\u001B[0m",
      "\u001B[1;31mAttributeError\u001B[0m                            Traceback (most recent call last)",
      "Cell \u001B[1;32mIn[4], line 2\u001B[0m\n\u001B[0;32m      1\u001B[0m output_dict \u001B[38;5;241m=\u001B[39m (\n\u001B[1;32m----> 2\u001B[0m     \u001B[43mrun_pipeline\u001B[49m\u001B[43m(\u001B[49m\n\u001B[0;32m      3\u001B[0m \u001B[43m        \u001B[49m\u001B[43mdf\u001B[49m\u001B[38;5;241;43m=\u001B[39;49m\u001B[43mdf\u001B[49m\u001B[43m,\u001B[49m\u001B[43m \u001B[49m\u001B[43mmodels\u001B[49m\u001B[38;5;241;43m=\u001B[39;49m\u001B[43mMODELS\u001B[49m\u001B[43m,\u001B[49m\u001B[43m \u001B[49m\u001B[43mmetrics\u001B[49m\u001B[38;5;241;43m=\u001B[39;49m\u001B[43mMETRICS\u001B[49m\u001B[43m,\u001B[49m\n\u001B[0;32m      4\u001B[0m \u001B[43m        \u001B[49m\u001B[43mstart\u001B[49m\u001B[38;5;241;43m=\u001B[39;49m\u001B[38;5;124;43m\"\u001B[39;49m\u001B[38;5;124;43m2020-01-01\u001B[39;49m\u001B[38;5;124;43m\"\u001B[39;49m\u001B[43m,\u001B[49m\u001B[43m \u001B[49m\u001B[43mend\u001B[49m\u001B[38;5;241;43m=\u001B[39;49m\u001B[38;5;124;43m\"\u001B[39;49m\u001B[38;5;124;43m2020-03-31\u001B[39;49m\u001B[38;5;124;43m\"\u001B[39;49m\u001B[43m,\u001B[49m\n\u001B[0;32m      5\u001B[0m \u001B[43m        \u001B[49m\u001B[43magg_method\u001B[49m\u001B[38;5;241;43m=\u001B[39;49m\u001B[38;5;124;43m'\u001B[39;49m\u001B[38;5;124;43mlast\u001B[39;49m\u001B[38;5;124;43m'\u001B[39;49m\u001B[43m,\u001B[49m\u001B[43m \u001B[49m\u001B[43magg_freq\u001B[49m\u001B[38;5;241;43m=\u001B[39;49m\u001B[38;5;124;43m'\u001B[39;49m\u001B[38;5;124;43mB\u001B[39;49m\u001B[38;5;124;43m'\u001B[39;49m\u001B[43m,\u001B[49m\n\u001B[0;32m      6\u001B[0m \u001B[43m        \u001B[49m\u001B[43mforecast_init_train\u001B[49m\u001B[38;5;241;43m=\u001B[39;49m\u001B[38;5;241;43m0.3\u001B[39;49m\u001B[43m,\u001B[49m\u001B[43m \u001B[49m\u001B[43mensemble_init_train\u001B[49m\u001B[38;5;241;43m=\u001B[39;49m\u001B[38;5;241;43m0.3\u001B[39;49m\u001B[43m,\u001B[49m\n\u001B[0;32m      7\u001B[0m \u001B[43m        \u001B[49m\u001B[43mselect_forecaster\u001B[49m\u001B[38;5;241;43m=\u001B[39;49m\u001B[38;5;124;43m'\u001B[39;49m\u001B[38;5;124;43mall\u001B[39;49m\u001B[38;5;124;43m'\u001B[39;49m\u001B[43m,\u001B[49m\n\u001B[0;32m      8\u001B[0m \u001B[43m        \u001B[49m\u001B[43mselect_ensemblers\u001B[49m\u001B[38;5;241;43m=\u001B[39;49m\u001B[38;5;124;43m'\u001B[39;49m\u001B[38;5;124;43mall\u001B[39;49m\u001B[38;5;124;43m'\u001B[39;49m\u001B[43m,\u001B[49m\n\u001B[0;32m      9\u001B[0m \u001B[43m        \u001B[49m\u001B[43mverbose\u001B[49m\u001B[38;5;241;43m=\u001B[39;49m\u001B[38;5;28;43;01mTrue\u001B[39;49;00m\n\u001B[0;32m     10\u001B[0m \u001B[43m    \u001B[49m\u001B[43m)\u001B[49m\n\u001B[0;32m     11\u001B[0m )\n",
      "File \u001B[1;32m~\\OneDrive\\GAU\\3. Semester\\Statistisches Praktikum\\Git\\NEW_Ensemble_Techniques_TS_FC\\project\\pipeline\\run_pipeline.py:170\u001B[0m, in \u001B[0;36mrun_pipeline\u001B[1;34m(df, models, metrics, fh, start, end, date_col, date_format, target, covariates, exclude, agg_method, agg_freq, select_forecasters, forecast_init_train, autosarimax_refit_interval, select_ensemblers, ensemble_init_train, sort_by, export, errors, verbose, *args, **kwargs)\u001B[0m\n\u001B[0;32m    167\u001B[0m \u001B[38;5;66;03m# Iterate over pipeline processes\u001B[39;00m\n\u001B[0;32m    168\u001B[0m \u001B[38;5;28;01mfor\u001B[39;00m step, process \u001B[38;5;129;01min\u001B[39;00m \u001B[38;5;28menumerate\u001B[39m(processes):\n\u001B[0;32m    169\u001B[0m     \u001B[38;5;66;03m# Execute each process\u001B[39;00m\n\u001B[1;32m--> 170\u001B[0m     pipe_output \u001B[38;5;241m=\u001B[39m \u001B[43mprocess\u001B[49m\u001B[43m(\u001B[49m\n\u001B[0;32m    171\u001B[0m \u001B[43m        \u001B[49m\u001B[43mpipe_input\u001B[49m\u001B[43m,\u001B[49m\n\u001B[0;32m    172\u001B[0m \u001B[43m        \u001B[49m\u001B[38;5;66;43;03m# Provide arguments for Pipe 1\u001B[39;49;00m\n\u001B[0;32m    173\u001B[0m \u001B[43m        \u001B[49m\u001B[43mstart\u001B[49m\u001B[38;5;241;43m=\u001B[39;49m\u001B[43mstart\u001B[49m\u001B[43m,\u001B[49m\u001B[43m \u001B[49m\u001B[43mend\u001B[49m\u001B[38;5;241;43m=\u001B[39;49m\u001B[43mend\u001B[49m\u001B[43m,\u001B[49m\n\u001B[0;32m    174\u001B[0m \u001B[43m        \u001B[49m\u001B[43mfh\u001B[49m\u001B[38;5;241;43m=\u001B[39;49m\u001B[43mfh\u001B[49m\u001B[43m,\u001B[49m\n\u001B[0;32m    175\u001B[0m \u001B[43m        \u001B[49m\u001B[43mdate_col\u001B[49m\u001B[38;5;241;43m=\u001B[39;49m\u001B[43mdate_col\u001B[49m\u001B[43m,\u001B[49m\u001B[43m \u001B[49m\u001B[43mdate_format\u001B[49m\u001B[38;5;241;43m=\u001B[39;49m\u001B[43mdate_format\u001B[49m\u001B[43m,\u001B[49m\n\u001B[0;32m    176\u001B[0m \u001B[43m        \u001B[49m\u001B[43mtarget\u001B[49m\u001B[38;5;241;43m=\u001B[39;49m\u001B[43mtarget\u001B[49m\u001B[43m,\u001B[49m\u001B[43m \u001B[49m\u001B[43mcovariates\u001B[49m\u001B[38;5;241;43m=\u001B[39;49m\u001B[43mcovariates\u001B[49m\u001B[43m,\u001B[49m\u001B[43m \u001B[49m\u001B[43mexclude\u001B[49m\u001B[38;5;241;43m=\u001B[39;49m\u001B[43mexclude\u001B[49m\u001B[43m,\u001B[49m\n\u001B[0;32m    177\u001B[0m \u001B[43m        \u001B[49m\u001B[43magg_method\u001B[49m\u001B[38;5;241;43m=\u001B[39;49m\u001B[43magg_method\u001B[49m\u001B[43m,\u001B[49m\u001B[43m \u001B[49m\u001B[43magg_freq\u001B[49m\u001B[38;5;241;43m=\u001B[39;49m\u001B[43magg_freq\u001B[49m\u001B[43m,\u001B[49m\n\u001B[0;32m    178\u001B[0m \u001B[43m        \u001B[49m\u001B[38;5;66;43;03m# Provide arguments for Pipe 2\u001B[39;49;00m\n\u001B[0;32m    179\u001B[0m \u001B[43m        \u001B[49m\u001B[43mforecasters\u001B[49m\u001B[38;5;241;43m=\u001B[39;49m\u001B[43mmodels\u001B[49m\u001B[43m[\u001B[49m\u001B[38;5;124;43m'\u001B[39;49m\u001B[38;5;124;43mFORECASTERS\u001B[39;49m\u001B[38;5;124;43m'\u001B[39;49m\u001B[43m]\u001B[49m\u001B[43m,\u001B[49m\u001B[43m \u001B[49m\u001B[43mselect_forecasters\u001B[49m\u001B[38;5;241;43m=\u001B[39;49m\u001B[43mselect_forecasters\u001B[49m\u001B[43m,\u001B[49m\n\u001B[0;32m    180\u001B[0m \u001B[43m        \u001B[49m\u001B[43mforecast_init_train\u001B[49m\u001B[38;5;241;43m=\u001B[39;49m\u001B[43mforecast_init_train\u001B[49m\u001B[43m,\u001B[49m\n\u001B[0;32m    181\u001B[0m \u001B[43m        \u001B[49m\u001B[43mautosarimax_refit_interval\u001B[49m\u001B[38;5;241;43m=\u001B[39;49m\u001B[43mautosarimax_refit_interval\u001B[49m\u001B[43m,\u001B[49m\n\u001B[0;32m    182\u001B[0m \u001B[43m        \u001B[49m\u001B[38;5;66;43;03m# Provide arguments for Pipe 3\u001B[39;49;00m\n\u001B[0;32m    183\u001B[0m \u001B[43m        \u001B[49m\u001B[43mensemblers\u001B[49m\u001B[38;5;241;43m=\u001B[39;49m\u001B[43mmodels\u001B[49m\u001B[43m[\u001B[49m\u001B[38;5;124;43m'\u001B[39;49m\u001B[38;5;124;43mENSEMBLERS\u001B[39;49m\u001B[38;5;124;43m'\u001B[39;49m\u001B[43m]\u001B[49m\u001B[43m,\u001B[49m\u001B[43m \u001B[49m\u001B[43mselect_ensemblers\u001B[49m\u001B[38;5;241;43m=\u001B[39;49m\u001B[43mselect_ensemblers\u001B[49m\u001B[43m,\u001B[49m\n\u001B[0;32m    184\u001B[0m \u001B[43m        \u001B[49m\u001B[43mensemble_init_train\u001B[49m\u001B[38;5;241;43m=\u001B[39;49m\u001B[43mensemble_init_train\u001B[49m\u001B[43m,\u001B[49m\n\u001B[0;32m    185\u001B[0m \u001B[43m        \u001B[49m\u001B[38;5;66;43;03m# Provide arguments for Pipe 4\u001B[39;49;00m\n\u001B[0;32m    186\u001B[0m \u001B[43m        \u001B[49m\u001B[43mmetrics\u001B[49m\u001B[38;5;241;43m=\u001B[39;49m\u001B[43mmetrics\u001B[49m\u001B[43m,\u001B[49m\n\u001B[0;32m    187\u001B[0m \u001B[43m        \u001B[49m\u001B[43msort_by\u001B[49m\u001B[38;5;241;43m=\u001B[39;49m\u001B[43msort_by\u001B[49m\u001B[43m,\u001B[49m\n\u001B[0;32m    188\u001B[0m \u001B[43m        \u001B[49m\u001B[38;5;66;43;03m# Generic/shared arguments\u001B[39;49;00m\n\u001B[0;32m    189\u001B[0m \u001B[43m        \u001B[49m\u001B[43mexport_path\u001B[49m\u001B[38;5;241;43m=\u001B[39;49m\u001B[43mexport_path\u001B[49m\u001B[43m,\u001B[49m\n\u001B[0;32m    190\u001B[0m \u001B[43m        \u001B[49m\u001B[43merrors\u001B[49m\u001B[38;5;241;43m=\u001B[39;49m\u001B[43merrors\u001B[49m\u001B[43m,\u001B[49m\u001B[43m \u001B[49m\u001B[43mverbose\u001B[49m\u001B[38;5;241;43m=\u001B[39;49m\u001B[43mverbose\u001B[49m\u001B[43m,\u001B[49m\n\u001B[0;32m    191\u001B[0m \u001B[43m        \u001B[49m\u001B[38;5;241;43m*\u001B[39;49m\u001B[43margs\u001B[49m\u001B[43m,\u001B[49m\u001B[43m \u001B[49m\u001B[38;5;241;43m*\u001B[39;49m\u001B[38;5;241;43m*\u001B[39;49m\u001B[43mkwargs\u001B[49m\n\u001B[0;32m    192\u001B[0m \u001B[43m    \u001B[49m\u001B[43m)\u001B[49m\n\u001B[0;32m    194\u001B[0m     \u001B[38;5;66;03m# Store results to output dictionary\u001B[39;00m\n\u001B[0;32m    195\u001B[0m     output_dict[expected_outputs[step]] \u001B[38;5;241m=\u001B[39m pipe_output\n",
      "File \u001B[1;32m~\\OneDrive\\GAU\\3. Semester\\Statistisches Praktikum\\Git\\NEW_Ensemble_Techniques_TS_FC\\project\\pipeline\\processes\\pipe2_individual_forecasts.py:466\u001B[0m, in \u001B[0;36mpipe2_individual_forecasts\u001B[1;34m(target_covariates_tuple, forecasters, forecast_init_train, fh, select_forecasters, autosarimax_refit_interval, export_path, verbose, *args, **kwargs)\u001B[0m\n\u001B[0;32m    462\u001B[0m historical_predictions\u001B[38;5;241m.\u001B[39minsert(\u001B[38;5;241m0\u001B[39m, \u001B[38;5;124m\"\u001B[39m\u001B[38;5;124mTarget\u001B[39m\u001B[38;5;124m\"\u001B[39m, value\u001B[38;5;241m=\u001B[39mtarget_output)\n\u001B[0;32m    465\u001B[0m \u001B[38;5;28mprint\u001B[39m(historical_predictions\u001B[38;5;241m.\u001B[39mindex)\n\u001B[1;32m--> 466\u001B[0m \u001B[38;5;28mprint\u001B[39m(\u001B[43mfuture_predictions\u001B[49m\u001B[38;5;241;43m.\u001B[39;49m\u001B[43mindex\u001B[49m)\n\u001B[0;32m    469\u001B[0m \u001B[38;5;66;03m# # Export results as .csv if a path is specified\u001B[39;00m\n\u001B[0;32m    470\u001B[0m \u001B[38;5;66;03m# csv_exporter(export_path, historical_predictions)\u001B[39;00m\n\u001B[0;32m    471\u001B[0m \n\u001B[0;32m    472\u001B[0m \u001B[38;5;66;03m# Note: Consider working with DateTimeIndex frequencies again\u001B[39;00m\n\u001B[0;32m    473\u001B[0m \n\u001B[0;32m    474\u001B[0m \u001B[38;5;66;03m# Return individual predictions\u001B[39;00m\n\u001B[0;32m    475\u001B[0m \u001B[38;5;28;01mreturn\u001B[39;00m historical_predictions, future_predictions\n",
      "\u001B[1;31mAttributeError\u001B[0m: 'NoneType' object has no attribute 'index'"
     ]
    }
   ],
   "source": [
    "output_dict = (\n",
    "    run_pipeline(\n",
    "        df=df, models=MODELS, metrics=METRICS,\n",
    "        start=\"2020-01-01\", end=\"2020-03-31\",\n",
    "        agg_method='last', agg_freq='B',\n",
    "        forecast_init_train=0.3, ensemble_init_train=0.3,\n",
    "        select_forecaster='all',\n",
    "        select_ensemblers='all',\n",
    "        verbose=True\n",
    "    )\n",
    ")"
   ]
  },
  {
   "cell_type": "code",
   "execution_count": null,
   "metadata": {
    "ExecuteTime": {
     "end_time": "2024-03-07T05:36:24.178003Z",
     "start_time": "2024-03-07T05:36:24.176996Z"
    }
   },
   "outputs": [],
   "source": [
    "display_ranking_table(output_dict['metrics ranking'])\n"
   ]
  },
  {
   "cell_type": "code",
   "execution_count": null,
   "metadata": {
    "ExecuteTime": {
     "end_time": "2024-03-07T05:36:24.183005Z",
     "start_time": "2024-03-07T05:36:24.180999Z"
    }
   },
   "outputs": [],
   "source": []
  }
 ],
 "metadata": {
  "kernelspec": {
   "display_name": "Python 3",
   "language": "python",
   "name": "python3"
  },
  "language_info": {
   "codemirror_mode": {
    "name": "ipython",
    "version": 3
   },
   "file_extension": ".py",
   "mimetype": "text/x-python",
   "name": "python",
   "nbconvert_exporter": "python",
   "pygments_lexer": "ipython3",
   "version": "3.11.1"
  }
 },
 "nbformat": 4,
 "nbformat_minor": 2
}
