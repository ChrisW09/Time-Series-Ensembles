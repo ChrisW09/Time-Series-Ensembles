{
 "cells": [
  {
   "cell_type": "markdown",
   "metadata": {},
   "source": [
    "# Interface for Pipeline Execution"
   ]
  },
  {
   "cell_type": "markdown",
   "source": [
    "## 1) Import Individual Forecasting Models, Ensemble Methods and Models, and Metrics"
   ],
   "metadata": {
    "collapsed": false
   }
  },
  {
   "cell_type": "code",
   "outputs": [
    {
     "name": "stdout",
     "output_type": "stream",
     "text": [
      "Loading individual forecasting models...\n",
      "Loading ensemble methods and models...\n",
      "Loading metrics...\n"
     ]
    }
   ],
   "source": [
    "from models.forecasting import FC_MODELS\n",
    "from models.ensembling import ENS_METHODS\n",
    "from utils.metrics import metrics"
   ],
   "metadata": {
    "collapsed": false,
    "ExecuteTime": {
     "end_time": "2024-03-03T18:24:15.289661Z",
     "start_time": "2024-03-03T18:23:59.943497Z"
    }
   },
   "execution_count": 1
  },
  {
   "cell_type": "markdown",
   "source": [
    "## 2) Import Modules, Functions, and Paths"
   ],
   "metadata": {
    "collapsed": false
   }
  },
  {
   "cell_type": "code",
   "outputs": [
    {
     "name": "stdout",
     "output_type": "stream",
     "text": [
      "Loading helper functions...\n",
      "Loading paths...\n"
     ]
    }
   ],
   "source": [
    "from utils.helpers import csv_reader\n",
    "from utils.paths import *\n",
    "from pipeline.run_pipeline import run_pipeline"
   ],
   "metadata": {
    "collapsed": false,
    "ExecuteTime": {
     "end_time": "2024-03-03T18:24:15.340141Z",
     "start_time": "2024-03-03T18:24:15.293682Z"
    }
   },
   "execution_count": 2
  },
  {
   "cell_type": "markdown",
   "source": [
    "## 3) Select Input Data "
   ],
   "metadata": {
    "collapsed": false
   }
  },
  {
   "cell_type": "code",
   "execution_count": 3,
   "metadata": {
    "ExecuteTime": {
     "end_time": "2024-03-03T18:24:15.351218Z",
     "start_time": "2024-03-03T18:24:15.344156Z"
    }
   },
   "outputs": [],
   "source": [
    "## Read input data\n",
    "# df = csv_reader(SIMDATA_DIR, 'noisy_simdata')\n",
    "# print(df.head())\n",
    "\n",
    "# For testng pipeline for now I use a subset of 10 years:\n",
    "# df = df.iloc[:120, :]"
   ]
  },
  {
   "cell_type": "code",
   "outputs": [
    {
     "name": "stdout",
     "output_type": "stream",
     "text": [
      "                     bid_close\n",
      "datetime                      \n",
      "2020-01-01 00:00:00        NaN\n",
      "2020-01-01 00:15:00        NaN\n",
      "2020-01-01 00:30:00        NaN\n",
      "2020-01-01 00:45:00        NaN\n",
      "2020-01-01 01:00:00        NaN\n"
     ]
    }
   ],
   "source": [
    "## Using the EUR-USD Exchange Rate data\n",
    "df = csv_reader(TESTDATA_DIR, 'eurusd_df', columns=['datetime', 'bid_close'])\n",
    "print(df.head())"
   ],
   "metadata": {
    "collapsed": false,
    "ExecuteTime": {
     "end_time": "2024-03-03T18:24:15.631669Z",
     "start_time": "2024-03-03T18:24:15.356233Z"
    }
   },
   "execution_count": 4
  },
  {
   "cell_type": "markdown",
   "source": [
    "## 4) Run Pipeline"
   ],
   "metadata": {
    "collapsed": false
   }
  },
  {
   "cell_type": "markdown",
   "source": [
    "## 4.1) ... on Simulated Data"
   ],
   "metadata": {
    "collapsed": false
   }
  },
  {
   "cell_type": "code",
   "execution_count": 5,
   "metadata": {
    "ExecuteTime": {
     "end_time": "2024-03-03T18:24:15.640981Z",
     "start_time": "2024-03-03T18:24:15.634683Z"
    }
   },
   "outputs": [],
   "source": [
    "# # fyi: training takes about 9 min on complete dataset and 4.5 min on subset\n",
    "# target, covariates, individual_predictions, full_predictions, metrics_ranking = (\n",
    "#     run_pipeline(\n",
    "#         df=df, forecasting_models=FC_MODELS, ensemble_methods=ENS_METHODS, metrics=metrics, \n",
    "#         autosarimax_refit_interval=0.33,\n",
    "#         indiv_init_train_ratio=0.3, ens_init_train_ratio=0.3,\n",
    "#         verbose=True\n",
    "#     )\n",
    "# )"
   ]
  },
  {
   "cell_type": "markdown",
   "source": [
    "## 4.1) ... on EUR-USD Exchange Data"
   ],
   "metadata": {
    "collapsed": false
   }
  },
  {
   "cell_type": "code",
   "outputs": [
    {
     "name": "stdout",
     "output_type": "stream",
     "text": [
      "=======================\n",
      "== Starting Pipeline ==\n",
      "=======================\n",
      "\n",
      "=====================================================\n",
      "== Starting Step 1 in Pipeline: Data Preprocessing ==\n",
      "=====================================================\n",
      "Searching for time information...\n",
      "Dates found in 'index' column!\n",
      "Inferred frequency: 15T\n",
      "Data from goes from 2020-01-01 to 2024-02-06, resulting in 143713 observations.\n",
      "\n",
      "Aggregating data to frequency 'business day' using method last and dropping NaNs...\n",
      "Loading aggregation function...\n",
      "...finished! Data now has 1069 observations.\n",
      "\n",
      "Selecting target and covariates...\n",
      "Target: bid_close\n",
      "Covariates: None\n",
      "Data Insight:\n",
      "            bid_close\n",
      "datetime             \n",
      "2020-01-02    1.11702\n",
      "2020-01-03    1.11599\n",
      "2020-01-06    1.11948\n",
      "2020-01-07    1.11530\n",
      "2020-01-08    1.11124 \n",
      "\n",
      "\n",
      "=======================================================\n",
      "== Starting Step 2 in Pipeline: Individual Forecasts ==\n",
      "=======================================================\n",
      "Splitting data (train/test ratio: 30/70)...\n",
      " Initial training set has 320 observations and goes from 2020-01-02 to 2021-03-24\n",
      " There are 749 periods to be forecasted: 2021-03-25 to 2024-02-06\n",
      "\n",
      "Now generating 749 one-step ahead expanding window predictions from model: Naive (sktime)\n",
      "...finished!\n",
      "\n",
      "Now generating 749 one-step ahead expanding window predictions from model: Naive (drift) (sktime)\n",
      "...finished!\n",
      "\n",
      "Now generating 749 one-step ahead expanding window predictions from model: AutoSARIMA (sktime)\n",
      "Auto-fitting model...\n",
      "AutoSARIMA forecast 1 / 749\n",
      "AutoSARIMA forecast 10 / 749\n",
      "AutoSARIMA forecast 20 / 749\n",
      "AutoSARIMA forecast 30 / 749\n",
      "AutoSARIMA forecast 40 / 749\n",
      "AutoSARIMA forecast 50 / 749\n",
      "AutoSARIMA forecast 60 / 749\n",
      "AutoSARIMA forecast 70 / 749\n",
      "AutoSARIMA forecast 80 / 749\n",
      "AutoSARIMA forecast 90 / 749\n",
      "AutoSARIMA forecast 100 / 749\n",
      "AutoSARIMA forecast 110 / 749\n",
      "AutoSARIMA forecast 120 / 749\n",
      "AutoSARIMA forecast 130 / 749\n",
      "AutoSARIMA forecast 140 / 749\n",
      "AutoSARIMA forecast 150 / 749\n",
      "AutoSARIMA forecast 160 / 749\n",
      "AutoSARIMA forecast 170 / 749\n",
      "AutoSARIMA forecast 180 / 749\n",
      "AutoSARIMA forecast 190 / 749\n",
      "AutoSARIMA forecast 200 / 749\n",
      "AutoSARIMA forecast 210 / 749\n",
      "AutoSARIMA forecast 220 / 749\n",
      "AutoSARIMA forecast 230 / 749\n",
      "AutoSARIMA forecast 240 / 749\n",
      "...automatic refitting...\n",
      "AutoSARIMA forecast 250 / 749\n",
      "AutoSARIMA forecast 260 / 749\n",
      "AutoSARIMA forecast 270 / 749\n",
      "AutoSARIMA forecast 280 / 749\n",
      "AutoSARIMA forecast 290 / 749\n",
      "AutoSARIMA forecast 300 / 749\n",
      "AutoSARIMA forecast 310 / 749\n",
      "AutoSARIMA forecast 320 / 749\n",
      "AutoSARIMA forecast 330 / 749\n",
      "AutoSARIMA forecast 340 / 749\n",
      "AutoSARIMA forecast 350 / 749\n",
      "AutoSARIMA forecast 360 / 749\n",
      "AutoSARIMA forecast 370 / 749\n",
      "AutoSARIMA forecast 380 / 749\n",
      "AutoSARIMA forecast 390 / 749\n",
      "AutoSARIMA forecast 400 / 749\n",
      "AutoSARIMA forecast 410 / 749\n",
      "AutoSARIMA forecast 420 / 749\n",
      "AutoSARIMA forecast 430 / 749\n",
      "AutoSARIMA forecast 440 / 749\n",
      "AutoSARIMA forecast 450 / 749\n",
      "AutoSARIMA forecast 460 / 749\n",
      "AutoSARIMA forecast 470 / 749\n",
      "AutoSARIMA forecast 480 / 749\n",
      "AutoSARIMA forecast 490 / 749\n",
      "...automatic refitting...\n",
      "AutoSARIMA forecast 500 / 749\n",
      "AutoSARIMA forecast 510 / 749\n",
      "AutoSARIMA forecast 520 / 749\n",
      "AutoSARIMA forecast 530 / 749\n",
      "AutoSARIMA forecast 540 / 749\n",
      "AutoSARIMA forecast 550 / 749\n",
      "AutoSARIMA forecast 560 / 749\n",
      "AutoSARIMA forecast 570 / 749\n",
      "AutoSARIMA forecast 580 / 749\n",
      "AutoSARIMA forecast 590 / 749\n",
      "AutoSARIMA forecast 600 / 749\n",
      "AutoSARIMA forecast 610 / 749\n",
      "AutoSARIMA forecast 620 / 749\n",
      "AutoSARIMA forecast 630 / 749\n",
      "AutoSARIMA forecast 640 / 749\n",
      "AutoSARIMA forecast 650 / 749\n",
      "AutoSARIMA forecast 660 / 749\n",
      "AutoSARIMA forecast 670 / 749\n"
     ]
    }
   ],
   "source": [
    "# fyi: training takes about 9 min on complete dataset and 4.5 min on subset\n",
    "target, covariates, individual_predictions, full_predictions, metrics_ranking = (\n",
    "    run_pipeline(\n",
    "        df=df, forecasting_models=FC_MODELS, ensemble_methods=ENS_METHODS, metrics=metrics, \n",
    "        agg_method='last', agg_freq='B',\n",
    "        indiv_init_train_ratio=0.3, ens_init_train_ratio=0.3,\n",
    "        autosarimax_refit_interval=0.33,\n",
    "        verbose=True\n",
    "    )\n",
    ")"
   ],
   "metadata": {
    "collapsed": false,
    "is_executing": true,
    "ExecuteTime": {
     "start_time": "2024-03-03T18:24:15.643992Z"
    }
   },
   "execution_count": null
  },
  {
   "cell_type": "markdown",
   "source": [
    "## 5) Show Ranking Table"
   ],
   "metadata": {
    "collapsed": false
   }
  },
  {
   "cell_type": "code",
   "execution_count": null,
   "metadata": {
    "is_executing": true
   },
   "outputs": [],
   "source": [
    "display(metrics_ranking.style.hide())"
   ]
  }
 ],
 "metadata": {
  "kernelspec": {
   "display_name": "Python 3",
   "language": "python",
   "name": "python3"
  },
  "language_info": {
   "codemirror_mode": {
    "name": "ipython",
    "version": 3
   },
   "file_extension": ".py",
   "mimetype": "text/x-python",
   "name": "python",
   "nbconvert_exporter": "python",
   "pygments_lexer": "ipython3",
   "version": "3.11.3"
  }
 },
 "nbformat": 4,
 "nbformat_minor": 2
}
