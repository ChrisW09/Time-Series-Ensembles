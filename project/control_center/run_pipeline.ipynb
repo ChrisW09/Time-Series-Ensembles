{
 "cells": [
  {
   "cell_type": "markdown",
   "metadata": {},
   "source": [
    "# Interface for Pipeline Execution"
   ]
  },
  {
   "cell_type": "markdown",
   "source": [
    "## 1) Import Individual Forecasting Models, Ensemble Methods and Models, and Metrics"
   ],
   "metadata": {
    "collapsed": false
   }
  },
  {
   "cell_type": "code",
   "outputs": [
    {
     "name": "stdout",
     "output_type": "stream",
     "text": [
      "Loading individual forecasting models...\n",
      "Loading ensemble methods and models...\n",
      "Loading metrics...\n"
     ]
    }
   ],
   "source": [
    "from models.forecasting import FC_MODELS\n",
    "from models.ensembling import ENS_METHODS\n",
    "from utils.metrics import metrics"
   ],
   "metadata": {
    "collapsed": false,
    "ExecuteTime": {
     "end_time": "2024-03-03T23:12:26.517826Z",
     "start_time": "2024-03-03T23:11:31.777375Z"
    }
   },
   "execution_count": 1
  },
  {
   "cell_type": "markdown",
   "source": [
    "## 2) Import Modules, Functions, and Paths"
   ],
   "metadata": {
    "collapsed": false
   }
  },
  {
   "cell_type": "code",
   "outputs": [
    {
     "name": "stdout",
     "output_type": "stream",
     "text": [
      "Loading helper functions...\n",
      "Loading paths...\n"
     ]
    }
   ],
   "source": [
    "from utils.helpers import csv_reader\n",
    "from utils.paths import *\n",
    "from pipeline.run_pipeline import run_pipeline"
   ],
   "metadata": {
    "collapsed": false,
    "ExecuteTime": {
     "end_time": "2024-03-03T23:12:26.658410Z",
     "start_time": "2024-03-03T23:12:26.528029Z"
    }
   },
   "execution_count": 2
  },
  {
   "cell_type": "markdown",
   "source": [
    "## 3) Select Input Data "
   ],
   "metadata": {
    "collapsed": false
   }
  },
  {
   "cell_type": "code",
   "execution_count": 3,
   "metadata": {
    "ExecuteTime": {
     "end_time": "2024-03-03T23:12:26.678554Z",
     "start_time": "2024-03-03T23:12:26.666445Z"
    }
   },
   "outputs": [],
   "source": [
    "## Read input data\n",
    "# df = csv_reader(SIMDATA_DIR, 'noisy_simdata')\n",
    "# print(df.head())\n",
    "\n",
    "# For testng pipeline for now I use a subset of 10 years:\n",
    "# df = df.iloc[:120, :]"
   ]
  },
  {
   "cell_type": "code",
   "outputs": [
    {
     "name": "stdout",
     "output_type": "stream",
     "text": [
      "                     bid_close\n",
      "datetime                      \n",
      "2020-01-01 00:00:00        NaN\n",
      "2020-01-01 00:15:00        NaN\n",
      "2020-01-01 00:30:00        NaN\n",
      "2020-01-01 00:45:00        NaN\n",
      "2020-01-01 01:00:00        NaN\n"
     ]
    }
   ],
   "source": [
    "## Using the EUR-USD Exchange Rate data\n",
    "df = csv_reader(TESTDATA_DIR, 'eurusd_df', columns=['datetime', 'bid_close'])\n",
    "print(df.head())\n",
    "\n",
    "# For testng pipeline for now I use a small subset:\n",
    "df = df.iloc[:10000, :]"
   ],
   "metadata": {
    "collapsed": false,
    "ExecuteTime": {
     "end_time": "2024-03-03T23:12:27.430652Z",
     "start_time": "2024-03-03T23:12:26.686593Z"
    }
   },
   "execution_count": 4
  },
  {
   "cell_type": "markdown",
   "source": [
    "## 4) Run Pipeline"
   ],
   "metadata": {
    "collapsed": false
   }
  },
  {
   "cell_type": "markdown",
   "source": [
    "## 4.1) ... on Simulated Data"
   ],
   "metadata": {
    "collapsed": false
   }
  },
  {
   "cell_type": "code",
   "execution_count": null,
   "metadata": {},
   "outputs": [],
   "source": [
    "# target, covariates, individual_predictions, full_predictions, metrics_ranking = (\n",
    "#     run_pipeline(\n",
    "#         df=df, forecasting_models=FC_MODELS, ensemble_methods=ENS_METHODS, metrics=metrics, \n",
    "#         autosarimax_refit_interval=0.33,\n",
    "#         forecast_init_train=0.3, ensemble_init_train=0.3,\n",
    "#         verbose=True\n",
    "#     )\n",
    "# )"
   ]
  },
  {
   "cell_type": "markdown",
   "source": [
    "## 4.1) ... on EUR-USD Exchange Data"
   ],
   "metadata": {
    "collapsed": false
   }
  },
  {
   "cell_type": "code",
   "outputs": [
    {
     "name": "stdout",
     "output_type": "stream",
     "text": [
      "=================================================================================\n",
      "Starting  Pipeline...\n",
      "\n",
      "=====================================================\n",
      "== Starting Step 1 in Pipeline: Data Preprocessing ==\n",
      "=====================================================\n",
      "\n",
      "Searching for time information...\n",
      "Dates found in 'index' column!\n",
      "Inferred frequency: 15T\n",
      "Data from goes from 2020-01-01 to 2020-04-14, resulting in 10000 observations.\n",
      "\n",
      "Aggregating data to frequency 'business day' using method 'last' and dropping NaNs...\n",
      "...finished! Data now has 74 observations.\n",
      "\n",
      "Selecting target and covariates...\n",
      "Target: bid_close\n",
      "Covariates: None\n",
      "\n",
      "Data Insight:\n",
      "            bid_close\n",
      "datetime             \n",
      "2020-01-02    1.11702\n",
      "2020-01-03    1.11599\n",
      "2020-01-06    1.11948\n",
      "2020-01-07    1.11530\n",
      "2020-01-08    1.11124 \n",
      "\n",
      "=======================================================\n",
      "== Starting Step 2 in Pipeline: Individual Forecasts ==\n",
      "=======================================================\n",
      "Splitting data (train/test ratio: 30/70)... \n",
      "Initial training set has 22 observations and goes from 2020-01-02 to 2020-01-31 \n",
      "There are 52 periods to be forecasted: 2020-02-03 to 2020-04-14\n",
      "\n",
      "Now generating 52 one-step ahead expanding window predictions from model: Naive (sktime)\n",
      "...finished!\n",
      "Now generating 52 one-step ahead expanding window predictions from model: STL (sktime)\n",
      "...finished!\n",
      "Since no covariates are given, skipping covariate models \n",
      "\n",
      "Individual predictions finished!\n",
      "\n",
      "Exporting individual forecasts as csv...\n",
      "...finished!\n",
      "\n",
      "Insights into models' predictions:\n",
      "              Target    Naive       STL\n",
      "Date                                  \n",
      "2020-02-03  1.10618  1.10885  1.099680\n",
      "2020-02-04  1.10440  1.10618  1.103271\n",
      "2020-02-05  1.09994  1.10440  1.105145\n",
      "2020-02-06  1.09802  1.09994  1.104768\n",
      "2020-02-07  1.09486  1.09802  1.105307 \n",
      "\n",
      "\n",
      "#############################################\n",
      "## Step 3: Historical Ensemble Predictions ##\n",
      "#############################################\n",
      "\n",
      "Splitting forecast data (n = 52) for ensemble forecasts (train/test ratio: 30/70)...\n",
      "Initial training set has 15 observations and goes from 2020-02-03 to 2020-02-21\n",
      "There are 37 periods to be forecasted by the individual models 2020-02-24 to 2020-04-14\n",
      "\n",
      "Performing Simple {'Simple': <function equal_weights at 0x0000022347CFC720>, 'Inverse RMSE': <function inv_rmse_weights at 0x0000022347CFF4C0>} expanding window forecasts...\n",
      "Ensemble forecast 1 / 37\n",
      "Ensemble forecast 20 / 37\n",
      "Ensemble forecast 37 / 37\n",
      "...finished!\n",
      "\n",
      "Performing Inverse RMSE {'Simple': <function equal_weights at 0x0000022347CFC720>, 'Inverse RMSE': <function inv_rmse_weights at 0x0000022347CFF4C0>} expanding window forecasts...\n",
      "Ensemble forecast 1 / 37\n",
      "Ensemble forecast 20 / 37\n",
      "Ensemble forecast 37 / 37\n",
      "...finished!\n",
      "\n",
      "Ensemble predictions finished!\n",
      "\n",
      "Insights into ensembles' predictions:\n",
      "             Ens: Simple (weighted)  Ens: Inverse RMSE (weighted)\n",
      "Date                                                            \n",
      "2020-02-24                1.081134                      1.081733\n",
      "2020-02-25                1.082085                      1.082764\n",
      "2020-02-26                1.085062                      1.085843\n",
      "2020-02-27                1.085866                      1.086655\n",
      "2020-02-28                1.096304                      1.097140\n",
      "\n",
      "Merging...\n",
      "\n",
      "Exporting ensemble forecasts as csv...\n",
      "...finished!\n",
      "\n",
      "############################################\n",
      "## Step 4: Creating Metrics Ranking Table ##\n",
      "############################################\n",
      "\n",
      "Calculating MAPE, RMSE, SMAPE per model...\n",
      "Ranking models ...\n",
      "\n",
      "Exporting metrics ranking as csv...\n",
      "...finished!\n",
      "\n",
      "\n",
      " Results:\n",
      "                           Model      MAPE      RMSE     SMAPE  MAPE Ranking  \\\n",
      "0                         Naive  0.604318  0.008753  0.402667             1   \n",
      "1  Ens: Inverse RMSE (weighted)  0.816708  0.011273  0.544612             2   \n",
      "2        Ens: Simple (weighted)  0.904869  0.012397  0.603531             3   \n",
      "3                           STL  1.288438  0.017665  0.859981             4   \n",
      "\n",
      "   RMSE Ranking  SMAPE Ranking  \n",
      "0             1              1  \n",
      "1             2              2  \n",
      "2             3              3  \n",
      "3             4              4  \n",
      "\n",
      "Finished Pipeline!\n",
      "=================================================================================\n"
     ]
    }
   ],
   "source": [
    "target, covariates, individual_predictions, full_predictions, metrics_ranking = (\n",
    "    run_pipeline(\n",
    "        df=df, forecasting_models=FC_MODELS, ensemble_methods=ENS_METHODS, metrics=metrics, \n",
    "        agg_method='last', agg_freq='B',\n",
    "        forecast_init_train=0.3, ensemble_init_train=0.3,\n",
    "        autosarimax_refit_interval=0.33,\n",
    "        select_individual_models=['Naive', 'STL'], select_ensemble_methods=['Simple', 'Inverse RMSE'],\n",
    "        verbose=True\n",
    "    )\n",
    ")"
   ],
   "metadata": {
    "collapsed": false,
    "ExecuteTime": {
     "end_time": "2024-03-03T23:16:51.806408Z",
     "start_time": "2024-03-03T23:12:47.506435Z"
    }
   },
   "execution_count": 10
  },
  {
   "cell_type": "markdown",
   "source": [
    "## 5) Show Ranking Table"
   ],
   "metadata": {
    "collapsed": false
   }
  },
  {
   "cell_type": "code",
   "execution_count": null,
   "metadata": {},
   "outputs": [],
   "source": [
    "display(metrics_ranking.style.hide())"
   ]
  }
 ],
 "metadata": {
  "kernelspec": {
   "display_name": "Python 3",
   "language": "python",
   "name": "python3"
  },
  "language_info": {
   "codemirror_mode": {
    "name": "ipython",
    "version": 3
   },
   "file_extension": ".py",
   "mimetype": "text/x-python",
   "name": "python",
   "nbconvert_exporter": "python",
   "pygments_lexer": "ipython3",
   "version": "3.11.3"
  }
 },
 "nbformat": 4,
 "nbformat_minor": 2
}
