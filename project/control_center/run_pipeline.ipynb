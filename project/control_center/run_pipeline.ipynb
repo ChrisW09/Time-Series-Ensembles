{
 "cells": [
  {
   "cell_type": "markdown",
   "metadata": {},
   "source": [
    "# Interface for Pipeline Execution"
   ]
  },
  {
   "cell_type": "markdown",
   "source": [
    "## 1) Import Individual Forecasting Models, Ensemble Methods and Models, and Metrics"
   ],
   "metadata": {
    "collapsed": false
   }
  },
  {
   "cell_type": "code",
   "outputs": [
    {
     "name": "stdout",
     "output_type": "stream",
     "text": [
      "Loading individual forecasting models...\n",
      "Loading ensemble methods and models...\n",
      "Loading metrics...\n"
     ]
    }
   ],
   "source": [
    "from models.forecasting import FC_MODELS\n",
    "from models.ensembling import ENS_METHODS\n",
    "from utils.metrics import metrics"
   ],
   "metadata": {
    "collapsed": false,
    "ExecuteTime": {
     "end_time": "2024-03-04T02:09:14.079366Z",
     "start_time": "2024-03-04T02:08:58.608981Z"
    }
   },
   "execution_count": 1
  },
  {
   "cell_type": "markdown",
   "source": [
    "## 2) Import Modules, Functions, and Paths"
   ],
   "metadata": {
    "collapsed": false
   }
  },
  {
   "cell_type": "code",
   "outputs": [
    {
     "name": "stdout",
     "output_type": "stream",
     "text": [
      "Loading helper functions...\n",
      "Loading paths...\n"
     ]
    }
   ],
   "source": [
    "from utils.helpers import csv_reader\n",
    "from utils.paths import *\n",
    "from pipeline.run_pipeline import run_pipeline"
   ],
   "metadata": {
    "collapsed": false,
    "ExecuteTime": {
     "end_time": "2024-03-04T02:09:14.129465Z",
     "start_time": "2024-03-04T02:09:14.082377Z"
    }
   },
   "execution_count": 2
  },
  {
   "cell_type": "markdown",
   "source": [
    "## 3) Select Input Data "
   ],
   "metadata": {
    "collapsed": false
   }
  },
  {
   "cell_type": "code",
   "execution_count": 3,
   "metadata": {
    "ExecuteTime": {
     "end_time": "2024-03-04T02:09:14.140134Z",
     "start_time": "2024-03-04T02:09:14.132478Z"
    }
   },
   "outputs": [],
   "source": [
    "## Read input data\n",
    "# df = csv_reader(SIMDATA_DIR, 'noisy_simdata')\n",
    "# print(df.head())\n",
    "\n",
    "# For testng pipeline for now I use a subset of 10 years:\n",
    "# df = df.iloc[:120, :]"
   ]
  },
  {
   "cell_type": "code",
   "outputs": [
    {
     "name": "stdout",
     "output_type": "stream",
     "text": [
      "                     bid_close\n",
      "datetime                      \n",
      "2020-01-01 00:00:00        NaN\n",
      "2020-01-01 00:15:00        NaN\n",
      "2020-01-01 00:30:00        NaN\n",
      "2020-01-01 00:45:00        NaN\n",
      "2020-01-01 01:00:00        NaN\n"
     ]
    }
   ],
   "source": [
    "## Using the EUR-USD Exchange Rate data\n",
    "df = csv_reader(TESTDATA_DIR, 'eurusd_df', columns=['datetime', 'bid_close'])\n",
    "print(df.head())\n",
    "\n",
    "# For testng pipeline for now I use a small subset:\n",
    "df = df.iloc[:10000, :]"
   ],
   "metadata": {
    "collapsed": false,
    "ExecuteTime": {
     "end_time": "2024-03-04T02:09:14.426480Z",
     "start_time": "2024-03-04T02:09:14.144147Z"
    }
   },
   "execution_count": 4
  },
  {
   "cell_type": "markdown",
   "source": [
    "## 4) Run Pipeline"
   ],
   "metadata": {
    "collapsed": false
   }
  },
  {
   "cell_type": "markdown",
   "source": [
    "## 4.1) ... on Simulated Data"
   ],
   "metadata": {
    "collapsed": false
   }
  },
  {
   "cell_type": "code",
   "execution_count": 5,
   "metadata": {
    "ExecuteTime": {
     "end_time": "2024-03-04T02:09:14.434557Z",
     "start_time": "2024-03-04T02:09:14.428490Z"
    }
   },
   "outputs": [],
   "source": [
    "# target, covariates, individual_predictions, full_predictions, metrics_ranking = (\n",
    "#     run_pipeline(\n",
    "#         df=df, forecasting_models=FC_MODELS, ensemble_methods=ENS_METHODS, metrics=metrics, \n",
    "#         autosarimax_refit_interval=0.33,\n",
    "#         forecast_init_train=0.3, ensemble_init_train=0.3,\n",
    "#         verbose=True\n",
    "#     )\n",
    "# )"
   ]
  },
  {
   "cell_type": "markdown",
   "source": [
    "## 4.1) ... on EUR-USD Exchange Data"
   ],
   "metadata": {
    "collapsed": false
   }
  },
  {
   "cell_type": "code",
   "outputs": [],
   "source": [
    "target, covariates, individual_predictions, full_predictions, metrics_ranking = (\n",
    "    run_pipeline(\n",
    "        df=df, forecasting_models=FC_MODELS, ensemble_methods=ENS_METHODS, metrics=metrics, \n",
    "        agg_method='last', agg_freq='B',\n",
    "        forecast_init_train=0.3, ensemble_init_train=0.3,\n",
    "        autosarimax_refit_interval=0.33,\n",
    "        select_individual_models=['Naive', 'STL'], select_ensemble_methods=['Simple', 'Inverse RMSE'],\n",
    "        verbose=True\n",
    "    )\n",
    ")"
   ],
   "metadata": {
    "collapsed": false,
    "ExecuteTime": {
     "end_time": "2024-03-04T02:11:41.894067Z",
     "start_time": "2024-03-04T02:11:34.833857Z"
    }
   },
   "execution_count": 8
  },
  {
   "cell_type": "markdown",
   "source": [
    "## 5) Show Ranking Table"
   ],
   "metadata": {
    "collapsed": false
   }
  },
  {
   "cell_type": "code",
   "execution_count": 7,
   "metadata": {
    "ExecuteTime": {
     "end_time": "2024-03-04T02:09:21.292757Z",
     "start_time": "2024-03-04T02:09:21.119764Z"
    }
   },
   "outputs": [
    {
     "data": {
      "text/plain": "<pandas.io.formats.style.Styler at 0x1f8a1829790>",
      "text/html": "<style type=\"text/css\">\n</style>\n<table id=\"T_df2a2\">\n  <thead>\n    <tr>\n      <th id=\"T_df2a2_level0_col0\" class=\"col_heading level0 col0\" >Model</th>\n      <th id=\"T_df2a2_level0_col1\" class=\"col_heading level0 col1\" >MAPE</th>\n      <th id=\"T_df2a2_level0_col2\" class=\"col_heading level0 col2\" >RMSE</th>\n      <th id=\"T_df2a2_level0_col3\" class=\"col_heading level0 col3\" >SMAPE</th>\n      <th id=\"T_df2a2_level0_col4\" class=\"col_heading level0 col4\" >MAPE Ranking</th>\n      <th id=\"T_df2a2_level0_col5\" class=\"col_heading level0 col5\" >RMSE Ranking</th>\n      <th id=\"T_df2a2_level0_col6\" class=\"col_heading level0 col6\" >SMAPE Ranking</th>\n    </tr>\n  </thead>\n  <tbody>\n    <tr>\n      <td id=\"T_df2a2_row0_col0\" class=\"data row0 col0\" >Naive</td>\n      <td id=\"T_df2a2_row0_col1\" class=\"data row0 col1\" >0.604318</td>\n      <td id=\"T_df2a2_row0_col2\" class=\"data row0 col2\" >0.008753</td>\n      <td id=\"T_df2a2_row0_col3\" class=\"data row0 col3\" >0.402667</td>\n      <td id=\"T_df2a2_row0_col4\" class=\"data row0 col4\" >1</td>\n      <td id=\"T_df2a2_row0_col5\" class=\"data row0 col5\" >1</td>\n      <td id=\"T_df2a2_row0_col6\" class=\"data row0 col6\" >1</td>\n    </tr>\n    <tr>\n      <td id=\"T_df2a2_row1_col0\" class=\"data row1 col0\" >Weighted Ensemble: Inverse RMSE</td>\n      <td id=\"T_df2a2_row1_col1\" class=\"data row1 col1\" >0.816708</td>\n      <td id=\"T_df2a2_row1_col2\" class=\"data row1 col2\" >0.011273</td>\n      <td id=\"T_df2a2_row1_col3\" class=\"data row1 col3\" >0.544612</td>\n      <td id=\"T_df2a2_row1_col4\" class=\"data row1 col4\" >2</td>\n      <td id=\"T_df2a2_row1_col5\" class=\"data row1 col5\" >2</td>\n      <td id=\"T_df2a2_row1_col6\" class=\"data row1 col6\" >2</td>\n    </tr>\n    <tr>\n      <td id=\"T_df2a2_row2_col0\" class=\"data row2 col0\" >Weighted Ensemble: Simple</td>\n      <td id=\"T_df2a2_row2_col1\" class=\"data row2 col1\" >0.904869</td>\n      <td id=\"T_df2a2_row2_col2\" class=\"data row2 col2\" >0.012397</td>\n      <td id=\"T_df2a2_row2_col3\" class=\"data row2 col3\" >0.603531</td>\n      <td id=\"T_df2a2_row2_col4\" class=\"data row2 col4\" >3</td>\n      <td id=\"T_df2a2_row2_col5\" class=\"data row2 col5\" >3</td>\n      <td id=\"T_df2a2_row2_col6\" class=\"data row2 col6\" >3</td>\n    </tr>\n    <tr>\n      <td id=\"T_df2a2_row3_col0\" class=\"data row3 col0\" >STL</td>\n      <td id=\"T_df2a2_row3_col1\" class=\"data row3 col1\" >1.288438</td>\n      <td id=\"T_df2a2_row3_col2\" class=\"data row3 col2\" >0.017665</td>\n      <td id=\"T_df2a2_row3_col3\" class=\"data row3 col3\" >0.859981</td>\n      <td id=\"T_df2a2_row3_col4\" class=\"data row3 col4\" >4</td>\n      <td id=\"T_df2a2_row3_col5\" class=\"data row3 col5\" >4</td>\n      <td id=\"T_df2a2_row3_col6\" class=\"data row3 col6\" >4</td>\n    </tr>\n  </tbody>\n</table>\n"
     },
     "metadata": {},
     "output_type": "display_data"
    }
   ],
   "source": [
    "display(metrics_ranking.style.hide())"
   ]
  }
 ],
 "metadata": {
  "kernelspec": {
   "display_name": "Python 3",
   "language": "python",
   "name": "python3"
  },
  "language_info": {
   "codemirror_mode": {
    "name": "ipython",
    "version": 3
   },
   "file_extension": ".py",
   "mimetype": "text/x-python",
   "name": "python",
   "nbconvert_exporter": "python",
   "pygments_lexer": "ipython3",
   "version": "3.11.3"
  }
 },
 "nbformat": 4,
 "nbformat_minor": 2
}
