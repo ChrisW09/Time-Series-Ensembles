{
 "cells": [
  {
   "cell_type": "markdown",
   "metadata": {},
   "source": [
    "# Interface for Pipeline Execution"
   ]
  },
  {
   "cell_type": "markdown",
   "source": [
    "## 1) Import Individual Forecasting Models, Ensemble Methods and Models, and Metrics"
   ],
   "metadata": {
    "collapsed": false
   }
  },
  {
   "cell_type": "code",
   "outputs": [
    {
     "name": "stdout",
     "output_type": "stream",
     "text": [
      "Loading individual forecasting models...\n",
      "Loading ensemble methods and models...\n",
      "Loading metrics...\n"
     ]
    }
   ],
   "source": [
    "from models.forecasting import FC_MODELS\n",
    "from models.ensembling import ENS_METHODS\n",
    "from utils.metrics import metrics"
   ],
   "metadata": {
    "collapsed": false,
    "ExecuteTime": {
     "end_time": "2024-03-03T05:27:39.252603Z",
     "start_time": "2024-03-03T05:27:15.383724Z"
    }
   },
   "execution_count": 1
  },
  {
   "cell_type": "markdown",
   "source": [
    "## 2) Import Modules, Functions, and Paths"
   ],
   "metadata": {
    "collapsed": false
   }
  },
  {
   "cell_type": "code",
   "outputs": [
    {
     "name": "stdout",
     "output_type": "stream",
     "text": [
      "Loading paths...\n",
      "Loading helper functions...\n"
     ]
    }
   ],
   "source": [
    "import pandas as pd\n",
    "\n",
    "from paths import *\n",
    "from pipeline.run_pipeline import run_pipeline"
   ],
   "metadata": {
    "collapsed": false,
    "ExecuteTime": {
     "end_time": "2024-03-03T05:27:39.313562Z",
     "start_time": "2024-03-03T05:27:39.255614Z"
    }
   },
   "execution_count": 2
  },
  {
   "cell_type": "markdown",
   "source": [
    "## 3) Select Input Data "
   ],
   "metadata": {
    "collapsed": false
   }
  },
  {
   "cell_type": "code",
   "execution_count": 3,
   "metadata": {
    "ExecuteTime": {
     "end_time": "2024-03-03T05:27:39.332402Z",
     "start_time": "2024-03-03T05:27:39.317578Z"
    }
   },
   "outputs": [],
   "source": [
    "## Define input data\n",
    "\n",
    "# Define the directory path and file name\n",
    "file_name = 'noisy_simdata.csv'\n",
    "\n",
    "# Combine the directory path and file name\n",
    "FILE_PATH = os.path.join(SIMDATA_DIR, file_name) \n",
    "\n",
    "# Read and preprocess Dataset\n",
    "df = pd.read_csv(FILE_PATH, index_col = 0)\n",
    "\n",
    "# For testng pipeline for now I use a subset of 10 years:\n",
    "# df = df.iloc[:120, :]"
   ]
  },
  {
   "cell_type": "markdown",
   "source": [
    "## 4) Run Pipeline"
   ],
   "metadata": {
    "collapsed": false
   }
  },
  {
   "cell_type": "code",
   "execution_count": 4,
   "metadata": {
    "ExecuteTime": {
     "end_time": "2024-03-03T05:41:41.937972Z",
     "start_time": "2024-03-03T05:27:39.335413Z"
    }
   },
   "outputs": [
    {
     "name": "stdout",
     "output_type": "stream",
     "text": [
      "=======================\n",
      "== Starting Pipeline ==\n",
      "=======================\n",
      "\n",
      "=====================================================\n",
      "== Starting Step 1 in Pipeline: Data Preprocessing ==\n",
      "=====================================================\n",
      "Searching for time information...\n",
      "Dates found in 'index' column!\n",
      "Inferred frequency: monthly\n",
      "Monthly data from goes from 2004-01-01 to 2023-12-01, resulting in 240 observations.\n",
      "\n",
      "Target: y\n",
      "Covariates: x1, x2, x3\n",
      "Data Insight:\n",
      "                    y          x1         x2          x3\n",
      "Date                                                    \n",
      "2004-01-01  50.840469  427.595799  55.337904  900.325291\n",
      "2004-02-01  52.871538  434.062163  54.959155  900.775888\n",
      "2004-03-01  53.769316  453.264284  56.470633  899.510058\n",
      "2004-04-01  57.672973  459.367523  56.704233  903.524834\n",
      "2004-05-01  57.182051  462.354356  61.557907  905.071762 \n",
      "\n",
      "\n",
      "=======================================================\n",
      "== Starting Step 2 in Pipeline: Individual Forecasts ==\n",
      "=======================================================\n",
      "Splitting data (train/test ratio: 30/70)...\n",
      " Initial training set has 72 observations and goes from 2004-01-01 to 2009-12-01\n",
      " There are 168 periods to be forecasted: 2010-01-01 to 2023-12-01\n",
      "\n",
      "Now generating 168 one-step ahead expanding window predictions from model: Naive (sktime)\n",
      "...finished!\n",
      "\n",
      "Now generating 168 one-step ahead expanding window predictions from model: Naive (drift) (sktime)\n",
      "...finished!\n",
      "\n",
      "Now generating 168 one-step ahead expanding window predictions from model: AutoSARIMA (sktime)\n",
      "Auto-fitting model...\n",
      "AutoSARIMA forecast 1 / 168\n",
      "AutoSARIMA forecast 10 / 168\n",
      "AutoSARIMA forecast 20 / 168\n",
      "AutoSARIMA forecast 30 / 168\n",
      "AutoSARIMA forecast 40 / 168\n",
      "AutoSARIMA forecast 50 / 168\n",
      "...automatic refitting...\n",
      "AutoSARIMA forecast 60 / 168\n",
      "AutoSARIMA forecast 70 / 168\n",
      "AutoSARIMA forecast 80 / 168\n",
      "AutoSARIMA forecast 90 / 168\n",
      "AutoSARIMA forecast 100 / 168\n",
      "AutoSARIMA forecast 110 / 168\n",
      "...automatic refitting...\n",
      "AutoSARIMA forecast 120 / 168\n",
      "AutoSARIMA forecast 130 / 168\n",
      "AutoSARIMA forecast 140 / 168\n",
      "AutoSARIMA forecast 150 / 168\n",
      "AutoSARIMA forecast 160 / 168\n",
      "AutoSARIMA forecast 168 / 168\n",
      "...finished!\n",
      "\n",
      "Now generating 168 one-step ahead expanding window predictions from model: Exponential Smoothing (sktime)\n",
      "...finished!\n",
      "\n",
      "Now generating 168 one-step ahead expanding window predictions from model: STL (sktime)\n",
      "...finished!\n",
      "\n",
      "Now generating 168 one-step ahead expanding window predictions from model: XGBoost (darts)\n",
      "...finished!\n",
      "\n",
      "Now generating 168 one-step ahead expanding window predictions from model: XGBoost with covariates (darts)\n",
      "...finished!\n",
      "\n",
      "Now generating 168 one-step ahead expanding window predictions from model: AutoSARIMAX with covariates (sktime)\n",
      "Auto-fitting model...\n",
      "AutoSARIMAX with covariates forecast 1 / 168\n",
      "AutoSARIMAX with covariates forecast 10 / 168\n",
      "AutoSARIMAX with covariates forecast 20 / 168\n",
      "AutoSARIMAX with covariates forecast 30 / 168\n",
      "AutoSARIMAX with covariates forecast 40 / 168\n",
      "AutoSARIMAX with covariates forecast 50 / 168\n",
      "...automatic refitting...\n",
      "AutoSARIMAX with covariates forecast 60 / 168\n",
      "AutoSARIMAX with covariates forecast 70 / 168\n",
      "AutoSARIMAX with covariates forecast 80 / 168\n",
      "AutoSARIMAX with covariates forecast 90 / 168\n",
      "AutoSARIMAX with covariates forecast 100 / 168\n",
      "AutoSARIMAX with covariates forecast 110 / 168\n",
      "...automatic refitting...\n",
      "AutoSARIMAX with covariates forecast 120 / 168\n",
      "AutoSARIMAX with covariates forecast 130 / 168\n",
      "AutoSARIMAX with covariates forecast 140 / 168\n",
      "AutoSARIMAX with covariates forecast 150 / 168\n",
      "AutoSARIMAX with covariates forecast 160 / 168\n",
      "AutoSARIMAX with covariates forecast 168 / 168\n",
      "...finished!\n",
      "\n",
      "Individual predictions finished!\n",
      "Exporting individual forecasts as csv...\n",
      "...finished!\n",
      "\n",
      "            Target      Naive  Naive (drift)  AutoSARIMA  \\\n",
      "Date                                                       \n",
      "2010-01  61.919969  59.512417      59.634557   60.692275   \n",
      "2010-02  62.374553  61.919969      62.073851   60.860052   \n",
      "2010-03  62.618675  62.374553      62.532554   61.881481   \n",
      "2010-04  70.651365  62.618675      62.777840   63.011423   \n",
      "2010-05  71.222268  70.651365      70.915510   68.377171   \n",
      "\n",
      "         Exponential Smoothing        STL    XGBoost  XGBoost with covariates  \\\n",
      "Date                                                                            \n",
      "2010-01              60.050325  63.260342  60.261635                60.012424   \n",
      "2010-02              61.450084  62.610622  59.190678                60.870102   \n",
      "2010-03              62.143851  60.727766  59.750912                61.046246   \n",
      "2010-04              62.500502  60.303456  61.404453                61.771454   \n",
      "2010-05              68.693421  64.096111  64.496223                61.775608   \n",
      "\n",
      "         AutoSARIMAX with covariates  \n",
      "Date                                  \n",
      "2010-01                    60.768231  \n",
      "2010-02                    61.174377  \n",
      "2010-03                    61.089623  \n",
      "2010-04                    62.261457  \n",
      "2010-05                    69.571855   \n",
      "\n",
      "\n",
      "#############################################\n",
      "## Step 3: Historical Ensemble Predictions ##\n",
      "#############################################\n",
      "Splitting forecast data (n = 168) for ensemble forecasts (train/test ratio: 30/70)...\n",
      "Initial training set has 50 observations and goes from 2010-01 to 2014-02\n",
      "There are 118 periods to be forecasted by the individual models 2014-03 to 2023-12\n",
      "\n",
      "Performing Simple weighted expanding window forecasts...\n",
      "Ensemble forecast 1 / 118\n",
      "Ensemble forecast 10 / 118\n",
      "Ensemble forecast 20 / 118\n",
      "Ensemble forecast 30 / 118\n",
      "Ensemble forecast 40 / 118\n",
      "Ensemble forecast 50 / 118\n",
      "Ensemble forecast 60 / 118\n",
      "Ensemble forecast 70 / 118\n",
      "Ensemble forecast 80 / 118\n",
      "Ensemble forecast 90 / 118\n",
      "Ensemble forecast 100 / 118\n",
      "Ensemble forecast 110 / 118\n",
      "Ensemble forecast 118 / 118\n",
      "...finished!\n",
      "\n",
      "Performing Inv_RMSE weighted expanding window forecasts...\n",
      "Ensemble forecast 1 / 118\n",
      "Ensemble forecast 10 / 118\n",
      "Ensemble forecast 20 / 118\n",
      "Ensemble forecast 30 / 118\n",
      "Ensemble forecast 40 / 118\n",
      "Ensemble forecast 50 / 118\n",
      "Ensemble forecast 60 / 118\n",
      "Ensemble forecast 70 / 118\n",
      "Ensemble forecast 80 / 118\n",
      "Ensemble forecast 90 / 118\n",
      "Ensemble forecast 100 / 118\n",
      "Ensemble forecast 110 / 118\n",
      "Ensemble forecast 118 / 118\n",
      "...finished!\n",
      "\n",
      "Performing Inv_Variance weighted expanding window forecasts...\n",
      "Ensemble forecast 1 / 118\n",
      "Ensemble forecast 10 / 118\n",
      "Ensemble forecast 20 / 118\n",
      "Ensemble forecast 30 / 118\n",
      "Ensemble forecast 40 / 118\n",
      "Ensemble forecast 50 / 118\n",
      "Ensemble forecast 60 / 118\n",
      "Ensemble forecast 70 / 118\n",
      "Ensemble forecast 80 / 118\n",
      "Ensemble forecast 90 / 118\n",
      "Ensemble forecast 100 / 118\n",
      "Ensemble forecast 110 / 118\n",
      "Ensemble forecast 118 / 118\n",
      "...finished!\n",
      "\n",
      "Performing Inv_ErrorCov weighted expanding window forecasts...\n",
      "Ensemble forecast 1 / 118\n",
      "Ensemble forecast 10 / 118\n",
      "Ensemble forecast 20 / 118\n",
      "Ensemble forecast 30 / 118\n",
      "Ensemble forecast 40 / 118\n",
      "Ensemble forecast 50 / 118\n",
      "Ensemble forecast 60 / 118\n",
      "Ensemble forecast 70 / 118\n",
      "Ensemble forecast 80 / 118\n",
      "Ensemble forecast 90 / 118\n",
      "Ensemble forecast 100 / 118\n",
      "Ensemble forecast 110 / 118\n",
      "Ensemble forecast 118 / 118\n",
      "...finished!\n",
      "\n",
      "Performing SVR meta expanding window forecasts...\n",
      "Ensemble forecast 1 / 118\n",
      "Ensemble forecast 10 / 118\n",
      "Ensemble forecast 20 / 118\n",
      "Ensemble forecast 30 / 118\n",
      "Ensemble forecast 40 / 118\n",
      "Ensemble forecast 50 / 118\n",
      "Ensemble forecast 60 / 118\n",
      "Ensemble forecast 70 / 118\n",
      "Ensemble forecast 80 / 118\n",
      "Ensemble forecast 90 / 118\n",
      "Ensemble forecast 100 / 118\n",
      "Ensemble forecast 110 / 118\n",
      "Ensemble forecast 118 / 118\n",
      "...finished!\n",
      "\n",
      "Performing RandomForest meta expanding window forecasts...\n",
      "Ensemble forecast 1 / 118\n",
      "Ensemble forecast 10 / 118\n",
      "Ensemble forecast 20 / 118\n",
      "Ensemble forecast 30 / 118\n",
      "Ensemble forecast 40 / 118\n",
      "Ensemble forecast 50 / 118\n",
      "Ensemble forecast 60 / 118\n",
      "Ensemble forecast 70 / 118\n",
      "Ensemble forecast 80 / 118\n",
      "Ensemble forecast 90 / 118\n",
      "Ensemble forecast 100 / 118\n",
      "Ensemble forecast 110 / 118\n",
      "Ensemble forecast 118 / 118\n",
      "...finished!\n",
      "Ensemble predictions finished!\n",
      "         Ens_weighted_Simple  Ens_weighted_Inv_RMSE  \\\n",
      "Date                                                  \n",
      "2014-03            77.732829              77.978369   \n",
      "2014-04            76.270147              76.348004   \n",
      "2014-05            76.477920              76.556029   \n",
      "2014-06            76.423971              76.375530   \n",
      "2014-07            75.172676              75.154825   \n",
      "\n",
      "         Ens_weighted_Inv_Variance  Ens_weighted_Inv_ErrorCov  Ens_meta_SVR  \\\n",
      "Date                                                                          \n",
      "2014-03                  77.969084                  71.962551     75.361130   \n",
      "2014-04                  76.341994                  69.546946     75.616877   \n",
      "2014-05                  76.550872                  69.103685     74.365684   \n",
      "2014-06                  76.379359                  68.195816     73.538398   \n",
      "2014-07                  75.162466                  67.706094     73.966973   \n",
      "\n",
      "         Ens_meta_RandomForest  \n",
      "Date                            \n",
      "2014-03              75.862371  \n",
      "2014-04              76.501085  \n",
      "2014-05              75.639340  \n",
      "2014-06              75.540151  \n",
      "2014-07              73.628232  \n",
      "Merging...\n",
      "Exporting ensemble forecasts as csv...\n",
      "...finished!\n",
      "\n",
      "############################################\n",
      "## Step 4: Creating Metrics Ranking Table ##\n",
      "############################################\n",
      "Calculating MAPE, RMSE, SMAPE per model...\n",
      "Ranking models ...\n",
      "Exporting metrics ranking as csv...\n",
      "...finished!\n",
      "\n",
      "                          Model      MAPE      RMSE     SMAPE  MAPE_Ranking  \\\n",
      "0                         Naive  3.381770  2.698995  2.246949             1   \n",
      "1                 Naive (drift)  3.400060  2.717839  2.257468             2   \n",
      "2                    AutoSARIMA  3.432000  2.683448  2.281666             3   \n",
      "3         Exponential Smoothing  3.468154  2.699320  2.304909             4   \n",
      "4         Ens_weighted_Inv_RMSE  3.624807  2.806091  2.409647             5   \n",
      "5   AutoSARIMAX with covariates  3.694086  2.916014  2.452845             6   \n",
      "6           Ens_weighted_Simple  3.695243  2.866906  2.456891             7   \n",
      "7     Ens_weighted_Inv_Variance  3.705037  2.855860  2.463077             8   \n",
      "8                  Ens_meta_SVR  3.814224  3.040858  2.529375             9   \n",
      "9         Ens_meta_RandomForest  4.093160  3.281715  2.708091            10   \n",
      "10      XGBoost with covariates  4.301074  3.409474  2.868974            11   \n",
      "11    Ens_weighted_Inv_ErrorCov  4.660336  4.226332  3.149290            12   \n",
      "12                      XGBoost  4.902344  3.752986  3.243880            13   \n",
      "13                          STL  6.788704  5.431760  4.531902            14   \n",
      "\n",
      "    RMSE_Ranking  SMAPE_Ranking  \n",
      "0              2              1  \n",
      "1              4              2  \n",
      "2              1              3  \n",
      "3              3              4  \n",
      "4              5              5  \n",
      "5              8              6  \n",
      "6              7              7  \n",
      "7              6              8  \n",
      "8              9              9  \n",
      "9             10             10  \n",
      "10            11             11  \n",
      "11            13             12  \n",
      "12            12             13  \n",
      "13            14             14   \n",
      "\n",
      "Finished pipeline!\n"
     ]
    }
   ],
   "source": [
    "# fyi: training takes about 9 min on complete dataset and 4.5 min on subset\n",
    "target, covariates, individual_predictions, full_predictions, metrics_ranking = (\n",
    "    run_pipeline(\n",
    "        df=df, forecasting_models=FC_MODELS, ensemble_methods=ENS_METHODS, metrics=metrics, \n",
    "        indiv_init_train_ratio=0.3, ens_init_train_ratio=0.3,\n",
    "        verbose=True\n",
    "    )\n",
    ")"
   ]
  },
  {
   "cell_type": "markdown",
   "source": [
    "## 5) Show Ranking Table"
   ],
   "metadata": {
    "collapsed": false
   }
  },
  {
   "cell_type": "code",
   "execution_count": 5,
   "metadata": {
    "ExecuteTime": {
     "end_time": "2024-03-03T05:41:42.152829Z",
     "start_time": "2024-03-03T05:41:41.941993Z"
    }
   },
   "outputs": [
    {
     "data": {
      "text/plain": "<pandas.io.formats.style.Styler at 0x26eb2fca910>",
      "text/html": "<style type=\"text/css\">\n</style>\n<table id=\"T_538be\">\n  <thead>\n    <tr>\n      <th id=\"T_538be_level0_col0\" class=\"col_heading level0 col0\" >Model</th>\n      <th id=\"T_538be_level0_col1\" class=\"col_heading level0 col1\" >MAPE</th>\n      <th id=\"T_538be_level0_col2\" class=\"col_heading level0 col2\" >RMSE</th>\n      <th id=\"T_538be_level0_col3\" class=\"col_heading level0 col3\" >SMAPE</th>\n      <th id=\"T_538be_level0_col4\" class=\"col_heading level0 col4\" >MAPE_Ranking</th>\n      <th id=\"T_538be_level0_col5\" class=\"col_heading level0 col5\" >RMSE_Ranking</th>\n      <th id=\"T_538be_level0_col6\" class=\"col_heading level0 col6\" >SMAPE_Ranking</th>\n    </tr>\n  </thead>\n  <tbody>\n    <tr>\n      <td id=\"T_538be_row0_col0\" class=\"data row0 col0\" >Naive</td>\n      <td id=\"T_538be_row0_col1\" class=\"data row0 col1\" >3.381770</td>\n      <td id=\"T_538be_row0_col2\" class=\"data row0 col2\" >2.698995</td>\n      <td id=\"T_538be_row0_col3\" class=\"data row0 col3\" >2.246949</td>\n      <td id=\"T_538be_row0_col4\" class=\"data row0 col4\" >1</td>\n      <td id=\"T_538be_row0_col5\" class=\"data row0 col5\" >2</td>\n      <td id=\"T_538be_row0_col6\" class=\"data row0 col6\" >1</td>\n    </tr>\n    <tr>\n      <td id=\"T_538be_row1_col0\" class=\"data row1 col0\" >Naive (drift)</td>\n      <td id=\"T_538be_row1_col1\" class=\"data row1 col1\" >3.400060</td>\n      <td id=\"T_538be_row1_col2\" class=\"data row1 col2\" >2.717839</td>\n      <td id=\"T_538be_row1_col3\" class=\"data row1 col3\" >2.257468</td>\n      <td id=\"T_538be_row1_col4\" class=\"data row1 col4\" >2</td>\n      <td id=\"T_538be_row1_col5\" class=\"data row1 col5\" >4</td>\n      <td id=\"T_538be_row1_col6\" class=\"data row1 col6\" >2</td>\n    </tr>\n    <tr>\n      <td id=\"T_538be_row2_col0\" class=\"data row2 col0\" >AutoSARIMA</td>\n      <td id=\"T_538be_row2_col1\" class=\"data row2 col1\" >3.432000</td>\n      <td id=\"T_538be_row2_col2\" class=\"data row2 col2\" >2.683448</td>\n      <td id=\"T_538be_row2_col3\" class=\"data row2 col3\" >2.281666</td>\n      <td id=\"T_538be_row2_col4\" class=\"data row2 col4\" >3</td>\n      <td id=\"T_538be_row2_col5\" class=\"data row2 col5\" >1</td>\n      <td id=\"T_538be_row2_col6\" class=\"data row2 col6\" >3</td>\n    </tr>\n    <tr>\n      <td id=\"T_538be_row3_col0\" class=\"data row3 col0\" >Exponential Smoothing</td>\n      <td id=\"T_538be_row3_col1\" class=\"data row3 col1\" >3.468154</td>\n      <td id=\"T_538be_row3_col2\" class=\"data row3 col2\" >2.699320</td>\n      <td id=\"T_538be_row3_col3\" class=\"data row3 col3\" >2.304909</td>\n      <td id=\"T_538be_row3_col4\" class=\"data row3 col4\" >4</td>\n      <td id=\"T_538be_row3_col5\" class=\"data row3 col5\" >3</td>\n      <td id=\"T_538be_row3_col6\" class=\"data row3 col6\" >4</td>\n    </tr>\n    <tr>\n      <td id=\"T_538be_row4_col0\" class=\"data row4 col0\" >Ens_weighted_Inv_RMSE</td>\n      <td id=\"T_538be_row4_col1\" class=\"data row4 col1\" >3.624807</td>\n      <td id=\"T_538be_row4_col2\" class=\"data row4 col2\" >2.806091</td>\n      <td id=\"T_538be_row4_col3\" class=\"data row4 col3\" >2.409647</td>\n      <td id=\"T_538be_row4_col4\" class=\"data row4 col4\" >5</td>\n      <td id=\"T_538be_row4_col5\" class=\"data row4 col5\" >5</td>\n      <td id=\"T_538be_row4_col6\" class=\"data row4 col6\" >5</td>\n    </tr>\n    <tr>\n      <td id=\"T_538be_row5_col0\" class=\"data row5 col0\" >AutoSARIMAX with covariates</td>\n      <td id=\"T_538be_row5_col1\" class=\"data row5 col1\" >3.694086</td>\n      <td id=\"T_538be_row5_col2\" class=\"data row5 col2\" >2.916014</td>\n      <td id=\"T_538be_row5_col3\" class=\"data row5 col3\" >2.452845</td>\n      <td id=\"T_538be_row5_col4\" class=\"data row5 col4\" >6</td>\n      <td id=\"T_538be_row5_col5\" class=\"data row5 col5\" >8</td>\n      <td id=\"T_538be_row5_col6\" class=\"data row5 col6\" >6</td>\n    </tr>\n    <tr>\n      <td id=\"T_538be_row6_col0\" class=\"data row6 col0\" >Ens_weighted_Simple</td>\n      <td id=\"T_538be_row6_col1\" class=\"data row6 col1\" >3.695243</td>\n      <td id=\"T_538be_row6_col2\" class=\"data row6 col2\" >2.866906</td>\n      <td id=\"T_538be_row6_col3\" class=\"data row6 col3\" >2.456891</td>\n      <td id=\"T_538be_row6_col4\" class=\"data row6 col4\" >7</td>\n      <td id=\"T_538be_row6_col5\" class=\"data row6 col5\" >7</td>\n      <td id=\"T_538be_row6_col6\" class=\"data row6 col6\" >7</td>\n    </tr>\n    <tr>\n      <td id=\"T_538be_row7_col0\" class=\"data row7 col0\" >Ens_weighted_Inv_Variance</td>\n      <td id=\"T_538be_row7_col1\" class=\"data row7 col1\" >3.705037</td>\n      <td id=\"T_538be_row7_col2\" class=\"data row7 col2\" >2.855860</td>\n      <td id=\"T_538be_row7_col3\" class=\"data row7 col3\" >2.463077</td>\n      <td id=\"T_538be_row7_col4\" class=\"data row7 col4\" >8</td>\n      <td id=\"T_538be_row7_col5\" class=\"data row7 col5\" >6</td>\n      <td id=\"T_538be_row7_col6\" class=\"data row7 col6\" >8</td>\n    </tr>\n    <tr>\n      <td id=\"T_538be_row8_col0\" class=\"data row8 col0\" >Ens_meta_SVR</td>\n      <td id=\"T_538be_row8_col1\" class=\"data row8 col1\" >3.814224</td>\n      <td id=\"T_538be_row8_col2\" class=\"data row8 col2\" >3.040858</td>\n      <td id=\"T_538be_row8_col3\" class=\"data row8 col3\" >2.529375</td>\n      <td id=\"T_538be_row8_col4\" class=\"data row8 col4\" >9</td>\n      <td id=\"T_538be_row8_col5\" class=\"data row8 col5\" >9</td>\n      <td id=\"T_538be_row8_col6\" class=\"data row8 col6\" >9</td>\n    </tr>\n    <tr>\n      <td id=\"T_538be_row9_col0\" class=\"data row9 col0\" >Ens_meta_RandomForest</td>\n      <td id=\"T_538be_row9_col1\" class=\"data row9 col1\" >4.093160</td>\n      <td id=\"T_538be_row9_col2\" class=\"data row9 col2\" >3.281715</td>\n      <td id=\"T_538be_row9_col3\" class=\"data row9 col3\" >2.708091</td>\n      <td id=\"T_538be_row9_col4\" class=\"data row9 col4\" >10</td>\n      <td id=\"T_538be_row9_col5\" class=\"data row9 col5\" >10</td>\n      <td id=\"T_538be_row9_col6\" class=\"data row9 col6\" >10</td>\n    </tr>\n    <tr>\n      <td id=\"T_538be_row10_col0\" class=\"data row10 col0\" >XGBoost with covariates</td>\n      <td id=\"T_538be_row10_col1\" class=\"data row10 col1\" >4.301074</td>\n      <td id=\"T_538be_row10_col2\" class=\"data row10 col2\" >3.409474</td>\n      <td id=\"T_538be_row10_col3\" class=\"data row10 col3\" >2.868974</td>\n      <td id=\"T_538be_row10_col4\" class=\"data row10 col4\" >11</td>\n      <td id=\"T_538be_row10_col5\" class=\"data row10 col5\" >11</td>\n      <td id=\"T_538be_row10_col6\" class=\"data row10 col6\" >11</td>\n    </tr>\n    <tr>\n      <td id=\"T_538be_row11_col0\" class=\"data row11 col0\" >Ens_weighted_Inv_ErrorCov</td>\n      <td id=\"T_538be_row11_col1\" class=\"data row11 col1\" >4.660336</td>\n      <td id=\"T_538be_row11_col2\" class=\"data row11 col2\" >4.226332</td>\n      <td id=\"T_538be_row11_col3\" class=\"data row11 col3\" >3.149290</td>\n      <td id=\"T_538be_row11_col4\" class=\"data row11 col4\" >12</td>\n      <td id=\"T_538be_row11_col5\" class=\"data row11 col5\" >13</td>\n      <td id=\"T_538be_row11_col6\" class=\"data row11 col6\" >12</td>\n    </tr>\n    <tr>\n      <td id=\"T_538be_row12_col0\" class=\"data row12 col0\" >XGBoost</td>\n      <td id=\"T_538be_row12_col1\" class=\"data row12 col1\" >4.902344</td>\n      <td id=\"T_538be_row12_col2\" class=\"data row12 col2\" >3.752986</td>\n      <td id=\"T_538be_row12_col3\" class=\"data row12 col3\" >3.243880</td>\n      <td id=\"T_538be_row12_col4\" class=\"data row12 col4\" >13</td>\n      <td id=\"T_538be_row12_col5\" class=\"data row12 col5\" >12</td>\n      <td id=\"T_538be_row12_col6\" class=\"data row12 col6\" >13</td>\n    </tr>\n    <tr>\n      <td id=\"T_538be_row13_col0\" class=\"data row13 col0\" >STL</td>\n      <td id=\"T_538be_row13_col1\" class=\"data row13 col1\" >6.788704</td>\n      <td id=\"T_538be_row13_col2\" class=\"data row13 col2\" >5.431760</td>\n      <td id=\"T_538be_row13_col3\" class=\"data row13 col3\" >4.531902</td>\n      <td id=\"T_538be_row13_col4\" class=\"data row13 col4\" >14</td>\n      <td id=\"T_538be_row13_col5\" class=\"data row13 col5\" >14</td>\n      <td id=\"T_538be_row13_col6\" class=\"data row13 col6\" >14</td>\n    </tr>\n  </tbody>\n</table>\n"
     },
     "metadata": {},
     "output_type": "display_data"
    }
   ],
   "source": [
    "display(metrics_ranking.style.hide())"
   ]
  }
 ],
 "metadata": {
  "kernelspec": {
   "display_name": "Python 3",
   "language": "python",
   "name": "python3"
  },
  "language_info": {
   "codemirror_mode": {
    "name": "ipython",
    "version": 3
   },
   "file_extension": ".py",
   "mimetype": "text/x-python",
   "name": "python",
   "nbconvert_exporter": "python",
   "pygments_lexer": "ipython3",
   "version": "3.11.3"
  }
 },
 "nbformat": 4,
 "nbformat_minor": 2
}
