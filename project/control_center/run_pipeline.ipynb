{
 "cells": [
  {
   "cell_type": "markdown",
   "metadata": {},
   "source": [
    "# Interface for Pipeline Execution"
   ]
  },
  {
   "cell_type": "markdown",
   "source": [
    "## 1) Import Individual Forecasting Models, Ensemble Methods and Models, and Metrics"
   ],
   "metadata": {
    "collapsed": false
   }
  },
  {
   "cell_type": "code",
   "outputs": [
    {
     "name": "stdout",
     "output_type": "stream",
     "text": [
      "Loading individual forecasting models...\n",
      "Loading ensemble methods and models...\n",
      "Loading metrics...\n"
     ]
    }
   ],
   "source": [
    "from models.forecasting import FC_MODELS\n",
    "from models.ensembling import ENS_METHODS\n",
    "from utils.metrics import metrics"
   ],
   "metadata": {
    "collapsed": false,
    "ExecuteTime": {
     "end_time": "2024-03-04T13:05:45.494946Z",
     "start_time": "2024-03-04T13:05:21.761313Z"
    }
   },
   "execution_count": 1
  },
  {
   "cell_type": "markdown",
   "source": [
    "## 2) Import Modules, Functions, and Paths"
   ],
   "metadata": {
    "collapsed": false
   }
  },
  {
   "cell_type": "code",
   "outputs": [
    {
     "name": "stdout",
     "output_type": "stream",
     "text": [
      "Loading helper functions...\n",
      "Loading paths...\n"
     ]
    }
   ],
   "source": [
    "from utils.helpers import csv_reader\n",
    "from utils.paths import *\n",
    "from pipeline.run_pipeline import run_pipeline"
   ],
   "metadata": {
    "collapsed": false,
    "ExecuteTime": {
     "end_time": "2024-03-04T13:05:45.565096Z",
     "start_time": "2024-03-04T13:05:45.500961Z"
    }
   },
   "execution_count": 2
  },
  {
   "cell_type": "markdown",
   "source": [
    "## 3) Select Input Data "
   ],
   "metadata": {
    "collapsed": false
   }
  },
  {
   "cell_type": "code",
   "execution_count": 3,
   "metadata": {
    "ExecuteTime": {
     "end_time": "2024-03-04T13:05:45.576044Z",
     "start_time": "2024-03-04T13:05:45.568111Z"
    }
   },
   "outputs": [],
   "source": [
    "## Read input data\n",
    "# df = csv_reader(SIMDATA_DIR, 'noisy_simdata')\n",
    "# print(df.head())\n",
    "\n",
    "# For testng pipeline for now I use a subset of 10 years:\n",
    "# df = df.iloc[:120, :]"
   ]
  },
  {
   "cell_type": "code",
   "outputs": [
    {
     "name": "stdout",
     "output_type": "stream",
     "text": [
      "                     bid_close\n",
      "datetime                      \n",
      "2020-01-01 00:00:00        NaN\n",
      "2020-01-01 00:15:00        NaN\n",
      "2020-01-01 00:30:00        NaN\n",
      "2020-01-01 00:45:00        NaN\n",
      "2020-01-01 01:00:00        NaN\n"
     ]
    }
   ],
   "source": [
    "## Using the EUR-USD Exchange Rate data\n",
    "df = csv_reader(TESTDATA_DIR, 'eurusd', columns=['datetime', 'bid_close'])\n",
    "print(df.head())\n",
    "\n",
    "# For testng pipeline for now I use a small subset:\n",
    "df = df.iloc[:10000, :]"
   ],
   "metadata": {
    "collapsed": false,
    "ExecuteTime": {
     "end_time": "2024-03-04T13:05:45.911232Z",
     "start_time": "2024-03-04T13:05:45.579068Z"
    }
   },
   "execution_count": 4
  },
  {
   "cell_type": "markdown",
   "source": [
    "## 4) Run Pipeline"
   ],
   "metadata": {
    "collapsed": false
   }
  },
  {
   "cell_type": "markdown",
   "source": [
    "### 4.1) ... on Simulated Data"
   ],
   "metadata": {
    "collapsed": false
   }
  },
  {
   "cell_type": "code",
   "execution_count": 5,
   "metadata": {
    "ExecuteTime": {
     "end_time": "2024-03-04T13:05:45.925571Z",
     "start_time": "2024-03-04T13:05:45.919244Z"
    }
   },
   "outputs": [],
   "source": [
    "# # output_dict = (\n",
    "#     run_pipeline(\n",
    "#         df=df,  forecasting_models=FC_MODELS, ensemble_methods=ENS_METHODS, metrics=metrics,\n",
    "#         verbose=True\n",
    "#     )\n",
    "# )"
   ]
  },
  {
   "cell_type": "markdown",
   "source": [
    "### 4.2) ... on EUR-USD Exchange Data"
   ],
   "metadata": {
    "collapsed": false
   }
  },
  {
   "cell_type": "code",
   "outputs": [
    {
     "name": "stdout",
     "output_type": "stream",
     "text": [
      "\u001B[33;1m=================================================================================\n",
      "[2024-03-04 14:05] Starting  Pipeline...\u001B[0m\n",
      "\u001B[33;1m\n",
      "=====================================================\n",
      "== Starting Step 1 in Pipeline: Data Preprocessing ==\n",
      "=====================================================\n",
      "\u001B[0m\n",
      "\u001B[33;1mSearching for time information...\u001B[0m\n",
      "\u001B[33;1mDates found in 'index' column!\u001B[0m\n",
      "\u001B[33;1mInferred frequency: 15T\u001B[0m\n",
      "\u001B[33;1mData from goes from 2020-01-01 to 2020-04-14, resulting in 10000 observations.\n",
      "\u001B[0m\n",
      "\u001B[33;1mAggregating data to frequency 'business day' using method 'last' and dropping NaNs...\u001B[0m\n",
      "\u001B[33;1m...finished!\n",
      "Data now has 74 observations.\n",
      "\u001B[0m\n",
      "\u001B[33;1mSelecting target and covariates...\u001B[0m\n",
      "\u001B[33;1mTarget: bid_close\u001B[0m\n",
      "\u001B[33;1mCovariates: None\u001B[0m\n",
      "\u001B[33;1m\n",
      "Data Insight:\n",
      "\u001B[0m\n",
      "\u001B[33;1m            bid_close\n",
      "datetime             \n",
      "2020-01-02    1.11702\n",
      "2020-01-03    1.11599\n",
      "2020-01-06    1.11948\n",
      "2020-01-07    1.11530\n",
      "2020-01-08    1.11124\u001B[0m\n",
      "\u001B[33;1m[Time elapsed: 00s]\n",
      "\u001B[0m\n",
      "\u001B[33;1m\n",
      "=======================================================\n",
      "== Starting Step 2 in Pipeline: Individual Forecasts ==\n",
      "=======================================================\n",
      "\u001B[0m\n",
      "\u001B[33;1mSplitting data (train/test ratio: 30/70)...\n",
      "Initial training set has 22 observations \u001B[0m\n",
      "\u001B[33;1mand goes from 2020-01-02 to 2020-01-31\n",
      "There are 52 periods to be forecasted: \u001B[0m\n",
      "\u001B[33;1m2020-02-03 to 2020-04-14\n",
      "\u001B[0m\n",
      "\u001B[33;1mNow generating 52 one-step ahead expanding window predictions from model: Naive (sktime)\u001B[0m\n",
      "\u001B[33;1m...finished!\n",
      "\u001B[0m\n",
      "\u001B[33;1mSince no covariates are given, skipping covariate models \u001B[0m\n",
      "\u001B[33;1m\n",
      "Individual predictions finished!\n",
      "\n",
      "Insights into models' predictions:\u001B[0m\n",
      "\u001B[33;1m              Naive\n",
      "Date               \n",
      "2020-02-03  1.10885\n",
      "2020-02-04  1.10618\n",
      "2020-02-05  1.10440\n",
      "2020-02-06  1.09994\n",
      "2020-02-07  1.09802\u001B[0m\n",
      "\u001B[33;1m\n",
      "\u001B[0m\n",
      "\u001B[33;1mExporting individual predictions as csv...\u001B[0m\n",
      "\u001B[33;1m...finished!\n",
      "\u001B[0m\n",
      "\u001B[33;1m[Time elapsed: 01s]\n",
      "\u001B[0m\n",
      "\u001B[33;1m\n",
      "=============================================\n",
      "== Step 3: Historical Ensemble Predictions ==\n",
      "=============================================\n",
      "\u001B[0m\n",
      "\u001B[33;1mSplitting forecast data (n = 52) for ensemble forecasts (train/test ratio: 30/70)...\u001B[0m\n",
      "\u001B[33;1mInitial training set has 15 observations and goes from 2020-02-03 to 2020-02-21\u001B[0m\n",
      "\u001B[33;1mThere are 37 periods to be forecasted by the individual models 2020-02-24 to 2020-04-14\u001B[0m\n",
      "\u001B[33;1m\n",
      "Now generating 37 one-step ahead expanding window predictions from ensemble model: 'Weighted - Simple'\u001B[0m\n",
      "\u001B[33;1mEnsemble forecast 1 / 37\u001B[0m\n",
      "\u001B[33;1mEnsemble forecast 2 / 37\u001B[0m\n",
      "\u001B[33;1m...finished!\u001B[0m\n",
      "\u001B[33;1m\n",
      "Now generating 37 one-step ahead expanding window predictions from ensemble model: 'Weighted - Inverse RMSE'\u001B[0m\n",
      "\u001B[33;1mEnsemble forecast 1 / 37\u001B[0m\n",
      "\u001B[33;1mEnsemble forecast 2 / 37\u001B[0m\n",
      "\u001B[33;1m...finished!\u001B[0m\n",
      "\u001B[33;1m\n",
      "Ensemble predictions finished!\n",
      "\n",
      "Insights into ensembles' predictions:\u001B[0m\n",
      "\u001B[33;1m            Weighted Ensemble: Simple  Weighted Ensemble: Inverse RMSE\n",
      "Date                                                                  \n",
      "2020-02-24                    1.08379                          1.08379\n",
      "2020-02-25                    1.08481                          1.08481\n",
      "2020-02-26                    1.08792                          1.08792\n",
      "2020-02-27                    1.08857                          1.08857\n",
      "2020-02-28                    1.09958                          1.09958\u001B[0m\n",
      "\u001B[33;1m\n",
      "Merging...\u001B[0m\n",
      "\u001B[33;1m...finished!\n",
      "\u001B[0m\n",
      "\u001B[33;1mExporting ensemble predictions as csv...\u001B[0m\n",
      "\u001B[33;1mExporting full predictions as csv...\u001B[0m\n",
      "\u001B[33;1m...finished!\n",
      "\u001B[0m\n",
      "\u001B[33;1m[Time elapsed: 01s]\n",
      "\u001B[0m\n",
      "\u001B[33;1m\n",
      "============================================\n",
      "== Step 4: Creating Metrics Ranking Table ==\n",
      "============================================\n",
      "\u001B[0m\n",
      "\u001B[33;1mCalculating MAPE, RMSE, SMAPE per model...\u001B[0m\n",
      "\u001B[33;1mRanking models ...\u001B[0m\n",
      "\u001B[33;1m...finished!\n",
      "\u001B[0m\n",
      "\u001B[33;1mExporting metrics ranking as csv...\u001B[0m\n",
      "\u001B[33;1m...finished!\n",
      "\u001B[0m\n",
      "\u001B[33;1mResults:\u001B[0m\n",
      "\u001B[33;1m                             Model      MAPE      RMSE     SMAPE  \\\n",
      "0                            Naive  0.604318  0.008753  0.402667   \n",
      "1        Weighted Ensemble: Simple  0.604318  0.008753  0.402667   \n",
      "2  Weighted Ensemble: Inverse RMSE  0.604318  0.008753  0.402667   \n",
      "\n",
      "   MAPE Ranking  RMSE Ranking  SMAPE Ranking  \n",
      "0             2             2              2  \n",
      "1             2             2              2  \n",
      "2             2             2              2  \u001B[0m\n",
      "\u001B[33;1m\n",
      "\n",
      "[2024-03-04 14:05] Finished Pipeline!\n",
      "[Total time elapsed: 01s]\n",
      "=================================================================================\u001B[0m\n"
     ]
    }
   ],
   "source": [
    "output_dict = (\n",
    "    run_pipeline(\n",
    "        df=df, forecasting_models=FC_MODELS, ensemble_methods=ENS_METHODS, metrics=metrics, \n",
    "        agg_method='last', agg_freq='B',\n",
    "        forecast_init_train=0.3, ensemble_init_train=0.3,\n",
    "        autosarimax_refit_interval=0.33,\n",
    "        select_individual_models=['Naive'],\n",
    "        select_ensemble_methods=['Simple', 'Inverse RMSE'],\n",
    "        verbose=True\n",
    "    )\n",
    ")"
   ],
   "metadata": {
    "collapsed": false,
    "ExecuteTime": {
     "end_time": "2024-03-04T13:05:47.716896Z",
     "start_time": "2024-03-04T13:05:45.929580Z"
    }
   },
   "execution_count": 6
  },
  {
   "cell_type": "markdown",
   "source": [
    "## 5) Show Ranking Table"
   ],
   "metadata": {
    "collapsed": false
   }
  },
  {
   "cell_type": "code",
   "execution_count": 7,
   "metadata": {
    "ExecuteTime": {
     "end_time": "2024-03-04T13:05:47.985097Z",
     "start_time": "2024-03-04T13:05:47.719912Z"
    }
   },
   "outputs": [
    {
     "data": {
      "text/plain": "<pandas.io.formats.style.Styler at 0x19503d7a350>",
      "text/html": "<style type=\"text/css\">\n</style>\n<table id=\"T_36ab5\">\n  <thead>\n    <tr>\n      <th id=\"T_36ab5_level0_col0\" class=\"col_heading level0 col0\" >Model</th>\n      <th id=\"T_36ab5_level0_col1\" class=\"col_heading level0 col1\" >MAPE</th>\n      <th id=\"T_36ab5_level0_col2\" class=\"col_heading level0 col2\" >RMSE</th>\n      <th id=\"T_36ab5_level0_col3\" class=\"col_heading level0 col3\" >SMAPE</th>\n      <th id=\"T_36ab5_level0_col4\" class=\"col_heading level0 col4\" >MAPE Ranking</th>\n      <th id=\"T_36ab5_level0_col5\" class=\"col_heading level0 col5\" >RMSE Ranking</th>\n      <th id=\"T_36ab5_level0_col6\" class=\"col_heading level0 col6\" >SMAPE Ranking</th>\n    </tr>\n  </thead>\n  <tbody>\n    <tr>\n      <td id=\"T_36ab5_row0_col0\" class=\"data row0 col0\" >Naive</td>\n      <td id=\"T_36ab5_row0_col1\" class=\"data row0 col1\" >0.604318</td>\n      <td id=\"T_36ab5_row0_col2\" class=\"data row0 col2\" >0.008753</td>\n      <td id=\"T_36ab5_row0_col3\" class=\"data row0 col3\" >0.402667</td>\n      <td id=\"T_36ab5_row0_col4\" class=\"data row0 col4\" >2</td>\n      <td id=\"T_36ab5_row0_col5\" class=\"data row0 col5\" >2</td>\n      <td id=\"T_36ab5_row0_col6\" class=\"data row0 col6\" >2</td>\n    </tr>\n    <tr>\n      <td id=\"T_36ab5_row1_col0\" class=\"data row1 col0\" >Weighted Ensemble: Simple</td>\n      <td id=\"T_36ab5_row1_col1\" class=\"data row1 col1\" >0.604318</td>\n      <td id=\"T_36ab5_row1_col2\" class=\"data row1 col2\" >0.008753</td>\n      <td id=\"T_36ab5_row1_col3\" class=\"data row1 col3\" >0.402667</td>\n      <td id=\"T_36ab5_row1_col4\" class=\"data row1 col4\" >2</td>\n      <td id=\"T_36ab5_row1_col5\" class=\"data row1 col5\" >2</td>\n      <td id=\"T_36ab5_row1_col6\" class=\"data row1 col6\" >2</td>\n    </tr>\n    <tr>\n      <td id=\"T_36ab5_row2_col0\" class=\"data row2 col0\" >Weighted Ensemble: Inverse RMSE</td>\n      <td id=\"T_36ab5_row2_col1\" class=\"data row2 col1\" >0.604318</td>\n      <td id=\"T_36ab5_row2_col2\" class=\"data row2 col2\" >0.008753</td>\n      <td id=\"T_36ab5_row2_col3\" class=\"data row2 col3\" >0.402667</td>\n      <td id=\"T_36ab5_row2_col4\" class=\"data row2 col4\" >2</td>\n      <td id=\"T_36ab5_row2_col5\" class=\"data row2 col5\" >2</td>\n      <td id=\"T_36ab5_row2_col6\" class=\"data row2 col6\" >2</td>\n    </tr>\n  </tbody>\n</table>\n"
     },
     "metadata": {},
     "output_type": "display_data"
    }
   ],
   "source": [
    "display(output_dict['metrics ranking'].style.hide())"
   ]
  }
 ],
 "metadata": {
  "kernelspec": {
   "display_name": "Python 3",
   "language": "python",
   "name": "python3"
  },
  "language_info": {
   "codemirror_mode": {
    "name": "ipython",
    "version": 3
   },
   "file_extension": ".py",
   "mimetype": "text/x-python",
   "name": "python",
   "nbconvert_exporter": "python",
   "pygments_lexer": "ipython3",
   "version": "3.11.3"
  }
 },
 "nbformat": 4,
 "nbformat_minor": 2
}
