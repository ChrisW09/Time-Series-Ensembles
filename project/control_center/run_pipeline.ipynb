{
 "cells": [
  {
   "cell_type": "markdown",
   "metadata": {},
   "source": [
    "# Interface for Pipeline Execution"
   ]
  },
  {
   "cell_type": "markdown",
   "source": [
    "## 1) Import Individual Forecasting Models, Ensemble Methods and Models, and Metrics"
   ],
   "metadata": {
    "collapsed": false
   }
  },
  {
   "cell_type": "code",
   "outputs": [],
   "source": [
    "from models.forecasting import FC_MODELS\n",
    "from models.ensembling import ENS_METHODS\n",
    "from utils.metrics import metrics"
   ],
   "metadata": {
    "collapsed": false,
    "is_executing": true,
    "ExecuteTime": {
     "start_time": "2024-03-04T13:05:21.761313Z"
    }
   },
   "execution_count": null
  },
  {
   "cell_type": "markdown",
   "source": [
    "## 2) Import Modules, Functions, and Paths"
   ],
   "metadata": {
    "collapsed": false
   }
  },
  {
   "cell_type": "code",
   "outputs": [],
   "source": [
    "from utils.helpers import csv_reader\n",
    "from utils.paths import *\n",
    "from pipeline.run_pipeline import run_pipeline"
   ],
   "metadata": {
    "collapsed": false,
    "is_executing": true
   },
   "execution_count": null
  },
  {
   "cell_type": "markdown",
   "source": [
    "## 3) Select Input Data "
   ],
   "metadata": {
    "collapsed": false
   }
  },
  {
   "cell_type": "code",
   "execution_count": null,
   "metadata": {
    "is_executing": true
   },
   "outputs": [],
   "source": [
    "## Read input data\n",
    "# df = csv_reader(SIMDATA_DIR, 'noisy_simdata')\n",
    "# print(df.head())\n",
    "\n",
    "# For testng pipeline for now I use a subset of 10 years:\n",
    "# df = df.iloc[:120, :]"
   ]
  },
  {
   "cell_type": "code",
   "outputs": [],
   "source": [
    "## Using the EUR-USD Exchange Rate data\n",
    "df = csv_reader(TESTDATA_DIR, 'eurusd', columns=['datetime', 'bid_close'])\n",
    "print(df.head())\n",
    "\n",
    "# For testng pipeline for now I use a small subset:\n",
    "df = df.iloc[:10000, :]"
   ],
   "metadata": {
    "collapsed": false,
    "is_executing": true
   },
   "execution_count": null
  },
  {
   "cell_type": "markdown",
   "source": [
    "## 4) Run Pipeline"
   ],
   "metadata": {
    "collapsed": false
   }
  },
  {
   "cell_type": "markdown",
   "source": [
    "### 4.1) ... on Simulated Data"
   ],
   "metadata": {
    "collapsed": false
   }
  },
  {
   "cell_type": "code",
   "execution_count": null,
   "metadata": {
    "is_executing": true
   },
   "outputs": [],
   "source": [
    "# target_covariates_dict, individual_predictions, full_predictions, metrics_ranking = (\n",
    "#     run_pipeline(\n",
    "#         df=df, forecasting_models=FC_MODELS, ensemble_methods=ENS_METHODS, metrics=metrics, \n",
    "#         autosarimax_refit_interval=0.33,\n",
    "#         forecast_init_train=0.3, ensemble_init_train=0.3,\n",
    "#         verbose=True\n",
    "#     )\n",
    "# )"
   ]
  },
  {
   "cell_type": "markdown",
   "source": [
    "### 4.2) ... on EUR-USD Exchange Data"
   ],
   "metadata": {
    "collapsed": false
   }
  },
  {
   "cell_type": "code",
   "outputs": [],
   "source": [
    "output_dict = (\n",
    "    run_pipeline(\n",
    "        df=df, forecasting_models=FC_MODELS, ensemble_methods=ENS_METHODS, metrics=metrics, \n",
    "        agg_method='last', agg_freq='B',\n",
    "        forecast_init_train=0.3, ensemble_init_train=0.3,\n",
    "        autosarimax_refit_interval=0.33,\n",
    "        select_individual_models=['Naive'],\n",
    "        select_ensemble_methods=['Simple', 'Inverse RMSE'],\n",
    "        verbose=True\n",
    "    )\n",
    ")"
   ],
   "metadata": {
    "collapsed": false,
    "is_executing": true
   },
   "execution_count": null
  },
  {
   "cell_type": "markdown",
   "source": [
    "## 5) Show Ranking Table"
   ],
   "metadata": {
    "collapsed": false
   }
  },
  {
   "cell_type": "code",
   "execution_count": null,
   "metadata": {
    "is_executing": true
   },
   "outputs": [],
   "source": [
    "display(output_dict['metrics ranking'].style.hide())"
   ]
  }
 ],
 "metadata": {
  "kernelspec": {
   "display_name": "Python 3",
   "language": "python",
   "name": "python3"
  },
  "language_info": {
   "codemirror_mode": {
    "name": "ipython",
    "version": 3
   },
   "file_extension": ".py",
   "mimetype": "text/x-python",
   "name": "python",
   "nbconvert_exporter": "python",
   "pygments_lexer": "ipython3",
   "version": "3.11.3"
  }
 },
 "nbformat": 4,
 "nbformat_minor": 2
}
