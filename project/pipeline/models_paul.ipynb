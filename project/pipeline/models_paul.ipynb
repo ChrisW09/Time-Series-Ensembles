{
 "cells": [
  {
   "cell_type": "code",
   "execution_count": 63,
   "metadata": {},
   "outputs": [
    {
     "ename": "NameError",
     "evalue": "name '_C' is not defined",
     "output_type": "error",
     "traceback": [
      "\u001b[1;31m---------------------------------------------------------------------------\u001b[0m",
      "\u001b[1;31mNameError\u001b[0m                                 Traceback (most recent call last)",
      "Cell \u001b[1;32mIn[63], line 4\u001b[0m\n\u001b[0;32m      2\u001b[0m \u001b[38;5;28;01mfrom\u001b[39;00m \u001b[38;5;21;01mdarts\u001b[39;00m \u001b[38;5;28;01mimport\u001b[39;00m TimeSeries\n\u001b[0;32m      3\u001b[0m \u001b[38;5;28;01mimport\u001b[39;00m \u001b[38;5;21;01mmatplotlib\u001b[39;00m\u001b[38;5;21;01m.\u001b[39;00m\u001b[38;5;21;01mpyplot\u001b[39;00m \u001b[38;5;28;01mas\u001b[39;00m \u001b[38;5;21;01mplt\u001b[39;00m\n\u001b[1;32m----> 4\u001b[0m \u001b[38;5;28;01mfrom\u001b[39;00m \u001b[38;5;21;01mdarts\u001b[39;00m\u001b[38;5;21;01m.\u001b[39;00m\u001b[38;5;21;01mmodels\u001b[39;00m \u001b[38;5;28;01mimport\u001b[39;00m XGBModel\n",
      "File \u001b[1;32mc:\\Users\\Paul\\AppData\\Local\\Programs\\Python\\Python311\\Lib\\site-packages\\darts\\models\\__init__.py:32\u001b[0m\n\u001b[0;32m     29\u001b[0m \u001b[38;5;28;01mfrom\u001b[39;00m \u001b[38;5;21;01mdarts\u001b[39;00m\u001b[38;5;21;01m.\u001b[39;00m\u001b[38;5;21;01mmodels\u001b[39;00m\u001b[38;5;21;01m.\u001b[39;00m\u001b[38;5;21;01mutils\u001b[39;00m \u001b[38;5;28;01mimport\u001b[39;00m NotImportedModule\n\u001b[0;32m     31\u001b[0m \u001b[38;5;28;01mtry\u001b[39;00m:\n\u001b[1;32m---> 32\u001b[0m     \u001b[38;5;28;01mfrom\u001b[39;00m \u001b[38;5;21;01mdarts\u001b[39;00m\u001b[38;5;21;01m.\u001b[39;00m\u001b[38;5;21;01mmodels\u001b[39;00m\u001b[38;5;21;01m.\u001b[39;00m\u001b[38;5;21;01mforecasting\u001b[39;00m\u001b[38;5;21;01m.\u001b[39;00m\u001b[38;5;21;01mblock_rnn_model\u001b[39;00m \u001b[38;5;28;01mimport\u001b[39;00m BlockRNNModel\n\u001b[0;32m     33\u001b[0m     \u001b[38;5;28;01mfrom\u001b[39;00m \u001b[38;5;21;01mdarts\u001b[39;00m\u001b[38;5;21;01m.\u001b[39;00m\u001b[38;5;21;01mmodels\u001b[39;00m\u001b[38;5;21;01m.\u001b[39;00m\u001b[38;5;21;01mforecasting\u001b[39;00m\u001b[38;5;21;01m.\u001b[39;00m\u001b[38;5;21;01mdlinear\u001b[39;00m \u001b[38;5;28;01mimport\u001b[39;00m DLinearModel\n\u001b[0;32m     34\u001b[0m     \u001b[38;5;28;01mfrom\u001b[39;00m \u001b[38;5;21;01mdarts\u001b[39;00m\u001b[38;5;21;01m.\u001b[39;00m\u001b[38;5;21;01mmodels\u001b[39;00m\u001b[38;5;21;01m.\u001b[39;00m\u001b[38;5;21;01mforecasting\u001b[39;00m\u001b[38;5;21;01m.\u001b[39;00m\u001b[38;5;21;01mnbeats\u001b[39;00m \u001b[38;5;28;01mimport\u001b[39;00m NBEATSModel\n",
      "File \u001b[1;32mc:\\Users\\Paul\\AppData\\Local\\Programs\\Python\\Python311\\Lib\\site-packages\\darts\\models\\forecasting\\block_rnn_model.py:10\u001b[0m\n\u001b[0;32m      7\u001b[0m \u001b[38;5;28;01mfrom\u001b[39;00m \u001b[38;5;21;01mabc\u001b[39;00m \u001b[38;5;28;01mimport\u001b[39;00m ABC, abstractmethod\n\u001b[0;32m      8\u001b[0m \u001b[38;5;28;01mfrom\u001b[39;00m \u001b[38;5;21;01mtyping\u001b[39;00m \u001b[38;5;28;01mimport\u001b[39;00m List, Optional, Tuple, Type, Union\n\u001b[1;32m---> 10\u001b[0m \u001b[38;5;28;01mimport\u001b[39;00m \u001b[38;5;21;01mtorch\u001b[39;00m\n\u001b[0;32m     11\u001b[0m \u001b[38;5;28;01mimport\u001b[39;00m \u001b[38;5;21;01mtorch\u001b[39;00m\u001b[38;5;21;01m.\u001b[39;00m\u001b[38;5;21;01mnn\u001b[39;00m \u001b[38;5;28;01mas\u001b[39;00m \u001b[38;5;21;01mnn\u001b[39;00m\n\u001b[0;32m     13\u001b[0m \u001b[38;5;28;01mfrom\u001b[39;00m \u001b[38;5;21;01mdarts\u001b[39;00m\u001b[38;5;21;01m.\u001b[39;00m\u001b[38;5;21;01mlogging\u001b[39;00m \u001b[38;5;28;01mimport\u001b[39;00m get_logger, raise_log\n",
      "File \u001b[1;32mc:\\Users\\Paul\\AppData\\Local\\Programs\\Python\\Python311\\Lib\\site-packages\\torch\\__init__.py:465\u001b[0m\n\u001b[0;32m    451\u001b[0m         \u001b[38;5;28;01mraise\u001b[39;00m \u001b[38;5;167;01mImportError\u001b[39;00m(textwrap\u001b[38;5;241m.\u001b[39mdedent(\u001b[38;5;124m'''\u001b[39m\n\u001b[0;32m    452\u001b[0m \u001b[38;5;124m            Failed to load PyTorch C extensions:\u001b[39m\n\u001b[0;32m    453\u001b[0m \u001b[38;5;124m                It appears that PyTorch has loaded the `torch/_C` folder\u001b[39m\n\u001b[1;32m   (...)\u001b[0m\n\u001b[0;32m    461\u001b[0m \u001b[38;5;124m                or by running Python from a different directory.\u001b[39m\n\u001b[0;32m    462\u001b[0m \u001b[38;5;124m            \u001b[39m\u001b[38;5;124m'''\u001b[39m)\u001b[38;5;241m.\u001b[39mstrip()) \u001b[38;5;28;01mfrom\u001b[39;00m \u001b[38;5;28;01mNone\u001b[39;00m\n\u001b[0;32m    463\u001b[0m     \u001b[38;5;28;01mraise\u001b[39;00m  \u001b[38;5;66;03m# If __file__ is not None the cause is unknown, so just re-raise.\u001b[39;00m\n\u001b[1;32m--> 465\u001b[0m \u001b[38;5;28;01mfor\u001b[39;00m name \u001b[38;5;129;01min\u001b[39;00m \u001b[38;5;28mdir\u001b[39m(\u001b[43m_C\u001b[49m):\n\u001b[0;32m    466\u001b[0m     \u001b[38;5;28;01mif\u001b[39;00m name[\u001b[38;5;241m0\u001b[39m] \u001b[38;5;241m!=\u001b[39m \u001b[38;5;124m'\u001b[39m\u001b[38;5;124m_\u001b[39m\u001b[38;5;124m'\u001b[39m \u001b[38;5;129;01mand\u001b[39;00m \u001b[38;5;129;01mnot\u001b[39;00m name\u001b[38;5;241m.\u001b[39mendswith(\u001b[38;5;124m'\u001b[39m\u001b[38;5;124mBase\u001b[39m\u001b[38;5;124m'\u001b[39m):\n\u001b[0;32m    467\u001b[0m         __all__\u001b[38;5;241m.\u001b[39mappend(name)\n",
      "\u001b[1;31mNameError\u001b[0m: name '_C' is not defined"
     ]
    }
   ],
   "source": [
    "# External Modules\n",
    "from darts import TimeSeries\n",
    "import matplotlib.pyplot as plt\n",
    "from darts.models import XGBModel"
   ]
  },
  {
   "cell_type": "code",
   "execution_count": null,
   "metadata": {},
   "outputs": [],
   "source": [
    "# Imports and path setting\n",
    "import sys\n",
    "import os\n",
    "\n",
    "# Get the current directory of the notebook\n",
    "notebook_dir = os.path.abspath('')\n",
    "# Get the parent directory of the notebook directory\n",
    "parent_dir = os.path.dirname(notebook_dir)\n",
    "# Append the parent directory to the system path\n",
    "sys.path.append(parent_dir)"
   ]
  },
  {
   "cell_type": "code",
   "execution_count": null,
   "metadata": {},
   "outputs": [
    {
     "data": {
      "text/html": [
       "<div>\n",
       "<style scoped>\n",
       "    .dataframe tbody tr th:only-of-type {\n",
       "        vertical-align: middle;\n",
       "    }\n",
       "\n",
       "    .dataframe tbody tr th {\n",
       "        vertical-align: top;\n",
       "    }\n",
       "\n",
       "    .dataframe thead th {\n",
       "        text-align: right;\n",
       "    }\n",
       "</style>\n",
       "<table border=\"1\" class=\"dataframe\">\n",
       "  <thead>\n",
       "    <tr style=\"text-align: right;\">\n",
       "      <th></th>\n",
       "      <th>datetime</th>\n",
       "      <th>bid_open</th>\n",
       "      <th>bid_high</th>\n",
       "      <th>bid_low</th>\n",
       "      <th>bid_close</th>\n",
       "      <th>ask_open</th>\n",
       "      <th>ask_high</th>\n",
       "      <th>ask_low</th>\n",
       "      <th>ask_close</th>\n",
       "    </tr>\n",
       "  </thead>\n",
       "  <tbody>\n",
       "    <tr>\n",
       "      <th>96</th>\n",
       "      <td>2020-01-02 00:00:00</td>\n",
       "      <td>1.12184</td>\n",
       "      <td>1.12186</td>\n",
       "      <td>1.12156</td>\n",
       "      <td>1.12157</td>\n",
       "      <td>1.12198</td>\n",
       "      <td>1.12199</td>\n",
       "      <td>1.12167</td>\n",
       "      <td>1.12168</td>\n",
       "    </tr>\n",
       "    <tr>\n",
       "      <th>97</th>\n",
       "      <td>2020-01-02 00:15:00</td>\n",
       "      <td>1.12154</td>\n",
       "      <td>1.12164</td>\n",
       "      <td>1.12151</td>\n",
       "      <td>1.12155</td>\n",
       "      <td>1.12168</td>\n",
       "      <td>1.12177</td>\n",
       "      <td>1.12165</td>\n",
       "      <td>1.12169</td>\n",
       "    </tr>\n",
       "    <tr>\n",
       "      <th>98</th>\n",
       "      <td>2020-01-02 00:30:00</td>\n",
       "      <td>1.12157</td>\n",
       "      <td>1.12169</td>\n",
       "      <td>1.12152</td>\n",
       "      <td>1.12167</td>\n",
       "      <td>1.12169</td>\n",
       "      <td>1.12182</td>\n",
       "      <td>1.12164</td>\n",
       "      <td>1.12181</td>\n",
       "    </tr>\n",
       "    <tr>\n",
       "      <th>99</th>\n",
       "      <td>2020-01-02 00:45:00</td>\n",
       "      <td>1.12169</td>\n",
       "      <td>1.12183</td>\n",
       "      <td>1.12169</td>\n",
       "      <td>1.12178</td>\n",
       "      <td>1.12181</td>\n",
       "      <td>1.12197</td>\n",
       "      <td>1.12181</td>\n",
       "      <td>1.12191</td>\n",
       "    </tr>\n",
       "    <tr>\n",
       "      <th>100</th>\n",
       "      <td>2020-01-02 01:00:00</td>\n",
       "      <td>1.12177</td>\n",
       "      <td>1.12225</td>\n",
       "      <td>1.12176</td>\n",
       "      <td>1.12221</td>\n",
       "      <td>1.12190</td>\n",
       "      <td>1.12238</td>\n",
       "      <td>1.12188</td>\n",
       "      <td>1.12234</td>\n",
       "    </tr>\n",
       "    <tr>\n",
       "      <th>...</th>\n",
       "      <td>...</td>\n",
       "      <td>...</td>\n",
       "      <td>...</td>\n",
       "      <td>...</td>\n",
       "      <td>...</td>\n",
       "      <td>...</td>\n",
       "      <td>...</td>\n",
       "      <td>...</td>\n",
       "      <td>...</td>\n",
       "    </tr>\n",
       "    <tr>\n",
       "      <th>143708</th>\n",
       "      <td>2024-02-05 23:00:00</td>\n",
       "      <td>1.07424</td>\n",
       "      <td>1.07426</td>\n",
       "      <td>1.07414</td>\n",
       "      <td>1.07419</td>\n",
       "      <td>1.07443</td>\n",
       "      <td>1.07445</td>\n",
       "      <td>1.07431</td>\n",
       "      <td>1.07439</td>\n",
       "    </tr>\n",
       "    <tr>\n",
       "      <th>143709</th>\n",
       "      <td>2024-02-05 23:15:00</td>\n",
       "      <td>1.07419</td>\n",
       "      <td>1.07426</td>\n",
       "      <td>1.07419</td>\n",
       "      <td>1.07423</td>\n",
       "      <td>1.07439</td>\n",
       "      <td>1.07443</td>\n",
       "      <td>1.07434</td>\n",
       "      <td>1.07438</td>\n",
       "    </tr>\n",
       "    <tr>\n",
       "      <th>143710</th>\n",
       "      <td>2024-02-05 23:30:00</td>\n",
       "      <td>1.07423</td>\n",
       "      <td>1.07423</td>\n",
       "      <td>1.07403</td>\n",
       "      <td>1.07420</td>\n",
       "      <td>1.07438</td>\n",
       "      <td>1.07440</td>\n",
       "      <td>1.07420</td>\n",
       "      <td>1.07437</td>\n",
       "    </tr>\n",
       "    <tr>\n",
       "      <th>143711</th>\n",
       "      <td>2024-02-05 23:45:00</td>\n",
       "      <td>1.07420</td>\n",
       "      <td>1.07427</td>\n",
       "      <td>1.07401</td>\n",
       "      <td>1.07404</td>\n",
       "      <td>1.07437</td>\n",
       "      <td>1.07443</td>\n",
       "      <td>1.07417</td>\n",
       "      <td>1.07419</td>\n",
       "    </tr>\n",
       "    <tr>\n",
       "      <th>143712</th>\n",
       "      <td>2024-02-06 00:00:00</td>\n",
       "      <td>1.07403</td>\n",
       "      <td>1.07432</td>\n",
       "      <td>1.07403</td>\n",
       "      <td>1.07415</td>\n",
       "      <td>1.07419</td>\n",
       "      <td>1.07447</td>\n",
       "      <td>1.07419</td>\n",
       "      <td>1.07431</td>\n",
       "    </tr>\n",
       "  </tbody>\n",
       "</table>\n",
       "<p>101921 rows × 9 columns</p>\n",
       "</div>"
      ],
      "text/plain": [
       "                   datetime  bid_open  bid_high  bid_low  bid_close  ask_open  \\\n",
       "96      2020-01-02 00:00:00   1.12184   1.12186  1.12156    1.12157   1.12198   \n",
       "97      2020-01-02 00:15:00   1.12154   1.12164  1.12151    1.12155   1.12168   \n",
       "98      2020-01-02 00:30:00   1.12157   1.12169  1.12152    1.12167   1.12169   \n",
       "99      2020-01-02 00:45:00   1.12169   1.12183  1.12169    1.12178   1.12181   \n",
       "100     2020-01-02 01:00:00   1.12177   1.12225  1.12176    1.12221   1.12190   \n",
       "...                     ...       ...       ...      ...        ...       ...   \n",
       "143708  2024-02-05 23:00:00   1.07424   1.07426  1.07414    1.07419   1.07443   \n",
       "143709  2024-02-05 23:15:00   1.07419   1.07426  1.07419    1.07423   1.07439   \n",
       "143710  2024-02-05 23:30:00   1.07423   1.07423  1.07403    1.07420   1.07438   \n",
       "143711  2024-02-05 23:45:00   1.07420   1.07427  1.07401    1.07404   1.07437   \n",
       "143712  2024-02-06 00:00:00   1.07403   1.07432  1.07403    1.07415   1.07419   \n",
       "\n",
       "        ask_high  ask_low  ask_close  \n",
       "96       1.12199  1.12167    1.12168  \n",
       "97       1.12177  1.12165    1.12169  \n",
       "98       1.12182  1.12164    1.12181  \n",
       "99       1.12197  1.12181    1.12191  \n",
       "100      1.12238  1.12188    1.12234  \n",
       "...          ...      ...        ...  \n",
       "143708   1.07445  1.07431    1.07439  \n",
       "143709   1.07443  1.07434    1.07438  \n",
       "143710   1.07440  1.07420    1.07437  \n",
       "143711   1.07443  1.07417    1.07419  \n",
       "143712   1.07447  1.07419    1.07431  \n",
       "\n",
       "[101921 rows x 9 columns]"
      ]
     },
     "metadata": {},
     "output_type": "display_data"
    }
   ],
   "source": [
    "# Now you can import modules from the 'data' folder\n",
    "from data.prepared_data import df\n",
    "display(df)"
   ]
  },
  {
   "cell_type": "code",
   "execution_count": null,
   "metadata": {},
   "outputs": [
    {
     "name": "stdout",
     "output_type": "stream",
     "text": [
      "Number of rows: 10192\n"
     ]
    }
   ],
   "source": [
    "# Trim DataFrame to smaller size, such that training takes less time\n",
    "# THIS IS JUST TEMPORARY TO MAKE TESTING EASIER: TEMOVE LATER!!!!!\n",
    "\n",
    "# Calculate the number of rows to select (30% of total rows)\n",
    "selection_share = 0.1\n",
    "rows_to_select = int(len(df) * selection_share)\n",
    "\n",
    "# Select the first 30% of rows\n",
    "df = df.head(rows_to_select)\n",
    "\n",
    "# Get length of current DataFrame\n",
    "print(f'Number of rows: {len(df)}')"
   ]
  },
  {
   "cell_type": "code",
   "execution_count": null,
   "metadata": {},
   "outputs": [],
   "source": [
    "# Save datetiem column\n",
    "dates = df['datetime']\n",
    "\n",
    "# Reset index to a range of integers\n",
    "df.reset_index(drop=True, inplace=True)\n",
    "\n",
    "# Extract traget and covariate columns\n",
    "target_col = df['bid_open']\n",
    "covariate_cols = df[['bid_high', 'bid_low', 'bid_close', 'ask_open', 'ask_high', 'ask_low', 'ask_close']]\n",
    "\n",
    "# Create Darts TimeSeries objects\n",
    "target_series = TimeSeries.from_series(target_col)\n",
    "cov_series = TimeSeries.from_series(covariate_cols)"
   ]
  },
  {
   "cell_type": "code",
   "execution_count": null,
   "metadata": {},
   "outputs": [],
   "source": [
    "# Split the data into training and validation sets\n",
    "train_split = 0.3\n",
    "train_size = int(len(target_series) * train_split)\n",
    "train, val = target_series[:train_size], target_series[train_size:]"
   ]
  },
  {
   "cell_type": "code",
   "execution_count": null,
   "metadata": {},
   "outputs": [
    {
     "data": {
      "text/plain": [
       "<Axes: xlabel='time'>"
      ]
     },
     "execution_count": 61,
     "metadata": {},
     "output_type": "execute_result"
    },
    {
     "data": {
      "image/png": "[encoded data removed]",
      "text/plain": [
       "<Figure size 640x480 with 1 Axes>"
      ]
     },
     "metadata": {},
     "output_type": "display_data"
    }
   ],
   "source": [
    "train.plot(label = 'Training')\n",
    "val.plot(label = 'Validation')"
   ]
  },
  {
   "cell_type": "code",
   "execution_count": null,
   "metadata": {},
   "outputs": [
    {
     "ename": "NameError",
     "evalue": "name 'XGBModel' is not defined",
     "output_type": "error",
     "traceback": [
      "\u001b[1;31m---------------------------------------------------------------------------\u001b[0m",
      "\u001b[1;31mNameError\u001b[0m                                 Traceback (most recent call last)",
      "Cell \u001b[1;32mIn[62], line 1\u001b[0m\n\u001b[1;32m----> 1\u001b[0m model \u001b[38;5;241m=\u001b[39m \u001b[43mXGBModel\u001b[49m(lags\u001b[38;5;241m=\u001b[39m\u001b[38;5;241m12\u001b[39m)\n\u001b[0;32m      3\u001b[0m \u001b[38;5;66;03m# Train the model\u001b[39;00m\n\u001b[0;32m      4\u001b[0m model\u001b[38;5;241m.\u001b[39mfit(train)\n",
      "\u001b[1;31mNameError\u001b[0m: name 'XGBModel' is not defined"
     ]
    }
   ],
   "source": [
    "model = XGBModel(lags=12)\n",
    "\n",
    "# Train the model\n",
    "model.fit(train)\n",
    "\n",
    "# Make predictions for the validation set\n",
    "forecast = model.predict(n=len(val))\n",
    "\n",
    "# You can also evaluate the forecast if you have ground truth values for validation set\n",
    "# For example, if you have validation ground truth values in a variable named 'val_ground_truth':\n",
    "# from darts.metrics import mape\n",
    "# print('MAPE:', mape(val_ground_truth, forecast))\n",
    "\n",
    "# Plot the forecast\n",
    "import matplotlib.pyplot as plt\n",
    "plt.figure(figsize=(10, 6))\n",
    "train.plot(label='train')\n",
    "val.plot(label='val')\n",
    "forecast.plot(label='forecast')\n",
    "plt.legend()\n",
    "plt.show()\n"
   ]
  },
  {
   "cell_type": "code",
   "execution_count": null,
   "metadata": {},
   "outputs": [],
   "source": []
  }
 ],
 "metadata": {
  "kernelspec": {
   "display_name": "Python 3",
   "language": "python",
   "name": "python3"
  },
  "language_info": {
   "codemirror_mode": {
    "name": "ipython",
    "version": 3
   },
   "file_extension": ".py",
   "mimetype": "text/x-python",
   "name": "python",
   "nbconvert_exporter": "python",
   "pygments_lexer": "ipython3",
   "version": "3.11.1"
  }
 },
 "nbformat": 4,
 "nbformat_minor": 2
}
