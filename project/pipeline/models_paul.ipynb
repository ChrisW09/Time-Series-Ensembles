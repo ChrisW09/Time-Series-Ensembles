{
 "cells": [
  {
   "cell_type": "code",
   "execution_count": 240,
   "metadata": {},
   "outputs": [],
   "source": [
    "# External Modules\n",
    "from darts import TimeSeries\n",
    "import pandas as pd\n",
    "import matplotlib.pyplot as plt\n",
    "from darts.models import XGBModel"
   ]
  },
  {
   "cell_type": "code",
   "execution_count": 241,
   "metadata": {},
   "outputs": [],
   "source": [
    "# Imports and path setting\n",
    "import sys\n",
    "import os\n",
    "\n",
    "# Get the current directory of the notebook\n",
    "notebook_dir = os.path.abspath('')\n",
    "# Get the parent directory of the notebook directory\n",
    "parent_dir = os.path.dirname(notebook_dir)\n",
    "# Append the parent directory to the system path\n",
    "sys.path.append(parent_dir)"
   ]
  },
  {
   "cell_type": "code",
   "execution_count": 242,
   "metadata": {},
   "outputs": [
    {
     "data": {
      "text/html": [
       "<div>\n",
       "<style scoped>\n",
       "    .dataframe tbody tr th:only-of-type {\n",
       "        vertical-align: middle;\n",
       "    }\n",
       "\n",
       "    .dataframe tbody tr th {\n",
       "        vertical-align: top;\n",
       "    }\n",
       "\n",
       "    .dataframe thead th {\n",
       "        text-align: right;\n",
       "    }\n",
       "</style>\n",
       "<table border=\"1\" class=\"dataframe\">\n",
       "  <thead>\n",
       "    <tr style=\"text-align: right;\">\n",
       "      <th></th>\n",
       "      <th>datetime</th>\n",
       "      <th>bid_open</th>\n",
       "      <th>bid_high</th>\n",
       "      <th>bid_low</th>\n",
       "      <th>bid_close</th>\n",
       "      <th>ask_open</th>\n",
       "      <th>ask_high</th>\n",
       "      <th>ask_low</th>\n",
       "      <th>ask_close</th>\n",
       "    </tr>\n",
       "  </thead>\n",
       "  <tbody>\n",
       "    <tr>\n",
       "      <th>96</th>\n",
       "      <td>2020-01-02 00:00:00</td>\n",
       "      <td>1.12184</td>\n",
       "      <td>1.12186</td>\n",
       "      <td>1.12156</td>\n",
       "      <td>1.12157</td>\n",
       "      <td>1.12198</td>\n",
       "      <td>1.12199</td>\n",
       "      <td>1.12167</td>\n",
       "      <td>1.12168</td>\n",
       "    </tr>\n",
       "    <tr>\n",
       "      <th>97</th>\n",
       "      <td>2020-01-02 00:15:00</td>\n",
       "      <td>1.12154</td>\n",
       "      <td>1.12164</td>\n",
       "      <td>1.12151</td>\n",
       "      <td>1.12155</td>\n",
       "      <td>1.12168</td>\n",
       "      <td>1.12177</td>\n",
       "      <td>1.12165</td>\n",
       "      <td>1.12169</td>\n",
       "    </tr>\n",
       "    <tr>\n",
       "      <th>98</th>\n",
       "      <td>2020-01-02 00:30:00</td>\n",
       "      <td>1.12157</td>\n",
       "      <td>1.12169</td>\n",
       "      <td>1.12152</td>\n",
       "      <td>1.12167</td>\n",
       "      <td>1.12169</td>\n",
       "      <td>1.12182</td>\n",
       "      <td>1.12164</td>\n",
       "      <td>1.12181</td>\n",
       "    </tr>\n",
       "    <tr>\n",
       "      <th>99</th>\n",
       "      <td>2020-01-02 00:45:00</td>\n",
       "      <td>1.12169</td>\n",
       "      <td>1.12183</td>\n",
       "      <td>1.12169</td>\n",
       "      <td>1.12178</td>\n",
       "      <td>1.12181</td>\n",
       "      <td>1.12197</td>\n",
       "      <td>1.12181</td>\n",
       "      <td>1.12191</td>\n",
       "    </tr>\n",
       "    <tr>\n",
       "      <th>100</th>\n",
       "      <td>2020-01-02 01:00:00</td>\n",
       "      <td>1.12177</td>\n",
       "      <td>1.12225</td>\n",
       "      <td>1.12176</td>\n",
       "      <td>1.12221</td>\n",
       "      <td>1.12190</td>\n",
       "      <td>1.12238</td>\n",
       "      <td>1.12188</td>\n",
       "      <td>1.12234</td>\n",
       "    </tr>\n",
       "    <tr>\n",
       "      <th>...</th>\n",
       "      <td>...</td>\n",
       "      <td>...</td>\n",
       "      <td>...</td>\n",
       "      <td>...</td>\n",
       "      <td>...</td>\n",
       "      <td>...</td>\n",
       "      <td>...</td>\n",
       "      <td>...</td>\n",
       "      <td>...</td>\n",
       "    </tr>\n",
       "    <tr>\n",
       "      <th>143708</th>\n",
       "      <td>2024-02-05 23:00:00</td>\n",
       "      <td>1.07424</td>\n",
       "      <td>1.07426</td>\n",
       "      <td>1.07414</td>\n",
       "      <td>1.07419</td>\n",
       "      <td>1.07443</td>\n",
       "      <td>1.07445</td>\n",
       "      <td>1.07431</td>\n",
       "      <td>1.07439</td>\n",
       "    </tr>\n",
       "    <tr>\n",
       "      <th>143709</th>\n",
       "      <td>2024-02-05 23:15:00</td>\n",
       "      <td>1.07419</td>\n",
       "      <td>1.07426</td>\n",
       "      <td>1.07419</td>\n",
       "      <td>1.07423</td>\n",
       "      <td>1.07439</td>\n",
       "      <td>1.07443</td>\n",
       "      <td>1.07434</td>\n",
       "      <td>1.07438</td>\n",
       "    </tr>\n",
       "    <tr>\n",
       "      <th>143710</th>\n",
       "      <td>2024-02-05 23:30:00</td>\n",
       "      <td>1.07423</td>\n",
       "      <td>1.07423</td>\n",
       "      <td>1.07403</td>\n",
       "      <td>1.07420</td>\n",
       "      <td>1.07438</td>\n",
       "      <td>1.07440</td>\n",
       "      <td>1.07420</td>\n",
       "      <td>1.07437</td>\n",
       "    </tr>\n",
       "    <tr>\n",
       "      <th>143711</th>\n",
       "      <td>2024-02-05 23:45:00</td>\n",
       "      <td>1.07420</td>\n",
       "      <td>1.07427</td>\n",
       "      <td>1.07401</td>\n",
       "      <td>1.07404</td>\n",
       "      <td>1.07437</td>\n",
       "      <td>1.07443</td>\n",
       "      <td>1.07417</td>\n",
       "      <td>1.07419</td>\n",
       "    </tr>\n",
       "    <tr>\n",
       "      <th>143712</th>\n",
       "      <td>2024-02-06 00:00:00</td>\n",
       "      <td>1.07403</td>\n",
       "      <td>1.07432</td>\n",
       "      <td>1.07403</td>\n",
       "      <td>1.07415</td>\n",
       "      <td>1.07419</td>\n",
       "      <td>1.07447</td>\n",
       "      <td>1.07419</td>\n",
       "      <td>1.07431</td>\n",
       "    </tr>\n",
       "  </tbody>\n",
       "</table>\n",
       "<p>101921 rows × 9 columns</p>\n",
       "</div>"
      ],
      "text/plain": [
       "                   datetime  bid_open  bid_high  bid_low  bid_close  ask_open  \\\n",
       "96      2020-01-02 00:00:00   1.12184   1.12186  1.12156    1.12157   1.12198   \n",
       "97      2020-01-02 00:15:00   1.12154   1.12164  1.12151    1.12155   1.12168   \n",
       "98      2020-01-02 00:30:00   1.12157   1.12169  1.12152    1.12167   1.12169   \n",
       "99      2020-01-02 00:45:00   1.12169   1.12183  1.12169    1.12178   1.12181   \n",
       "100     2020-01-02 01:00:00   1.12177   1.12225  1.12176    1.12221   1.12190   \n",
       "...                     ...       ...       ...      ...        ...       ...   \n",
       "143708  2024-02-05 23:00:00   1.07424   1.07426  1.07414    1.07419   1.07443   \n",
       "143709  2024-02-05 23:15:00   1.07419   1.07426  1.07419    1.07423   1.07439   \n",
       "143710  2024-02-05 23:30:00   1.07423   1.07423  1.07403    1.07420   1.07438   \n",
       "143711  2024-02-05 23:45:00   1.07420   1.07427  1.07401    1.07404   1.07437   \n",
       "143712  2024-02-06 00:00:00   1.07403   1.07432  1.07403    1.07415   1.07419   \n",
       "\n",
       "        ask_high  ask_low  ask_close  \n",
       "96       1.12199  1.12167    1.12168  \n",
       "97       1.12177  1.12165    1.12169  \n",
       "98       1.12182  1.12164    1.12181  \n",
       "99       1.12197  1.12181    1.12191  \n",
       "100      1.12238  1.12188    1.12234  \n",
       "...          ...      ...        ...  \n",
       "143708   1.07445  1.07431    1.07439  \n",
       "143709   1.07443  1.07434    1.07438  \n",
       "143710   1.07440  1.07420    1.07437  \n",
       "143711   1.07443  1.07417    1.07419  \n",
       "143712   1.07447  1.07419    1.07431  \n",
       "\n",
       "[101921 rows x 9 columns]"
      ]
     },
     "metadata": {},
     "output_type": "display_data"
    }
   ],
   "source": [
    "# Now you can import modules from the 'data' folder\n",
    "from data.prepared_data import df\n",
    "display(df)"
   ]
  },
  {
   "cell_type": "code",
   "execution_count": 243,
   "metadata": {},
   "outputs": [
    {
     "name": "stdout",
     "output_type": "stream",
     "text": [
      "Number of rows: 1000\n"
     ]
    }
   ],
   "source": [
    "# Trim DataFrame to smaller size, such that training takes less time\n",
    "# THIS IS JUST TEMPORARY TO MAKE TESTING EASIER: TEMOVE LATER!!!!!\n",
    "\n",
    "# Calculate the number of rows to select (30% of total rows)\n",
    "#selection_share = 0.1\n",
    "#rows_to_select = int(len(df) * selection_share)\n",
    "\n",
    "# Select the first x rows\n",
    "df = df.head(1000)\n",
    "\n",
    "# Get length of current DataFrame\n",
    "print(f'Number of rows: {len(df)}')"
   ]
  },
  {
   "cell_type": "code",
   "execution_count": 244,
   "metadata": {},
   "outputs": [
    {
     "name": "stderr",
     "output_type": "stream",
     "text": [
      "C:\\Users\\Paul\\AppData\\Local\\Temp\\ipykernel_15492\\4094773501.py:6: SettingWithCopyWarning: \n",
      "A value is trying to be set on a copy of a slice from a DataFrame\n",
      "\n",
      "See the caveats in the documentation: https://pandas.pydata.org/pandas-docs/stable/user_guide/indexing.html#returning-a-view-versus-a-copy\n",
      "  df.drop('datetime', axis = 1, inplace=True)\n"
     ]
    },
    {
     "data": {
      "text/html": [
       "<div>\n",
       "<style scoped>\n",
       "    .dataframe tbody tr th:only-of-type {\n",
       "        vertical-align: middle;\n",
       "    }\n",
       "\n",
       "    .dataframe tbody tr th {\n",
       "        vertical-align: top;\n",
       "    }\n",
       "\n",
       "    .dataframe thead th {\n",
       "        text-align: right;\n",
       "    }\n",
       "</style>\n",
       "<table border=\"1\" class=\"dataframe\">\n",
       "  <thead>\n",
       "    <tr style=\"text-align: right;\">\n",
       "      <th></th>\n",
       "      <th>bid_open</th>\n",
       "      <th>bid_high</th>\n",
       "      <th>bid_low</th>\n",
       "      <th>bid_close</th>\n",
       "      <th>ask_open</th>\n",
       "      <th>ask_high</th>\n",
       "      <th>ask_low</th>\n",
       "      <th>ask_close</th>\n",
       "    </tr>\n",
       "  </thead>\n",
       "  <tbody>\n",
       "    <tr>\n",
       "      <th>0</th>\n",
       "      <td>1.12184</td>\n",
       "      <td>1.12186</td>\n",
       "      <td>1.12156</td>\n",
       "      <td>1.12157</td>\n",
       "      <td>1.12198</td>\n",
       "      <td>1.12199</td>\n",
       "      <td>1.12167</td>\n",
       "      <td>1.12168</td>\n",
       "    </tr>\n",
       "    <tr>\n",
       "      <th>1</th>\n",
       "      <td>1.12154</td>\n",
       "      <td>1.12164</td>\n",
       "      <td>1.12151</td>\n",
       "      <td>1.12155</td>\n",
       "      <td>1.12168</td>\n",
       "      <td>1.12177</td>\n",
       "      <td>1.12165</td>\n",
       "      <td>1.12169</td>\n",
       "    </tr>\n",
       "    <tr>\n",
       "      <th>2</th>\n",
       "      <td>1.12157</td>\n",
       "      <td>1.12169</td>\n",
       "      <td>1.12152</td>\n",
       "      <td>1.12167</td>\n",
       "      <td>1.12169</td>\n",
       "      <td>1.12182</td>\n",
       "      <td>1.12164</td>\n",
       "      <td>1.12181</td>\n",
       "    </tr>\n",
       "    <tr>\n",
       "      <th>3</th>\n",
       "      <td>1.12169</td>\n",
       "      <td>1.12183</td>\n",
       "      <td>1.12169</td>\n",
       "      <td>1.12178</td>\n",
       "      <td>1.12181</td>\n",
       "      <td>1.12197</td>\n",
       "      <td>1.12181</td>\n",
       "      <td>1.12191</td>\n",
       "    </tr>\n",
       "    <tr>\n",
       "      <th>4</th>\n",
       "      <td>1.12177</td>\n",
       "      <td>1.12225</td>\n",
       "      <td>1.12176</td>\n",
       "      <td>1.12221</td>\n",
       "      <td>1.12190</td>\n",
       "      <td>1.12238</td>\n",
       "      <td>1.12188</td>\n",
       "      <td>1.12234</td>\n",
       "    </tr>\n",
       "    <tr>\n",
       "      <th>...</th>\n",
       "      <td>...</td>\n",
       "      <td>...</td>\n",
       "      <td>...</td>\n",
       "      <td>...</td>\n",
       "      <td>...</td>\n",
       "      <td>...</td>\n",
       "      <td>...</td>\n",
       "      <td>...</td>\n",
       "    </tr>\n",
       "    <tr>\n",
       "      <th>995</th>\n",
       "      <td>1.11580</td>\n",
       "      <td>1.11599</td>\n",
       "      <td>1.11548</td>\n",
       "      <td>1.11558</td>\n",
       "      <td>1.11592</td>\n",
       "      <td>1.11612</td>\n",
       "      <td>1.11560</td>\n",
       "      <td>1.11570</td>\n",
       "    </tr>\n",
       "    <tr>\n",
       "      <th>996</th>\n",
       "      <td>1.11559</td>\n",
       "      <td>1.11581</td>\n",
       "      <td>1.11548</td>\n",
       "      <td>1.11564</td>\n",
       "      <td>1.11571</td>\n",
       "      <td>1.11593</td>\n",
       "      <td>1.11560</td>\n",
       "      <td>1.11576</td>\n",
       "    </tr>\n",
       "    <tr>\n",
       "      <th>997</th>\n",
       "      <td>1.11563</td>\n",
       "      <td>1.11588</td>\n",
       "      <td>1.11532</td>\n",
       "      <td>1.11532</td>\n",
       "      <td>1.11575</td>\n",
       "      <td>1.11600</td>\n",
       "      <td>1.11544</td>\n",
       "      <td>1.11544</td>\n",
       "    </tr>\n",
       "    <tr>\n",
       "      <th>998</th>\n",
       "      <td>1.11533</td>\n",
       "      <td>1.11561</td>\n",
       "      <td>1.11497</td>\n",
       "      <td>1.11531</td>\n",
       "      <td>1.11545</td>\n",
       "      <td>1.11573</td>\n",
       "      <td>1.11509</td>\n",
       "      <td>1.11542</td>\n",
       "    </tr>\n",
       "    <tr>\n",
       "      <th>999</th>\n",
       "      <td>1.11530</td>\n",
       "      <td>1.11542</td>\n",
       "      <td>1.11519</td>\n",
       "      <td>1.11528</td>\n",
       "      <td>1.11541</td>\n",
       "      <td>1.11554</td>\n",
       "      <td>1.11530</td>\n",
       "      <td>1.11539</td>\n",
       "    </tr>\n",
       "  </tbody>\n",
       "</table>\n",
       "<p>1000 rows × 8 columns</p>\n",
       "</div>"
      ],
      "text/plain": [
       "     bid_open  bid_high  bid_low  bid_close  ask_open  ask_high  ask_low  \\\n",
       "0     1.12184   1.12186  1.12156    1.12157   1.12198   1.12199  1.12167   \n",
       "1     1.12154   1.12164  1.12151    1.12155   1.12168   1.12177  1.12165   \n",
       "2     1.12157   1.12169  1.12152    1.12167   1.12169   1.12182  1.12164   \n",
       "3     1.12169   1.12183  1.12169    1.12178   1.12181   1.12197  1.12181   \n",
       "4     1.12177   1.12225  1.12176    1.12221   1.12190   1.12238  1.12188   \n",
       "..        ...       ...      ...        ...       ...       ...      ...   \n",
       "995   1.11580   1.11599  1.11548    1.11558   1.11592   1.11612  1.11560   \n",
       "996   1.11559   1.11581  1.11548    1.11564   1.11571   1.11593  1.11560   \n",
       "997   1.11563   1.11588  1.11532    1.11532   1.11575   1.11600  1.11544   \n",
       "998   1.11533   1.11561  1.11497    1.11531   1.11545   1.11573  1.11509   \n",
       "999   1.11530   1.11542  1.11519    1.11528   1.11541   1.11554  1.11530   \n",
       "\n",
       "     ask_close  \n",
       "0      1.12168  \n",
       "1      1.12169  \n",
       "2      1.12181  \n",
       "3      1.12191  \n",
       "4      1.12234  \n",
       "..         ...  \n",
       "995    1.11570  \n",
       "996    1.11576  \n",
       "997    1.11544  \n",
       "998    1.11542  \n",
       "999    1.11539  \n",
       "\n",
       "[1000 rows x 8 columns]"
      ]
     },
     "metadata": {},
     "output_type": "display_data"
    }
   ],
   "source": [
    "# Save datetiem column\n",
    "dates = df['datetime']\n",
    "\n",
    "# Reset index to a range of integers\n",
    "df.reset_index(drop=True, inplace=True)\n",
    "df.drop('datetime', axis = 1, inplace=True)\n",
    "\n",
    "display(df)"
   ]
  },
  {
   "cell_type": "code",
   "execution_count": 245,
   "metadata": {},
   "outputs": [],
   "source": [
    "# Extract traget and covariate columns\n",
    "target_col = df['bid_open']\n",
    "covariate_cols = df[['bid_high', 'bid_low', 'bid_close', 'ask_open', 'ask_high', 'ask_low', 'ask_close']]\n",
    "\n",
    "# Create Darts TimeSeries objects\n",
    "series = TimeSeries.from_dataframe(df)  # Replace 'column_to_drop' with the name of the column you want to drop)\n",
    "target_series = TimeSeries.from_series(target_col)\n",
    "cov_series = TimeSeries.from_series(covariate_cols)"
   ]
  },
  {
   "cell_type": "code",
   "execution_count": 246,
   "metadata": {},
   "outputs": [],
   "source": [
    "# Split the data into training and validation sets\n",
    "train_split = 0.3\n",
    "train_size = int(len(target_series) * train_split)\n",
    "train, val = target_series[:train_size], target_series[train_size:]"
   ]
  },
  {
   "cell_type": "code",
   "execution_count": 247,
   "metadata": {},
   "outputs": [
    {
     "data": {
      "text/plain": [
       "<Axes: xlabel='time'>"
      ]
     },
     "execution_count": 247,
     "metadata": {},
     "output_type": "execute_result"
    },
    {
     "data": {
      "image/png": "[encoded data removed]",
      "text/plain": [
       "<Figure size 640x480 with 1 Axes>"
      ]
     },
     "metadata": {},
     "output_type": "display_data"
    }
   ],
   "source": [
    "train.plot(label = 'Training')\n",
    "val.plot(label = 'Validation')"
   ]
  },
  {
   "cell_type": "code",
   "execution_count": 248,
   "metadata": {},
   "outputs": [
    {
     "name": "stderr",
     "output_type": "stream",
     "text": [
      "`enable_optimization=True` is ignored because `retrain` is not `False` or `0`.To hide this warning, set `show_warnings=False` or `enable_optimization=False`.\n"
     ]
    },
    {
     "data": {
      "application/vnd.jupyter.widget-view+json": {
       "model_id": "472a00f7d9c449fea2c591c347f4cbdf",
       "version_major": 2,
       "version_minor": 0
      },
      "text/plain": [
       "  0%|          | 0/701 [00:00<?, ?it/s]"
      ]
     },
     "metadata": {},
     "output_type": "display_data"
    }
   ],
   "source": [
    "model = XGBModel(lags=12)\n",
    "\n",
    "historical_fcast_XGB = model.historical_forecasts(\n",
    "    target_series,\n",
    "    start=0.3,\n",
    "    forecast_horizon=1,\n",
    "    verbose=True\n",
    ")\n"
   ]
  },
  {
   "cell_type": "code",
   "execution_count": 249,
   "metadata": {},
   "outputs": [
    {
     "data": {
      "text/plain": [
       "<Axes: xlabel='time'>"
      ]
     },
     "execution_count": 249,
     "metadata": {},
     "output_type": "execute_result"
    },
    {
     "data": {
      "image/png": "[encoded data removed]",
      "text/plain": [
       "<Figure size 640x480 with 1 Axes>"
      ]
     },
     "metadata": {},
     "output_type": "display_data"
    }
   ],
   "source": [
    "target_series.plot()\n",
    "historical_fcast_XGB.plot()"
   ]
  },
  {
   "cell_type": "code",
   "execution_count": 250,
   "metadata": {},
   "outputs": [],
   "source": [
    "from darts.utils.statistics import plot_residuals_analysis\n",
    "\n",
    "#plot_residuals_analysis(model.residuals(target_series))"
   ]
  },
  {
   "cell_type": "code",
   "execution_count": 251,
   "metadata": {},
   "outputs": [
    {
     "data": {
      "application/vnd.jupyter.widget-view+json": {
       "model_id": "0ede541509344737b50ed43d70fdf810",
       "version_major": 2,
       "version_minor": 0
      },
      "text/plain": [
       "  0%|          | 0/701 [00:00<?, ?it/s]"
      ]
     },
     "metadata": {},
     "output_type": "display_data"
    }
   ],
   "source": [
    "from darts.models import NaiveDrift\n",
    "\n",
    "model_naive_drift = NaiveDrift()\n",
    "\n",
    "historical_fcast_naive_drift = model_naive_drift.historical_forecasts(\n",
    "    target_series,\n",
    "    start=0.3,\n",
    "    forecast_horizon=1,\n",
    "    verbose=True,\n",
    "    show_warnings = False\n",
    ")\n"
   ]
  },
  {
   "cell_type": "code",
   "execution_count": 252,
   "metadata": {},
   "outputs": [
    {
     "data": {
      "text/plain": [
       "<Axes: xlabel='time'>"
      ]
     },
     "execution_count": 252,
     "metadata": {},
     "output_type": "execute_result"
    },
    {
     "data": {
      "image/png": "[encoded data removed]",
      "text/plain": [
       "<Figure size 640x480 with 1 Axes>"
      ]
     },
     "metadata": {},
     "output_type": "display_data"
    }
   ],
   "source": [
    "target_series.plot()\n",
    "historical_fcast_naive_drift.plot()"
   ]
  },
  {
   "cell_type": "code",
   "execution_count": 253,
   "metadata": {},
   "outputs": [],
   "source": [
    "def timeseries_to_array(timeseries, pop = True):\n",
    "    \n",
    "    # Convert to list\n",
    "    array = list(timeseries.values().flatten())\n",
    "\n",
    "    # Pop last element to match length of vlaidation set\n",
    "    if pop:\n",
    "        array.pop()\n",
    "    \n",
    "    return array"
   ]
  },
  {
   "cell_type": "code",
   "execution_count": 254,
   "metadata": {},
   "outputs": [],
   "source": [
    "hfc_XGB = timeseries_to_array(historical_fcast_XGB)\n",
    "hfc_Naive_drift = timeseries_to_array(historical_fcast_naive_drift)\n",
    "targets = timeseries_to_array(val, pop = False)"
   ]
  },
  {
   "cell_type": "code",
   "execution_count": 255,
   "metadata": {},
   "outputs": [
    {
     "data": {
      "text/html": [
       "<div>\n",
       "<style scoped>\n",
       "    .dataframe tbody tr th:only-of-type {\n",
       "        vertical-align: middle;\n",
       "    }\n",
       "\n",
       "    .dataframe tbody tr th {\n",
       "        vertical-align: top;\n",
       "    }\n",
       "\n",
       "    .dataframe thead th {\n",
       "        text-align: right;\n",
       "    }\n",
       "</style>\n",
       "<table border=\"1\" class=\"dataframe\">\n",
       "  <thead>\n",
       "    <tr style=\"text-align: right;\">\n",
       "      <th></th>\n",
       "      <th>Target</th>\n",
       "      <th>XGB</th>\n",
       "      <th>Naive_drift</th>\n",
       "    </tr>\n",
       "  </thead>\n",
       "  <tbody>\n",
       "    <tr>\n",
       "      <th>0</th>\n",
       "      <td>1.11908</td>\n",
       "      <td>1.119230</td>\n",
       "      <td>1.119121</td>\n",
       "    </tr>\n",
       "    <tr>\n",
       "      <th>1</th>\n",
       "      <td>1.11933</td>\n",
       "      <td>1.119102</td>\n",
       "      <td>1.119071</td>\n",
       "    </tr>\n",
       "    <tr>\n",
       "      <th>2</th>\n",
       "      <td>1.11925</td>\n",
       "      <td>1.119102</td>\n",
       "      <td>1.119071</td>\n",
       "    </tr>\n",
       "    <tr>\n",
       "      <th>3</th>\n",
       "      <td>1.11923</td>\n",
       "      <td>1.119353</td>\n",
       "      <td>1.119322</td>\n",
       "    </tr>\n",
       "    <tr>\n",
       "      <th>4</th>\n",
       "      <td>1.11917</td>\n",
       "      <td>1.119266</td>\n",
       "      <td>1.119241</td>\n",
       "    </tr>\n",
       "    <tr>\n",
       "      <th>...</th>\n",
       "      <td>...</td>\n",
       "      <td>...</td>\n",
       "      <td>...</td>\n",
       "    </tr>\n",
       "    <tr>\n",
       "      <th>695</th>\n",
       "      <td>1.11580</td>\n",
       "      <td>1.115072</td>\n",
       "      <td>1.115163</td>\n",
       "    </tr>\n",
       "    <tr>\n",
       "      <th>696</th>\n",
       "      <td>1.11559</td>\n",
       "      <td>1.115322</td>\n",
       "      <td>1.115414</td>\n",
       "    </tr>\n",
       "    <tr>\n",
       "      <th>697</th>\n",
       "      <td>1.11563</td>\n",
       "      <td>1.115588</td>\n",
       "      <td>1.115794</td>\n",
       "    </tr>\n",
       "    <tr>\n",
       "      <th>698</th>\n",
       "      <td>1.11533</td>\n",
       "      <td>1.115381</td>\n",
       "      <td>1.115584</td>\n",
       "    </tr>\n",
       "    <tr>\n",
       "      <th>699</th>\n",
       "      <td>1.11530</td>\n",
       "      <td>1.115478</td>\n",
       "      <td>1.115624</td>\n",
       "    </tr>\n",
       "  </tbody>\n",
       "</table>\n",
       "<p>700 rows × 3 columns</p>\n",
       "</div>"
      ],
      "text/plain": [
       "      Target       XGB  Naive_drift\n",
       "0    1.11908  1.119230     1.119121\n",
       "1    1.11933  1.119102     1.119071\n",
       "2    1.11925  1.119102     1.119071\n",
       "3    1.11923  1.119353     1.119322\n",
       "4    1.11917  1.119266     1.119241\n",
       "..       ...       ...          ...\n",
       "695  1.11580  1.115072     1.115163\n",
       "696  1.11559  1.115322     1.115414\n",
       "697  1.11563  1.115588     1.115794\n",
       "698  1.11533  1.115381     1.115584\n",
       "699  1.11530  1.115478     1.115624\n",
       "\n",
       "[700 rows x 3 columns]"
      ]
     },
     "metadata": {},
     "output_type": "display_data"
    }
   ],
   "source": [
    "# Create a dictionary with keys as column names and values as arrays\n",
    "data = {'Target': targets,\n",
    "        'XGB': hfc_XGB,\n",
    "        'Naive_drift': hfc_Naive_drift}\n",
    "\n",
    "# Create DataFrame\n",
    "hfc_data = pd.DataFrame(data)\n",
    "\n",
    "# Display the DataFrame\n",
    "display(hfc_data)"
   ]
  },
  {
   "cell_type": "code",
   "execution_count": 256,
   "metadata": {},
   "outputs": [],
   "source": [
    "import numpy as np\n",
    "\n",
    "def simple_average(data):\n",
    "    \"\"\"\n",
    "    Averages predictions of all models.\n",
    "\n",
    "    Parameters:\n",
    "        data (DataFrame): DataFrame containing actual values and predictions from different models.\n",
    "\n",
    "    Returns:\n",
    "        numpy.ndarray: Averaged predictions.\n",
    "    \"\"\"\n",
    "    # Select columns containing predictions (excluding the first two columns)\n",
    "    prediction_columns = data.columns[1:]\n",
    "    print(prediction_columns)\n",
    "\n",
    "    # Average predictions across all models\n",
    "    averaged_predictions = np.mean(data[prediction_columns], axis=1)\n",
    "\n",
    "    return averaged_predictions"
   ]
  },
  {
   "cell_type": "code",
   "execution_count": 257,
   "metadata": {},
   "outputs": [
    {
     "name": "stdout",
     "output_type": "stream",
     "text": [
      "Index(['XGB', 'Naive_drift'], dtype='object')\n"
     ]
    },
    {
     "ename": "TypeError",
     "evalue": "'type' object does not support item assignment",
     "output_type": "error",
     "traceback": [
      "\u001b[1;31m---------------------------------------------------------------------------\u001b[0m",
      "\u001b[1;31mTypeError\u001b[0m                                 Traceback (most recent call last)",
      "Cell \u001b[1;32mIn[257], line 2\u001b[0m\n\u001b[0;32m      1\u001b[0m fc_data \u001b[38;5;241m=\u001b[39m pd\u001b[38;5;241m.\u001b[39mDataFrame\n\u001b[1;32m----> 2\u001b[0m \u001b[43mfc_data\u001b[49m\u001b[43m[\u001b[49m\u001b[38;5;124;43m'\u001b[39;49m\u001b[38;5;124;43mSimple_Mean\u001b[39;49m\u001b[38;5;124;43m'\u001b[39;49m\u001b[43m]\u001b[49m \u001b[38;5;241m=\u001b[39m simple_average(hfc_data)\n",
      "\u001b[1;31mTypeError\u001b[0m: 'type' object does not support item assignment"
     ]
    }
   ],
   "source": [
    "fc_data = pd.DataFrame\n",
    "fc_data['Simple_Mean'] = simple_average(hfc_data)"
   ]
  },
  {
   "cell_type": "code",
   "execution_count": null,
   "metadata": {},
   "outputs": [
    {
     "data": {
      "text/html": [
       "<div>\n",
       "<style scoped>\n",
       "    .dataframe tbody tr th:only-of-type {\n",
       "        vertical-align: middle;\n",
       "    }\n",
       "\n",
       "    .dataframe tbody tr th {\n",
       "        vertical-align: top;\n",
       "    }\n",
       "\n",
       "    .dataframe thead th {\n",
       "        text-align: right;\n",
       "    }\n",
       "</style>\n",
       "<table border=\"1\" class=\"dataframe\">\n",
       "  <thead>\n",
       "    <tr style=\"text-align: right;\">\n",
       "      <th></th>\n",
       "      <th>Target</th>\n",
       "      <th>XGB</th>\n",
       "      <th>Naive_drift</th>\n",
       "      <th>Simple_Mean</th>\n",
       "    </tr>\n",
       "  </thead>\n",
       "  <tbody>\n",
       "    <tr>\n",
       "      <th>0</th>\n",
       "      <td>1.11908</td>\n",
       "      <td>1.119230</td>\n",
       "      <td>1.119121</td>\n",
       "      <td>NaN</td>\n",
       "    </tr>\n",
       "    <tr>\n",
       "      <th>1</th>\n",
       "      <td>1.11933</td>\n",
       "      <td>1.119102</td>\n",
       "      <td>1.119071</td>\n",
       "      <td>NaN</td>\n",
       "    </tr>\n",
       "    <tr>\n",
       "      <th>2</th>\n",
       "      <td>1.11925</td>\n",
       "      <td>1.119102</td>\n",
       "      <td>1.119071</td>\n",
       "      <td>NaN</td>\n",
       "    </tr>\n",
       "    <tr>\n",
       "      <th>3</th>\n",
       "      <td>1.11923</td>\n",
       "      <td>1.119353</td>\n",
       "      <td>1.119322</td>\n",
       "      <td>NaN</td>\n",
       "    </tr>\n",
       "    <tr>\n",
       "      <th>4</th>\n",
       "      <td>1.11917</td>\n",
       "      <td>1.119266</td>\n",
       "      <td>1.119241</td>\n",
       "      <td>NaN</td>\n",
       "    </tr>\n",
       "    <tr>\n",
       "      <th>...</th>\n",
       "      <td>...</td>\n",
       "      <td>...</td>\n",
       "      <td>...</td>\n",
       "      <td>...</td>\n",
       "    </tr>\n",
       "    <tr>\n",
       "      <th>695</th>\n",
       "      <td>1.11580</td>\n",
       "      <td>1.115072</td>\n",
       "      <td>1.115163</td>\n",
       "      <td>NaN</td>\n",
       "    </tr>\n",
       "    <tr>\n",
       "      <th>696</th>\n",
       "      <td>1.11559</td>\n",
       "      <td>1.115322</td>\n",
       "      <td>1.115414</td>\n",
       "      <td>NaN</td>\n",
       "    </tr>\n",
       "    <tr>\n",
       "      <th>697</th>\n",
       "      <td>1.11563</td>\n",
       "      <td>1.115588</td>\n",
       "      <td>1.115794</td>\n",
       "      <td>NaN</td>\n",
       "    </tr>\n",
       "    <tr>\n",
       "      <th>698</th>\n",
       "      <td>1.11533</td>\n",
       "      <td>1.115381</td>\n",
       "      <td>1.115584</td>\n",
       "      <td>NaN</td>\n",
       "    </tr>\n",
       "    <tr>\n",
       "      <th>699</th>\n",
       "      <td>1.11530</td>\n",
       "      <td>1.115478</td>\n",
       "      <td>1.115624</td>\n",
       "      <td>NaN</td>\n",
       "    </tr>\n",
       "  </tbody>\n",
       "</table>\n",
       "<p>700 rows × 4 columns</p>\n",
       "</div>"
      ],
      "text/plain": [
       "      Target       XGB  Naive_drift  Simple_Mean\n",
       "0    1.11908  1.119230     1.119121          NaN\n",
       "1    1.11933  1.119102     1.119071          NaN\n",
       "2    1.11925  1.119102     1.119071          NaN\n",
       "3    1.11923  1.119353     1.119322          NaN\n",
       "4    1.11917  1.119266     1.119241          NaN\n",
       "..       ...       ...          ...          ...\n",
       "695  1.11580  1.115072     1.115163          NaN\n",
       "696  1.11559  1.115322     1.115414          NaN\n",
       "697  1.11563  1.115588     1.115794          NaN\n",
       "698  1.11533  1.115381     1.115584          NaN\n",
       "699  1.11530  1.115478     1.115624          NaN\n",
       "\n",
       "[700 rows x 4 columns]"
      ]
     },
     "execution_count": 196,
     "metadata": {},
     "output_type": "execute_result"
    }
   ],
   "source": [
    "fc_data"
   ]
  },
  {
   "cell_type": "code",
   "execution_count": null,
   "metadata": {},
   "outputs": [
    {
     "data": {
      "text/plain": [
       "[1.11933, 1.119101881980896, 1.1190707692307693, nan]"
      ]
     },
     "execution_count": 197,
     "metadata": {},
     "output_type": "execute_result"
    }
   ],
   "source": [
    "values = hfc_data.iloc[1]\n",
    "list(values)"
   ]
  },
  {
   "cell_type": "code",
   "execution_count": null,
   "metadata": {},
   "outputs": [
    {
     "data": {
      "text/plain": [
       "2.2381726512116655"
      ]
     },
     "execution_count": 198,
     "metadata": {},
     "output_type": "execute_result"
    }
   ],
   "source": [
    "(1.119101881980896+1.1190707692307693)"
   ]
  },
  {
   "cell_type": "code",
   "execution_count": null,
   "metadata": {},
   "outputs": [
    {
     "data": {
      "text/plain": [
       "1.1190863256058328"
      ]
     },
     "execution_count": 199,
     "metadata": {},
     "output_type": "execute_result"
    }
   ],
   "source": [
    "np.mean([1.119101881980896,1.1190707692307693])"
   ]
  },
  {
   "cell_type": "code",
   "execution_count": null,
   "metadata": {},
   "outputs": [],
   "source": []
  }
 ],
 "metadata": {
  "kernelspec": {
   "display_name": "Python 3",
   "language": "python",
   "name": "python3"
  },
  "language_info": {
   "codemirror_mode": {
    "name": "ipython",
    "version": 3
   },
   "file_extension": ".py",
   "mimetype": "text/x-python",
   "name": "python",
   "nbconvert_exporter": "python",
   "pygments_lexer": "ipython3",
   "version": "3.11.1"
  }
 },
 "nbformat": 4,
 "nbformat_minor": 2
}
