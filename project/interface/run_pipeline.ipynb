{
 "cells": [
  {
   "cell_type": "markdown",
   "metadata": {},
   "source": [
    "# Interface for Pipeline Execution"
   ]
  },
  {
   "cell_type": "markdown",
   "source": [
    "## 1) Import Individual Forecasting Models, Ensemble Methods and Models, and Metrics"
   ],
   "metadata": {
    "collapsed": false
   }
  },
  {
   "cell_type": "code",
   "outputs": [
    {
     "name": "stdout",
     "output_type": "stream",
     "text": [
      "Loading individual forecasting models...\n",
      "Loading ensemble methods and models...\n",
      "Loading metrics...\n"
     ]
    }
   ],
   "source": [
    "from models.forecasting_models import forecasting_models\n",
    "from models.ensemble_models import ensemble_methods\n",
    "from utils.metrics import metrics"
   ],
   "metadata": {
    "collapsed": false,
    "ExecuteTime": {
     "end_time": "2024-03-02T04:26:43.751059Z",
     "start_time": "2024-03-02T04:26:28.063050Z"
    }
   },
   "execution_count": 1
  },
  {
   "cell_type": "markdown",
   "source": [
    "## 2) Import Modules, Functions, and Paths"
   ],
   "metadata": {
    "collapsed": false
   }
  },
  {
   "cell_type": "code",
   "outputs": [
    {
     "name": "stdout",
     "output_type": "stream",
     "text": [
      "Loading paths...\n",
      "Loading helper functions...\n"
     ]
    }
   ],
   "source": [
    "import pandas as pd\n",
    "\n",
    "from paths import *\n",
    "from pipeline.run_pipeline import run_pipeline"
   ],
   "metadata": {
    "collapsed": false,
    "ExecuteTime": {
     "end_time": "2024-03-02T04:26:43.782647Z",
     "start_time": "2024-03-02T04:26:43.755078Z"
    }
   },
   "execution_count": 2
  },
  {
   "cell_type": "markdown",
   "source": [
    "## 3) Select Input Data "
   ],
   "metadata": {
    "collapsed": false
   }
  },
  {
   "cell_type": "code",
   "execution_count": 3,
   "metadata": {
    "ExecuteTime": {
     "end_time": "2024-03-02T04:26:43.795346Z",
     "start_time": "2024-03-02T04:26:43.784655Z"
    }
   },
   "outputs": [],
   "source": [
    "## Define input data\n",
    "\n",
    "# Define the directory path and file name\n",
    "file_name = 'noisy_simdata.csv'\n",
    "\n",
    "# Combine the directory path and file name\n",
    "FILE_PATH = os.path.join(SIMDATA_DIR, file_name) \n",
    "\n",
    "# Read and preprocess Dataset\n",
    "df = pd.read_csv(FILE_PATH, index_col = 0)\n",
    "\n",
    "# For testng pipeline for now I use a subset of 10 years:\n",
    "# df = df.iloc[:120, :]"
   ]
  },
  {
   "cell_type": "markdown",
   "source": [
    "## 4) Run Pipeline"
   ],
   "metadata": {
    "collapsed": false
   }
  },
  {
   "cell_type": "code",
   "execution_count": 4,
   "metadata": {
    "ExecuteTime": {
     "end_time": "2024-03-02T04:34:08.431327Z",
     "start_time": "2024-03-02T04:26:43.798355Z"
    }
   },
   "outputs": [
    {
     "name": "stdout",
     "output_type": "stream",
     "text": [
      "=======================\n",
      "== Starting Pipeline ==\n",
      "=======================\n",
      "Data Insights:\n",
      "                    y          x1         x2          x3\n",
      "Date                                                    \n",
      "2004-01-01  50.840469  427.595799  55.337904  900.325291\n",
      "2004-02-01  52.871538  434.062163  54.959155  900.775888\n",
      "2004-03-01  53.769316  453.264284  56.470633  899.510058\n",
      "2004-04-01  57.672973  459.367523  56.704233  903.524834\n",
      "2004-05-01  57.182051  462.354356  61.557907  905.071762 \n",
      "\n",
      "Monthly data from goes from 2004-01-01 to 2023-12-01, resulting in 240 observations.\n",
      "\n",
      "=====================================================\n",
      "== Starting Step 1 in Pipeline: Data Preprocessing ==\n",
      "=====================================================\n",
      "Target: y\n",
      "Covariates: x1, x2, x3\n",
      "\n",
      "=======================================================\n",
      "== Starting Step 2 in Pipeline: Individual Forecasts ==\n",
      "=======================================================\n",
      "Splitting data for individual forecasts (train/test ratio: 30/70)...\n",
      "Initial training set has 72 observations and goes from 2004-01 to 2009-12\n",
      "There are 168 periods to be forecasted by the individual models 2010-01 to 2023-12\n",
      "\n",
      "Now generating 168 expanding window predictions for individual model: Naive\n",
      "...finished!\n",
      "\n",
      "Now generating 168 expanding window predictions for individual model: Naive (drift)\n",
      "...finished!\n",
      "\n",
      "Now generating 168 expanding window predictions for individual model: AutoSARIMA\n",
      "Auto-fitting model...\n",
      "AutoSARIMA forecast 1 / 168\n",
      "AutoSARIMA forecast 10 / 168\n",
      "AutoSARIMA forecast 20 / 168\n",
      "AutoSARIMA forecast 30 / 168\n",
      "AutoSARIMA forecast 40 / 168\n",
      "AutoSARIMA forecast 50 / 168\n",
      "...automatic refitting...\n",
      "AutoSARIMA forecast 60 / 168\n",
      "AutoSARIMA forecast 70 / 168\n",
      "AutoSARIMA forecast 80 / 168\n",
      "AutoSARIMA forecast 90 / 168\n",
      "AutoSARIMA forecast 100 / 168\n",
      "AutoSARIMA forecast 110 / 168\n",
      "...automatic refitting...\n",
      "AutoSARIMA forecast 120 / 168\n",
      "AutoSARIMA forecast 130 / 168\n",
      "AutoSARIMA forecast 140 / 168\n",
      "AutoSARIMA forecast 150 / 168\n",
      "AutoSARIMA forecast 160 / 168\n",
      "AutoSARIMA forecast 168 / 168\n",
      "...finished!\n",
      "\n",
      "Now generating 168 expanding window predictions for individual model: AutoSARIMAX\n",
      "Auto-fitting model...\n",
      "AutoSARIMAX forecast 1 / 168\n",
      "AutoSARIMAX forecast 10 / 168\n",
      "AutoSARIMAX forecast 20 / 168\n",
      "AutoSARIMAX forecast 30 / 168\n",
      "AutoSARIMAX forecast 40 / 168\n",
      "AutoSARIMAX forecast 50 / 168\n",
      "...automatic refitting...\n",
      "AutoSARIMAX forecast 60 / 168\n",
      "AutoSARIMAX forecast 70 / 168\n",
      "AutoSARIMAX forecast 80 / 168\n",
      "AutoSARIMAX forecast 90 / 168\n",
      "AutoSARIMAX forecast 100 / 168\n",
      "AutoSARIMAX forecast 110 / 168\n",
      "...automatic refitting...\n",
      "AutoSARIMAX forecast 120 / 168\n",
      "AutoSARIMAX forecast 130 / 168\n",
      "AutoSARIMAX forecast 140 / 168\n",
      "AutoSARIMAX forecast 150 / 168\n",
      "AutoSARIMAX forecast 160 / 168\n",
      "AutoSARIMAX forecast 168 / 168\n",
      "...finished!\n",
      "\n",
      "Now generating 168 expanding window predictions for individual model: Exponential Smoothing\n",
      "...finished!\n",
      "\n",
      "Now generating 168 expanding window predictions for individual model: STL\n",
      "...finished!\n",
      "\n",
      "Now generating 168 expanding window predictions for individual model: XGBoost\n",
      "...finished!\n",
      "\n",
      "Now generating 168 expanding window predictions for individual model: XGBoost (+ X)\n",
      "...finished!\n",
      "\n",
      "Exporting individual forecasts as csv...\n",
      "...finished!\n",
      "\n",
      "            Target      Naive  Naive (drift)  AutoSARIMA  AutoSARIMAX  \\\n",
      "Date                                                                    \n",
      "2010-01  61.919969  59.512417      59.634557   60.692275    61.451503   \n",
      "2010-02  62.374553  61.919969      62.073851   60.860052    61.237491   \n",
      "2010-03  62.618675  62.374553      62.532554   61.881481    61.457561   \n",
      "2010-04  70.651365  62.618675      62.777840   63.011423    62.134979   \n",
      "2010-05  71.222268  70.651365      70.915510   68.377171    69.097867   \n",
      "\n",
      "         Exponential Smoothing        STL    XGBoost  XGBoost (+ X)  \n",
      "Date                                                                 \n",
      "2010-01              60.050325  63.260342  60.097549      59.896275  \n",
      "2010-02              61.450084  62.610622  59.032986      60.583481  \n",
      "2010-03              62.143851  60.727766  59.946480      61.497372  \n",
      "2010-04              62.500502  60.303456  61.452320      62.079674  \n",
      "2010-05              68.693421  64.096111  62.451622      61.877991   \n",
      "\n",
      "\n",
      "#############################################\n",
      "## Step 3: Historical Ensemble Predictions ##\n",
      "#############################################\n",
      "Splitting forecast data (n = 168) for ensemble forecasts (train/test ratio: 30/70)...\n",
      "Initial training set has 50 observations and goes from 2010-01 to 2014-02\n",
      "There are 118 periods to be forecasted by the individual models 2014-03 to 2023-12\n",
      "\n",
      "Performing weighted expanding window forecasts using Simple...\n",
      "Ensemble forecast 1 / 118\n",
      "Ensemble forecast 10 / 118\n",
      "Ensemble forecast 20 / 118\n",
      "Ensemble forecast 30 / 118\n",
      "Ensemble forecast 40 / 118\n",
      "Ensemble forecast 50 / 118\n",
      "Ensemble forecast 60 / 118\n",
      "Ensemble forecast 70 / 118\n",
      "Ensemble forecast 80 / 118\n",
      "Ensemble forecast 90 / 118\n",
      "Ensemble forecast 100 / 118\n",
      "Ensemble forecast 110 / 118\n",
      "Ensemble forecast 118 / 118\n",
      "Performing weighted expanding window forecasts using Inv_RMSE...\n",
      "Ensemble forecast 1 / 118\n",
      "Ensemble forecast 10 / 118\n",
      "Ensemble forecast 20 / 118\n",
      "Ensemble forecast 30 / 118\n",
      "Ensemble forecast 40 / 118\n",
      "Ensemble forecast 50 / 118\n",
      "Ensemble forecast 60 / 118\n",
      "Ensemble forecast 70 / 118\n",
      "Ensemble forecast 80 / 118\n",
      "Ensemble forecast 90 / 118\n",
      "Ensemble forecast 100 / 118\n",
      "Ensemble forecast 110 / 118\n",
      "Ensemble forecast 118 / 118\n",
      "Performing weighted expanding window forecasts using Inv_Variance...\n",
      "Ensemble forecast 1 / 118\n",
      "Ensemble forecast 10 / 118\n",
      "Ensemble forecast 20 / 118\n",
      "Ensemble forecast 30 / 118\n",
      "Ensemble forecast 40 / 118\n",
      "Ensemble forecast 50 / 118\n",
      "Ensemble forecast 60 / 118\n",
      "Ensemble forecast 70 / 118\n",
      "Ensemble forecast 80 / 118\n",
      "Ensemble forecast 90 / 118\n",
      "Ensemble forecast 100 / 118\n",
      "Ensemble forecast 110 / 118\n",
      "Ensemble forecast 118 / 118\n",
      "Performing weighted expanding window forecasts using Inv_ErrorCov...\n",
      "Ensemble forecast 1 / 118\n",
      "Ensemble forecast 10 / 118\n",
      "Ensemble forecast 20 / 118\n",
      "Ensemble forecast 30 / 118\n",
      "Ensemble forecast 40 / 118\n",
      "Ensemble forecast 50 / 118\n",
      "Ensemble forecast 60 / 118\n",
      "Ensemble forecast 70 / 118\n",
      "Ensemble forecast 80 / 118\n",
      "Ensemble forecast 90 / 118\n",
      "Ensemble forecast 100 / 118\n",
      "Ensemble forecast 110 / 118\n",
      "Ensemble forecast 118 / 118\n",
      "Performing meta expanding window forecasts using SVR...\n",
      "Ensemble forecast 1 / 118\n",
      "Ensemble forecast 10 / 118\n",
      "Ensemble forecast 20 / 118\n",
      "Ensemble forecast 30 / 118\n",
      "Ensemble forecast 40 / 118\n",
      "Ensemble forecast 50 / 118\n",
      "Ensemble forecast 60 / 118\n",
      "Ensemble forecast 70 / 118\n",
      "Ensemble forecast 80 / 118\n",
      "Ensemble forecast 90 / 118\n",
      "Ensemble forecast 100 / 118\n",
      "Ensemble forecast 110 / 118\n",
      "Ensemble forecast 118 / 118\n",
      "Performing meta expanding window forecasts using RandomForest...\n",
      "Ensemble forecast 1 / 118\n",
      "Ensemble forecast 10 / 118\n",
      "Ensemble forecast 20 / 118\n",
      "Ensemble forecast 30 / 118\n",
      "Ensemble forecast 40 / 118\n",
      "Ensemble forecast 50 / 118\n",
      "Ensemble forecast 60 / 118\n",
      "Ensemble forecast 70 / 118\n",
      "Ensemble forecast 80 / 118\n",
      "Ensemble forecast 90 / 118\n",
      "Ensemble forecast 100 / 118\n",
      "Ensemble forecast 110 / 118\n",
      "Ensemble forecast 118 / 118\n",
      "         Ens_weighted_Simple  Ens_weighted_Inv_RMSE  \\\n",
      "Date                                                  \n",
      "2014-03            77.685198              78.016231   \n",
      "2014-04            76.447478              76.506002   \n",
      "2014-05            76.430845              76.542169   \n",
      "2014-06            76.598204              76.586708   \n",
      "2014-07            75.246757              75.247506   \n",
      "\n",
      "         Ens_weighted_Inv_Variance  Ens_weighted_Inv_ErrorCov  Ens_meta_SVR  \\\n",
      "Date                                                                          \n",
      "2014-03                  77.965871                  74.622746     77.397321   \n",
      "2014-04                  76.507098                  70.366258     74.278171   \n",
      "2014-05                  76.516403                  71.686267     75.526418   \n",
      "2014-06                  76.575609                  71.430257     75.982436   \n",
      "2014-07                  75.256289                  69.131846     74.373787   \n",
      "\n",
      "         Ens_meta_RandomForest  \n",
      "Date                            \n",
      "2014-03              77.370145  \n",
      "2014-04              75.332527  \n",
      "2014-05              76.821753  \n",
      "2014-06              76.338116  \n",
      "2014-07              74.168402  \n",
      "...ensemble predictions finished!\n",
      "...merging...\n",
      "Exporting ensemble forecasts as csv...\n",
      "...finished!\n",
      "\n",
      "############################################\n",
      "## Step 4: Creating Metrics Ranking Table ##\n",
      "############################################\n",
      "Calculating MAPE, RMSE, SMAPE per model...\n",
      "Ranking models ...\n",
      "Exporting metrics ranking as csv...\n",
      "...finished!\n",
      "\n",
      "                        Model      MAPE      RMSE     SMAPE  MAPE_Ranking  \\\n",
      "0                       Naive  3.381770  2.698995  2.246949             1   \n",
      "1               Naive (drift)  3.400060  2.717839  2.257468             2   \n",
      "2                  AutoSARIMA  3.432000  2.683448  2.281666             3   \n",
      "3       Exponential Smoothing  3.468154  2.699320  2.304909             4   \n",
      "4                 AutoSARIMAX  3.617485  2.903758  2.400976             5   \n",
      "5       Ens_weighted_Inv_RMSE  3.618176  2.779209  2.404765             6   \n",
      "6                Ens_meta_SVR  3.692357  2.896261  2.443058             7   \n",
      "7         Ens_weighted_Simple  3.693280  2.838778  2.455142             8   \n",
      "8   Ens_weighted_Inv_Variance  3.704023  2.828534  2.461753             9   \n",
      "9       Ens_meta_RandomForest  4.081674  3.243891  2.702571            10   \n",
      "10              XGBoost (+ X)  4.293531  3.438028  2.860381            11   \n",
      "11  Ens_weighted_Inv_ErrorCov  4.407704  3.741891  2.970121            12   \n",
      "12                    XGBoost  4.890946  3.763729  3.236528            13   \n",
      "13                        STL  6.788704  5.431760  4.531902            14   \n",
      "\n",
      "    RMSE_Ranking  SMAPE_Ranking  \n",
      "0              2              1  \n",
      "1              4              2  \n",
      "2              1              3  \n",
      "3              3              4  \n",
      "4              9              5  \n",
      "5              5              6  \n",
      "6              8              7  \n",
      "7              7              8  \n",
      "8              6              9  \n",
      "9             10             10  \n",
      "10            11             11  \n",
      "11            12             12  \n",
      "12            13             13  \n",
      "13            14             14   \n",
      "\n",
      "Finished pipeline!\n"
     ]
    }
   ],
   "source": [
    "# fyi: training takes about 9 min on complete dataset and 4.5 min on subset\n",
    "target, covariates, individual_predictions, full_predictions, metrics_ranking = run_pipeline(df=df, forecasting_models=forecasting_models, ensemble_methods=ensemble_methods, metrics=metrics, verbose=True)"
   ]
  },
  {
   "cell_type": "markdown",
   "source": [
    "## 5) Show Ranking Table"
   ],
   "metadata": {
    "collapsed": false
   }
  },
  {
   "cell_type": "code",
   "execution_count": 5,
   "metadata": {
    "ExecuteTime": {
     "end_time": "2024-03-02T04:34:08.607780Z",
     "start_time": "2024-03-02T04:34:08.434338Z"
    }
   },
   "outputs": [
    {
     "data": {
      "text/plain": "<pandas.io.formats.style.Styler at 0x177acf67e50>",
      "text/html": "<style type=\"text/css\">\n</style>\n<table id=\"T_fc537\">\n  <thead>\n    <tr>\n      <th id=\"T_fc537_level0_col0\" class=\"col_heading level0 col0\" >Model</th>\n      <th id=\"T_fc537_level0_col1\" class=\"col_heading level0 col1\" >MAPE</th>\n      <th id=\"T_fc537_level0_col2\" class=\"col_heading level0 col2\" >RMSE</th>\n      <th id=\"T_fc537_level0_col3\" class=\"col_heading level0 col3\" >SMAPE</th>\n      <th id=\"T_fc537_level0_col4\" class=\"col_heading level0 col4\" >MAPE_Ranking</th>\n      <th id=\"T_fc537_level0_col5\" class=\"col_heading level0 col5\" >RMSE_Ranking</th>\n      <th id=\"T_fc537_level0_col6\" class=\"col_heading level0 col6\" >SMAPE_Ranking</th>\n    </tr>\n  </thead>\n  <tbody>\n    <tr>\n      <td id=\"T_fc537_row0_col0\" class=\"data row0 col0\" >Naive</td>\n      <td id=\"T_fc537_row0_col1\" class=\"data row0 col1\" >3.381770</td>\n      <td id=\"T_fc537_row0_col2\" class=\"data row0 col2\" >2.698995</td>\n      <td id=\"T_fc537_row0_col3\" class=\"data row0 col3\" >2.246949</td>\n      <td id=\"T_fc537_row0_col4\" class=\"data row0 col4\" >1</td>\n      <td id=\"T_fc537_row0_col5\" class=\"data row0 col5\" >2</td>\n      <td id=\"T_fc537_row0_col6\" class=\"data row0 col6\" >1</td>\n    </tr>\n    <tr>\n      <td id=\"T_fc537_row1_col0\" class=\"data row1 col0\" >Naive (drift)</td>\n      <td id=\"T_fc537_row1_col1\" class=\"data row1 col1\" >3.400060</td>\n      <td id=\"T_fc537_row1_col2\" class=\"data row1 col2\" >2.717839</td>\n      <td id=\"T_fc537_row1_col3\" class=\"data row1 col3\" >2.257468</td>\n      <td id=\"T_fc537_row1_col4\" class=\"data row1 col4\" >2</td>\n      <td id=\"T_fc537_row1_col5\" class=\"data row1 col5\" >4</td>\n      <td id=\"T_fc537_row1_col6\" class=\"data row1 col6\" >2</td>\n    </tr>\n    <tr>\n      <td id=\"T_fc537_row2_col0\" class=\"data row2 col0\" >AutoSARIMA</td>\n      <td id=\"T_fc537_row2_col1\" class=\"data row2 col1\" >3.432000</td>\n      <td id=\"T_fc537_row2_col2\" class=\"data row2 col2\" >2.683448</td>\n      <td id=\"T_fc537_row2_col3\" class=\"data row2 col3\" >2.281666</td>\n      <td id=\"T_fc537_row2_col4\" class=\"data row2 col4\" >3</td>\n      <td id=\"T_fc537_row2_col5\" class=\"data row2 col5\" >1</td>\n      <td id=\"T_fc537_row2_col6\" class=\"data row2 col6\" >3</td>\n    </tr>\n    <tr>\n      <td id=\"T_fc537_row3_col0\" class=\"data row3 col0\" >Exponential Smoothing</td>\n      <td id=\"T_fc537_row3_col1\" class=\"data row3 col1\" >3.468154</td>\n      <td id=\"T_fc537_row3_col2\" class=\"data row3 col2\" >2.699320</td>\n      <td id=\"T_fc537_row3_col3\" class=\"data row3 col3\" >2.304909</td>\n      <td id=\"T_fc537_row3_col4\" class=\"data row3 col4\" >4</td>\n      <td id=\"T_fc537_row3_col5\" class=\"data row3 col5\" >3</td>\n      <td id=\"T_fc537_row3_col6\" class=\"data row3 col6\" >4</td>\n    </tr>\n    <tr>\n      <td id=\"T_fc537_row4_col0\" class=\"data row4 col0\" >AutoSARIMAX</td>\n      <td id=\"T_fc537_row4_col1\" class=\"data row4 col1\" >3.617485</td>\n      <td id=\"T_fc537_row4_col2\" class=\"data row4 col2\" >2.903758</td>\n      <td id=\"T_fc537_row4_col3\" class=\"data row4 col3\" >2.400976</td>\n      <td id=\"T_fc537_row4_col4\" class=\"data row4 col4\" >5</td>\n      <td id=\"T_fc537_row4_col5\" class=\"data row4 col5\" >9</td>\n      <td id=\"T_fc537_row4_col6\" class=\"data row4 col6\" >5</td>\n    </tr>\n    <tr>\n      <td id=\"T_fc537_row5_col0\" class=\"data row5 col0\" >Ens_weighted_Inv_RMSE</td>\n      <td id=\"T_fc537_row5_col1\" class=\"data row5 col1\" >3.618176</td>\n      <td id=\"T_fc537_row5_col2\" class=\"data row5 col2\" >2.779209</td>\n      <td id=\"T_fc537_row5_col3\" class=\"data row5 col3\" >2.404765</td>\n      <td id=\"T_fc537_row5_col4\" class=\"data row5 col4\" >6</td>\n      <td id=\"T_fc537_row5_col5\" class=\"data row5 col5\" >5</td>\n      <td id=\"T_fc537_row5_col6\" class=\"data row5 col6\" >6</td>\n    </tr>\n    <tr>\n      <td id=\"T_fc537_row6_col0\" class=\"data row6 col0\" >Ens_meta_SVR</td>\n      <td id=\"T_fc537_row6_col1\" class=\"data row6 col1\" >3.692357</td>\n      <td id=\"T_fc537_row6_col2\" class=\"data row6 col2\" >2.896261</td>\n      <td id=\"T_fc537_row6_col3\" class=\"data row6 col3\" >2.443058</td>\n      <td id=\"T_fc537_row6_col4\" class=\"data row6 col4\" >7</td>\n      <td id=\"T_fc537_row6_col5\" class=\"data row6 col5\" >8</td>\n      <td id=\"T_fc537_row6_col6\" class=\"data row6 col6\" >7</td>\n    </tr>\n    <tr>\n      <td id=\"T_fc537_row7_col0\" class=\"data row7 col0\" >Ens_weighted_Simple</td>\n      <td id=\"T_fc537_row7_col1\" class=\"data row7 col1\" >3.693280</td>\n      <td id=\"T_fc537_row7_col2\" class=\"data row7 col2\" >2.838778</td>\n      <td id=\"T_fc537_row7_col3\" class=\"data row7 col3\" >2.455142</td>\n      <td id=\"T_fc537_row7_col4\" class=\"data row7 col4\" >8</td>\n      <td id=\"T_fc537_row7_col5\" class=\"data row7 col5\" >7</td>\n      <td id=\"T_fc537_row7_col6\" class=\"data row7 col6\" >8</td>\n    </tr>\n    <tr>\n      <td id=\"T_fc537_row8_col0\" class=\"data row8 col0\" >Ens_weighted_Inv_Variance</td>\n      <td id=\"T_fc537_row8_col1\" class=\"data row8 col1\" >3.704023</td>\n      <td id=\"T_fc537_row8_col2\" class=\"data row8 col2\" >2.828534</td>\n      <td id=\"T_fc537_row8_col3\" class=\"data row8 col3\" >2.461753</td>\n      <td id=\"T_fc537_row8_col4\" class=\"data row8 col4\" >9</td>\n      <td id=\"T_fc537_row8_col5\" class=\"data row8 col5\" >6</td>\n      <td id=\"T_fc537_row8_col6\" class=\"data row8 col6\" >9</td>\n    </tr>\n    <tr>\n      <td id=\"T_fc537_row9_col0\" class=\"data row9 col0\" >Ens_meta_RandomForest</td>\n      <td id=\"T_fc537_row9_col1\" class=\"data row9 col1\" >4.081674</td>\n      <td id=\"T_fc537_row9_col2\" class=\"data row9 col2\" >3.243891</td>\n      <td id=\"T_fc537_row9_col3\" class=\"data row9 col3\" >2.702571</td>\n      <td id=\"T_fc537_row9_col4\" class=\"data row9 col4\" >10</td>\n      <td id=\"T_fc537_row9_col5\" class=\"data row9 col5\" >10</td>\n      <td id=\"T_fc537_row9_col6\" class=\"data row9 col6\" >10</td>\n    </tr>\n    <tr>\n      <td id=\"T_fc537_row10_col0\" class=\"data row10 col0\" >XGBoost (+ X)</td>\n      <td id=\"T_fc537_row10_col1\" class=\"data row10 col1\" >4.293531</td>\n      <td id=\"T_fc537_row10_col2\" class=\"data row10 col2\" >3.438028</td>\n      <td id=\"T_fc537_row10_col3\" class=\"data row10 col3\" >2.860381</td>\n      <td id=\"T_fc537_row10_col4\" class=\"data row10 col4\" >11</td>\n      <td id=\"T_fc537_row10_col5\" class=\"data row10 col5\" >11</td>\n      <td id=\"T_fc537_row10_col6\" class=\"data row10 col6\" >11</td>\n    </tr>\n    <tr>\n      <td id=\"T_fc537_row11_col0\" class=\"data row11 col0\" >Ens_weighted_Inv_ErrorCov</td>\n      <td id=\"T_fc537_row11_col1\" class=\"data row11 col1\" >4.407704</td>\n      <td id=\"T_fc537_row11_col2\" class=\"data row11 col2\" >3.741891</td>\n      <td id=\"T_fc537_row11_col3\" class=\"data row11 col3\" >2.970121</td>\n      <td id=\"T_fc537_row11_col4\" class=\"data row11 col4\" >12</td>\n      <td id=\"T_fc537_row11_col5\" class=\"data row11 col5\" >12</td>\n      <td id=\"T_fc537_row11_col6\" class=\"data row11 col6\" >12</td>\n    </tr>\n    <tr>\n      <td id=\"T_fc537_row12_col0\" class=\"data row12 col0\" >XGBoost</td>\n      <td id=\"T_fc537_row12_col1\" class=\"data row12 col1\" >4.890946</td>\n      <td id=\"T_fc537_row12_col2\" class=\"data row12 col2\" >3.763729</td>\n      <td id=\"T_fc537_row12_col3\" class=\"data row12 col3\" >3.236528</td>\n      <td id=\"T_fc537_row12_col4\" class=\"data row12 col4\" >13</td>\n      <td id=\"T_fc537_row12_col5\" class=\"data row12 col5\" >13</td>\n      <td id=\"T_fc537_row12_col6\" class=\"data row12 col6\" >13</td>\n    </tr>\n    <tr>\n      <td id=\"T_fc537_row13_col0\" class=\"data row13 col0\" >STL</td>\n      <td id=\"T_fc537_row13_col1\" class=\"data row13 col1\" >6.788704</td>\n      <td id=\"T_fc537_row13_col2\" class=\"data row13 col2\" >5.431760</td>\n      <td id=\"T_fc537_row13_col3\" class=\"data row13 col3\" >4.531902</td>\n      <td id=\"T_fc537_row13_col4\" class=\"data row13 col4\" >14</td>\n      <td id=\"T_fc537_row13_col5\" class=\"data row13 col5\" >14</td>\n      <td id=\"T_fc537_row13_col6\" class=\"data row13 col6\" >14</td>\n    </tr>\n  </tbody>\n</table>\n"
     },
     "metadata": {},
     "output_type": "display_data"
    }
   ],
   "source": [
    "display(metrics_ranking.style.hide())"
   ]
  }
 ],
 "metadata": {
  "kernelspec": {
   "display_name": "Python 3",
   "language": "python",
   "name": "python3"
  },
  "language_info": {
   "codemirror_mode": {
    "name": "ipython",
    "version": 3
   },
   "file_extension": ".py",
   "mimetype": "text/x-python",
   "name": "python",
   "nbconvert_exporter": "python",
   "pygments_lexer": "ipython3",
   "version": "3.11.3"
  }
 },
 "nbformat": 4,
 "nbformat_minor": 2
}
