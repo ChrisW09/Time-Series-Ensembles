{
 "cells": [
  {
   "cell_type": "code",
   "execution_count": 1,
   "id": "initial_id",
   "metadata": {
    "collapsed": true,
    "ExecuteTime": {
     "end_time": "2024-03-10T04:51:31.436980Z",
     "start_time": "2024-03-10T04:51:15.225202Z"
    }
   },
   "outputs": [
    {
     "name": "stdout",
     "output_type": "stream",
     "text": [
      "Loading helper functions...\n",
      "Loading paths...\n",
      "Finished pulling files!\n",
      "Finished pulling files!\n",
      "Finished pulling files!\n",
      "Finished pulling files!\n",
      "Finished pulling files!\n"
     ]
    }
   ],
   "source": [
    "from src.utils import pull_results\n",
    "# Pull pipeline results for different data complexities for a given timestamp\n",
    "timestamp = \"YYYYMMDD-hhmm\"\n",
    "\n",
    "file_names = [\"RW\", \"TrendSeasRW\", \"WeakSARIMA\", \"StrongSARIMA\", \"SARIMAX\"]\n",
    "for file in file_names:\n",
    "    pull_results(timestamp=\"latest\", file_prefix=file)"
   ]
  },
  {
   "cell_type": "code",
   "outputs": [],
   "source": [],
   "metadata": {
    "collapsed": false,
    "ExecuteTime": {
     "end_time": "2024-03-10T04:51:31.444674Z",
     "start_time": "2024-03-10T04:51:31.440Z"
    }
   },
   "id": "482ea7db0f5c5035",
   "execution_count": 1
  }
 ],
 "metadata": {
  "kernelspec": {
   "display_name": "Python 3",
   "language": "python",
   "name": "python3"
  },
  "language_info": {
   "codemirror_mode": {
    "name": "ipython",
    "version": 2
   },
   "file_extension": ".py",
   "mimetype": "text/x-python",
   "name": "python",
   "nbconvert_exporter": "python",
   "pygments_lexer": "ipython2",
   "version": "2.7.6"
  }
 },
 "nbformat": 4,
 "nbformat_minor": 5
}
