{
 "cells": [
  {
   "cell_type": "markdown",
   "source": [
    "# Get Descriptive Table of Multiple Series"
   ],
   "metadata": {
    "collapsed": false
   },
   "id": "ca1fefb10e678c02"
  },
  {
   "cell_type": "markdown",
   "source": [
    "## Dependencies"
   ],
   "metadata": {
    "collapsed": false
   },
   "id": "717cf45c884222d"
  },
  {
   "cell_type": "code",
   "outputs": [
    {
     "name": "stdout",
     "output_type": "stream",
     "text": [
      "Loading helper functions...\n",
      "Loading paths...\n"
     ]
    }
   ],
   "source": [
    "from src.utils.paths import *\n",
    "from src.utils import csv_exporter, latex_exporter\n",
    "import pandas as pd"
   ],
   "metadata": {
    "collapsed": false,
    "ExecuteTime": {
     "end_time": "2024-03-09T10:16:10.246502Z",
     "start_time": "2024-03-09T10:15:53.221182Z"
    }
   },
   "id": "2df27145059b39c",
   "execution_count": 1
  },
  {
   "cell_type": "code",
   "outputs": [],
   "source": [
    "# Define datasets you are interested in"
   ],
   "metadata": {
    "collapsed": false,
    "ExecuteTime": {
     "end_time": "2024-03-09T10:16:10.256758Z",
     "start_time": "2024-03-09T10:16:10.249510Z"
    }
   },
   "id": "5730b552d8d3f64a",
   "execution_count": 2
  },
  {
   "cell_type": "code",
   "outputs": [],
   "source": [
    "simulated_series = [\"RW\", \"TrendSeasRW\", \"WeakSARIMA\", \"StrongSARIMA\", \"SARIMAX\"]\n",
    "dataset_names = simulated_series + ['eurusd']\n",
    "filter_variables = [\"RW\", \"TrendSeasRW\", \"WeakSARIMA\", \"StrongSARIMA\", \"SARIMAX\"] + ['x1', 'x2', 'x3'] + ['bid_close']"
   ],
   "metadata": {
    "collapsed": false,
    "ExecuteTime": {
     "end_time": "2024-03-09T10:23:04.403317Z",
     "start_time": "2024-03-09T10:23:04.395375Z"
    }
   },
   "id": "c8c1e01153504d7b",
   "execution_count": 22
  },
  {
   "cell_type": "code",
   "outputs": [],
   "source": [
    "descriptives = pd.DataFrame()\n",
    "dataset_csv = []\n",
    "for i, data in enumerate(dataset_names):\n",
    "    if not data.endswith(\".csv\"):\n",
    "        dataset_csv.append(data + \".csv\")\n",
    "\n",
    "for dirpath, dirnames, files in os.walk(DATA_DIR):\n",
    "    for file in files:\n",
    "        if file in dataset_csv:\n",
    "            df = pd.read_csv(os.path.join(dirpath, file), index_col=0)\n",
    "            df = df.loc[:,[col in filter_variables for col in df.columns]]\n",
    "            df.index = pd.DatetimeIndex(df.index)\n",
    "            inferred_freq = pd.infer_freq(df.index)\n",
    "            df.index.freq = inferred_freq\n",
    "            df.index.to_period()\n",
    "            if inferred_freq in ['M', 'MS']:\n",
    "                fmt = \"%Y-%m\"\n",
    "            else:  # in ['D', 'B']:\n",
    "                fmt = \"%Y-%m-%d\"\n",
    "            start = df.index.strftime(fmt)[0]\n",
    "            end = df.index.strftime(fmt)[-1]\n",
    "            start_end_df = pd.DataFrame({\"start\":[start]*len(df.columns), \"end\":[end]*len(df.columns)}, index=df\n",
    "                                        .columns)\n",
    "            transposed_summary = df.describe().T\n",
    "            transposed_summary = pd.concat([start_end_df, transposed_summary, ], axis=1)\n",
    "            \n",
    "            descriptives = pd.concat([descriptives, transposed_summary], axis=0)\n",
    "            \n",
    "            descriptives.index.rename(\"Data\", inplace=True)\n",
    "\n",
    "# Sort\n",
    "descriptives = descriptives.reindex(filter_variables)\n",
    "                "
   ],
   "metadata": {
    "collapsed": false,
    "ExecuteTime": {
     "end_time": "2024-03-09T10:25:34.693727Z",
     "start_time": "2024-03-09T10:25:32.712708Z"
    }
   },
   "id": "fd7fcba898100e99",
   "execution_count": 30
  },
  {
   "cell_type": "code",
   "outputs": [
    {
     "data": {
      "text/plain": "                   start         end     count        mean        std  \\\nData                                                                    \nRW               2004-01     2023-12     240.0   68.215495  10.103961   \nTrendSeasRW      2004-01     2023-12     240.0   65.212735   9.860455   \nWeakSARIMA       2004-01     2023-12     240.0   65.434632   9.932379   \nStrongSARIMA     2004-01     2023-12     240.0   65.665527  10.656031   \nSARIMAX          2004-01     2023-12     240.0   66.785970  12.470082   \nx1               2004-01     2023-12     240.0  360.268079  73.697749   \nx2               2004-01     2023-12     240.0   57.956553   8.979728   \nx3               2004-01     2023-12     240.0  923.168300  12.484585   \nbid_close     2020-01-01  2024-02-06  101921.0    1.114271   0.062135   \n\n                    min         25%         50%         75%        max  \nData                                                                    \nRW             40.00000   61.588426   68.492171   74.799536   90.00000  \nTrendSeasRW    40.00000   59.442427   65.278618   70.045723   90.00000  \nWeakSARIMA     40.00000   59.695437   65.626215   70.117469   90.00000  \nStrongSARIMA   40.00000   58.531350   66.647129   70.413462   90.00000  \nSARIMAX        40.00000   56.642862   68.105724   75.746263   90.00000  \nx1            200.00000  308.950805  381.153821  418.607367  500.00000  \nx2             40.00000   50.990507   56.779285   64.344842   80.00000  \nx3            900.00000  914.459089  921.004521  933.860990  950.00000  \nbid_close       0.95386    1.073250    1.101530    1.174540    1.23462  ",
      "text/html": "<div>\n<style scoped>\n    .dataframe tbody tr th:only-of-type {\n        vertical-align: middle;\n    }\n\n    .dataframe tbody tr th {\n        vertical-align: top;\n    }\n\n    .dataframe thead th {\n        text-align: right;\n    }\n</style>\n<table border=\"1\" class=\"dataframe\">\n  <thead>\n    <tr style=\"text-align: right;\">\n      <th></th>\n      <th>start</th>\n      <th>end</th>\n      <th>count</th>\n      <th>mean</th>\n      <th>std</th>\n      <th>min</th>\n      <th>25%</th>\n      <th>50%</th>\n      <th>75%</th>\n      <th>max</th>\n    </tr>\n    <tr>\n      <th>Data</th>\n      <th></th>\n      <th></th>\n      <th></th>\n      <th></th>\n      <th></th>\n      <th></th>\n      <th></th>\n      <th></th>\n      <th></th>\n      <th></th>\n    </tr>\n  </thead>\n  <tbody>\n    <tr>\n      <th>RW</th>\n      <td>2004-01</td>\n      <td>2023-12</td>\n      <td>240.0</td>\n      <td>68.215495</td>\n      <td>10.103961</td>\n      <td>40.00000</td>\n      <td>61.588426</td>\n      <td>68.492171</td>\n      <td>74.799536</td>\n      <td>90.00000</td>\n    </tr>\n    <tr>\n      <th>TrendSeasRW</th>\n      <td>2004-01</td>\n      <td>2023-12</td>\n      <td>240.0</td>\n      <td>65.212735</td>\n      <td>9.860455</td>\n      <td>40.00000</td>\n      <td>59.442427</td>\n      <td>65.278618</td>\n      <td>70.045723</td>\n      <td>90.00000</td>\n    </tr>\n    <tr>\n      <th>WeakSARIMA</th>\n      <td>2004-01</td>\n      <td>2023-12</td>\n      <td>240.0</td>\n      <td>65.434632</td>\n      <td>9.932379</td>\n      <td>40.00000</td>\n      <td>59.695437</td>\n      <td>65.626215</td>\n      <td>70.117469</td>\n      <td>90.00000</td>\n    </tr>\n    <tr>\n      <th>StrongSARIMA</th>\n      <td>2004-01</td>\n      <td>2023-12</td>\n      <td>240.0</td>\n      <td>65.665527</td>\n      <td>10.656031</td>\n      <td>40.00000</td>\n      <td>58.531350</td>\n      <td>66.647129</td>\n      <td>70.413462</td>\n      <td>90.00000</td>\n    </tr>\n    <tr>\n      <th>SARIMAX</th>\n      <td>2004-01</td>\n      <td>2023-12</td>\n      <td>240.0</td>\n      <td>66.785970</td>\n      <td>12.470082</td>\n      <td>40.00000</td>\n      <td>56.642862</td>\n      <td>68.105724</td>\n      <td>75.746263</td>\n      <td>90.00000</td>\n    </tr>\n    <tr>\n      <th>x1</th>\n      <td>2004-01</td>\n      <td>2023-12</td>\n      <td>240.0</td>\n      <td>360.268079</td>\n      <td>73.697749</td>\n      <td>200.00000</td>\n      <td>308.950805</td>\n      <td>381.153821</td>\n      <td>418.607367</td>\n      <td>500.00000</td>\n    </tr>\n    <tr>\n      <th>x2</th>\n      <td>2004-01</td>\n      <td>2023-12</td>\n      <td>240.0</td>\n      <td>57.956553</td>\n      <td>8.979728</td>\n      <td>40.00000</td>\n      <td>50.990507</td>\n      <td>56.779285</td>\n      <td>64.344842</td>\n      <td>80.00000</td>\n    </tr>\n    <tr>\n      <th>x3</th>\n      <td>2004-01</td>\n      <td>2023-12</td>\n      <td>240.0</td>\n      <td>923.168300</td>\n      <td>12.484585</td>\n      <td>900.00000</td>\n      <td>914.459089</td>\n      <td>921.004521</td>\n      <td>933.860990</td>\n      <td>950.00000</td>\n    </tr>\n    <tr>\n      <th>bid_close</th>\n      <td>2020-01-01</td>\n      <td>2024-02-06</td>\n      <td>101921.0</td>\n      <td>1.114271</td>\n      <td>0.062135</td>\n      <td>0.95386</td>\n      <td>1.073250</td>\n      <td>1.101530</td>\n      <td>1.174540</td>\n      <td>1.23462</td>\n    </tr>\n  </tbody>\n</table>\n</div>"
     },
     "metadata": {},
     "output_type": "display_data"
    }
   ],
   "source": [
    "display(descriptives)"
   ],
   "metadata": {
    "collapsed": false,
    "ExecuteTime": {
     "end_time": "2024-03-09T10:25:37.025680Z",
     "start_time": "2024-03-09T10:25:36.999547Z"
    }
   },
   "id": "ef9c2a67151f9aa9",
   "execution_count": 31
  },
  {
   "cell_type": "code",
   "outputs": [],
   "source": [
    "csv_exporter(TABLE_DIR, descriptives)"
   ],
   "metadata": {
    "collapsed": false,
    "ExecuteTime": {
     "end_time": "2024-03-09T10:25:38.346519Z",
     "start_time": "2024-03-09T10:25:38.329528Z"
    }
   },
   "id": "d08c90b1326e475",
   "execution_count": 32
  },
  {
   "cell_type": "code",
   "outputs": [],
   "source": [
    "caption = \"Descriptive Statistics\""
   ],
   "metadata": {
    "collapsed": false,
    "ExecuteTime": {
     "end_time": "2024-03-09T10:25:39.372975Z",
     "start_time": "2024-03-09T10:25:39.367445Z"
    }
   },
   "id": "867da0cbe7bf72a",
   "execution_count": 33
  },
  {
   "cell_type": "code",
   "outputs": [
    {
     "data": {
      "text/plain": "'\\\\begin{table}\\n\\\\caption{Descriptive Statistics}\\n\\\\begin{tabular}{lllrrrrrrrr}\\n\\\\toprule\\n & start & end & count & mean & std & min & 25% & 50% & 75% & max \\\\\\\\\\nData &  &  &  &  &  &  &  &  &  &  \\\\\\\\\\n\\\\midrule\\nRW & 2004-01 & 2023-12 & 240.000000 & 68.215495 & 10.103961 & 40.000000 & 61.588426 & 68.492171 & 74.799536 & 90.000000 \\\\\\\\\\nTrendSeasRW & 2004-01 & 2023-12 & 240.000000 & 65.212735 & 9.860455 & 40.000000 & 59.442427 & 65.278618 & 70.045723 & 90.000000 \\\\\\\\\\nWeakSARIMA & 2004-01 & 2023-12 & 240.000000 & 65.434632 & 9.932379 & 40.000000 & 59.695437 & 65.626215 & 70.117469 & 90.000000 \\\\\\\\\\nStrongSARIMA & 2004-01 & 2023-12 & 240.000000 & 65.665527 & 10.656031 & 40.000000 & 58.531350 & 66.647129 & 70.413462 & 90.000000 \\\\\\\\\\nSARIMAX & 2004-01 & 2023-12 & 240.000000 & 66.785970 & 12.470082 & 40.000000 & 56.642862 & 68.105724 & 75.746263 & 90.000000 \\\\\\\\\\nx1 & 2004-01 & 2023-12 & 240.000000 & 360.268079 & 73.697749 & 200.000000 & 308.950805 & 381.153821 & 418.607367 & 500.000000 \\\\\\\\\\nx2 & 2004-01 & 2023-12 & 240.000000 & 57.956553 & 8.979728 & 40.000000 & 50.990507 & 56.779285 & 64.344842 & 80.000000 \\\\\\\\\\nx3 & 2004-01 & 2023-12 & 240.000000 & 923.168300 & 12.484585 & 900.000000 & 914.459089 & 921.004521 & 933.860990 & 950.000000 \\\\\\\\\\nbid_close & 2020-01-01 & 2024-02-06 & 101921.000000 & 1.114271 & 0.062135 & 0.953860 & 1.073250 & 1.101530 & 1.174540 & 1.234620 \\\\\\\\\\n\\\\bottomrule\\n\\\\end{tabular}\\n\\\\end{table}\\n'"
     },
     "execution_count": 34,
     "metadata": {},
     "output_type": "execute_result"
    }
   ],
   "source": [
    "latex_exporter(descriptives, caption=caption)"
   ],
   "metadata": {
    "collapsed": false,
    "ExecuteTime": {
     "end_time": "2024-03-09T10:25:39.838801Z",
     "start_time": "2024-03-09T10:25:39.817779Z"
    }
   },
   "id": "95162739137ae162",
   "execution_count": 34
  },
  {
   "cell_type": "code",
   "outputs": [],
   "source": [
    "with open(f\"descriptives.tex\", \"w\") as f:\n",
    "    f.write(latex_exporter(descriptives, caption=caption))"
   ],
   "metadata": {
    "collapsed": false,
    "ExecuteTime": {
     "end_time": "2024-03-09T10:25:40.478826Z",
     "start_time": "2024-03-09T10:25:40.452051Z"
    }
   },
   "id": "72abbbd79cafc339",
   "execution_count": 35
  },
  {
   "cell_type": "code",
   "outputs": [],
   "source": [],
   "metadata": {
    "collapsed": false,
    "ExecuteTime": {
     "end_time": "2024-03-09T10:16:10.813890Z",
     "start_time": "2024-03-09T10:16:10.809916Z"
    }
   },
   "id": "3b8fd157c151264f",
   "execution_count": 9
  }
 ],
 "metadata": {
  "kernelspec": {
   "display_name": "Python 3",
   "language": "python",
   "name": "python3"
  },
  "language_info": {
   "codemirror_mode": {
    "name": "ipython",
    "version": 2
   },
   "file_extension": ".py",
   "mimetype": "text/x-python",
   "name": "python",
   "nbconvert_exporter": "python",
   "pygments_lexer": "ipython2",
   "version": "2.7.6"
  }
 },
 "nbformat": 4,
 "nbformat_minor": 5
}
