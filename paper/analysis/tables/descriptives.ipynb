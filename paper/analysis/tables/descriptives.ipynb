{
 "cells": [
  {
   "cell_type": "markdown",
   "source": [
    "# Get Descriptive Table of Multiple Series"
   ],
   "metadata": {
    "collapsed": false
   },
   "id": "ca1fefb10e678c02"
  },
  {
   "cell_type": "markdown",
   "source": [
    "## Dependencies"
   ],
   "metadata": {
    "collapsed": false
   },
   "id": "717cf45c884222d"
  },
  {
   "cell_type": "code",
   "outputs": [
    {
     "name": "stdout",
     "output_type": "stream",
     "text": [
      "Loading helper functions...\n",
      "Loading paths...\n"
     ]
    }
   ],
   "source": [
    "from src.utils.paths import *\n",
    "from src.utils import csv_exporter, latex_exporter\n",
    "import pandas as pd"
   ],
   "metadata": {
    "collapsed": false,
    "ExecuteTime": {
     "end_time": "2024-03-08T11:01:45.971414Z",
     "start_time": "2024-03-08T11:01:23.880352Z"
    }
   },
   "id": "2df27145059b39c",
   "execution_count": 1
  },
  {
   "cell_type": "code",
   "outputs": [],
   "source": [
    "# Define datasets you are interested in"
   ],
   "metadata": {
    "collapsed": false,
    "ExecuteTime": {
     "end_time": "2024-03-08T11:01:45.980744Z",
     "start_time": "2024-03-08T11:01:45.974426Z"
    }
   },
   "id": "5730b552d8d3f64a",
   "execution_count": 2
  },
  {
   "cell_type": "code",
   "outputs": [],
   "source": [
    "dataset_names = ['noisy_simdata.csv', 'eurusd.csv']\n",
    "filter_variables = ['y', 'x1', 'x2', 'x3', 'bid_close']"
   ],
   "metadata": {
    "collapsed": false,
    "ExecuteTime": {
     "end_time": "2024-03-08T11:01:45.995491Z",
     "start_time": "2024-03-08T11:01:45.984756Z"
    }
   },
   "id": "c8c1e01153504d7b",
   "execution_count": 3
  },
  {
   "cell_type": "code",
   "outputs": [],
   "source": [
    "descriptives = pd.DataFrame()\n",
    "\n",
    "for dirpath, dirnames, files in os.walk(DATA_DIR):\n",
    "    for file in files:\n",
    "        if file in dataset_names:\n",
    "            df = pd.read_csv(os.path.join(dirpath, file), index_col=0)\n",
    "            df = df.loc[:,[col in filter_variables for col in df.columns]]\n",
    "            df.index = pd.DatetimeIndex(df.index)\n",
    "            inferred_freq = pd.infer_freq(df.index)\n",
    "            df.index.freq = inferred_freq\n",
    "            df.index.to_period()\n",
    "            if inferred_freq in ['M', 'MS']:\n",
    "                fmt = \"%Y-%m\"\n",
    "            else:  # in ['D', 'B']:\n",
    "                fmt = \"%Y-%m-%d\"\n",
    "            start = df.index.strftime(fmt)[0]\n",
    "            end = df.index.strftime(fmt)[-1]\n",
    "            start_end_df = pd.DataFrame({\"start\":[start]*len(df.columns), \"end\":[end]*len(df.columns)}, index=df\n",
    "                                        .columns)\n",
    "            transposed_summary = df.describe().T\n",
    "            transposed_summary = pd.concat([start_end_df, transposed_summary, ], axis=1)\n",
    "            \n",
    "            descriptives = pd.concat([descriptives, transposed_summary], axis=0)\n",
    "            \n",
    "            descriptives.index.rename(\"Data\", inplace=True)\n",
    "                "
   ],
   "metadata": {
    "collapsed": false,
    "ExecuteTime": {
     "end_time": "2024-03-08T11:11:06.736441Z",
     "start_time": "2024-03-08T11:11:05.185345Z"
    }
   },
   "id": "fd7fcba898100e99",
   "execution_count": 25
  },
  {
   "cell_type": "code",
   "outputs": [
    {
     "data": {
      "text/plain": "                start         end     count        mean        std  \\\nData                                                                 \ny             2004-01     2023-12     240.0   62.787547  11.356034   \nx1            2004-01     2023-12     240.0  359.903917  69.397088   \nx2            2004-01     2023-12     240.0   58.225344   7.809754   \nx3            2004-01     2023-12     240.0  925.395930  12.362736   \nbid_close  2020-01-01  2024-02-06  101921.0    1.114271   0.062135   \n\n                  min         25%         50%         75%         max  \nData                                                                   \ny           39.396929   55.351380   60.395866   73.004331   90.553934  \nx1         200.041616  303.802160  379.083912  410.068355  499.870667  \nx2          40.583377   54.532484   57.414637   62.259925   80.801414  \nx3         899.510058  917.527240  922.147737  934.202909  949.660801  \nbid_close    0.953860    1.073250    1.101530    1.174540    1.234620  ",
      "text/html": "<div>\n<style scoped>\n    .dataframe tbody tr th:only-of-type {\n        vertical-align: middle;\n    }\n\n    .dataframe tbody tr th {\n        vertical-align: top;\n    }\n\n    .dataframe thead th {\n        text-align: right;\n    }\n</style>\n<table border=\"1\" class=\"dataframe\">\n  <thead>\n    <tr style=\"text-align: right;\">\n      <th></th>\n      <th>start</th>\n      <th>end</th>\n      <th>count</th>\n      <th>mean</th>\n      <th>std</th>\n      <th>min</th>\n      <th>25%</th>\n      <th>50%</th>\n      <th>75%</th>\n      <th>max</th>\n    </tr>\n    <tr>\n      <th>Data</th>\n      <th></th>\n      <th></th>\n      <th></th>\n      <th></th>\n      <th></th>\n      <th></th>\n      <th></th>\n      <th></th>\n      <th></th>\n      <th></th>\n    </tr>\n  </thead>\n  <tbody>\n    <tr>\n      <th>y</th>\n      <td>2004-01</td>\n      <td>2023-12</td>\n      <td>240.0</td>\n      <td>62.787547</td>\n      <td>11.356034</td>\n      <td>39.396929</td>\n      <td>55.351380</td>\n      <td>60.395866</td>\n      <td>73.004331</td>\n      <td>90.553934</td>\n    </tr>\n    <tr>\n      <th>x1</th>\n      <td>2004-01</td>\n      <td>2023-12</td>\n      <td>240.0</td>\n      <td>359.903917</td>\n      <td>69.397088</td>\n      <td>200.041616</td>\n      <td>303.802160</td>\n      <td>379.083912</td>\n      <td>410.068355</td>\n      <td>499.870667</td>\n    </tr>\n    <tr>\n      <th>x2</th>\n      <td>2004-01</td>\n      <td>2023-12</td>\n      <td>240.0</td>\n      <td>58.225344</td>\n      <td>7.809754</td>\n      <td>40.583377</td>\n      <td>54.532484</td>\n      <td>57.414637</td>\n      <td>62.259925</td>\n      <td>80.801414</td>\n    </tr>\n    <tr>\n      <th>x3</th>\n      <td>2004-01</td>\n      <td>2023-12</td>\n      <td>240.0</td>\n      <td>925.395930</td>\n      <td>12.362736</td>\n      <td>899.510058</td>\n      <td>917.527240</td>\n      <td>922.147737</td>\n      <td>934.202909</td>\n      <td>949.660801</td>\n    </tr>\n    <tr>\n      <th>bid_close</th>\n      <td>2020-01-01</td>\n      <td>2024-02-06</td>\n      <td>101921.0</td>\n      <td>1.114271</td>\n      <td>0.062135</td>\n      <td>0.953860</td>\n      <td>1.073250</td>\n      <td>1.101530</td>\n      <td>1.174540</td>\n      <td>1.234620</td>\n    </tr>\n  </tbody>\n</table>\n</div>"
     },
     "metadata": {},
     "output_type": "display_data"
    }
   ],
   "source": [
    "display(descriptives)"
   ],
   "metadata": {
    "collapsed": false,
    "ExecuteTime": {
     "end_time": "2024-03-08T11:11:06.765038Z",
     "start_time": "2024-03-08T11:11:06.741454Z"
    }
   },
   "id": "ef9c2a67151f9aa9",
   "execution_count": 26
  },
  {
   "cell_type": "code",
   "outputs": [],
   "source": [
    "csv_exporter(TABLE_DIR, descriptives)"
   ],
   "metadata": {
    "collapsed": false,
    "ExecuteTime": {
     "end_time": "2024-03-08T11:12:00.791676Z",
     "start_time": "2024-03-08T11:12:00.777470Z"
    }
   },
   "id": "d08c90b1326e475",
   "execution_count": 27
  },
  {
   "cell_type": "code",
   "outputs": [],
   "source": [
    "caption = \"Descriptive Statistics\""
   ],
   "metadata": {
    "collapsed": false,
    "ExecuteTime": {
     "end_time": "2024-03-08T11:12:03.980919Z",
     "start_time": "2024-03-08T11:12:03.974701Z"
    }
   },
   "id": "867da0cbe7bf72a",
   "execution_count": 28
  },
  {
   "cell_type": "code",
   "outputs": [
    {
     "data": {
      "text/plain": "'\\\\begin{table}\\n\\\\caption{Descriptive Statistics}\\n\\\\begin{tabular}{lllrrrrrrrr}\\n\\\\toprule\\n & start & end & count & mean & std & min & 25% & 50% & 75% & max \\\\\\\\\\nData &  &  &  &  &  &  &  &  &  &  \\\\\\\\\\n\\\\midrule\\ny & 2004-01 & 2023-12 & 240.000000 & 62.787547 & 11.356034 & 39.396929 & 55.351380 & 60.395866 & 73.004331 & 90.553934 \\\\\\\\\\nx1 & 2004-01 & 2023-12 & 240.000000 & 359.903917 & 69.397088 & 200.041616 & 303.802160 & 379.083912 & 410.068355 & 499.870667 \\\\\\\\\\nx2 & 2004-01 & 2023-12 & 240.000000 & 58.225344 & 7.809754 & 40.583377 & 54.532484 & 57.414637 & 62.259925 & 80.801414 \\\\\\\\\\nx3 & 2004-01 & 2023-12 & 240.000000 & 925.395930 & 12.362736 & 899.510058 & 917.527240 & 922.147737 & 934.202909 & 949.660801 \\\\\\\\\\nbid_close & 2020-01-01 & 2024-02-06 & 101921.000000 & 1.114271 & 0.062135 & 0.953860 & 1.073250 & 1.101530 & 1.174540 & 1.234620 \\\\\\\\\\n\\\\bottomrule\\n\\\\end{tabular}\\n\\\\end{table}\\n'"
     },
     "execution_count": 29,
     "metadata": {},
     "output_type": "execute_result"
    }
   ],
   "source": [
    "latex_exporter(descriptives, caption=caption)"
   ],
   "metadata": {
    "collapsed": false,
    "ExecuteTime": {
     "end_time": "2024-03-08T11:12:05.124244Z",
     "start_time": "2024-03-08T11:12:05.107826Z"
    }
   },
   "id": "95162739137ae162",
   "execution_count": 29
  },
  {
   "cell_type": "code",
   "outputs": [],
   "source": [
    "with open(f\"descriptives.tex\", \"w\") as f:\n",
    "    f.write(latex_exporter(descriptives, caption=caption))"
   ],
   "metadata": {
    "collapsed": false,
    "ExecuteTime": {
     "end_time": "2024-03-08T11:12:06.008796Z",
     "start_time": "2024-03-08T11:12:05.992065Z"
    }
   },
   "id": "72abbbd79cafc339",
   "execution_count": 30
  },
  {
   "cell_type": "code",
   "outputs": [],
   "source": [],
   "metadata": {
    "collapsed": false
   },
   "id": "3b8fd157c151264f"
  }
 ],
 "metadata": {
  "kernelspec": {
   "display_name": "Python 3",
   "language": "python",
   "name": "python3"
  },
  "language_info": {
   "codemirror_mode": {
    "name": "ipython",
    "version": 2
   },
   "file_extension": ".py",
   "mimetype": "text/x-python",
   "name": "python",
   "nbconvert_exporter": "python",
   "pygments_lexer": "ipython2",
   "version": "2.7.6"
  }
 },
 "nbformat": 4,
 "nbformat_minor": 5
}
