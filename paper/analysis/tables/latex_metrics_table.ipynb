{
 "cells": [
  {
   "cell_type": "markdown",
   "source": [
    "### Load Dependencies"
   ],
   "metadata": {
    "collapsed": false
   },
   "id": "afef4b5f593e8f29"
  },
  {
   "cell_type": "code",
   "execution_count": 1,
   "id": "initial_id",
   "metadata": {
    "collapsed": true,
    "ExecuteTime": {
     "end_time": "2024-03-08T08:12:23.596046Z",
     "start_time": "2024-03-08T08:12:04.928160Z"
    }
   },
   "outputs": [
    {
     "name": "stdout",
     "output_type": "stream",
     "text": [
      "Loading helper functions...\n",
      "Loading paths...\n"
     ]
    }
   ],
   "source": [
    "import os\n",
    "import pandas as pd\n",
    "from src.utils import pull_results\n",
    "from src.utils.paths import *"
   ]
  },
  {
   "cell_type": "markdown",
   "source": [
    "### Update Currently Analyzed Data"
   ],
   "metadata": {
    "collapsed": false
   },
   "id": "fc646e68a8fc89ca"
  },
  {
   "cell_type": "code",
   "outputs": [],
   "source": [
    "# timestamp = \"20240712_2211\"\n",
    "# pull_results(timestamp=timestamp, file_prefix=\"noisy_simdata_compl\")  # Comment out this code if data did not change."
   ],
   "metadata": {
    "collapsed": false,
    "ExecuteTime": {
     "end_time": "2024-03-08T08:12:23.604612Z",
     "start_time": "2024-03-08T08:12:23.599088Z"
    }
   },
   "id": "724bc90691af5806",
   "execution_count": 2
  },
  {
   "cell_type": "markdown",
   "source": [
    "## Load DataFrames"
   ],
   "metadata": {
    "collapsed": false
   },
   "id": "76427db9b7175f0b"
  },
  {
   "cell_type": "code",
   "outputs": [],
   "source": [
    "current_data = os.listdir(PAPERDATA_DIR)\n",
    "current_data = [os.path.join(PAPERDATA_DIR, file) for file in current_data if file.endswith(\".csv\")]"
   ],
   "metadata": {
    "collapsed": false,
    "ExecuteTime": {
     "end_time": "2024-03-08T08:12:23.631083Z",
     "start_time": "2024-03-08T08:12:23.606628Z"
    }
   },
   "id": "147e9c3ef4f78986",
   "execution_count": 3
  },
  {
   "cell_type": "code",
   "outputs": [],
   "source": [
    "df_list = []\n",
    "for file in current_data:\n",
    "    df = pd.read_csv(file, index_col=\"Model\")\n",
    "    df_list.append(df)"
   ],
   "metadata": {
    "collapsed": false,
    "ExecuteTime": {
     "end_time": "2024-03-08T08:12:23.659326Z",
     "start_time": "2024-03-08T08:12:23.634101Z"
    }
   },
   "id": "c6ba18a4fa6eedf4",
   "execution_count": 4
  },
  {
   "cell_type": "code",
   "outputs": [
    {
     "data": {
      "text/plain": "                                             Unnamed: 0      RMSE      MAPE  \\\nModel                                                                         \nWeighted Ensemble: Inverse Error Covariance           0  0.009057  0.006006   \nNaive                                                 1  0.009195  0.006299   \nExponential Smoothing                                 2  0.009207  0.006312   \nNaive (drift)                                         3  0.009358  0.006562   \nMeta Ensemble: Linear Regression                      4  0.009773  0.006968   \nWeighted Ensemble: Inverse RMSE                       5  0.009850  0.006978   \nXGBoost                                               6  0.010464  0.007015   \nAutoSARIMA                                            7  0.010122  0.007032   \nWeighted Ensemble: Inverse Variance                   8  0.009898  0.007039   \nWeighted Ensemble: Simple                             9  0.010126  0.007241   \nMeta Ensemble: RandomForest                          10  0.010679  0.007707   \nSTL                                                  11  0.017578  0.012183   \nMeta Ensemble: SVR                                   12  0.018940  0.014044   \nMeta Ensemble: Ridge                                 13  0.019510  0.014523   \nMeta Ensemble: MLP                                   14  0.224505  0.172919   \n\n                                                 sMAPE  RMSE Ranking  \\\nModel                                                                  \nWeighted Ensemble: Inverse Error Covariance   0.399980             1   \nNaive                                         0.419720             2   \nExponential Smoothing                         0.420562             3   \nNaive (drift)                                 0.437355             4   \nMeta Ensemble: Linear Regression              0.464072             5   \nWeighted Ensemble: Inverse RMSE               0.465245             6   \nXGBoost                                       0.468272            10   \nAutoSARIMA                                    0.468696             8   \nWeighted Ensemble: Inverse Variance           0.469364             7   \nWeighted Ensemble: Simple                     0.482869             9   \nMeta Ensemble: RandomForest                   0.513419            11   \nSTL                                           0.814139            12   \nMeta Ensemble: SVR                            0.935965            13   \nMeta Ensemble: Ridge                          0.970649            14   \nMeta Ensemble: MLP                           10.683078            15   \n\n                                             MAPE Ranking  sMAPE Ranking  \nModel                                                                     \nWeighted Ensemble: Inverse Error Covariance             1              1  \nNaive                                                   2              2  \nExponential Smoothing                                   3              3  \nNaive (drift)                                           4              4  \nMeta Ensemble: Linear Regression                        5              5  \nWeighted Ensemble: Inverse RMSE                         6              6  \nXGBoost                                                 7              7  \nAutoSARIMA                                              8              8  \nWeighted Ensemble: Inverse Variance                     9              9  \nWeighted Ensemble: Simple                              10             10  \nMeta Ensemble: RandomForest                            11             11  \nSTL                                                    12             12  \nMeta Ensemble: SVR                                     13             13  \nMeta Ensemble: Ridge                                   14             14  \nMeta Ensemble: MLP                                     15             15  ",
      "text/html": "<div>\n<style scoped>\n    .dataframe tbody tr th:only-of-type {\n        vertical-align: middle;\n    }\n\n    .dataframe tbody tr th {\n        vertical-align: top;\n    }\n\n    .dataframe thead th {\n        text-align: right;\n    }\n</style>\n<table border=\"1\" class=\"dataframe\">\n  <thead>\n    <tr style=\"text-align: right;\">\n      <th></th>\n      <th>Unnamed: 0</th>\n      <th>RMSE</th>\n      <th>MAPE</th>\n      <th>sMAPE</th>\n      <th>RMSE Ranking</th>\n      <th>MAPE Ranking</th>\n      <th>sMAPE Ranking</th>\n    </tr>\n    <tr>\n      <th>Model</th>\n      <th></th>\n      <th></th>\n      <th></th>\n      <th></th>\n      <th></th>\n      <th></th>\n      <th></th>\n    </tr>\n  </thead>\n  <tbody>\n    <tr>\n      <th>Weighted Ensemble: Inverse Error Covariance</th>\n      <td>0</td>\n      <td>0.009057</td>\n      <td>0.006006</td>\n      <td>0.399980</td>\n      <td>1</td>\n      <td>1</td>\n      <td>1</td>\n    </tr>\n    <tr>\n      <th>Naive</th>\n      <td>1</td>\n      <td>0.009195</td>\n      <td>0.006299</td>\n      <td>0.419720</td>\n      <td>2</td>\n      <td>2</td>\n      <td>2</td>\n    </tr>\n    <tr>\n      <th>Exponential Smoothing</th>\n      <td>2</td>\n      <td>0.009207</td>\n      <td>0.006312</td>\n      <td>0.420562</td>\n      <td>3</td>\n      <td>3</td>\n      <td>3</td>\n    </tr>\n    <tr>\n      <th>Naive (drift)</th>\n      <td>3</td>\n      <td>0.009358</td>\n      <td>0.006562</td>\n      <td>0.437355</td>\n      <td>4</td>\n      <td>4</td>\n      <td>4</td>\n    </tr>\n    <tr>\n      <th>Meta Ensemble: Linear Regression</th>\n      <td>4</td>\n      <td>0.009773</td>\n      <td>0.006968</td>\n      <td>0.464072</td>\n      <td>5</td>\n      <td>5</td>\n      <td>5</td>\n    </tr>\n    <tr>\n      <th>Weighted Ensemble: Inverse RMSE</th>\n      <td>5</td>\n      <td>0.009850</td>\n      <td>0.006978</td>\n      <td>0.465245</td>\n      <td>6</td>\n      <td>6</td>\n      <td>6</td>\n    </tr>\n    <tr>\n      <th>XGBoost</th>\n      <td>6</td>\n      <td>0.010464</td>\n      <td>0.007015</td>\n      <td>0.468272</td>\n      <td>10</td>\n      <td>7</td>\n      <td>7</td>\n    </tr>\n    <tr>\n      <th>AutoSARIMA</th>\n      <td>7</td>\n      <td>0.010122</td>\n      <td>0.007032</td>\n      <td>0.468696</td>\n      <td>8</td>\n      <td>8</td>\n      <td>8</td>\n    </tr>\n    <tr>\n      <th>Weighted Ensemble: Inverse Variance</th>\n      <td>8</td>\n      <td>0.009898</td>\n      <td>0.007039</td>\n      <td>0.469364</td>\n      <td>7</td>\n      <td>9</td>\n      <td>9</td>\n    </tr>\n    <tr>\n      <th>Weighted Ensemble: Simple</th>\n      <td>9</td>\n      <td>0.010126</td>\n      <td>0.007241</td>\n      <td>0.482869</td>\n      <td>9</td>\n      <td>10</td>\n      <td>10</td>\n    </tr>\n    <tr>\n      <th>Meta Ensemble: RandomForest</th>\n      <td>10</td>\n      <td>0.010679</td>\n      <td>0.007707</td>\n      <td>0.513419</td>\n      <td>11</td>\n      <td>11</td>\n      <td>11</td>\n    </tr>\n    <tr>\n      <th>STL</th>\n      <td>11</td>\n      <td>0.017578</td>\n      <td>0.012183</td>\n      <td>0.814139</td>\n      <td>12</td>\n      <td>12</td>\n      <td>12</td>\n    </tr>\n    <tr>\n      <th>Meta Ensemble: SVR</th>\n      <td>12</td>\n      <td>0.018940</td>\n      <td>0.014044</td>\n      <td>0.935965</td>\n      <td>13</td>\n      <td>13</td>\n      <td>13</td>\n    </tr>\n    <tr>\n      <th>Meta Ensemble: Ridge</th>\n      <td>13</td>\n      <td>0.019510</td>\n      <td>0.014523</td>\n      <td>0.970649</td>\n      <td>14</td>\n      <td>14</td>\n      <td>14</td>\n    </tr>\n    <tr>\n      <th>Meta Ensemble: MLP</th>\n      <td>14</td>\n      <td>0.224505</td>\n      <td>0.172919</td>\n      <td>10.683078</td>\n      <td>15</td>\n      <td>15</td>\n      <td>15</td>\n    </tr>\n  </tbody>\n</table>\n</div>"
     },
     "metadata": {},
     "output_type": "display_data"
    }
   ],
   "source": [
    "display(df_list[0])"
   ],
   "metadata": {
    "collapsed": false,
    "ExecuteTime": {
     "end_time": "2024-03-08T08:16:29.713702Z",
     "start_time": "2024-03-08T08:16:29.660891Z"
    }
   },
   "id": "e5c90bad4bfd9992",
   "execution_count": 7
  },
  {
   "cell_type": "markdown",
   "source": [
    "## Transform to LaTex\n",
    "#### Note: \\usepackage{booktaps} in LaTex"
   ],
   "metadata": {
    "collapsed": false
   },
   "id": "7df6fd1ea59ab66f"
  },
  {
   "cell_type": "code",
   "outputs": [
    {
     "name": "stdout",
     "output_type": "stream",
     "text": [
      "Table for Complexity 1\n",
      "\n",
      "\\begin{table}\n",
      "\\caption{Ranking Forecasters and Ensemblers by Predictive Performance - Data Complexity: 1}\n",
      "\\begin{tabular}{lrrrrrrr}\n",
      "\\toprule\n",
      " & Unnamed: 0 & RMSE & MAPE & sMAPE & RMSE Ranking & MAPE Ranking & sMAPE Ranking \\\\\n",
      "Model &  &  &  &  &  &  &  \\\\\n",
      "\\midrule\n",
      "Weighted Ensemble: Inverse Error Covariance & 0 & 0.009057 & 0.006006 & 0.399980 & 1 & 1 & 1 \\\\\n",
      "Naive & 1 & 0.009195 & 0.006299 & 0.419720 & 2 & 2 & 2 \\\\\n",
      "Exponential Smoothing & 2 & 0.009207 & 0.006312 & 0.420562 & 3 & 3 & 3 \\\\\n",
      "Naive (drift) & 3 & 0.009358 & 0.006562 & 0.437355 & 4 & 4 & 4 \\\\\n",
      "Meta Ensemble: Linear Regression & 4 & 0.009773 & 0.006968 & 0.464072 & 5 & 5 & 5 \\\\\n",
      "Weighted Ensemble: Inverse RMSE & 5 & 0.009850 & 0.006978 & 0.465245 & 6 & 6 & 6 \\\\\n",
      "XGBoost & 6 & 0.010464 & 0.007015 & 0.468272 & 10 & 7 & 7 \\\\\n",
      "AutoSARIMA & 7 & 0.010122 & 0.007032 & 0.468696 & 8 & 8 & 8 \\\\\n",
      "Weighted Ensemble: Inverse Variance & 8 & 0.009898 & 0.007039 & 0.469364 & 7 & 9 & 9 \\\\\n",
      "Weighted Ensemble: Simple & 9 & 0.010126 & 0.007241 & 0.482869 & 9 & 10 & 10 \\\\\n",
      "Meta Ensemble: RandomForest & 10 & 0.010679 & 0.007707 & 0.513419 & 11 & 11 & 11 \\\\\n",
      "STL & 11 & 0.017578 & 0.012183 & 0.814139 & 12 & 12 & 12 \\\\\n",
      "Meta Ensemble: SVR & 12 & 0.018940 & 0.014044 & 0.935965 & 13 & 13 & 13 \\\\\n",
      "Meta Ensemble: Ridge & 13 & 0.019510 & 0.014523 & 0.970649 & 14 & 14 & 14 \\\\\n",
      "Meta Ensemble: MLP & 14 & 0.224505 & 0.172919 & 10.683078 & 15 & 15 & 15 \\\\\n",
      "\\bottomrule\n",
      "\\end{tabular}\n",
      "\\end{table}\n",
      "\n",
      "\n",
      "\n",
      "Table for Complexity 2\n",
      "\n",
      "\\begin{table}\n",
      "\\caption{Ranking Forecasters and Ensemblers by Predictive Performance - Data Complexity: 2}\n",
      "\\begin{tabular}{lrrrrrrr}\n",
      "\\toprule\n",
      " & Unnamed: 0 & RMSE & MAPE & sMAPE & RMSE Ranking & MAPE Ranking & sMAPE Ranking \\\\\n",
      "Model &  &  &  &  &  &  &  \\\\\n",
      "\\midrule\n",
      "Weighted Ensemble: Inverse Error Covariance & 0 & 0.008724 & 0.005932 & 0.395219 & 1 & 1 & 1 \\\\\n",
      "Naive & 1 & 0.008982 & 0.006280 & 0.418434 & 2 & 2 & 2 \\\\\n",
      "Exponential Smoothing & 2 & 0.008993 & 0.006291 & 0.419173 & 3 & 3 & 3 \\\\\n",
      "Naive (drift) & 3 & 0.009092 & 0.006410 & 0.427172 & 4 & 4 & 4 \\\\\n",
      "Meta Ensemble: Linear Regression & 4 & 0.009518 & 0.006631 & 0.441373 & 5 & 5 & 5 \\\\\n",
      "XGBoost & 5 & 0.010124 & 0.007087 & 0.472979 & 6 & 6 & 6 \\\\\n",
      "Weighted Ensemble: Inverse RMSE & 6 & 0.010150 & 0.007227 & 0.481786 & 8 & 7 & 7 \\\\\n",
      "Weighted Ensemble: Inverse Variance & 7 & 0.010143 & 0.007299 & 0.486631 & 7 & 8 & 8 \\\\\n",
      "Weighted Ensemble: Simple & 8 & 0.010536 & 0.007585 & 0.505765 & 10 & 9 & 9 \\\\\n",
      "Meta Ensemble: RandomForest & 9 & 0.010417 & 0.007904 & 0.526751 & 9 & 10 & 10 \\\\\n",
      "AutoSARIMA & 10 & 0.013774 & 0.009384 & 0.626035 & 11 & 11 & 11 \\\\\n",
      "STL & 11 & 0.018073 & 0.013229 & 0.882957 & 12 & 12 & 12 \\\\\n",
      "Meta Ensemble: Ridge & 12 & 0.018997 & 0.013778 & 0.920899 & 14 & 13 & 13 \\\\\n",
      "Meta Ensemble: SVR & 13 & 0.018916 & 0.014405 & 0.959313 & 13 & 14 & 14 \\\\\n",
      "Meta Ensemble: MLP & 14 & 0.250550 & 0.199152 & 12.228849 & 15 & 15 & 15 \\\\\n",
      "\\bottomrule\n",
      "\\end{tabular}\n",
      "\\end{table}\n",
      "\n",
      "\n",
      "\n",
      "Table for Complexity 3\n",
      "\n",
      "\\begin{table}\n",
      "\\caption{Ranking Forecasters and Ensemblers by Predictive Performance - Data Complexity: 3}\n",
      "\\begin{tabular}{lrrrrrrr}\n",
      "\\toprule\n",
      " & Unnamed: 0 & RMSE & MAPE & sMAPE & RMSE Ranking & MAPE Ranking & sMAPE Ranking \\\\\n",
      "Model &  &  &  &  &  &  &  \\\\\n",
      "\\midrule\n",
      "Weighted Ensemble: Inverse Error Covariance & 0 & 0.008724 & 0.005932 & 0.395219 & 1 & 1 & 1 \\\\\n",
      "Naive & 1 & 0.008982 & 0.006280 & 0.418434 & 2 & 2 & 2 \\\\\n",
      "Exponential Smoothing & 2 & 0.008993 & 0.006291 & 0.419173 & 3 & 3 & 3 \\\\\n",
      "Naive (drift) & 3 & 0.009092 & 0.006410 & 0.427172 & 4 & 4 & 4 \\\\\n",
      "Meta Ensemble: Linear Regression & 4 & 0.009518 & 0.006631 & 0.441373 & 5 & 5 & 5 \\\\\n",
      "XGBoost & 5 & 0.010124 & 0.007087 & 0.472979 & 6 & 6 & 6 \\\\\n",
      "Weighted Ensemble: Inverse RMSE & 6 & 0.010150 & 0.007227 & 0.481786 & 8 & 7 & 7 \\\\\n",
      "Weighted Ensemble: Inverse Variance & 7 & 0.010143 & 0.007299 & 0.486631 & 7 & 8 & 8 \\\\\n",
      "Weighted Ensemble: Simple & 8 & 0.010536 & 0.007585 & 0.505765 & 10 & 9 & 9 \\\\\n",
      "Meta Ensemble: RandomForest & 9 & 0.010421 & 0.007760 & 0.517163 & 9 & 10 & 10 \\\\\n",
      "AutoSARIMA & 10 & 0.013774 & 0.009384 & 0.626035 & 11 & 11 & 11 \\\\\n",
      "STL & 11 & 0.018073 & 0.013229 & 0.882957 & 12 & 12 & 12 \\\\\n",
      "Meta Ensemble: Ridge & 12 & 0.018997 & 0.013778 & 0.920899 & 14 & 13 & 13 \\\\\n",
      "Meta Ensemble: SVR & 13 & 0.018916 & 0.014405 & 0.959313 & 13 & 14 & 14 \\\\\n",
      "Meta Ensemble: MLP & 14 & 0.241307 & 0.193338 & 11.905450 & 15 & 15 & 15 \\\\\n",
      "\\bottomrule\n",
      "\\end{tabular}\n",
      "\\end{table}\n"
     ]
    }
   ],
   "source": [
    "def latex_printer(df):\n",
    "    latex_output = df.style.to_latex(\n",
    "        hrules=True,\n",
    "        caption=f\"Ranking Forecasters and Ensemblers by Predictive Performance - Data Complexity: {i + 1}\"\n",
    "    )\n",
    "    return latex_output\n",
    "\n",
    "for i, df in enumerate(df_list):\n",
    "    print(f\"Table for Complexity {i+1}\\n\")\n",
    "    print(latex_printer(df))\n",
    "    print(\"\\n\")\n",
    "    \n",
    "    with open(f\"metrics_ranking_compl{i+1}.tex\", \"w\") as f:\n",
    "        f.write(latex_printer(df))"
   ],
   "metadata": {
    "collapsed": false,
    "ExecuteTime": {
     "end_time": "2024-03-08T08:13:11.703176Z",
     "start_time": "2024-03-08T08:13:11.646760Z"
    }
   },
   "id": "ad466e46ba1d12cc",
   "execution_count": 6
  },
  {
   "cell_type": "markdown",
   "source": [],
   "metadata": {
    "collapsed": false
   },
   "id": "296243927ab0fad1"
  }
 ],
 "metadata": {
  "kernelspec": {
   "display_name": "Python 3",
   "language": "python",
   "name": "python3"
  },
  "language_info": {
   "codemirror_mode": {
    "name": "ipython",
    "version": 2
   },
   "file_extension": ".py",
   "mimetype": "text/x-python",
   "name": "python",
   "nbconvert_exporter": "python",
   "pygments_lexer": "ipython2",
   "version": "2.7.6"
  }
 },
 "nbformat": 4,
 "nbformat_minor": 5
}
