{
 "cells": [
  {
   "cell_type": "markdown",
   "source": [
    "### Load Dependencies"
   ],
   "metadata": {
    "collapsed": false
   },
   "id": "afef4b5f593e8f29"
  },
  {
   "cell_type": "code",
   "execution_count": 1,
   "id": "initial_id",
   "metadata": {
    "collapsed": true,
    "ExecuteTime": {
     "end_time": "2024-03-08T08:12:23.596046Z",
     "start_time": "2024-03-08T08:12:04.928160Z"
    }
   },
   "outputs": [
    {
     "name": "stdout",
     "output_type": "stream",
     "text": [
      "Loading helper functions...\n",
      "Loading paths...\n"
     ]
    }
   ],
   "source": [
    "import os\n",
    "import pandas as pd\n",
    "from src.utils import pull_results\n",
    "from src.utils.paths import *"
   ]
  },
  {
   "cell_type": "markdown",
   "source": [
    "### Update Currently Analyzed Data"
   ],
   "metadata": {
    "collapsed": false
   },
   "id": "fc646e68a8fc89ca"
  },
  {
   "cell_type": "code",
   "outputs": [],
   "source": [
    "# timestamp = \"20240712_2211\"\n",
    "# pull_results(timestamp=timestamp, file_prefix=\"noisy_simdata_compl\")  # Comment out this code if data did not change."
   ],
   "metadata": {
    "collapsed": false,
    "ExecuteTime": {
     "end_time": "2024-03-08T08:12:23.604612Z",
     "start_time": "2024-03-08T08:12:23.599088Z"
    }
   },
   "id": "724bc90691af5806",
   "execution_count": 2
  },
  {
   "cell_type": "markdown",
   "source": [
    "## Load DataFrames"
   ],
   "metadata": {
    "collapsed": false
   },
   "id": "76427db9b7175f0b"
  },
  {
   "cell_type": "code",
   "outputs": [],
   "source": [
    "current_data = os.listdir(PAPERDATA_DIR)\n",
    "current_data = [os.path.join(PAPERDATA_DIR, file) for file in current_data if file.endswith(\".csv\")]"
   ],
   "metadata": {
    "collapsed": false,
    "ExecuteTime": {
     "end_time": "2024-03-08T08:12:23.631083Z",
     "start_time": "2024-03-08T08:12:23.606628Z"
    }
   },
   "id": "147e9c3ef4f78986",
   "execution_count": 3
  },
  {
   "cell_type": "code",
   "outputs": [],
   "source": [
    "df_list = []\n",
    "for file in current_data:\n",
    "    df = pd.read_csv(file, index_col=\"Model\")\n",
    "    df_list.append(df)"
   ],
   "metadata": {
    "collapsed": false,
    "ExecuteTime": {
     "end_time": "2024-03-08T08:12:23.659326Z",
     "start_time": "2024-03-08T08:12:23.634101Z"
    }
   },
   "id": "c6ba18a4fa6eedf4",
   "execution_count": 4
  },
  {
   "cell_type": "markdown",
   "source": [
    "## Transform to LaTex\n",
    "#### Note: \\usepackage{booktaps} in LaTex"
   ],
   "metadata": {
    "collapsed": false
   },
   "id": "7df6fd1ea59ab66f"
  },
  {
   "cell_type": "code",
   "outputs": [
    {
     "name": "stdout",
     "output_type": "stream",
     "text": [
      "Table for Complexity 1\n",
      "\n",
      "\\begin{table}\n",
      "\\caption{Ranking Forecasters and Ensemblers by Predictive Performance - Data Complexity: 1}\n",
      "\\begin{tabular}{lrrrrrrr}\n",
      "\\toprule\n",
      " & Unnamed: 0 & RMSE & MAPE & sMAPE & RMSE Ranking & MAPE Ranking & sMAPE Ranking \\\\\n",
      "Model &  &  &  &  &  &  &  \\\\\n",
      "\\midrule\n",
      "Weighted Ensemble: Inverse Error Covariance & 0 & 0.009057 & 0.006006 & 0.399980 & 1 & 1 & 1 \\\\\n",
      "Naive & 1 & 0.009195 & 0.006299 & 0.419720 & 2 & 2 & 2 \\\\\n",
      "Exponential Smoothing & 2 & 0.009207 & 0.006312 & 0.420562 & 3 & 3 & 3 \\\\\n",
      "Naive (drift) & 3 & 0.009358 & 0.006562 & 0.437355 & 4 & 4 & 4 \\\\\n",
      "Meta Ensemble: Linear Regression & 4 & 0.009773 & 0.006968 & 0.464072 & 5 & 5 & 5 \\\\\n",
      "Weighted Ensemble: Inverse RMSE & 5 & 0.009850 & 0.006978 & 0.465245 & 6 & 6 & 6 \\\\\n",
      "XGBoost & 6 & 0.010464 & 0.007015 & 0.468272 & 10 & 7 & 7 \\\\\n",
      "AutoSARIMA & 7 & 0.010122 & 0.007032 & 0.468696 & 8 & 8 & 8 \\\\\n",
      "Weighted Ensemble: Inverse Variance & 8 & 0.009898 & 0.007039 & 0.469364 & 7 & 9 & 9 \\\\\n",
      "Weighted Ensemble: Simple & 9 & 0.010126 & 0.007241 & 0.482869 & 9 & 10 & 10 \\\\\n",
      "Meta Ensemble: RandomForest & 10 & 0.010679 & 0.007707 & 0.513419 & 11 & 11 & 11 \\\\\n",
      "STL & 11 & 0.017578 & 0.012183 & 0.814139 & 12 & 12 & 12 \\\\\n",
      "Meta Ensemble: SVR & 12 & 0.018940 & 0.014044 & 0.935965 & 13 & 13 & 13 \\\\\n",
      "Meta Ensemble: Ridge & 13 & 0.019510 & 0.014523 & 0.970649 & 14 & 14 & 14 \\\\\n",
      "Meta Ensemble: MLP & 14 & 0.224505 & 0.172919 & 10.683078 & 15 & 15 & 15 \\\\\n",
      "\\bottomrule\n",
      "\\end{tabular}\n",
      "\\end{table}\n",
      "\n",
      "\n",
      "\n",
      "Table for Complexity 2\n",
      "\n",
      "\\begin{table}\n",
      "\\caption{Ranking Forecasters and Ensemblers by Predictive Performance - Data Complexity: 2}\n",
      "\\begin{tabular}{lrrrrrrr}\n",
      "\\toprule\n",
      " & Unnamed: 0 & RMSE & MAPE & sMAPE & RMSE Ranking & MAPE Ranking & sMAPE Ranking \\\\\n",
      "Model &  &  &  &  &  &  &  \\\\\n",
      "\\midrule\n",
      "Weighted Ensemble: Inverse Error Covariance & 0 & 0.008724 & 0.005932 & 0.395219 & 1 & 1 & 1 \\\\\n",
      "Naive & 1 & 0.008982 & 0.006280 & 0.418434 & 2 & 2 & 2 \\\\\n",
      "Exponential Smoothing & 2 & 0.008993 & 0.006291 & 0.419173 & 3 & 3 & 3 \\\\\n",
      "Naive (drift) & 3 & 0.009092 & 0.006410 & 0.427172 & 4 & 4 & 4 \\\\\n",
      "Meta Ensemble: Linear Regression & 4 & 0.009518 & 0.006631 & 0.441373 & 5 & 5 & 5 \\\\\n",
      "XGBoost & 5 & 0.010124 & 0.007087 & 0.472979 & 6 & 6 & 6 \\\\\n",
      "Weighted Ensemble: Inverse RMSE & 6 & 0.010150 & 0.007227 & 0.481786 & 8 & 7 & 7 \\\\\n",
      "Weighted Ensemble: Inverse Variance & 7 & 0.010143 & 0.007299 & 0.486631 & 7 & 8 & 8 \\\\\n",
      "Weighted Ensemble: Simple & 8 & 0.010536 & 0.007585 & 0.505765 & 10 & 9 & 9 \\\\\n",
      "Meta Ensemble: RandomForest & 9 & 0.010417 & 0.007904 & 0.526751 & 9 & 10 & 10 \\\\\n",
      "AutoSARIMA & 10 & 0.013774 & 0.009384 & 0.626035 & 11 & 11 & 11 \\\\\n",
      "STL & 11 & 0.018073 & 0.013229 & 0.882957 & 12 & 12 & 12 \\\\\n",
      "Meta Ensemble: Ridge & 12 & 0.018997 & 0.013778 & 0.920899 & 14 & 13 & 13 \\\\\n",
      "Meta Ensemble: SVR & 13 & 0.018916 & 0.014405 & 0.959313 & 13 & 14 & 14 \\\\\n",
      "Meta Ensemble: MLP & 14 & 0.250550 & 0.199152 & 12.228849 & 15 & 15 & 15 \\\\\n",
      "\\bottomrule\n",
      "\\end{tabular}\n",
      "\\end{table}\n",
      "\n",
      "\n",
      "\n",
      "Table for Complexity 3\n",
      "\n",
      "\\begin{table}\n",
      "\\caption{Ranking Forecasters and Ensemblers by Predictive Performance - Data Complexity: 3}\n",
      "\\begin{tabular}{lrrrrrrr}\n",
      "\\toprule\n",
      " & Unnamed: 0 & RMSE & MAPE & sMAPE & RMSE Ranking & MAPE Ranking & sMAPE Ranking \\\\\n",
      "Model &  &  &  &  &  &  &  \\\\\n",
      "\\midrule\n",
      "Weighted Ensemble: Inverse Error Covariance & 0 & 0.008724 & 0.005932 & 0.395219 & 1 & 1 & 1 \\\\\n",
      "Naive & 1 & 0.008982 & 0.006280 & 0.418434 & 2 & 2 & 2 \\\\\n",
      "Exponential Smoothing & 2 & 0.008993 & 0.006291 & 0.419173 & 3 & 3 & 3 \\\\\n",
      "Naive (drift) & 3 & 0.009092 & 0.006410 & 0.427172 & 4 & 4 & 4 \\\\\n",
      "Meta Ensemble: Linear Regression & 4 & 0.009518 & 0.006631 & 0.441373 & 5 & 5 & 5 \\\\\n",
      "XGBoost & 5 & 0.010124 & 0.007087 & 0.472979 & 6 & 6 & 6 \\\\\n",
      "Weighted Ensemble: Inverse RMSE & 6 & 0.010150 & 0.007227 & 0.481786 & 8 & 7 & 7 \\\\\n",
      "Weighted Ensemble: Inverse Variance & 7 & 0.010143 & 0.007299 & 0.486631 & 7 & 8 & 8 \\\\\n",
      "Weighted Ensemble: Simple & 8 & 0.010536 & 0.007585 & 0.505765 & 10 & 9 & 9 \\\\\n",
      "Meta Ensemble: RandomForest & 9 & 0.010421 & 0.007760 & 0.517163 & 9 & 10 & 10 \\\\\n",
      "AutoSARIMA & 10 & 0.013774 & 0.009384 & 0.626035 & 11 & 11 & 11 \\\\\n",
      "STL & 11 & 0.018073 & 0.013229 & 0.882957 & 12 & 12 & 12 \\\\\n",
      "Meta Ensemble: Ridge & 12 & 0.018997 & 0.013778 & 0.920899 & 14 & 13 & 13 \\\\\n",
      "Meta Ensemble: SVR & 13 & 0.018916 & 0.014405 & 0.959313 & 13 & 14 & 14 \\\\\n",
      "Meta Ensemble: MLP & 14 & 0.241307 & 0.193338 & 11.905450 & 15 & 15 & 15 \\\\\n",
      "\\bottomrule\n",
      "\\end{tabular}\n",
      "\\end{table}\n",
      "\n",
      "\n"
     ]
    }
   ],
   "source": [
    "def latex_printer(df):\n",
    "    latex_output = df.style.to_latex(\n",
    "        hrules=True,\n",
    "        caption=f\"Ranking Forecasters and Ensemblers by Predictive Performance - Data Complexity: {i + 1}\"\n",
    "    )\n",
    "    return latex_output\n",
    "\n",
    "for i, df in enumerate(df_list):\n",
    "    print(f\"Table for Complexity {i+1}\\n\")\n",
    "    print(latex_printer(df))\n",
    "    print(\"\\n\")\n",
    "    \n",
    "    with open(f\"metrics_ranking_compl{i+1}.tex\", \"w\") as f:\n",
    "        f.write(latex_printer(df))"
   ],
   "metadata": {
    "collapsed": false,
    "ExecuteTime": {
     "end_time": "2024-03-08T08:13:11.703176Z",
     "start_time": "2024-03-08T08:13:11.646760Z"
    }
   },
   "id": "ad466e46ba1d12cc",
   "execution_count": 6
  },
  {
   "cell_type": "markdown",
   "source": [],
   "metadata": {
    "collapsed": false
   },
   "id": "296243927ab0fad1"
  }
 ],
 "metadata": {
  "kernelspec": {
   "display_name": "Python 3",
   "language": "python",
   "name": "python3"
  },
  "language_info": {
   "codemirror_mode": {
    "name": "ipython",
    "version": 2
   },
   "file_extension": ".py",
   "mimetype": "text/x-python",
   "name": "python",
   "nbconvert_exporter": "python",
   "pygments_lexer": "ipython2",
   "version": "2.7.6"
  }
 },
 "nbformat": 4,
 "nbformat_minor": 5
}
