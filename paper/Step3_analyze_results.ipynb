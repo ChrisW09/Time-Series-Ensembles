{
 "cells": [
  {
   "cell_type": "markdown",
   "source": [
    "# 1) Load Dependencies"
   ],
   "metadata": {
    "collapsed": false
   },
   "id": "e5a9baf55955656d"
  },
  {
   "cell_type": "code",
   "outputs": [],
   "source": [
    "import pandas as pd\n",
    "import matplotlib.pyplot as plt\n",
    "from src.paper import pull_results, plot_metrics, create_descriptives, latex_exporter\n",
    "from src.utils import csv_exporter\n",
    "from src.utils.paths import *\n",
    "from statsmodels.tsa.stattools import adfuller, kpss"
   ],
   "metadata": {
    "collapsed": false,
    "ExecuteTime": {
     "end_time": "2024-03-12T21:20:25.304333Z",
     "start_time": "2024-03-12T21:20:25.298079Z"
    }
   },
   "id": "ac5990ee5d39371b",
   "execution_count": 52
  },
  {
   "cell_type": "markdown",
   "source": [
    "# 2) Pull Results from Pipeline"
   ],
   "metadata": {
    "collapsed": false
   },
   "id": "e61279401825773c"
  },
  {
   "cell_type": "code",
   "outputs": [
    {
     "name": "stdout",
     "output_type": "stream",
     "text": [
      "Finished pulling files!\n"
     ]
    }
   ],
   "source": [
    "# Use a specific timestamp, otherwise it just uses \"latest\"\n",
    "# timestamp = \"YYYYMMDD-hhmm\"\n",
    "\n",
    "# File names to analyze:\n",
    "file_names = [\"RW\", \"TrendSeasRW\", \"WeakSARIMA\", \"StrongSARIMA\", \"SARIMAX\"] + ['eurusd'] + ['eurusd_agg']\n",
    "\n",
    "# Move pipeline results to \"analyzed_data\" folder\n",
    "pull_results(timestamp=\"latest\", file_prefix=file_names)"
   ],
   "metadata": {
    "collapsed": false,
    "ExecuteTime": {
     "end_time": "2024-03-12T20:36:52.484037Z",
     "start_time": "2024-03-12T20:36:52.446981Z"
    }
   },
   "id": "9842bd5d5d178636",
   "execution_count": 4
  },
  {
   "cell_type": "markdown",
   "source": [
    "# 3) Create Descriptive Table"
   ],
   "metadata": {
    "collapsed": false
   },
   "id": "17802fc9bd9f5fad"
  },
  {
   "cell_type": "code",
   "outputs": [],
   "source": [
    "# Select varibales to print in table\n",
    "filter_variables = ([\"RW\", \"TrendSeasRW\", \"WeakSARIMA\", \"StrongSARIMA\", \"SARIMAX\"] + ['x1', 'x2', 'x3'] +  \n",
    "                    ['bid_close'] + ['bid_close_agg'])"
   ],
   "metadata": {
    "collapsed": false,
    "ExecuteTime": {
     "end_time": "2024-03-12T20:36:52.503744Z",
     "start_time": "2024-03-12T20:36:52.495050Z"
    }
   },
   "id": "e30f07571b64d400",
   "execution_count": 5
  },
  {
   "cell_type": "code",
   "outputs": [],
   "source": [
    "descriptives = create_descriptives(file_names, filter_variables)"
   ],
   "metadata": {
    "collapsed": false,
    "ExecuteTime": {
     "end_time": "2024-03-12T20:36:55.530559Z",
     "start_time": "2024-03-12T20:36:52.578754Z"
    }
   },
   "id": "84f0effc9b6b273c",
   "execution_count": 6
  },
  {
   "cell_type": "code",
   "outputs": [
    {
     "data": {
      "text/plain": "                             start                  end     count        mean  \\\nData                                                                            \nRW                         2004-01              2023-12     240.0   68.215495   \nTrendSeasRW                2004-01              2023-12     240.0   65.212735   \nWeakSARIMA                 2004-01              2023-12     240.0   65.434632   \nStrongSARIMA               2004-01              2023-12     240.0   65.665527   \nSARIMAX                    2004-01              2023-12     240.0   66.785970   \nx1                         2004-01              2023-12     240.0  360.268079   \nx2                         2004-01              2023-12     240.0   57.956553   \nx3                         2004-01              2023-12     240.0  923.168300   \nbid_close      2020-01-01 00:00:00  2024-02-06 00:00:00  101921.0    1.114271   \nbid_close_agg           2020-01-02           2024-02-06    1069.0    1.114360   \n\n                     std        min         25%         50%         75%  \\\nData                                                                      \nRW             10.103961   40.00000   61.588426   68.492171   74.799536   \nTrendSeasRW     9.860455   40.00000   59.442427   65.278618   70.045723   \nWeakSARIMA      9.932379   40.00000   59.695437   65.626215   70.117469   \nStrongSARIMA   10.656031   40.00000   58.531350   66.647129   70.413462   \nSARIMAX        12.470082   40.00000   56.642862   68.105724   75.746263   \nx1             73.697749  200.00000  308.950805  381.153821  418.607367   \nx2              8.979728   40.00000   50.990507   56.779285   64.344842   \nx3             12.484585  900.00000  914.459089  921.004521  933.860990   \nbid_close       0.062135    0.95386    1.073250    1.101530    1.174540   \nbid_close_agg   0.062166    0.95949    1.073180    1.101610    1.174390   \n\n                     max    NaN freq  \nData                                  \nRW              90.00000      0   MS  \nTrendSeasRW     90.00000      0   MS  \nWeakSARIMA      90.00000      0   MS  \nStrongSARIMA    90.00000      0   MS  \nSARIMAX         90.00000      0   MS  \nx1             500.00000      0   MS  \nx2              80.00000      0   MS  \nx3             950.00000      0   MS  \nbid_close        1.23462  41792  15T  \nbid_close_agg    1.23376      0    B  ",
      "text/html": "<div>\n<style scoped>\n    .dataframe tbody tr th:only-of-type {\n        vertical-align: middle;\n    }\n\n    .dataframe tbody tr th {\n        vertical-align: top;\n    }\n\n    .dataframe thead th {\n        text-align: right;\n    }\n</style>\n<table border=\"1\" class=\"dataframe\">\n  <thead>\n    <tr style=\"text-align: right;\">\n      <th></th>\n      <th>start</th>\n      <th>end</th>\n      <th>count</th>\n      <th>mean</th>\n      <th>std</th>\n      <th>min</th>\n      <th>25%</th>\n      <th>50%</th>\n      <th>75%</th>\n      <th>max</th>\n      <th>NaN</th>\n      <th>freq</th>\n    </tr>\n    <tr>\n      <th>Data</th>\n      <th></th>\n      <th></th>\n      <th></th>\n      <th></th>\n      <th></th>\n      <th></th>\n      <th></th>\n      <th></th>\n      <th></th>\n      <th></th>\n      <th></th>\n      <th></th>\n    </tr>\n  </thead>\n  <tbody>\n    <tr>\n      <th>RW</th>\n      <td>2004-01</td>\n      <td>2023-12</td>\n      <td>240.0</td>\n      <td>68.215495</td>\n      <td>10.103961</td>\n      <td>40.00000</td>\n      <td>61.588426</td>\n      <td>68.492171</td>\n      <td>74.799536</td>\n      <td>90.00000</td>\n      <td>0</td>\n      <td>MS</td>\n    </tr>\n    <tr>\n      <th>TrendSeasRW</th>\n      <td>2004-01</td>\n      <td>2023-12</td>\n      <td>240.0</td>\n      <td>65.212735</td>\n      <td>9.860455</td>\n      <td>40.00000</td>\n      <td>59.442427</td>\n      <td>65.278618</td>\n      <td>70.045723</td>\n      <td>90.00000</td>\n      <td>0</td>\n      <td>MS</td>\n    </tr>\n    <tr>\n      <th>WeakSARIMA</th>\n      <td>2004-01</td>\n      <td>2023-12</td>\n      <td>240.0</td>\n      <td>65.434632</td>\n      <td>9.932379</td>\n      <td>40.00000</td>\n      <td>59.695437</td>\n      <td>65.626215</td>\n      <td>70.117469</td>\n      <td>90.00000</td>\n      <td>0</td>\n      <td>MS</td>\n    </tr>\n    <tr>\n      <th>StrongSARIMA</th>\n      <td>2004-01</td>\n      <td>2023-12</td>\n      <td>240.0</td>\n      <td>65.665527</td>\n      <td>10.656031</td>\n      <td>40.00000</td>\n      <td>58.531350</td>\n      <td>66.647129</td>\n      <td>70.413462</td>\n      <td>90.00000</td>\n      <td>0</td>\n      <td>MS</td>\n    </tr>\n    <tr>\n      <th>SARIMAX</th>\n      <td>2004-01</td>\n      <td>2023-12</td>\n      <td>240.0</td>\n      <td>66.785970</td>\n      <td>12.470082</td>\n      <td>40.00000</td>\n      <td>56.642862</td>\n      <td>68.105724</td>\n      <td>75.746263</td>\n      <td>90.00000</td>\n      <td>0</td>\n      <td>MS</td>\n    </tr>\n    <tr>\n      <th>x1</th>\n      <td>2004-01</td>\n      <td>2023-12</td>\n      <td>240.0</td>\n      <td>360.268079</td>\n      <td>73.697749</td>\n      <td>200.00000</td>\n      <td>308.950805</td>\n      <td>381.153821</td>\n      <td>418.607367</td>\n      <td>500.00000</td>\n      <td>0</td>\n      <td>MS</td>\n    </tr>\n    <tr>\n      <th>x2</th>\n      <td>2004-01</td>\n      <td>2023-12</td>\n      <td>240.0</td>\n      <td>57.956553</td>\n      <td>8.979728</td>\n      <td>40.00000</td>\n      <td>50.990507</td>\n      <td>56.779285</td>\n      <td>64.344842</td>\n      <td>80.00000</td>\n      <td>0</td>\n      <td>MS</td>\n    </tr>\n    <tr>\n      <th>x3</th>\n      <td>2004-01</td>\n      <td>2023-12</td>\n      <td>240.0</td>\n      <td>923.168300</td>\n      <td>12.484585</td>\n      <td>900.00000</td>\n      <td>914.459089</td>\n      <td>921.004521</td>\n      <td>933.860990</td>\n      <td>950.00000</td>\n      <td>0</td>\n      <td>MS</td>\n    </tr>\n    <tr>\n      <th>bid_close</th>\n      <td>2020-01-01 00:00:00</td>\n      <td>2024-02-06 00:00:00</td>\n      <td>101921.0</td>\n      <td>1.114271</td>\n      <td>0.062135</td>\n      <td>0.95386</td>\n      <td>1.073250</td>\n      <td>1.101530</td>\n      <td>1.174540</td>\n      <td>1.23462</td>\n      <td>41792</td>\n      <td>15T</td>\n    </tr>\n    <tr>\n      <th>bid_close_agg</th>\n      <td>2020-01-02</td>\n      <td>2024-02-06</td>\n      <td>1069.0</td>\n      <td>1.114360</td>\n      <td>0.062166</td>\n      <td>0.95949</td>\n      <td>1.073180</td>\n      <td>1.101610</td>\n      <td>1.174390</td>\n      <td>1.23376</td>\n      <td>0</td>\n      <td>B</td>\n    </tr>\n  </tbody>\n</table>\n</div>"
     },
     "metadata": {},
     "output_type": "display_data"
    }
   ],
   "source": [
    "# Show table\n",
    "display(descriptives)"
   ],
   "metadata": {
    "collapsed": false,
    "ExecuteTime": {
     "end_time": "2024-03-12T20:36:55.614136Z",
     "start_time": "2024-03-12T20:36:55.536570Z"
    }
   },
   "id": "9a767663a9c5a91e",
   "execution_count": 7
  },
  {
   "cell_type": "code",
   "outputs": [
    {
     "name": "stdout",
     "output_type": "stream",
     "text": [
      "\n",
      "Exporting descriptives as csv to C:\\Users\\Work\\OneDrive\\GAU\\3. Semester\\Statistisches Praktikum\\Git\\NEW_Ensemble_Techniques_TS_FC\\paper\\tables...\n",
      "...finished!\n"
     ]
    }
   ],
   "source": [
    "# Export as csv\n",
    "csv_exporter(TABLE_DIR, descriptives)"
   ],
   "metadata": {
    "collapsed": false,
    "ExecuteTime": {
     "end_time": "2024-03-12T20:36:55.656808Z",
     "start_time": "2024-03-12T20:36:55.617152Z"
    }
   },
   "id": "d8884b25c3deb5d8",
   "execution_count": 8
  },
  {
   "cell_type": "code",
   "outputs": [],
   "source": [
    "# Print and Export to LaTex\n",
    "caption = \"Descriptive Statistics\"\n",
    "# latex_exporter(descriptives, caption=caption)\n",
    "with open(os.path.join(TABLE_DIR, \"descriptives.tex\"), \"w\") as f:\n",
    "    f.write(latex_exporter(descriptives.round(2).astype(str), caption=caption))"
   ],
   "metadata": {
    "collapsed": false,
    "ExecuteTime": {
     "end_time": "2024-03-12T20:36:56.010938Z",
     "start_time": "2024-03-12T20:36:55.663822Z"
    }
   },
   "id": "a99a52693c80c647",
   "execution_count": 9
  },
  {
   "cell_type": "code",
   "outputs": [],
   "source": [
    "# Note: \\usepackage{booktaps} in LaTex"
   ],
   "metadata": {
    "collapsed": false,
    "ExecuteTime": {
     "end_time": "2024-03-12T20:36:56.023939Z",
     "start_time": "2024-03-12T20:36:56.013949Z"
    }
   },
   "id": "6e79808494b26129",
   "execution_count": 10
  },
  {
   "cell_type": "markdown",
   "source": [
    "# 4) Create Metrics Ranking Table"
   ],
   "metadata": {
    "collapsed": false
   },
   "id": "d4db05539755189d"
  },
  {
   "cell_type": "code",
   "outputs": [],
   "source": [
    "ranking_data = [os.path.join(PAPERDATA_DIR, file) for file in os.listdir(PAPERDATA_DIR) if file.endswith\n",
    "(\"metrics_ranking.csv\")]"
   ],
   "metadata": {
    "collapsed": false,
    "ExecuteTime": {
     "end_time": "2024-03-12T20:36:56.041626Z",
     "start_time": "2024-03-12T20:36:56.026950Z"
    }
   },
   "id": "127f7a388c7765cc",
   "execution_count": 11
  },
  {
   "cell_type": "code",
   "outputs": [
    {
     "name": "stdout",
     "output_type": "stream",
     "text": [
      "\n",
      "Exporting RW_metrics_ranking as csv to C:\\Users\\Work\\OneDrive\\GAU\\3. Semester\\Statistisches Praktikum\\Git\\NEW_Ensemble_Techniques_TS_FC\\paper\\tables...\n",
      "...finished!\n",
      "\n",
      "Ranking for RW:\n"
     ]
    },
    {
     "data": {
      "text/plain": "                                                 MAPE      RMSE     sMAPE  \\\nModel                                                                       \nWeighted Ensemble: Inverse Variance          0.056137  4.984609  3.719821   \nWeighted Ensemble: Inverse RMSE              0.056352  5.002579  3.733871   \nWeighted Ensemble: Simple                    0.056642  5.033457  3.753291   \nAutoTheta                                    0.056935  4.951562  3.767992   \nAutoSARIMA                                   0.057145  5.017356  3.782219   \nNaive                                        0.059176  5.149567  3.925315   \nWeighted Ensemble: Inverse Error Covariance  0.059647  5.211749  3.952922   \nExponential Smoothing                        0.060308  5.274425  4.000638   \nTiDE                                         0.061034  5.395124  4.047699   \nMeta Ensemble: SVR                           0.061618  5.395352  4.076503   \nXGBoost                                      0.062959  5.521640  4.181000   \nMeta Ensemble: Random Forest                 0.063095  5.592550  4.148741   \nSTL                                          0.092567  7.961270  6.151185   \n\n                                             MAPE Ranking  RMSE Ranking  \\\nModel                                                                     \nWeighted Ensemble: Inverse Variance                     1             2   \nWeighted Ensemble: Inverse RMSE                         2             3   \nWeighted Ensemble: Simple                               3             5   \nAutoTheta                                               4             1   \nAutoSARIMA                                              5             4   \nNaive                                                   6             6   \nWeighted Ensemble: Inverse Error Covariance             7             7   \nExponential Smoothing                                   8             8   \nTiDE                                                    9             9   \nMeta Ensemble: SVR                                     10            10   \nXGBoost                                                11            11   \nMeta Ensemble: Random Forest                           12            12   \nSTL                                                    13            13   \n\n                                             sMAPE Ranking  \nModel                                                       \nWeighted Ensemble: Inverse Variance                      1  \nWeighted Ensemble: Inverse RMSE                          2  \nWeighted Ensemble: Simple                                3  \nAutoTheta                                                4  \nAutoSARIMA                                               5  \nNaive                                                    6  \nWeighted Ensemble: Inverse Error Covariance              7  \nExponential Smoothing                                    8  \nTiDE                                                     9  \nMeta Ensemble: SVR                                      10  \nXGBoost                                                 12  \nMeta Ensemble: Random Forest                            11  \nSTL                                                     13  ",
      "text/html": "<div>\n<style scoped>\n    .dataframe tbody tr th:only-of-type {\n        vertical-align: middle;\n    }\n\n    .dataframe tbody tr th {\n        vertical-align: top;\n    }\n\n    .dataframe thead th {\n        text-align: right;\n    }\n</style>\n<table border=\"1\" class=\"dataframe\">\n  <thead>\n    <tr style=\"text-align: right;\">\n      <th></th>\n      <th>MAPE</th>\n      <th>RMSE</th>\n      <th>sMAPE</th>\n      <th>MAPE Ranking</th>\n      <th>RMSE Ranking</th>\n      <th>sMAPE Ranking</th>\n    </tr>\n    <tr>\n      <th>Model</th>\n      <th></th>\n      <th></th>\n      <th></th>\n      <th></th>\n      <th></th>\n      <th></th>\n    </tr>\n  </thead>\n  <tbody>\n    <tr>\n      <th>Weighted Ensemble: Inverse Variance</th>\n      <td>0.056137</td>\n      <td>4.984609</td>\n      <td>3.719821</td>\n      <td>1</td>\n      <td>2</td>\n      <td>1</td>\n    </tr>\n    <tr>\n      <th>Weighted Ensemble: Inverse RMSE</th>\n      <td>0.056352</td>\n      <td>5.002579</td>\n      <td>3.733871</td>\n      <td>2</td>\n      <td>3</td>\n      <td>2</td>\n    </tr>\n    <tr>\n      <th>Weighted Ensemble: Simple</th>\n      <td>0.056642</td>\n      <td>5.033457</td>\n      <td>3.753291</td>\n      <td>3</td>\n      <td>5</td>\n      <td>3</td>\n    </tr>\n    <tr>\n      <th>AutoTheta</th>\n      <td>0.056935</td>\n      <td>4.951562</td>\n      <td>3.767992</td>\n      <td>4</td>\n      <td>1</td>\n      <td>4</td>\n    </tr>\n    <tr>\n      <th>AutoSARIMA</th>\n      <td>0.057145</td>\n      <td>5.017356</td>\n      <td>3.782219</td>\n      <td>5</td>\n      <td>4</td>\n      <td>5</td>\n    </tr>\n    <tr>\n      <th>Naive</th>\n      <td>0.059176</td>\n      <td>5.149567</td>\n      <td>3.925315</td>\n      <td>6</td>\n      <td>6</td>\n      <td>6</td>\n    </tr>\n    <tr>\n      <th>Weighted Ensemble: Inverse Error Covariance</th>\n      <td>0.059647</td>\n      <td>5.211749</td>\n      <td>3.952922</td>\n      <td>7</td>\n      <td>7</td>\n      <td>7</td>\n    </tr>\n    <tr>\n      <th>Exponential Smoothing</th>\n      <td>0.060308</td>\n      <td>5.274425</td>\n      <td>4.000638</td>\n      <td>8</td>\n      <td>8</td>\n      <td>8</td>\n    </tr>\n    <tr>\n      <th>TiDE</th>\n      <td>0.061034</td>\n      <td>5.395124</td>\n      <td>4.047699</td>\n      <td>9</td>\n      <td>9</td>\n      <td>9</td>\n    </tr>\n    <tr>\n      <th>Meta Ensemble: SVR</th>\n      <td>0.061618</td>\n      <td>5.395352</td>\n      <td>4.076503</td>\n      <td>10</td>\n      <td>10</td>\n      <td>10</td>\n    </tr>\n    <tr>\n      <th>XGBoost</th>\n      <td>0.062959</td>\n      <td>5.521640</td>\n      <td>4.181000</td>\n      <td>11</td>\n      <td>11</td>\n      <td>12</td>\n    </tr>\n    <tr>\n      <th>Meta Ensemble: Random Forest</th>\n      <td>0.063095</td>\n      <td>5.592550</td>\n      <td>4.148741</td>\n      <td>12</td>\n      <td>12</td>\n      <td>11</td>\n    </tr>\n    <tr>\n      <th>STL</th>\n      <td>0.092567</td>\n      <td>7.961270</td>\n      <td>6.151185</td>\n      <td>13</td>\n      <td>13</td>\n      <td>13</td>\n    </tr>\n  </tbody>\n</table>\n</div>"
     },
     "metadata": {},
     "output_type": "display_data"
    },
    {
     "name": "stdout",
     "output_type": "stream",
     "text": [
      "\n",
      "Exporting TrendSeasRW_metrics_ranking as csv to C:\\Users\\Work\\OneDrive\\GAU\\3. Semester\\Statistisches Praktikum\\Git\\NEW_Ensemble_Techniques_TS_FC\\paper\\tables...\n",
      "...finished!\n",
      "\n",
      "Ranking for TrendSeasRW:\n"
     ]
    },
    {
     "data": {
      "text/plain": "                                                 MAPE      RMSE     sMAPE  \\\nModel                                                                       \nWeighted Ensemble: Inverse Variance          0.034969  3.142844  2.330395   \nWeighted Ensemble: Inverse RMSE              0.035057  3.150374  2.336016   \nWeighted Ensemble: Simple                    0.035058  3.151048  2.336445   \nWeighted Ensemble: Inverse Error Covariance  0.037188  3.318728  2.476791   \nExponential Smoothing                        0.037530  3.340527  2.498175   \nAutoSARIMA                                   0.037537  3.244438  2.497060   \nAutoTheta                                    0.038564  3.405900  2.566496   \nTiDE                                         0.038783  3.555382  2.585410   \nMeta Ensemble: SVR                           0.038787  3.435591  2.588056   \nMeta Ensemble: Random Forest                 0.040790  3.643726  2.722857   \nNaive                                        0.040938  3.502125  2.724533   \nXGBoost                                      0.044369  4.102619  2.976202   \nSTL                                          0.049250  4.413122  3.273544   \n\n                                             MAPE Ranking  RMSE Ranking  \\\nModel                                                                     \nWeighted Ensemble: Inverse Variance                     1             1   \nWeighted Ensemble: Inverse RMSE                         2             2   \nWeighted Ensemble: Simple                               3             3   \nWeighted Ensemble: Inverse Error Covariance             4             5   \nExponential Smoothing                                   5             6   \nAutoSARIMA                                              6             4   \nAutoTheta                                               7             7   \nTiDE                                                    8            10   \nMeta Ensemble: SVR                                      9             8   \nMeta Ensemble: Random Forest                           10            11   \nNaive                                                  11             9   \nXGBoost                                                12            12   \nSTL                                                    13            13   \n\n                                             sMAPE Ranking  \nModel                                                       \nWeighted Ensemble: Inverse Variance                      1  \nWeighted Ensemble: Inverse RMSE                          2  \nWeighted Ensemble: Simple                                3  \nWeighted Ensemble: Inverse Error Covariance              4  \nExponential Smoothing                                    6  \nAutoSARIMA                                               5  \nAutoTheta                                                7  \nTiDE                                                     8  \nMeta Ensemble: SVR                                       9  \nMeta Ensemble: Random Forest                            10  \nNaive                                                   11  \nXGBoost                                                 12  \nSTL                                                     13  ",
      "text/html": "<div>\n<style scoped>\n    .dataframe tbody tr th:only-of-type {\n        vertical-align: middle;\n    }\n\n    .dataframe tbody tr th {\n        vertical-align: top;\n    }\n\n    .dataframe thead th {\n        text-align: right;\n    }\n</style>\n<table border=\"1\" class=\"dataframe\">\n  <thead>\n    <tr style=\"text-align: right;\">\n      <th></th>\n      <th>MAPE</th>\n      <th>RMSE</th>\n      <th>sMAPE</th>\n      <th>MAPE Ranking</th>\n      <th>RMSE Ranking</th>\n      <th>sMAPE Ranking</th>\n    </tr>\n    <tr>\n      <th>Model</th>\n      <th></th>\n      <th></th>\n      <th></th>\n      <th></th>\n      <th></th>\n      <th></th>\n    </tr>\n  </thead>\n  <tbody>\n    <tr>\n      <th>Weighted Ensemble: Inverse Variance</th>\n      <td>0.034969</td>\n      <td>3.142844</td>\n      <td>2.330395</td>\n      <td>1</td>\n      <td>1</td>\n      <td>1</td>\n    </tr>\n    <tr>\n      <th>Weighted Ensemble: Inverse RMSE</th>\n      <td>0.035057</td>\n      <td>3.150374</td>\n      <td>2.336016</td>\n      <td>2</td>\n      <td>2</td>\n      <td>2</td>\n    </tr>\n    <tr>\n      <th>Weighted Ensemble: Simple</th>\n      <td>0.035058</td>\n      <td>3.151048</td>\n      <td>2.336445</td>\n      <td>3</td>\n      <td>3</td>\n      <td>3</td>\n    </tr>\n    <tr>\n      <th>Weighted Ensemble: Inverse Error Covariance</th>\n      <td>0.037188</td>\n      <td>3.318728</td>\n      <td>2.476791</td>\n      <td>4</td>\n      <td>5</td>\n      <td>4</td>\n    </tr>\n    <tr>\n      <th>Exponential Smoothing</th>\n      <td>0.037530</td>\n      <td>3.340527</td>\n      <td>2.498175</td>\n      <td>5</td>\n      <td>6</td>\n      <td>6</td>\n    </tr>\n    <tr>\n      <th>AutoSARIMA</th>\n      <td>0.037537</td>\n      <td>3.244438</td>\n      <td>2.497060</td>\n      <td>6</td>\n      <td>4</td>\n      <td>5</td>\n    </tr>\n    <tr>\n      <th>AutoTheta</th>\n      <td>0.038564</td>\n      <td>3.405900</td>\n      <td>2.566496</td>\n      <td>7</td>\n      <td>7</td>\n      <td>7</td>\n    </tr>\n    <tr>\n      <th>TiDE</th>\n      <td>0.038783</td>\n      <td>3.555382</td>\n      <td>2.585410</td>\n      <td>8</td>\n      <td>10</td>\n      <td>8</td>\n    </tr>\n    <tr>\n      <th>Meta Ensemble: SVR</th>\n      <td>0.038787</td>\n      <td>3.435591</td>\n      <td>2.588056</td>\n      <td>9</td>\n      <td>8</td>\n      <td>9</td>\n    </tr>\n    <tr>\n      <th>Meta Ensemble: Random Forest</th>\n      <td>0.040790</td>\n      <td>3.643726</td>\n      <td>2.722857</td>\n      <td>10</td>\n      <td>11</td>\n      <td>10</td>\n    </tr>\n    <tr>\n      <th>Naive</th>\n      <td>0.040938</td>\n      <td>3.502125</td>\n      <td>2.724533</td>\n      <td>11</td>\n      <td>9</td>\n      <td>11</td>\n    </tr>\n    <tr>\n      <th>XGBoost</th>\n      <td>0.044369</td>\n      <td>4.102619</td>\n      <td>2.976202</td>\n      <td>12</td>\n      <td>12</td>\n      <td>12</td>\n    </tr>\n    <tr>\n      <th>STL</th>\n      <td>0.049250</td>\n      <td>4.413122</td>\n      <td>3.273544</td>\n      <td>13</td>\n      <td>13</td>\n      <td>13</td>\n    </tr>\n  </tbody>\n</table>\n</div>"
     },
     "metadata": {},
     "output_type": "display_data"
    },
    {
     "name": "stdout",
     "output_type": "stream",
     "text": [
      "\n",
      "Exporting WeakSARIMA_metrics_ranking as csv to C:\\Users\\Work\\OneDrive\\GAU\\3. Semester\\Statistisches Praktikum\\Git\\NEW_Ensemble_Techniques_TS_FC\\paper\\tables...\n",
      "...finished!\n",
      "\n",
      "Ranking for WeakSARIMA:\n"
     ]
    },
    {
     "data": {
      "text/plain": "                                                 MAPE      RMSE     sMAPE  \\\nModel                                                                       \nWeighted Ensemble: Inverse Variance          0.028514  2.577474  1.901336   \nWeighted Ensemble: Simple                    0.028550  2.590860  1.903842   \nWeighted Ensemble: Inverse RMSE              0.028590  2.585070  1.906166   \nAutoSARIMA                                   0.030213  2.638002  2.011089   \nExponential Smoothing                        0.030866  2.743687  2.056202   \nWeighted Ensemble: Inverse Error Covariance  0.030954  2.763787  2.062406   \nAutoTheta                                    0.032079  2.822191  2.136678   \nMeta Ensemble: SVR                           0.032303  2.927370  2.156422   \nMeta Ensemble: Random Forest                 0.032714  2.917809  2.186314   \nNaive                                        0.032951  2.791199  2.194743   \nTiDE                                         0.033343  3.063924  2.221320   \nXGBoost                                      0.034701  3.180757  2.328224   \nSTL                                          0.044823  3.999710  2.979882   \n\n                                             MAPE Ranking  RMSE Ranking  \\\nModel                                                                     \nWeighted Ensemble: Inverse Variance                     1             1   \nWeighted Ensemble: Simple                               2             3   \nWeighted Ensemble: Inverse RMSE                         3             2   \nAutoSARIMA                                              4             4   \nExponential Smoothing                                   5             5   \nWeighted Ensemble: Inverse Error Covariance             6             6   \nAutoTheta                                               7             8   \nMeta Ensemble: SVR                                      8            10   \nMeta Ensemble: Random Forest                            9             9   \nNaive                                                  10             7   \nTiDE                                                   11            11   \nXGBoost                                                12            12   \nSTL                                                    13            13   \n\n                                             sMAPE Ranking  \nModel                                                       \nWeighted Ensemble: Inverse Variance                      1  \nWeighted Ensemble: Simple                                2  \nWeighted Ensemble: Inverse RMSE                          3  \nAutoSARIMA                                               4  \nExponential Smoothing                                    5  \nWeighted Ensemble: Inverse Error Covariance              6  \nAutoTheta                                                7  \nMeta Ensemble: SVR                                       8  \nMeta Ensemble: Random Forest                             9  \nNaive                                                   10  \nTiDE                                                    11  \nXGBoost                                                 12  \nSTL                                                     13  ",
      "text/html": "<div>\n<style scoped>\n    .dataframe tbody tr th:only-of-type {\n        vertical-align: middle;\n    }\n\n    .dataframe tbody tr th {\n        vertical-align: top;\n    }\n\n    .dataframe thead th {\n        text-align: right;\n    }\n</style>\n<table border=\"1\" class=\"dataframe\">\n  <thead>\n    <tr style=\"text-align: right;\">\n      <th></th>\n      <th>MAPE</th>\n      <th>RMSE</th>\n      <th>sMAPE</th>\n      <th>MAPE Ranking</th>\n      <th>RMSE Ranking</th>\n      <th>sMAPE Ranking</th>\n    </tr>\n    <tr>\n      <th>Model</th>\n      <th></th>\n      <th></th>\n      <th></th>\n      <th></th>\n      <th></th>\n      <th></th>\n    </tr>\n  </thead>\n  <tbody>\n    <tr>\n      <th>Weighted Ensemble: Inverse Variance</th>\n      <td>0.028514</td>\n      <td>2.577474</td>\n      <td>1.901336</td>\n      <td>1</td>\n      <td>1</td>\n      <td>1</td>\n    </tr>\n    <tr>\n      <th>Weighted Ensemble: Simple</th>\n      <td>0.028550</td>\n      <td>2.590860</td>\n      <td>1.903842</td>\n      <td>2</td>\n      <td>3</td>\n      <td>2</td>\n    </tr>\n    <tr>\n      <th>Weighted Ensemble: Inverse RMSE</th>\n      <td>0.028590</td>\n      <td>2.585070</td>\n      <td>1.906166</td>\n      <td>3</td>\n      <td>2</td>\n      <td>3</td>\n    </tr>\n    <tr>\n      <th>AutoSARIMA</th>\n      <td>0.030213</td>\n      <td>2.638002</td>\n      <td>2.011089</td>\n      <td>4</td>\n      <td>4</td>\n      <td>4</td>\n    </tr>\n    <tr>\n      <th>Exponential Smoothing</th>\n      <td>0.030866</td>\n      <td>2.743687</td>\n      <td>2.056202</td>\n      <td>5</td>\n      <td>5</td>\n      <td>5</td>\n    </tr>\n    <tr>\n      <th>Weighted Ensemble: Inverse Error Covariance</th>\n      <td>0.030954</td>\n      <td>2.763787</td>\n      <td>2.062406</td>\n      <td>6</td>\n      <td>6</td>\n      <td>6</td>\n    </tr>\n    <tr>\n      <th>AutoTheta</th>\n      <td>0.032079</td>\n      <td>2.822191</td>\n      <td>2.136678</td>\n      <td>7</td>\n      <td>8</td>\n      <td>7</td>\n    </tr>\n    <tr>\n      <th>Meta Ensemble: SVR</th>\n      <td>0.032303</td>\n      <td>2.927370</td>\n      <td>2.156422</td>\n      <td>8</td>\n      <td>10</td>\n      <td>8</td>\n    </tr>\n    <tr>\n      <th>Meta Ensemble: Random Forest</th>\n      <td>0.032714</td>\n      <td>2.917809</td>\n      <td>2.186314</td>\n      <td>9</td>\n      <td>9</td>\n      <td>9</td>\n    </tr>\n    <tr>\n      <th>Naive</th>\n      <td>0.032951</td>\n      <td>2.791199</td>\n      <td>2.194743</td>\n      <td>10</td>\n      <td>7</td>\n      <td>10</td>\n    </tr>\n    <tr>\n      <th>TiDE</th>\n      <td>0.033343</td>\n      <td>3.063924</td>\n      <td>2.221320</td>\n      <td>11</td>\n      <td>11</td>\n      <td>11</td>\n    </tr>\n    <tr>\n      <th>XGBoost</th>\n      <td>0.034701</td>\n      <td>3.180757</td>\n      <td>2.328224</td>\n      <td>12</td>\n      <td>12</td>\n      <td>12</td>\n    </tr>\n    <tr>\n      <th>STL</th>\n      <td>0.044823</td>\n      <td>3.999710</td>\n      <td>2.979882</td>\n      <td>13</td>\n      <td>13</td>\n      <td>13</td>\n    </tr>\n  </tbody>\n</table>\n</div>"
     },
     "metadata": {},
     "output_type": "display_data"
    },
    {
     "name": "stdout",
     "output_type": "stream",
     "text": [
      "\n",
      "Exporting StrongSARIMA_metrics_ranking as csv to C:\\Users\\Work\\OneDrive\\GAU\\3. Semester\\Statistisches Praktikum\\Git\\NEW_Ensemble_Techniques_TS_FC\\paper\\tables...\n",
      "...finished!\n",
      "\n",
      "Ranking for StrongSARIMA:\n"
     ]
    },
    {
     "data": {
      "text/plain": "                                                 MAPE      RMSE     sMAPE  \\\nModel                                                                       \nWeighted Ensemble: Inverse RMSE              0.021499  1.968394  1.434097   \nWeighted Ensemble: Inverse Variance          0.021629  1.985681  1.443055   \nWeighted Ensemble: Simple                    0.021811  2.009829  1.455137   \nAutoSARIMA                                   0.021833  1.947366  1.454290   \nExponential Smoothing                        0.022482  2.013837  1.498544   \nNaive                                        0.022841  2.014759  1.522180   \nAutoTheta                                    0.023318  2.080418  1.554293   \nMeta Ensemble: Random Forest                 0.023490  2.173702  1.566722   \nWeighted Ensemble: Inverse Error Covariance  0.023773  2.240533  1.578863   \nMeta Ensemble: SVR                           0.023775  2.154398  1.587040   \nTiDE                                         0.024814  2.365088  1.654723   \nXGBoost                                      0.026451  2.500118  1.771815   \nSTL                                          0.043690  3.856003  2.909221   \n\n                                             MAPE Ranking  RMSE Ranking  \\\nModel                                                                     \nWeighted Ensemble: Inverse RMSE                         1             2   \nWeighted Ensemble: Inverse Variance                     2             3   \nWeighted Ensemble: Simple                               3             4   \nAutoSARIMA                                              4             1   \nExponential Smoothing                                   5             5   \nNaive                                                   6             6   \nAutoTheta                                               7             7   \nMeta Ensemble: Random Forest                            8             9   \nWeighted Ensemble: Inverse Error Covariance             9            10   \nMeta Ensemble: SVR                                     10             8   \nTiDE                                                   11            11   \nXGBoost                                                12            12   \nSTL                                                    13            13   \n\n                                             sMAPE Ranking  \nModel                                                       \nWeighted Ensemble: Inverse RMSE                          1  \nWeighted Ensemble: Inverse Variance                      2  \nWeighted Ensemble: Simple                                4  \nAutoSARIMA                                               3  \nExponential Smoothing                                    5  \nNaive                                                    6  \nAutoTheta                                                7  \nMeta Ensemble: Random Forest                             8  \nWeighted Ensemble: Inverse Error Covariance              9  \nMeta Ensemble: SVR                                      10  \nTiDE                                                    11  \nXGBoost                                                 12  \nSTL                                                     13  ",
      "text/html": "<div>\n<style scoped>\n    .dataframe tbody tr th:only-of-type {\n        vertical-align: middle;\n    }\n\n    .dataframe tbody tr th {\n        vertical-align: top;\n    }\n\n    .dataframe thead th {\n        text-align: right;\n    }\n</style>\n<table border=\"1\" class=\"dataframe\">\n  <thead>\n    <tr style=\"text-align: right;\">\n      <th></th>\n      <th>MAPE</th>\n      <th>RMSE</th>\n      <th>sMAPE</th>\n      <th>MAPE Ranking</th>\n      <th>RMSE Ranking</th>\n      <th>sMAPE Ranking</th>\n    </tr>\n    <tr>\n      <th>Model</th>\n      <th></th>\n      <th></th>\n      <th></th>\n      <th></th>\n      <th></th>\n      <th></th>\n    </tr>\n  </thead>\n  <tbody>\n    <tr>\n      <th>Weighted Ensemble: Inverse RMSE</th>\n      <td>0.021499</td>\n      <td>1.968394</td>\n      <td>1.434097</td>\n      <td>1</td>\n      <td>2</td>\n      <td>1</td>\n    </tr>\n    <tr>\n      <th>Weighted Ensemble: Inverse Variance</th>\n      <td>0.021629</td>\n      <td>1.985681</td>\n      <td>1.443055</td>\n      <td>2</td>\n      <td>3</td>\n      <td>2</td>\n    </tr>\n    <tr>\n      <th>Weighted Ensemble: Simple</th>\n      <td>0.021811</td>\n      <td>2.009829</td>\n      <td>1.455137</td>\n      <td>3</td>\n      <td>4</td>\n      <td>4</td>\n    </tr>\n    <tr>\n      <th>AutoSARIMA</th>\n      <td>0.021833</td>\n      <td>1.947366</td>\n      <td>1.454290</td>\n      <td>4</td>\n      <td>1</td>\n      <td>3</td>\n    </tr>\n    <tr>\n      <th>Exponential Smoothing</th>\n      <td>0.022482</td>\n      <td>2.013837</td>\n      <td>1.498544</td>\n      <td>5</td>\n      <td>5</td>\n      <td>5</td>\n    </tr>\n    <tr>\n      <th>Naive</th>\n      <td>0.022841</td>\n      <td>2.014759</td>\n      <td>1.522180</td>\n      <td>6</td>\n      <td>6</td>\n      <td>6</td>\n    </tr>\n    <tr>\n      <th>AutoTheta</th>\n      <td>0.023318</td>\n      <td>2.080418</td>\n      <td>1.554293</td>\n      <td>7</td>\n      <td>7</td>\n      <td>7</td>\n    </tr>\n    <tr>\n      <th>Meta Ensemble: Random Forest</th>\n      <td>0.023490</td>\n      <td>2.173702</td>\n      <td>1.566722</td>\n      <td>8</td>\n      <td>9</td>\n      <td>8</td>\n    </tr>\n    <tr>\n      <th>Weighted Ensemble: Inverse Error Covariance</th>\n      <td>0.023773</td>\n      <td>2.240533</td>\n      <td>1.578863</td>\n      <td>9</td>\n      <td>10</td>\n      <td>9</td>\n    </tr>\n    <tr>\n      <th>Meta Ensemble: SVR</th>\n      <td>0.023775</td>\n      <td>2.154398</td>\n      <td>1.587040</td>\n      <td>10</td>\n      <td>8</td>\n      <td>10</td>\n    </tr>\n    <tr>\n      <th>TiDE</th>\n      <td>0.024814</td>\n      <td>2.365088</td>\n      <td>1.654723</td>\n      <td>11</td>\n      <td>11</td>\n      <td>11</td>\n    </tr>\n    <tr>\n      <th>XGBoost</th>\n      <td>0.026451</td>\n      <td>2.500118</td>\n      <td>1.771815</td>\n      <td>12</td>\n      <td>12</td>\n      <td>12</td>\n    </tr>\n    <tr>\n      <th>STL</th>\n      <td>0.043690</td>\n      <td>3.856003</td>\n      <td>2.909221</td>\n      <td>13</td>\n      <td>13</td>\n      <td>13</td>\n    </tr>\n  </tbody>\n</table>\n</div>"
     },
     "metadata": {},
     "output_type": "display_data"
    },
    {
     "name": "stdout",
     "output_type": "stream",
     "text": [
      "\n",
      "Exporting SARIMAX_metrics_ranking as csv to C:\\Users\\Work\\OneDrive\\GAU\\3. Semester\\Statistisches Praktikum\\Git\\NEW_Ensemble_Techniques_TS_FC\\paper\\tables...\n",
      "...finished!\n",
      "\n",
      "Ranking for SARIMAX:\n"
     ]
    },
    {
     "data": {
      "text/plain": "                                                 MAPE      RMSE     sMAPE  \\\nModel                                                                       \nWeighted Ensemble: Inverse RMSE              0.027950  2.652159  1.863528   \nAutoSARIMAX with covariates                  0.027973  2.613503  1.863506   \nWeighted Ensemble: Inverse Variance          0.028044  2.663745  1.870505   \nWeighted Ensemble: Simple                    0.028066  2.669684  1.871952   \nAutoSARIMA                                   0.028086  2.655436  1.870248   \nNaive                                        0.028448  2.736189  1.893638   \nExponential Smoothing                        0.028871  2.719176  1.919730   \nAutoTheta                                    0.029765  2.788908  1.981329   \nWeighted Ensemble: Inverse Error Covariance  0.029933  2.849370  1.993154   \nTiDE                                         0.030370  3.043809  2.019368   \nMeta Ensemble: Random Forest                 0.030684  2.861621  2.049118   \nMeta Ensemble: SVR                           0.030830  2.919524  2.050512   \nXGBoostCov with covariates                   0.035543  3.452591  2.388076   \nXGBoost                                      0.036741  3.554502  2.471411   \nSTL                                          0.044035  4.202281  2.928100   \n\n                                             MAPE Ranking  RMSE Ranking  \\\nModel                                                                     \nWeighted Ensemble: Inverse RMSE                         1             2   \nAutoSARIMAX with covariates                             2             1   \nWeighted Ensemble: Inverse Variance                     3             4   \nWeighted Ensemble: Simple                               4             5   \nAutoSARIMA                                              5             3   \nNaive                                                   6             7   \nExponential Smoothing                                   7             6   \nAutoTheta                                               8             8   \nWeighted Ensemble: Inverse Error Covariance             9             9   \nTiDE                                                   10            12   \nMeta Ensemble: Random Forest                           11            10   \nMeta Ensemble: SVR                                     12            11   \nXGBoostCov with covariates                             13            13   \nXGBoost                                                14            14   \nSTL                                                    15            15   \n\n                                             sMAPE Ranking  \nModel                                                       \nWeighted Ensemble: Inverse RMSE                          2  \nAutoSARIMAX with covariates                              1  \nWeighted Ensemble: Inverse Variance                      4  \nWeighted Ensemble: Simple                                5  \nAutoSARIMA                                               3  \nNaive                                                    6  \nExponential Smoothing                                    7  \nAutoTheta                                                8  \nWeighted Ensemble: Inverse Error Covariance              9  \nTiDE                                                    10  \nMeta Ensemble: Random Forest                            11  \nMeta Ensemble: SVR                                      12  \nXGBoostCov with covariates                              13  \nXGBoost                                                 14  \nSTL                                                     15  ",
      "text/html": "<div>\n<style scoped>\n    .dataframe tbody tr th:only-of-type {\n        vertical-align: middle;\n    }\n\n    .dataframe tbody tr th {\n        vertical-align: top;\n    }\n\n    .dataframe thead th {\n        text-align: right;\n    }\n</style>\n<table border=\"1\" class=\"dataframe\">\n  <thead>\n    <tr style=\"text-align: right;\">\n      <th></th>\n      <th>MAPE</th>\n      <th>RMSE</th>\n      <th>sMAPE</th>\n      <th>MAPE Ranking</th>\n      <th>RMSE Ranking</th>\n      <th>sMAPE Ranking</th>\n    </tr>\n    <tr>\n      <th>Model</th>\n      <th></th>\n      <th></th>\n      <th></th>\n      <th></th>\n      <th></th>\n      <th></th>\n    </tr>\n  </thead>\n  <tbody>\n    <tr>\n      <th>Weighted Ensemble: Inverse RMSE</th>\n      <td>0.027950</td>\n      <td>2.652159</td>\n      <td>1.863528</td>\n      <td>1</td>\n      <td>2</td>\n      <td>2</td>\n    </tr>\n    <tr>\n      <th>AutoSARIMAX with covariates</th>\n      <td>0.027973</td>\n      <td>2.613503</td>\n      <td>1.863506</td>\n      <td>2</td>\n      <td>1</td>\n      <td>1</td>\n    </tr>\n    <tr>\n      <th>Weighted Ensemble: Inverse Variance</th>\n      <td>0.028044</td>\n      <td>2.663745</td>\n      <td>1.870505</td>\n      <td>3</td>\n      <td>4</td>\n      <td>4</td>\n    </tr>\n    <tr>\n      <th>Weighted Ensemble: Simple</th>\n      <td>0.028066</td>\n      <td>2.669684</td>\n      <td>1.871952</td>\n      <td>4</td>\n      <td>5</td>\n      <td>5</td>\n    </tr>\n    <tr>\n      <th>AutoSARIMA</th>\n      <td>0.028086</td>\n      <td>2.655436</td>\n      <td>1.870248</td>\n      <td>5</td>\n      <td>3</td>\n      <td>3</td>\n    </tr>\n    <tr>\n      <th>Naive</th>\n      <td>0.028448</td>\n      <td>2.736189</td>\n      <td>1.893638</td>\n      <td>6</td>\n      <td>7</td>\n      <td>6</td>\n    </tr>\n    <tr>\n      <th>Exponential Smoothing</th>\n      <td>0.028871</td>\n      <td>2.719176</td>\n      <td>1.919730</td>\n      <td>7</td>\n      <td>6</td>\n      <td>7</td>\n    </tr>\n    <tr>\n      <th>AutoTheta</th>\n      <td>0.029765</td>\n      <td>2.788908</td>\n      <td>1.981329</td>\n      <td>8</td>\n      <td>8</td>\n      <td>8</td>\n    </tr>\n    <tr>\n      <th>Weighted Ensemble: Inverse Error Covariance</th>\n      <td>0.029933</td>\n      <td>2.849370</td>\n      <td>1.993154</td>\n      <td>9</td>\n      <td>9</td>\n      <td>9</td>\n    </tr>\n    <tr>\n      <th>TiDE</th>\n      <td>0.030370</td>\n      <td>3.043809</td>\n      <td>2.019368</td>\n      <td>10</td>\n      <td>12</td>\n      <td>10</td>\n    </tr>\n    <tr>\n      <th>Meta Ensemble: Random Forest</th>\n      <td>0.030684</td>\n      <td>2.861621</td>\n      <td>2.049118</td>\n      <td>11</td>\n      <td>10</td>\n      <td>11</td>\n    </tr>\n    <tr>\n      <th>Meta Ensemble: SVR</th>\n      <td>0.030830</td>\n      <td>2.919524</td>\n      <td>2.050512</td>\n      <td>12</td>\n      <td>11</td>\n      <td>12</td>\n    </tr>\n    <tr>\n      <th>XGBoostCov with covariates</th>\n      <td>0.035543</td>\n      <td>3.452591</td>\n      <td>2.388076</td>\n      <td>13</td>\n      <td>13</td>\n      <td>13</td>\n    </tr>\n    <tr>\n      <th>XGBoost</th>\n      <td>0.036741</td>\n      <td>3.554502</td>\n      <td>2.471411</td>\n      <td>14</td>\n      <td>14</td>\n      <td>14</td>\n    </tr>\n    <tr>\n      <th>STL</th>\n      <td>0.044035</td>\n      <td>4.202281</td>\n      <td>2.928100</td>\n      <td>15</td>\n      <td>15</td>\n      <td>15</td>\n    </tr>\n  </tbody>\n</table>\n</div>"
     },
     "metadata": {},
     "output_type": "display_data"
    },
    {
     "name": "stdout",
     "output_type": "stream",
     "text": [
      "\n",
      "Exporting eurusd_metrics_ranking as csv to C:\\Users\\Work\\OneDrive\\GAU\\3. Semester\\Statistisches Praktikum\\Git\\NEW_Ensemble_Techniques_TS_FC\\paper\\tables...\n",
      "...finished!\n",
      "\n",
      "Ranking for eurusd:\n"
     ]
    },
    {
     "data": {
      "text/plain": "                                                 MAPE      RMSE     sMAPE  \\\nModel                                                                       \nNaive                                        0.004097  0.005659  0.273124   \nExponential Smoothing                        0.004101  0.005682  0.273425   \nAutoTheta                                    0.004102  0.005677  0.273445   \nAutoSARIMA                                   0.004105  0.005670  0.273631   \nWeighted Ensemble: Inverse Error Covariance  0.004111  0.005688  0.274062   \nWeighted Ensemble: Inverse RMSE              0.004277  0.005930  0.285201   \nWeighted Ensemble: Simple                    0.004408  0.006122  0.294004   \nWeighted Ensemble: Inverse Variance          0.004430  0.006153  0.295471   \nMeta Ensemble: Random Forest                 0.004872  0.006813  0.324746   \nXGBoost                                      0.005359  0.007561  0.357145   \nSTL                                          0.006601  0.008937  0.440122   \nTiDE                                         0.008045  0.010532  0.537638   \nMeta Ensemble: SVR                           0.035302  0.049008  2.305011   \n\n                                             MAPE Ranking  RMSE Ranking  \\\nModel                                                                     \nNaive                                                   1             1   \nExponential Smoothing                                   2             4   \nAutoTheta                                               3             3   \nAutoSARIMA                                              4             2   \nWeighted Ensemble: Inverse Error Covariance             5             5   \nWeighted Ensemble: Inverse RMSE                         6             6   \nWeighted Ensemble: Simple                               7             7   \nWeighted Ensemble: Inverse Variance                     8             8   \nMeta Ensemble: Random Forest                            9             9   \nXGBoost                                                10            10   \nSTL                                                    11            11   \nTiDE                                                   12            12   \nMeta Ensemble: SVR                                     13            13   \n\n                                             sMAPE Ranking  \nModel                                                       \nNaive                                                    1  \nExponential Smoothing                                    2  \nAutoTheta                                                3  \nAutoSARIMA                                               4  \nWeighted Ensemble: Inverse Error Covariance              5  \nWeighted Ensemble: Inverse RMSE                          6  \nWeighted Ensemble: Simple                                7  \nWeighted Ensemble: Inverse Variance                      8  \nMeta Ensemble: Random Forest                             9  \nXGBoost                                                 10  \nSTL                                                     11  \nTiDE                                                    12  \nMeta Ensemble: SVR                                      13  ",
      "text/html": "<div>\n<style scoped>\n    .dataframe tbody tr th:only-of-type {\n        vertical-align: middle;\n    }\n\n    .dataframe tbody tr th {\n        vertical-align: top;\n    }\n\n    .dataframe thead th {\n        text-align: right;\n    }\n</style>\n<table border=\"1\" class=\"dataframe\">\n  <thead>\n    <tr style=\"text-align: right;\">\n      <th></th>\n      <th>MAPE</th>\n      <th>RMSE</th>\n      <th>sMAPE</th>\n      <th>MAPE Ranking</th>\n      <th>RMSE Ranking</th>\n      <th>sMAPE Ranking</th>\n    </tr>\n    <tr>\n      <th>Model</th>\n      <th></th>\n      <th></th>\n      <th></th>\n      <th></th>\n      <th></th>\n      <th></th>\n    </tr>\n  </thead>\n  <tbody>\n    <tr>\n      <th>Naive</th>\n      <td>0.004097</td>\n      <td>0.005659</td>\n      <td>0.273124</td>\n      <td>1</td>\n      <td>1</td>\n      <td>1</td>\n    </tr>\n    <tr>\n      <th>Exponential Smoothing</th>\n      <td>0.004101</td>\n      <td>0.005682</td>\n      <td>0.273425</td>\n      <td>2</td>\n      <td>4</td>\n      <td>2</td>\n    </tr>\n    <tr>\n      <th>AutoTheta</th>\n      <td>0.004102</td>\n      <td>0.005677</td>\n      <td>0.273445</td>\n      <td>3</td>\n      <td>3</td>\n      <td>3</td>\n    </tr>\n    <tr>\n      <th>AutoSARIMA</th>\n      <td>0.004105</td>\n      <td>0.005670</td>\n      <td>0.273631</td>\n      <td>4</td>\n      <td>2</td>\n      <td>4</td>\n    </tr>\n    <tr>\n      <th>Weighted Ensemble: Inverse Error Covariance</th>\n      <td>0.004111</td>\n      <td>0.005688</td>\n      <td>0.274062</td>\n      <td>5</td>\n      <td>5</td>\n      <td>5</td>\n    </tr>\n    <tr>\n      <th>Weighted Ensemble: Inverse RMSE</th>\n      <td>0.004277</td>\n      <td>0.005930</td>\n      <td>0.285201</td>\n      <td>6</td>\n      <td>6</td>\n      <td>6</td>\n    </tr>\n    <tr>\n      <th>Weighted Ensemble: Simple</th>\n      <td>0.004408</td>\n      <td>0.006122</td>\n      <td>0.294004</td>\n      <td>7</td>\n      <td>7</td>\n      <td>7</td>\n    </tr>\n    <tr>\n      <th>Weighted Ensemble: Inverse Variance</th>\n      <td>0.004430</td>\n      <td>0.006153</td>\n      <td>0.295471</td>\n      <td>8</td>\n      <td>8</td>\n      <td>8</td>\n    </tr>\n    <tr>\n      <th>Meta Ensemble: Random Forest</th>\n      <td>0.004872</td>\n      <td>0.006813</td>\n      <td>0.324746</td>\n      <td>9</td>\n      <td>9</td>\n      <td>9</td>\n    </tr>\n    <tr>\n      <th>XGBoost</th>\n      <td>0.005359</td>\n      <td>0.007561</td>\n      <td>0.357145</td>\n      <td>10</td>\n      <td>10</td>\n      <td>10</td>\n    </tr>\n    <tr>\n      <th>STL</th>\n      <td>0.006601</td>\n      <td>0.008937</td>\n      <td>0.440122</td>\n      <td>11</td>\n      <td>11</td>\n      <td>11</td>\n    </tr>\n    <tr>\n      <th>TiDE</th>\n      <td>0.008045</td>\n      <td>0.010532</td>\n      <td>0.537638</td>\n      <td>12</td>\n      <td>12</td>\n      <td>12</td>\n    </tr>\n    <tr>\n      <th>Meta Ensemble: SVR</th>\n      <td>0.035302</td>\n      <td>0.049008</td>\n      <td>2.305011</td>\n      <td>13</td>\n      <td>13</td>\n      <td>13</td>\n    </tr>\n  </tbody>\n</table>\n</div>"
     },
     "metadata": {},
     "output_type": "display_data"
    },
    {
     "ename": "FileNotFoundError",
     "evalue": "[Errno 2] No such file or directory: 'C:\\\\Users\\\\Work\\\\OneDrive\\\\GAU\\\\3. Semester\\\\Statistisches Praktikum\\\\Git\\\\NEW_Ensemble_Techniques_TS_FC\\\\paper\\\\analyzed_data\\\\eurusd_agg_metrics_ranking.csv'",
     "output_type": "error",
     "traceback": [
      "\u001B[1;31m---------------------------------------------------------------------------\u001B[0m",
      "\u001B[1;31mFileNotFoundError\u001B[0m                         Traceback (most recent call last)",
      "Cell \u001B[1;32mIn[12], line 4\u001B[0m\n\u001B[0;32m      2\u001B[0m ranking_list \u001B[38;5;241m=\u001B[39m []\n\u001B[0;32m      3\u001B[0m \u001B[38;5;28;01mfor\u001B[39;00m i, file \u001B[38;5;129;01min\u001B[39;00m \u001B[38;5;28menumerate\u001B[39m(file_names):\n\u001B[1;32m----> 4\u001B[0m     ranking \u001B[38;5;241m=\u001B[39m \u001B[43mpd\u001B[49m\u001B[38;5;241;43m.\u001B[39;49m\u001B[43mread_csv\u001B[49m\u001B[43m(\u001B[49m\u001B[43mos\u001B[49m\u001B[38;5;241;43m.\u001B[39;49m\u001B[43mpath\u001B[49m\u001B[38;5;241;43m.\u001B[39;49m\u001B[43mjoin\u001B[49m\u001B[43m(\u001B[49m\u001B[43mPAPERDATA_DIR\u001B[49m\u001B[43m,\u001B[49m\u001B[43m \u001B[49m\u001B[38;5;124;43mf\u001B[39;49m\u001B[38;5;124;43m\"\u001B[39;49m\u001B[38;5;132;43;01m{\u001B[39;49;00m\u001B[43mfile\u001B[49m\u001B[38;5;132;43;01m}\u001B[39;49;00m\u001B[38;5;124;43m_metrics_ranking.csv\u001B[39;49m\u001B[38;5;124;43m\"\u001B[39;49m\u001B[43m)\u001B[49m\u001B[43m,\u001B[49m\u001B[43m \u001B[49m\u001B[43mindex_col\u001B[49m\u001B[38;5;241;43m=\u001B[39;49m\u001B[38;5;124;43m\"\u001B[39;49m\u001B[38;5;124;43mModel\u001B[39;49m\u001B[38;5;124;43m\"\u001B[39;49m\u001B[43m)\u001B[49m\n\u001B[0;32m      5\u001B[0m     ranking_list\u001B[38;5;241m.\u001B[39mappend(ranking)\n\u001B[0;32m      6\u001B[0m     caption \u001B[38;5;241m=\u001B[39m \u001B[38;5;124mf\u001B[39m\u001B[38;5;124m\"\u001B[39m\u001B[38;5;124mRanking Forecasters and Ensemblers by Predictive Performance - Data Complexity: \u001B[39m\u001B[38;5;132;01m{\u001B[39;00mi\u001B[38;5;250m \u001B[39m\u001B[38;5;241m+\u001B[39m\u001B[38;5;250m \u001B[39m\u001B[38;5;241m1\u001B[39m\u001B[38;5;132;01m}\u001B[39;00m\u001B[38;5;124m\"\u001B[39m\n",
      "File \u001B[1;32m~\\OneDrive\\GAU\\3. Semester\\Statistisches Praktikum\\Git\\NEW_Ensemble_Techniques_TS_FC\\venv\\Lib\\site-packages\\pandas\\util\\_decorators.py:211\u001B[0m, in \u001B[0;36mdeprecate_kwarg.<locals>._deprecate_kwarg.<locals>.wrapper\u001B[1;34m(*args, **kwargs)\u001B[0m\n\u001B[0;32m    209\u001B[0m     \u001B[38;5;28;01melse\u001B[39;00m:\n\u001B[0;32m    210\u001B[0m         kwargs[new_arg_name] \u001B[38;5;241m=\u001B[39m new_arg_value\n\u001B[1;32m--> 211\u001B[0m \u001B[38;5;28;01mreturn\u001B[39;00m \u001B[43mfunc\u001B[49m\u001B[43m(\u001B[49m\u001B[38;5;241;43m*\u001B[39;49m\u001B[43margs\u001B[49m\u001B[43m,\u001B[49m\u001B[43m \u001B[49m\u001B[38;5;241;43m*\u001B[39;49m\u001B[38;5;241;43m*\u001B[39;49m\u001B[43mkwargs\u001B[49m\u001B[43m)\u001B[49m\n",
      "File \u001B[1;32m~\\OneDrive\\GAU\\3. Semester\\Statistisches Praktikum\\Git\\NEW_Ensemble_Techniques_TS_FC\\venv\\Lib\\site-packages\\pandas\\util\\_decorators.py:331\u001B[0m, in \u001B[0;36mdeprecate_nonkeyword_arguments.<locals>.decorate.<locals>.wrapper\u001B[1;34m(*args, **kwargs)\u001B[0m\n\u001B[0;32m    325\u001B[0m \u001B[38;5;28;01mif\u001B[39;00m \u001B[38;5;28mlen\u001B[39m(args) \u001B[38;5;241m>\u001B[39m num_allow_args:\n\u001B[0;32m    326\u001B[0m     warnings\u001B[38;5;241m.\u001B[39mwarn(\n\u001B[0;32m    327\u001B[0m         msg\u001B[38;5;241m.\u001B[39mformat(arguments\u001B[38;5;241m=\u001B[39m_format_argument_list(allow_args)),\n\u001B[0;32m    328\u001B[0m         \u001B[38;5;167;01mFutureWarning\u001B[39;00m,\n\u001B[0;32m    329\u001B[0m         stacklevel\u001B[38;5;241m=\u001B[39mfind_stack_level(),\n\u001B[0;32m    330\u001B[0m     )\n\u001B[1;32m--> 331\u001B[0m \u001B[38;5;28;01mreturn\u001B[39;00m \u001B[43mfunc\u001B[49m\u001B[43m(\u001B[49m\u001B[38;5;241;43m*\u001B[39;49m\u001B[43margs\u001B[49m\u001B[43m,\u001B[49m\u001B[43m \u001B[49m\u001B[38;5;241;43m*\u001B[39;49m\u001B[38;5;241;43m*\u001B[39;49m\u001B[43mkwargs\u001B[49m\u001B[43m)\u001B[49m\n",
      "File \u001B[1;32m~\\OneDrive\\GAU\\3. Semester\\Statistisches Praktikum\\Git\\NEW_Ensemble_Techniques_TS_FC\\venv\\Lib\\site-packages\\pandas\\io\\parsers\\readers.py:950\u001B[0m, in \u001B[0;36mread_csv\u001B[1;34m(filepath_or_buffer, sep, delimiter, header, names, index_col, usecols, squeeze, prefix, mangle_dupe_cols, dtype, engine, converters, true_values, false_values, skipinitialspace, skiprows, skipfooter, nrows, na_values, keep_default_na, na_filter, verbose, skip_blank_lines, parse_dates, infer_datetime_format, keep_date_col, date_parser, dayfirst, cache_dates, iterator, chunksize, compression, thousands, decimal, lineterminator, quotechar, quoting, doublequote, escapechar, comment, encoding, encoding_errors, dialect, error_bad_lines, warn_bad_lines, on_bad_lines, delim_whitespace, low_memory, memory_map, float_precision, storage_options)\u001B[0m\n\u001B[0;32m    935\u001B[0m kwds_defaults \u001B[38;5;241m=\u001B[39m _refine_defaults_read(\n\u001B[0;32m    936\u001B[0m     dialect,\n\u001B[0;32m    937\u001B[0m     delimiter,\n\u001B[1;32m   (...)\u001B[0m\n\u001B[0;32m    946\u001B[0m     defaults\u001B[38;5;241m=\u001B[39m{\u001B[38;5;124m\"\u001B[39m\u001B[38;5;124mdelimiter\u001B[39m\u001B[38;5;124m\"\u001B[39m: \u001B[38;5;124m\"\u001B[39m\u001B[38;5;124m,\u001B[39m\u001B[38;5;124m\"\u001B[39m},\n\u001B[0;32m    947\u001B[0m )\n\u001B[0;32m    948\u001B[0m kwds\u001B[38;5;241m.\u001B[39mupdate(kwds_defaults)\n\u001B[1;32m--> 950\u001B[0m \u001B[38;5;28;01mreturn\u001B[39;00m \u001B[43m_read\u001B[49m\u001B[43m(\u001B[49m\u001B[43mfilepath_or_buffer\u001B[49m\u001B[43m,\u001B[49m\u001B[43m \u001B[49m\u001B[43mkwds\u001B[49m\u001B[43m)\u001B[49m\n",
      "File \u001B[1;32m~\\OneDrive\\GAU\\3. Semester\\Statistisches Praktikum\\Git\\NEW_Ensemble_Techniques_TS_FC\\venv\\Lib\\site-packages\\pandas\\io\\parsers\\readers.py:605\u001B[0m, in \u001B[0;36m_read\u001B[1;34m(filepath_or_buffer, kwds)\u001B[0m\n\u001B[0;32m    602\u001B[0m _validate_names(kwds\u001B[38;5;241m.\u001B[39mget(\u001B[38;5;124m\"\u001B[39m\u001B[38;5;124mnames\u001B[39m\u001B[38;5;124m\"\u001B[39m, \u001B[38;5;28;01mNone\u001B[39;00m))\n\u001B[0;32m    604\u001B[0m \u001B[38;5;66;03m# Create the parser.\u001B[39;00m\n\u001B[1;32m--> 605\u001B[0m parser \u001B[38;5;241m=\u001B[39m \u001B[43mTextFileReader\u001B[49m\u001B[43m(\u001B[49m\u001B[43mfilepath_or_buffer\u001B[49m\u001B[43m,\u001B[49m\u001B[43m \u001B[49m\u001B[38;5;241;43m*\u001B[39;49m\u001B[38;5;241;43m*\u001B[39;49m\u001B[43mkwds\u001B[49m\u001B[43m)\u001B[49m\n\u001B[0;32m    607\u001B[0m \u001B[38;5;28;01mif\u001B[39;00m chunksize \u001B[38;5;129;01mor\u001B[39;00m iterator:\n\u001B[0;32m    608\u001B[0m     \u001B[38;5;28;01mreturn\u001B[39;00m parser\n",
      "File \u001B[1;32m~\\OneDrive\\GAU\\3. Semester\\Statistisches Praktikum\\Git\\NEW_Ensemble_Techniques_TS_FC\\venv\\Lib\\site-packages\\pandas\\io\\parsers\\readers.py:1442\u001B[0m, in \u001B[0;36mTextFileReader.__init__\u001B[1;34m(self, f, engine, **kwds)\u001B[0m\n\u001B[0;32m   1439\u001B[0m     \u001B[38;5;28mself\u001B[39m\u001B[38;5;241m.\u001B[39moptions[\u001B[38;5;124m\"\u001B[39m\u001B[38;5;124mhas_index_names\u001B[39m\u001B[38;5;124m\"\u001B[39m] \u001B[38;5;241m=\u001B[39m kwds[\u001B[38;5;124m\"\u001B[39m\u001B[38;5;124mhas_index_names\u001B[39m\u001B[38;5;124m\"\u001B[39m]\n\u001B[0;32m   1441\u001B[0m \u001B[38;5;28mself\u001B[39m\u001B[38;5;241m.\u001B[39mhandles: IOHandles \u001B[38;5;241m|\u001B[39m \u001B[38;5;28;01mNone\u001B[39;00m \u001B[38;5;241m=\u001B[39m \u001B[38;5;28;01mNone\u001B[39;00m\n\u001B[1;32m-> 1442\u001B[0m \u001B[38;5;28mself\u001B[39m\u001B[38;5;241m.\u001B[39m_engine \u001B[38;5;241m=\u001B[39m \u001B[38;5;28;43mself\u001B[39;49m\u001B[38;5;241;43m.\u001B[39;49m\u001B[43m_make_engine\u001B[49m\u001B[43m(\u001B[49m\u001B[43mf\u001B[49m\u001B[43m,\u001B[49m\u001B[43m \u001B[49m\u001B[38;5;28;43mself\u001B[39;49m\u001B[38;5;241;43m.\u001B[39;49m\u001B[43mengine\u001B[49m\u001B[43m)\u001B[49m\n",
      "File \u001B[1;32m~\\OneDrive\\GAU\\3. Semester\\Statistisches Praktikum\\Git\\NEW_Ensemble_Techniques_TS_FC\\venv\\Lib\\site-packages\\pandas\\io\\parsers\\readers.py:1735\u001B[0m, in \u001B[0;36mTextFileReader._make_engine\u001B[1;34m(self, f, engine)\u001B[0m\n\u001B[0;32m   1733\u001B[0m     \u001B[38;5;28;01mif\u001B[39;00m \u001B[38;5;124m\"\u001B[39m\u001B[38;5;124mb\u001B[39m\u001B[38;5;124m\"\u001B[39m \u001B[38;5;129;01mnot\u001B[39;00m \u001B[38;5;129;01min\u001B[39;00m mode:\n\u001B[0;32m   1734\u001B[0m         mode \u001B[38;5;241m+\u001B[39m\u001B[38;5;241m=\u001B[39m \u001B[38;5;124m\"\u001B[39m\u001B[38;5;124mb\u001B[39m\u001B[38;5;124m\"\u001B[39m\n\u001B[1;32m-> 1735\u001B[0m \u001B[38;5;28mself\u001B[39m\u001B[38;5;241m.\u001B[39mhandles \u001B[38;5;241m=\u001B[39m \u001B[43mget_handle\u001B[49m\u001B[43m(\u001B[49m\n\u001B[0;32m   1736\u001B[0m \u001B[43m    \u001B[49m\u001B[43mf\u001B[49m\u001B[43m,\u001B[49m\n\u001B[0;32m   1737\u001B[0m \u001B[43m    \u001B[49m\u001B[43mmode\u001B[49m\u001B[43m,\u001B[49m\n\u001B[0;32m   1738\u001B[0m \u001B[43m    \u001B[49m\u001B[43mencoding\u001B[49m\u001B[38;5;241;43m=\u001B[39;49m\u001B[38;5;28;43mself\u001B[39;49m\u001B[38;5;241;43m.\u001B[39;49m\u001B[43moptions\u001B[49m\u001B[38;5;241;43m.\u001B[39;49m\u001B[43mget\u001B[49m\u001B[43m(\u001B[49m\u001B[38;5;124;43m\"\u001B[39;49m\u001B[38;5;124;43mencoding\u001B[39;49m\u001B[38;5;124;43m\"\u001B[39;49m\u001B[43m,\u001B[49m\u001B[43m \u001B[49m\u001B[38;5;28;43;01mNone\u001B[39;49;00m\u001B[43m)\u001B[49m\u001B[43m,\u001B[49m\n\u001B[0;32m   1739\u001B[0m \u001B[43m    \u001B[49m\u001B[43mcompression\u001B[49m\u001B[38;5;241;43m=\u001B[39;49m\u001B[38;5;28;43mself\u001B[39;49m\u001B[38;5;241;43m.\u001B[39;49m\u001B[43moptions\u001B[49m\u001B[38;5;241;43m.\u001B[39;49m\u001B[43mget\u001B[49m\u001B[43m(\u001B[49m\u001B[38;5;124;43m\"\u001B[39;49m\u001B[38;5;124;43mcompression\u001B[39;49m\u001B[38;5;124;43m\"\u001B[39;49m\u001B[43m,\u001B[49m\u001B[43m \u001B[49m\u001B[38;5;28;43;01mNone\u001B[39;49;00m\u001B[43m)\u001B[49m\u001B[43m,\u001B[49m\n\u001B[0;32m   1740\u001B[0m \u001B[43m    \u001B[49m\u001B[43mmemory_map\u001B[49m\u001B[38;5;241;43m=\u001B[39;49m\u001B[38;5;28;43mself\u001B[39;49m\u001B[38;5;241;43m.\u001B[39;49m\u001B[43moptions\u001B[49m\u001B[38;5;241;43m.\u001B[39;49m\u001B[43mget\u001B[49m\u001B[43m(\u001B[49m\u001B[38;5;124;43m\"\u001B[39;49m\u001B[38;5;124;43mmemory_map\u001B[39;49m\u001B[38;5;124;43m\"\u001B[39;49m\u001B[43m,\u001B[49m\u001B[43m \u001B[49m\u001B[38;5;28;43;01mFalse\u001B[39;49;00m\u001B[43m)\u001B[49m\u001B[43m,\u001B[49m\n\u001B[0;32m   1741\u001B[0m \u001B[43m    \u001B[49m\u001B[43mis_text\u001B[49m\u001B[38;5;241;43m=\u001B[39;49m\u001B[43mis_text\u001B[49m\u001B[43m,\u001B[49m\n\u001B[0;32m   1742\u001B[0m \u001B[43m    \u001B[49m\u001B[43merrors\u001B[49m\u001B[38;5;241;43m=\u001B[39;49m\u001B[38;5;28;43mself\u001B[39;49m\u001B[38;5;241;43m.\u001B[39;49m\u001B[43moptions\u001B[49m\u001B[38;5;241;43m.\u001B[39;49m\u001B[43mget\u001B[49m\u001B[43m(\u001B[49m\u001B[38;5;124;43m\"\u001B[39;49m\u001B[38;5;124;43mencoding_errors\u001B[39;49m\u001B[38;5;124;43m\"\u001B[39;49m\u001B[43m,\u001B[49m\u001B[43m \u001B[49m\u001B[38;5;124;43m\"\u001B[39;49m\u001B[38;5;124;43mstrict\u001B[39;49m\u001B[38;5;124;43m\"\u001B[39;49m\u001B[43m)\u001B[49m\u001B[43m,\u001B[49m\n\u001B[0;32m   1743\u001B[0m \u001B[43m    \u001B[49m\u001B[43mstorage_options\u001B[49m\u001B[38;5;241;43m=\u001B[39;49m\u001B[38;5;28;43mself\u001B[39;49m\u001B[38;5;241;43m.\u001B[39;49m\u001B[43moptions\u001B[49m\u001B[38;5;241;43m.\u001B[39;49m\u001B[43mget\u001B[49m\u001B[43m(\u001B[49m\u001B[38;5;124;43m\"\u001B[39;49m\u001B[38;5;124;43mstorage_options\u001B[39;49m\u001B[38;5;124;43m\"\u001B[39;49m\u001B[43m,\u001B[49m\u001B[43m \u001B[49m\u001B[38;5;28;43;01mNone\u001B[39;49;00m\u001B[43m)\u001B[49m\u001B[43m,\u001B[49m\n\u001B[0;32m   1744\u001B[0m \u001B[43m\u001B[49m\u001B[43m)\u001B[49m\n\u001B[0;32m   1745\u001B[0m \u001B[38;5;28;01massert\u001B[39;00m \u001B[38;5;28mself\u001B[39m\u001B[38;5;241m.\u001B[39mhandles \u001B[38;5;129;01mis\u001B[39;00m \u001B[38;5;129;01mnot\u001B[39;00m \u001B[38;5;28;01mNone\u001B[39;00m\n\u001B[0;32m   1746\u001B[0m f \u001B[38;5;241m=\u001B[39m \u001B[38;5;28mself\u001B[39m\u001B[38;5;241m.\u001B[39mhandles\u001B[38;5;241m.\u001B[39mhandle\n",
      "File \u001B[1;32m~\\OneDrive\\GAU\\3. Semester\\Statistisches Praktikum\\Git\\NEW_Ensemble_Techniques_TS_FC\\venv\\Lib\\site-packages\\pandas\\io\\common.py:856\u001B[0m, in \u001B[0;36mget_handle\u001B[1;34m(path_or_buf, mode, encoding, compression, memory_map, is_text, errors, storage_options)\u001B[0m\n\u001B[0;32m    851\u001B[0m \u001B[38;5;28;01melif\u001B[39;00m \u001B[38;5;28misinstance\u001B[39m(handle, \u001B[38;5;28mstr\u001B[39m):\n\u001B[0;32m    852\u001B[0m     \u001B[38;5;66;03m# Check whether the filename is to be opened in binary mode.\u001B[39;00m\n\u001B[0;32m    853\u001B[0m     \u001B[38;5;66;03m# Binary mode does not support 'encoding' and 'newline'.\u001B[39;00m\n\u001B[0;32m    854\u001B[0m     \u001B[38;5;28;01mif\u001B[39;00m ioargs\u001B[38;5;241m.\u001B[39mencoding \u001B[38;5;129;01mand\u001B[39;00m \u001B[38;5;124m\"\u001B[39m\u001B[38;5;124mb\u001B[39m\u001B[38;5;124m\"\u001B[39m \u001B[38;5;129;01mnot\u001B[39;00m \u001B[38;5;129;01min\u001B[39;00m ioargs\u001B[38;5;241m.\u001B[39mmode:\n\u001B[0;32m    855\u001B[0m         \u001B[38;5;66;03m# Encoding\u001B[39;00m\n\u001B[1;32m--> 856\u001B[0m         handle \u001B[38;5;241m=\u001B[39m \u001B[38;5;28mopen\u001B[39m(\n\u001B[0;32m    857\u001B[0m             handle,\n\u001B[0;32m    858\u001B[0m             ioargs\u001B[38;5;241m.\u001B[39mmode,\n\u001B[0;32m    859\u001B[0m             encoding\u001B[38;5;241m=\u001B[39mioargs\u001B[38;5;241m.\u001B[39mencoding,\n\u001B[0;32m    860\u001B[0m             errors\u001B[38;5;241m=\u001B[39merrors,\n\u001B[0;32m    861\u001B[0m             newline\u001B[38;5;241m=\u001B[39m\u001B[38;5;124m\"\u001B[39m\u001B[38;5;124m\"\u001B[39m,\n\u001B[0;32m    862\u001B[0m         )\n\u001B[0;32m    863\u001B[0m     \u001B[38;5;28;01melse\u001B[39;00m:\n\u001B[0;32m    864\u001B[0m         \u001B[38;5;66;03m# Binary mode\u001B[39;00m\n\u001B[0;32m    865\u001B[0m         handle \u001B[38;5;241m=\u001B[39m \u001B[38;5;28mopen\u001B[39m(handle, ioargs\u001B[38;5;241m.\u001B[39mmode)\n",
      "\u001B[1;31mFileNotFoundError\u001B[0m: [Errno 2] No such file or directory: 'C:\\\\Users\\\\Work\\\\OneDrive\\\\GAU\\\\3. Semester\\\\Statistisches Praktikum\\\\Git\\\\NEW_Ensemble_Techniques_TS_FC\\\\paper\\\\analyzed_data\\\\eurusd_agg_metrics_ranking.csv'"
     ]
    }
   ],
   "source": [
    "# Print and export to LaTex and csv\n",
    "file_names = [\"RW\", \"TrendSeasRW\", \"WeakSARIMA\", \"StrongSARIMA\", \"SARIMAX\"] + ['eurusd']\n",
    "ranking_list = []\n",
    "for i, file in enumerate(file_names):\n",
    "    ranking = pd.read_csv(os.path.join(PAPERDATA_DIR, f\"{file}_metrics_ranking.csv\"), index_col=\"Model\")\n",
    "    ranking_list.append(ranking)\n",
    "    caption = f\"Ranking Forecasters and Ensemblers by Predictive Performance - Data Complexity: {i + 1}\"\n",
    "    \n",
    "    # print(f\"Table for Complexity {i+1}\\n\")\n",
    "    # print(latex_exporter(df, caption=caption))\n",
    "    # print(\"\\n\")\n",
    "    # Export to LaTex\n",
    "    with open(os.path.join(TABLE_DIR, f\"{file}_metrics_ranking.tex\"), \"w\") as f:\n",
    "        f.write(latex_exporter(ranking.round(3).astype(str), caption=caption))\n",
    "    # Export to csv\n",
    "    csv_exporter(TABLE_DIR, ranking, file_names=f\"{file}_metrics_ranking\")\n",
    "    \n",
    "    print(f\"\\nRanking for {file}:\")\n",
    "    display(ranking)"
   ],
   "metadata": {
    "collapsed": false,
    "ExecuteTime": {
     "end_time": "2024-03-12T20:36:57.310040Z",
     "start_time": "2024-03-12T20:36:56.044636Z"
    }
   },
   "id": "9d1d5063b491445b",
   "execution_count": 12
  },
  {
   "cell_type": "code",
   "outputs": [],
   "source": [
    "# Note: \\usepackage{booktaps} in LaTex"
   ],
   "metadata": {
    "collapsed": false
   },
   "id": "307c91bf597001c6",
   "execution_count": null
  },
  {
   "cell_type": "markdown",
   "source": [
    "# 5) Create Metrics Ranking Plot"
   ],
   "metadata": {
    "collapsed": false
   },
   "id": "8d27b5a1f0c338d1"
  },
  {
   "cell_type": "code",
   "outputs": [],
   "source": [
    "file_names = [\"RW\", \"TrendSeasRW\", \"WeakSARIMA\", \"StrongSARIMA\", \"SARIMAX\"]\n",
    "plot_metrics(\n",
    "    metric=\"RMSE\", \n",
    "    sort_labels=file_names,\n",
    "    export=True)\n",
    "\n",
    "plot_metrics(\n",
    "    metric=\"MAPE\", \n",
    "    sort_labels=file_names,\n",
    "    export=True)"
   ],
   "metadata": {
    "collapsed": false
   },
   "id": "d25ad1caf63b3046",
   "execution_count": null
  },
  {
   "cell_type": "markdown",
   "source": [
    "# 6) Analyze Aggregated EUR-USD Exchange Rate"
   ],
   "metadata": {
    "collapsed": false
   },
   "id": "c9f88562ae8f83d3"
  },
  {
   "cell_type": "markdown",
   "source": [
    "## 6.1) Read and Plot Data"
   ],
   "metadata": {
    "collapsed": false
   },
   "id": "3554a9403a0cd584"
  },
  {
   "cell_type": "code",
   "outputs": [
    {
     "name": "stdout",
     "output_type": "stream",
     "text": [
      "            bid_close_agg\n",
      "datetime                 \n",
      "2020-01-02        1.11702\n",
      "2020-01-03        1.11599\n",
      "2020-01-06        1.11948\n",
      "2020-01-07        1.11530\n",
      "2020-01-08        1.11124\n",
      "...                   ...\n",
      "2024-01-31        1.08033\n",
      "2024-02-01        1.08735\n",
      "2024-02-02        1.07790\n",
      "2024-02-05        1.07404\n",
      "2024-02-06        1.07415\n",
      "\n",
      "[1069 rows x 1 columns]\n"
     ]
    }
   ],
   "source": [
    "eurusd_agg_df = pd.read_csv(os.path.join(EUR_USD_DIR, \"eurusd_agg.csv\"), index_col=0)\n",
    "eurusd_agg_df.index = pd.to_datetime(eurusd_agg_df.index)\n",
    "print(eurusd_agg_df)"
   ],
   "metadata": {
    "collapsed": false,
    "ExecuteTime": {
     "end_time": "2024-03-12T20:58:22.373608Z",
     "start_time": "2024-03-12T20:58:22.355086Z"
    }
   },
   "id": "7da528e8a7b4fece",
   "execution_count": 31
  },
  {
   "cell_type": "code",
   "outputs": [
    {
     "data": {
      "text/plain": "<Figure size 600x500 with 1 Axes>",
      "image/png": "[encoded data removed]"
     },
     "metadata": {},
     "output_type": "display_data"
    }
   ],
   "source": [
    "plt.figure(figsize=(6, 5))\n",
    "plt.title(\"Aggregated EUR to USD Exchange Rate\", size=16)\n",
    "plt.ylabel(\"Value\", fontsize=14)\n",
    "plt.xlabel(\"Time\", fontsize=14)\n",
    "plt.plot(eurusd_agg_df, color=\"blue\")\n",
    "plt.savefig(os.path.join(PLOT_DIR, \"eurusd_agg.png\"))\n",
    "plt.show()"
   ],
   "metadata": {
    "collapsed": false,
    "ExecuteTime": {
     "end_time": "2024-03-12T21:00:47.112129Z",
     "start_time": "2024-03-12T21:00:41.730829Z"
    }
   },
   "id": "a9b3258f3d4feeb3",
   "execution_count": 34
  },
  {
   "cell_type": "markdown",
   "source": [
    "## 6.2) Test for Stationarity/Unit Root Test"
   ],
   "metadata": {
    "collapsed": false
   },
   "id": "83511653bfc5e2af"
  },
  {
   "cell_type": "code",
   "outputs": [],
   "source": [
    "eurusd_agg_df = eurusd_agg_df.squeeze()"
   ],
   "metadata": {
    "collapsed": false,
    "ExecuteTime": {
     "end_time": "2024-03-12T21:14:45.753385Z",
     "start_time": "2024-03-12T21:14:45.746683Z"
    }
   },
   "id": "f9eb488e4136e6a5",
   "execution_count": 47
  },
  {
   "cell_type": "markdown",
   "source": [
    "## 6.2.1) ADF test"
   ],
   "metadata": {
    "collapsed": false
   },
   "id": "97e59b0025d8da68"
  },
  {
   "cell_type": "code",
   "outputs": [],
   "source": [
    "# ADF test is used to determine the presence of unit root in the series, \n",
    "# and hence helps in understand if the series \n",
    "# is stationary or not. The null and alternate hypothesis of this test are:\n",
    "\n",
    "# Null Hypothesis: The series has a unit root.\n",
    "# Alternate Hypothesis: The series has no unit root.\n",
    "\n",
    "# If the null hypothesis in failed to be rejected, this test may provide evidence that the series is non-stationary."
   ],
   "metadata": {
    "collapsed": false
   },
   "id": "a90ea0738678344"
  },
  {
   "cell_type": "code",
   "outputs": [
    {
     "name": "stdout",
     "output_type": "stream",
     "text": [
      "Results of Dickey-Fuller Test:\n",
      "Test Statistic                   -1.306364\n",
      "p-value                           0.626256\n",
      "#Lags Used                        0.000000\n",
      "Number of Observations Used    1068.000000\n",
      "Critical Value (1%)              -3.436488\n",
      "Critical Value (5%)              -2.864250\n",
      "Critical Value (10%)             -2.568213\n",
      "dtype: float64\n"
     ]
    }
   ],
   "source": [
    "# ADF Test\n",
    "def adf_test(timeseries):\n",
    "    print(\"Results of Dickey-Fuller Test:\")\n",
    "    dftest = adfuller(timeseries, autolag=\"AIC\")\n",
    "    dfoutput = pd.Series(\n",
    "        dftest[0:4],\n",
    "        index=[\n",
    "            \"Test Statistic\",\n",
    "            \"p-value\",\n",
    "            \"#Lags Used\",\n",
    "            \"Number of Observations Used\",\n",
    "        ],\n",
    "    )\n",
    "    for key, value in dftest[4].items():\n",
    "        dfoutput[\"Critical Value (%s)\" % key] = value\n",
    "    print(dfoutput)\n",
    "    \n",
    "adf_test(eurusd_agg_df)"
   ],
   "metadata": {
    "collapsed": false,
    "ExecuteTime": {
     "end_time": "2024-03-12T21:20:46.431537Z",
     "start_time": "2024-03-12T21:20:46.319517Z"
    }
   },
   "id": "ce264ce6d5913ae6",
   "execution_count": 54
  },
  {
   "cell_type": "markdown",
   "source": [
    "## 6.2.2) KPSS Test"
   ],
   "metadata": {
    "collapsed": false
   },
   "id": "ac1e5672e42c3fa6"
  },
  {
   "cell_type": "code",
   "outputs": [],
   "source": [
    "# KPSS is another test for checking the stationarity of a time series. \n",
    "# The null and alternate hypothesis for the KPSS \n",
    "# test are opposite that of the ADF test.\n",
    "\n",
    "# Null Hypothesis: The process is trend stationary.\n",
    "# Alternate Hypothesis: The series has a unit root (series is not stationary)."
   ],
   "metadata": {
    "collapsed": false
   },
   "id": "4bbfb456d679ca7f"
  },
  {
   "cell_type": "code",
   "outputs": [],
   "source": [
    "def kpss_test(timeseries):\n",
    "    print(\"Results of KPSS Test:\")\n",
    "    kpsstest = kpss(timeseries, regression=\"c\", nlags=\"auto\")\n",
    "    kpss_output = pd.Series(\n",
    "        kpsstest[0:3], index=[\"Test Statistic\", \"p-value\", \"Lags Used\"]\n",
    "    )\n",
    "    for key, value in kpsstest[3].items():\n",
    "        kpss_output[\"Critical Value (%s)\" % key] = value\n",
    "    print(kpss_output)"
   ],
   "metadata": {
    "collapsed": false,
    "ExecuteTime": {
     "end_time": "2024-03-12T21:23:46.896801Z",
     "start_time": "2024-03-12T21:23:46.886356Z"
    }
   },
   "id": "fd32acb420f2ae19",
   "execution_count": 56
  },
  {
   "cell_type": "code",
   "outputs": [
    {
     "name": "stdout",
     "output_type": "stream",
     "text": [
      "Results of KPSS Test:\n",
      "Test Statistic            2.490679\n",
      "p-value                   0.010000\n",
      "Lags Used                19.000000\n",
      "Critical Value (10%)      0.347000\n",
      "Critical Value (5%)       0.463000\n",
      "Critical Value (2.5%)     0.574000\n",
      "Critical Value (1%)       0.739000\n",
      "dtype: float64\n"
     ]
    },
    {
     "name": "stderr",
     "output_type": "stream",
     "text": [
      "C:\\Users\\Work\\AppData\\Local\\Temp\\ipykernel_53092\\524574891.py:3: InterpolationWarning: The test statistic is outside of the range of p-values available in the\n",
      "look-up table. The actual p-value is smaller than the p-value returned.\n",
      "\n",
      "  kpsstest = kpss(timeseries, regression=\"c\", nlags=\"auto\")\n"
     ]
    }
   ],
   "source": [
    "kpss_test(eurusd_agg_df)"
   ],
   "metadata": {
    "collapsed": false,
    "ExecuteTime": {
     "end_time": "2024-03-12T21:23:47.087798Z",
     "start_time": "2024-03-12T21:23:47.069818Z"
    }
   },
   "id": "7c82ea9663c4ead3",
   "execution_count": 57
  },
  {
   "cell_type": "code",
   "outputs": [],
   "source": [],
   "metadata": {
    "collapsed": false
   },
   "id": "506d576a08d2fd61"
  }
 ],
 "metadata": {
  "kernelspec": {
   "display_name": "Python 3",
   "language": "python",
   "name": "python3"
  },
  "language_info": {
   "codemirror_mode": {
    "name": "ipython",
    "version": 2
   },
   "file_extension": ".py",
   "mimetype": "text/x-python",
   "name": "python",
   "nbconvert_exporter": "python",
   "pygments_lexer": "ipython2",
   "version": "2.7.6"
  }
 },
 "nbformat": 4,
 "nbformat_minor": 5
}
