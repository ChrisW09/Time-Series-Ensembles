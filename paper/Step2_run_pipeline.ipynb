{
 "cells": [
  {
   "cell_type": "markdown",
   "metadata": {},
   "source": [
    "# Interface for Pipeline Execution \n",
    "## (Simulated Data from SARIMAX Process)"
   ]
  },
  {
   "cell_type": "markdown",
   "source": [
    "## 1) Import Models, Metrics, Paths, and Functions"
   ],
   "metadata": {
    "collapsed": false
   }
  },
  {
   "cell_type": "code",
   "outputs": [
    {
     "name": "stdout",
     "output_type": "stream",
     "text": [
      "Loading helper functions...\n",
      "Loading paths...\n",
      "Loading data transformers...\n",
      "Loading models...\n",
      "Loading metrics...\n",
      "\n",
      "Successfully loaded metrics: MAPE, RMSE, sMAPE\n",
      "\n",
      "Successfully loaded forecasters:\n",
      " - without covariates: Naive, AutoTheta, AutoSARIMA, Exponential Smoothing, TiDE, STL, XGBoost\n",
      " - covariates: AutoSARIMAX, XGBoostCov\n",
      "\n",
      "Successfully loaded ensemblers:\n",
      " - weighted: Simple, Inverse RMSE, Inverse Variance, Inverse Error Covariance\n",
      " - meta: SVR, Random Forest\n"
     ]
    }
   ],
   "source": [
    "from src.utils.helpers import csv_reader\n",
    "from src.utils.paths import *\n",
    "from src.paper import display_ranking_table\n",
    "from src.pipeline.run_pipeline import run_pipeline\n",
    "\n",
    "from src.models import MODELS\n",
    "from src.metrics import METRICS\n"
   ],
   "metadata": {
    "collapsed": false,
    "ExecuteTime": {
     "end_time": "2024-03-11T08:32:20.990489Z",
     "start_time": "2024-03-11T08:31:48.093591Z"
    }
   },
   "execution_count": 1
  },
  {
   "cell_type": "markdown",
   "source": [
    "## 2) Load Simulated Data"
   ],
   "metadata": {
    "collapsed": false
   }
  },
  {
   "cell_type": "code",
   "outputs": [],
   "source": [
    "select_datasets = [\"RW\", \"TrendSeasRW\", \"WeakSARIMA\", \"StrongSARIMA\", \"SARIMAX\"]\n",
    "df_dict = {}\n",
    "for file in os.listdir(SIMDATA_DIR):\n",
    "    if file.replace(\".csv\", \"\") in select_datasets:\n",
    "        df = csv_reader(SIMDATA_DIR, file)\n",
    "        df_dict[df.attrs['file_name']] = df\n",
    "    else:\n",
    "        print(f\"Skipping {file}...\")\n"
   ],
   "metadata": {
    "collapsed": false,
    "ExecuteTime": {
     "end_time": "2024-03-11T08:32:21.032832Z",
     "start_time": "2024-03-11T08:32:20.995087Z"
    }
   },
   "execution_count": 2
  },
  {
   "cell_type": "code",
   "outputs": [
    {
     "data": {
      "text/plain": "                   RW\nDate                 \n2004-01-01  75.088420\n2004-02-01  72.932225\n2004-03-01  60.153464\n2004-04-01  57.815302\n2004-05-01  54.129793",
      "text/html": "<div>\n<style scoped>\n    .dataframe tbody tr th:only-of-type {\n        vertical-align: middle;\n    }\n\n    .dataframe tbody tr th {\n        vertical-align: top;\n    }\n\n    .dataframe thead th {\n        text-align: right;\n    }\n</style>\n<table border=\"1\" class=\"dataframe\">\n  <thead>\n    <tr style=\"text-align: right;\">\n      <th></th>\n      <th>RW</th>\n    </tr>\n    <tr>\n      <th>Date</th>\n      <th></th>\n    </tr>\n  </thead>\n  <tbody>\n    <tr>\n      <th>2004-01-01</th>\n      <td>75.088420</td>\n    </tr>\n    <tr>\n      <th>2004-02-01</th>\n      <td>72.932225</td>\n    </tr>\n    <tr>\n      <th>2004-03-01</th>\n      <td>60.153464</td>\n    </tr>\n    <tr>\n      <th>2004-04-01</th>\n      <td>57.815302</td>\n    </tr>\n    <tr>\n      <th>2004-05-01</th>\n      <td>54.129793</td>\n    </tr>\n  </tbody>\n</table>\n</div>"
     },
     "metadata": {},
     "output_type": "display_data"
    }
   ],
   "source": [
    "display(df_dict['RW'].head())"
   ],
   "metadata": {
    "collapsed": false,
    "ExecuteTime": {
     "end_time": "2024-03-11T08:32:21.065737Z",
     "start_time": "2024-03-11T08:32:21.036853Z"
    }
   },
   "execution_count": 3
  },
  {
   "cell_type": "markdown",
   "source": [
    "## 3) Run Pipeline"
   ],
   "metadata": {
    "collapsed": false
   }
  },
  {
   "cell_type": "code",
   "outputs": [
    {
     "name": "stdout",
     "output_type": "stream",
     "text": [
      "\u001B[33;1m=================================================================================\n",
      "[2024-03-11 09:32] Starting  Pipeline for StrongSARIMA dataset...\u001B[0m\n",
      "\u001B[33;1m\n",
      "=========================================\n",
      "== Pipeline Step 1: Data Preprocessing ==\n",
      "=========================================\n",
      "\u001B[0m\n",
      "\u001B[33;1mSearching time information...\u001B[0m\n",
      "\u001B[33;1mDates found in 'index' column!\u001B[0m\n",
      "\u001B[33;1mInferred frequency: month start\u001B[0m\n",
      "\u001B[33;1mData goes from 2004-01 to 2023-12, resulting in 240 observations.\n",
      "\u001B[0m\n",
      "\u001B[33;1mSelecting target and covariates...\u001B[0m\n",
      "\u001B[33;1mTarget: StrongSARIMA\u001B[0m\n",
      "\u001B[33;1mCovariates: None\u001B[0m\n",
      "\u001B[33;1m\n",
      "Data Insights:\u001B[0m\n",
      "\u001B[33;1m         StrongSARIMA\n",
      "Date                 \n",
      "2004-01     64.726819\n",
      "2004-02     65.665491\n",
      "2004-03     59.977914\n",
      "2004-04     58.470525\n",
      "2004-05     56.619631\u001B[0m\n",
      "\u001B[33;1m\n",
      "[Time elapsed: 00s]\n",
      "\u001B[0m\n",
      "\u001B[33;1m\n",
      "=====================================================\n",
      "== Pipeline Step 2: Individual Models' Predictions ==\n",
      "=====================================================\n",
      "\u001B[0m\n",
      "\u001B[33;1mSplitting data for training of forecasters (train/test ratio: 30/70)...\u001B[0m\n",
      "\u001B[33;1mInitial training set has 72 observations and goes from 2004-01 to 2009-12.\u001B[0m\n",
      "\u001B[33;1m\n",
      "In an historical expanding window approach, there are 168 periods to be forecasted by the individual models: 2010-01 to 2023-12\u001B[0m\n",
      "\u001B[33;1mOut-of-sample predictions are generated for next period: 2024-01\u001B[0m\n",
      "\u001B[33;1m\n",
      "Now generating 168 one-step ahead historical expanding window predictions from model: Naive (sktime)\u001B[0m\n",
      "\u001B[33;1mPerforming out-of-sample predictions...\u001B[0m\n",
      "\u001B[33;1m...finished!\u001B[0m\n",
      "\u001B[33;1m\n",
      "Now generating 168 one-step ahead historical expanding window predictions from model: TiDE (darts)\u001B[0m\n",
      "\u001B[33;1mTrain dataset contains 60 samples.\u001B[0m\n",
      "\u001B[33;1mTime series values are 64-bits; casting model to float64.\u001B[0m\n"
     ]
    },
    {
     "name": "stderr",
     "output_type": "stream",
     "text": [
      "GPU available: False, used: False\n",
      "TPU available: False, using: 0 TPU cores\n",
      "IPU available: False, using: 0 IPUs\n",
      "HPU available: False, using: 0 HPUs\n",
      "\n",
      "  | Name             | Type             | Params\n",
      "------------------------------------------------------\n",
      "0 | criterion        | MSELoss          | 0     \n",
      "1 | train_metrics    | MetricCollection | 0     \n",
      "2 | val_metrics      | MetricCollection | 0     \n",
      "3 | encoders         | Sequential       | 19.8 K\n",
      "4 | decoders         | Sequential       | 20.6 K\n",
      "5 | temporal_decoder | _ResidualBlock   | 594   \n",
      "6 | lookback_skip    | Linear           | 13    \n",
      "------------------------------------------------------\n",
      "41.1 K    Trainable params\n",
      "0         Non-trainable params\n",
      "41.1 K    Total params\n",
      "0.164     Total estimated model params size (MB)\n"
     ]
    },
    {
     "data": {
      "text/plain": "Training: |          | 0/? [00:00<?, ?it/s]",
      "application/vnd.jupyter.widget-view+json": {
       "version_major": 2,
       "version_minor": 0,
       "model_id": "4808beb56a434c73b5ca2a6e8765a621"
      }
     },
     "metadata": {},
     "output_type": "display_data"
    },
    {
     "name": "stderr",
     "output_type": "stream",
     "text": [
      "`Trainer.fit` stopped: `max_epochs=100` reached.\n",
      "GPU available: False, used: False\n",
      "TPU available: False, using: 0 TPU cores\n",
      "IPU available: False, using: 0 IPUs\n",
      "HPU available: False, using: 0 HPUs\n"
     ]
    },
    {
     "name": "stdout",
     "output_type": "stream",
     "text": [
      "\u001B[33;1mTrain dataset contains 61 samples.\u001B[0m\n",
      "\u001B[33;1mTime series values are 64-bits; casting model to float64.\u001B[0m\n"
     ]
    },
    {
     "name": "stderr",
     "output_type": "stream",
     "text": [
      "GPU available: False, used: False\n",
      "TPU available: False, using: 0 TPU cores\n",
      "IPU available: False, using: 0 IPUs\n",
      "HPU available: False, using: 0 HPUs\n",
      "\n",
      "  | Name             | Type             | Params\n",
      "------------------------------------------------------\n",
      "0 | criterion        | MSELoss          | 0     \n",
      "1 | train_metrics    | MetricCollection | 0     \n",
      "2 | val_metrics      | MetricCollection | 0     \n",
      "3 | encoders         | Sequential       | 19.8 K\n",
      "4 | decoders         | Sequential       | 20.6 K\n",
      "5 | temporal_decoder | _ResidualBlock   | 594   \n",
      "6 | lookback_skip    | Linear           | 13    \n",
      "------------------------------------------------------\n",
      "41.1 K    Trainable params\n",
      "0         Non-trainable params\n",
      "41.1 K    Total params\n",
      "0.164     Total estimated model params size (MB)\n"
     ]
    },
    {
     "data": {
      "text/plain": "Training: |          | 0/? [00:00<?, ?it/s]",
      "application/vnd.jupyter.widget-view+json": {
       "version_major": 2,
       "version_minor": 0,
       "model_id": "939df8b8fd414aa6baaaa32d90741371"
      }
     },
     "metadata": {},
     "output_type": "display_data"
    },
    {
     "name": "stderr",
     "output_type": "stream",
     "text": [
      "`Trainer.fit` stopped: `max_epochs=100` reached.\n",
      "GPU available: False, used: False\n",
      "TPU available: False, using: 0 TPU cores\n",
      "IPU available: False, using: 0 IPUs\n",
      "HPU available: False, using: 0 HPUs\n"
     ]
    },
    {
     "name": "stdout",
     "output_type": "stream",
     "text": [
      "\u001B[33;1mTrain dataset contains 62 samples.\u001B[0m\n",
      "\u001B[33;1mTime series values are 64-bits; casting model to float64.\u001B[0m\n"
     ]
    },
    {
     "name": "stderr",
     "output_type": "stream",
     "text": [
      "GPU available: False, used: False\n",
      "TPU available: False, using: 0 TPU cores\n",
      "IPU available: False, using: 0 IPUs\n",
      "HPU available: False, using: 0 HPUs\n",
      "\n",
      "  | Name             | Type             | Params\n",
      "------------------------------------------------------\n",
      "0 | criterion        | MSELoss          | 0     \n",
      "1 | train_metrics    | MetricCollection | 0     \n",
      "2 | val_metrics      | MetricCollection | 0     \n",
      "3 | encoders         | Sequential       | 19.8 K\n",
      "4 | decoders         | Sequential       | 20.6 K\n",
      "5 | temporal_decoder | _ResidualBlock   | 594   \n",
      "6 | lookback_skip    | Linear           | 13    \n",
      "------------------------------------------------------\n",
      "41.1 K    Trainable params\n",
      "0         Non-trainable params\n",
      "41.1 K    Total params\n",
      "0.164     Total estimated model params size (MB)\n"
     ]
    },
    {
     "data": {
      "text/plain": "Training: |          | 0/? [00:00<?, ?it/s]",
      "application/vnd.jupyter.widget-view+json": {
       "version_major": 2,
       "version_minor": 0,
       "model_id": "e7d5f7483aa746d9ad3d360c70bbdbe3"
      }
     },
     "metadata": {},
     "output_type": "display_data"
    },
    {
     "name": "stderr",
     "output_type": "stream",
     "text": [
      "`Trainer.fit` stopped: `max_epochs=100` reached.\n",
      "GPU available: False, used: False\n",
      "TPU available: False, using: 0 TPU cores\n",
      "IPU available: False, using: 0 IPUs\n",
      "HPU available: False, using: 0 HPUs\n"
     ]
    },
    {
     "name": "stdout",
     "output_type": "stream",
     "text": [
      "\u001B[33;1mTrain dataset contains 63 samples.\u001B[0m\n",
      "\u001B[33;1mTime series values are 64-bits; casting model to float64.\u001B[0m\n"
     ]
    },
    {
     "name": "stderr",
     "output_type": "stream",
     "text": [
      "GPU available: False, used: False\n",
      "TPU available: False, using: 0 TPU cores\n",
      "IPU available: False, using: 0 IPUs\n",
      "HPU available: False, using: 0 HPUs\n",
      "\n",
      "  | Name             | Type             | Params\n",
      "------------------------------------------------------\n",
      "0 | criterion        | MSELoss          | 0     \n",
      "1 | train_metrics    | MetricCollection | 0     \n",
      "2 | val_metrics      | MetricCollection | 0     \n",
      "3 | encoders         | Sequential       | 19.8 K\n",
      "4 | decoders         | Sequential       | 20.6 K\n",
      "5 | temporal_decoder | _ResidualBlock   | 594   \n",
      "6 | lookback_skip    | Linear           | 13    \n",
      "------------------------------------------------------\n",
      "41.1 K    Trainable params\n",
      "0         Non-trainable params\n",
      "41.1 K    Total params\n",
      "0.164     Total estimated model params size (MB)\n"
     ]
    },
    {
     "data": {
      "text/plain": "Training: |          | 0/? [00:00<?, ?it/s]",
      "application/vnd.jupyter.widget-view+json": {
       "version_major": 2,
       "version_minor": 0,
       "model_id": "57365c8b72f74f159b620b4eb69330d7"
      }
     },
     "metadata": {},
     "output_type": "display_data"
    },
    {
     "name": "stderr",
     "output_type": "stream",
     "text": [
      "`Trainer.fit` stopped: `max_epochs=100` reached.\n",
      "GPU available: False, used: False\n",
      "TPU available: False, using: 0 TPU cores\n",
      "IPU available: False, using: 0 IPUs\n",
      "HPU available: False, using: 0 HPUs\n"
     ]
    },
    {
     "name": "stdout",
     "output_type": "stream",
     "text": [
      "\u001B[33;1mTrain dataset contains 64 samples.\u001B[0m\n",
      "\u001B[33;1mTime series values are 64-bits; casting model to float64.\u001B[0m\n"
     ]
    },
    {
     "name": "stderr",
     "output_type": "stream",
     "text": [
      "GPU available: False, used: False\n",
      "TPU available: False, using: 0 TPU cores\n",
      "IPU available: False, using: 0 IPUs\n",
      "HPU available: False, using: 0 HPUs\n",
      "\n",
      "  | Name             | Type             | Params\n",
      "------------------------------------------------------\n",
      "0 | criterion        | MSELoss          | 0     \n",
      "1 | train_metrics    | MetricCollection | 0     \n",
      "2 | val_metrics      | MetricCollection | 0     \n",
      "3 | encoders         | Sequential       | 19.8 K\n",
      "4 | decoders         | Sequential       | 20.6 K\n",
      "5 | temporal_decoder | _ResidualBlock   | 594   \n",
      "6 | lookback_skip    | Linear           | 13    \n",
      "------------------------------------------------------\n",
      "41.1 K    Trainable params\n",
      "0         Non-trainable params\n",
      "41.1 K    Total params\n",
      "0.164     Total estimated model params size (MB)\n"
     ]
    },
    {
     "data": {
      "text/plain": "Training: |          | 0/? [00:00<?, ?it/s]",
      "application/vnd.jupyter.widget-view+json": {
       "version_major": 2,
       "version_minor": 0,
       "model_id": "fe70b1fb4ccc4c9bb8e829ebf1906c28"
      }
     },
     "metadata": {},
     "output_type": "display_data"
    },
    {
     "name": "stderr",
     "output_type": "stream",
     "text": [
      "`Trainer.fit` stopped: `max_epochs=100` reached.\n",
      "GPU available: False, used: False\n",
      "TPU available: False, using: 0 TPU cores\n",
      "IPU available: False, using: 0 IPUs\n",
      "HPU available: False, using: 0 HPUs\n"
     ]
    },
    {
     "name": "stdout",
     "output_type": "stream",
     "text": [
      "\u001B[33;1mTrain dataset contains 65 samples.\u001B[0m\n",
      "\u001B[33;1mTime series values are 64-bits; casting model to float64.\u001B[0m\n"
     ]
    },
    {
     "name": "stderr",
     "output_type": "stream",
     "text": [
      "GPU available: False, used: False\n",
      "TPU available: False, using: 0 TPU cores\n",
      "IPU available: False, using: 0 IPUs\n",
      "HPU available: False, using: 0 HPUs\n",
      "\n",
      "  | Name             | Type             | Params\n",
      "------------------------------------------------------\n",
      "0 | criterion        | MSELoss          | 0     \n",
      "1 | train_metrics    | MetricCollection | 0     \n",
      "2 | val_metrics      | MetricCollection | 0     \n",
      "3 | encoders         | Sequential       | 19.8 K\n",
      "4 | decoders         | Sequential       | 20.6 K\n",
      "5 | temporal_decoder | _ResidualBlock   | 594   \n",
      "6 | lookback_skip    | Linear           | 13    \n",
      "------------------------------------------------------\n",
      "41.1 K    Trainable params\n",
      "0         Non-trainable params\n",
      "41.1 K    Total params\n",
      "0.164     Total estimated model params size (MB)\n"
     ]
    },
    {
     "data": {
      "text/plain": "Training: |          | 0/? [00:00<?, ?it/s]",
      "application/vnd.jupyter.widget-view+json": {
       "version_major": 2,
       "version_minor": 0,
       "model_id": "7553d9742b1c491ba8d2a993c65cdfed"
      }
     },
     "metadata": {},
     "output_type": "display_data"
    },
    {
     "name": "stderr",
     "output_type": "stream",
     "text": [
      "`Trainer.fit` stopped: `max_epochs=100` reached.\n",
      "GPU available: False, used: False\n",
      "TPU available: False, using: 0 TPU cores\n",
      "IPU available: False, using: 0 IPUs\n",
      "HPU available: False, using: 0 HPUs\n"
     ]
    },
    {
     "name": "stdout",
     "output_type": "stream",
     "text": [
      "\u001B[33;1mTrain dataset contains 66 samples.\u001B[0m\n",
      "\u001B[33;1mTime series values are 64-bits; casting model to float64.\u001B[0m\n"
     ]
    },
    {
     "name": "stderr",
     "output_type": "stream",
     "text": [
      "GPU available: False, used: False\n",
      "TPU available: False, using: 0 TPU cores\n",
      "IPU available: False, using: 0 IPUs\n",
      "HPU available: False, using: 0 HPUs\n",
      "\n",
      "  | Name             | Type             | Params\n",
      "------------------------------------------------------\n",
      "0 | criterion        | MSELoss          | 0     \n",
      "1 | train_metrics    | MetricCollection | 0     \n",
      "2 | val_metrics      | MetricCollection | 0     \n",
      "3 | encoders         | Sequential       | 19.8 K\n",
      "4 | decoders         | Sequential       | 20.6 K\n",
      "5 | temporal_decoder | _ResidualBlock   | 594   \n",
      "6 | lookback_skip    | Linear           | 13    \n",
      "------------------------------------------------------\n",
      "41.1 K    Trainable params\n",
      "0         Non-trainable params\n",
      "41.1 K    Total params\n",
      "0.164     Total estimated model params size (MB)\n"
     ]
    },
    {
     "data": {
      "text/plain": "Training: |          | 0/? [00:00<?, ?it/s]",
      "application/vnd.jupyter.widget-view+json": {
       "version_major": 2,
       "version_minor": 0,
       "model_id": "6ba9eac697414e889f91e628676fc30e"
      }
     },
     "metadata": {},
     "output_type": "display_data"
    },
    {
     "name": "stderr",
     "output_type": "stream",
     "text": [
      "`Trainer.fit` stopped: `max_epochs=100` reached.\n",
      "GPU available: False, used: False\n",
      "TPU available: False, using: 0 TPU cores\n",
      "IPU available: False, using: 0 IPUs\n",
      "HPU available: False, using: 0 HPUs\n"
     ]
    },
    {
     "name": "stdout",
     "output_type": "stream",
     "text": [
      "\u001B[33;1mTrain dataset contains 67 samples.\u001B[0m\n",
      "\u001B[33;1mTime series values are 64-bits; casting model to float64.\u001B[0m\n"
     ]
    },
    {
     "name": "stderr",
     "output_type": "stream",
     "text": [
      "GPU available: False, used: False\n",
      "TPU available: False, using: 0 TPU cores\n",
      "IPU available: False, using: 0 IPUs\n",
      "HPU available: False, using: 0 HPUs\n",
      "\n",
      "  | Name             | Type             | Params\n",
      "------------------------------------------------------\n",
      "0 | criterion        | MSELoss          | 0     \n",
      "1 | train_metrics    | MetricCollection | 0     \n",
      "2 | val_metrics      | MetricCollection | 0     \n",
      "3 | encoders         | Sequential       | 19.8 K\n",
      "4 | decoders         | Sequential       | 20.6 K\n",
      "5 | temporal_decoder | _ResidualBlock   | 594   \n",
      "6 | lookback_skip    | Linear           | 13    \n",
      "------------------------------------------------------\n",
      "41.1 K    Trainable params\n",
      "0         Non-trainable params\n",
      "41.1 K    Total params\n",
      "0.164     Total estimated model params size (MB)\n"
     ]
    },
    {
     "data": {
      "text/plain": "Training: |          | 0/? [00:00<?, ?it/s]",
      "application/vnd.jupyter.widget-view+json": {
       "version_major": 2,
       "version_minor": 0,
       "model_id": "b101006edeaa4237978325be6b4a8695"
      }
     },
     "metadata": {},
     "output_type": "display_data"
    },
    {
     "name": "stderr",
     "output_type": "stream",
     "text": [
      "`Trainer.fit` stopped: `max_epochs=100` reached.\n",
      "GPU available: False, used: False\n",
      "TPU available: False, using: 0 TPU cores\n",
      "IPU available: False, using: 0 IPUs\n",
      "HPU available: False, using: 0 HPUs\n"
     ]
    },
    {
     "name": "stdout",
     "output_type": "stream",
     "text": [
      "\u001B[33;1mTrain dataset contains 68 samples.\u001B[0m\n",
      "\u001B[33;1mTime series values are 64-bits; casting model to float64.\u001B[0m\n"
     ]
    },
    {
     "name": "stderr",
     "output_type": "stream",
     "text": [
      "GPU available: False, used: False\n",
      "TPU available: False, using: 0 TPU cores\n",
      "IPU available: False, using: 0 IPUs\n",
      "HPU available: False, using: 0 HPUs\n",
      "\n",
      "  | Name             | Type             | Params\n",
      "------------------------------------------------------\n",
      "0 | criterion        | MSELoss          | 0     \n",
      "1 | train_metrics    | MetricCollection | 0     \n",
      "2 | val_metrics      | MetricCollection | 0     \n",
      "3 | encoders         | Sequential       | 19.8 K\n",
      "4 | decoders         | Sequential       | 20.6 K\n",
      "5 | temporal_decoder | _ResidualBlock   | 594   \n",
      "6 | lookback_skip    | Linear           | 13    \n",
      "------------------------------------------------------\n",
      "41.1 K    Trainable params\n",
      "0         Non-trainable params\n",
      "41.1 K    Total params\n",
      "0.164     Total estimated model params size (MB)\n"
     ]
    },
    {
     "data": {
      "text/plain": "Training: |          | 0/? [00:00<?, ?it/s]",
      "application/vnd.jupyter.widget-view+json": {
       "version_major": 2,
       "version_minor": 0,
       "model_id": "aaad139fa70d4229909ea01b8bb8a377"
      }
     },
     "metadata": {},
     "output_type": "display_data"
    },
    {
     "name": "stderr",
     "output_type": "stream",
     "text": [
      "`Trainer.fit` stopped: `max_epochs=100` reached.\n",
      "GPU available: False, used: False\n",
      "TPU available: False, using: 0 TPU cores\n",
      "IPU available: False, using: 0 IPUs\n",
      "HPU available: False, using: 0 HPUs\n"
     ]
    },
    {
     "name": "stdout",
     "output_type": "stream",
     "text": [
      "\u001B[33;1mTrain dataset contains 69 samples.\u001B[0m\n",
      "\u001B[33;1mTime series values are 64-bits; casting model to float64.\u001B[0m\n"
     ]
    },
    {
     "name": "stderr",
     "output_type": "stream",
     "text": [
      "GPU available: False, used: False\n",
      "TPU available: False, using: 0 TPU cores\n",
      "IPU available: False, using: 0 IPUs\n",
      "HPU available: False, using: 0 HPUs\n",
      "\n",
      "  | Name             | Type             | Params\n",
      "------------------------------------------------------\n",
      "0 | criterion        | MSELoss          | 0     \n",
      "1 | train_metrics    | MetricCollection | 0     \n",
      "2 | val_metrics      | MetricCollection | 0     \n",
      "3 | encoders         | Sequential       | 19.8 K\n",
      "4 | decoders         | Sequential       | 20.6 K\n",
      "5 | temporal_decoder | _ResidualBlock   | 594   \n",
      "6 | lookback_skip    | Linear           | 13    \n",
      "------------------------------------------------------\n",
      "41.1 K    Trainable params\n",
      "0         Non-trainable params\n",
      "41.1 K    Total params\n",
      "0.164     Total estimated model params size (MB)\n"
     ]
    },
    {
     "data": {
      "text/plain": "Training: |          | 0/? [00:00<?, ?it/s]",
      "application/vnd.jupyter.widget-view+json": {
       "version_major": 2,
       "version_minor": 0,
       "model_id": "4b7df33238dc4ce6aa17b9d6709dc699"
      }
     },
     "metadata": {},
     "output_type": "display_data"
    },
    {
     "name": "stderr",
     "output_type": "stream",
     "text": [
      "`Trainer.fit` stopped: `max_epochs=100` reached.\n",
      "GPU available: False, used: False\n",
      "TPU available: False, using: 0 TPU cores\n",
      "IPU available: False, using: 0 IPUs\n",
      "HPU available: False, using: 0 HPUs\n"
     ]
    },
    {
     "name": "stdout",
     "output_type": "stream",
     "text": [
      "\u001B[33;1mTrain dataset contains 70 samples.\u001B[0m\n",
      "\u001B[33;1mTime series values are 64-bits; casting model to float64.\u001B[0m\n"
     ]
    },
    {
     "name": "stderr",
     "output_type": "stream",
     "text": [
      "GPU available: False, used: False\n",
      "TPU available: False, using: 0 TPU cores\n",
      "IPU available: False, using: 0 IPUs\n",
      "HPU available: False, using: 0 HPUs\n",
      "\n",
      "  | Name             | Type             | Params\n",
      "------------------------------------------------------\n",
      "0 | criterion        | MSELoss          | 0     \n",
      "1 | train_metrics    | MetricCollection | 0     \n",
      "2 | val_metrics      | MetricCollection | 0     \n",
      "3 | encoders         | Sequential       | 19.8 K\n",
      "4 | decoders         | Sequential       | 20.6 K\n",
      "5 | temporal_decoder | _ResidualBlock   | 594   \n",
      "6 | lookback_skip    | Linear           | 13    \n",
      "------------------------------------------------------\n",
      "41.1 K    Trainable params\n",
      "0         Non-trainable params\n",
      "41.1 K    Total params\n",
      "0.164     Total estimated model params size (MB)\n"
     ]
    },
    {
     "data": {
      "text/plain": "Training: |          | 0/? [00:00<?, ?it/s]",
      "application/vnd.jupyter.widget-view+json": {
       "version_major": 2,
       "version_minor": 0,
       "model_id": "71de22374cda439083047064fed36a3f"
      }
     },
     "metadata": {},
     "output_type": "display_data"
    },
    {
     "name": "stderr",
     "output_type": "stream",
     "text": [
      "`Trainer.fit` stopped: `max_epochs=100` reached.\n",
      "GPU available: False, used: False\n",
      "TPU available: False, using: 0 TPU cores\n",
      "IPU available: False, using: 0 IPUs\n",
      "HPU available: False, using: 0 HPUs\n"
     ]
    },
    {
     "name": "stdout",
     "output_type": "stream",
     "text": [
      "\u001B[33;1mTrain dataset contains 71 samples.\u001B[0m\n",
      "\u001B[33;1mTime series values are 64-bits; casting model to float64.\u001B[0m\n"
     ]
    },
    {
     "name": "stderr",
     "output_type": "stream",
     "text": [
      "GPU available: False, used: False\n",
      "TPU available: False, using: 0 TPU cores\n",
      "IPU available: False, using: 0 IPUs\n",
      "HPU available: False, using: 0 HPUs\n",
      "\n",
      "  | Name             | Type             | Params\n",
      "------------------------------------------------------\n",
      "0 | criterion        | MSELoss          | 0     \n",
      "1 | train_metrics    | MetricCollection | 0     \n",
      "2 | val_metrics      | MetricCollection | 0     \n",
      "3 | encoders         | Sequential       | 19.8 K\n",
      "4 | decoders         | Sequential       | 20.6 K\n",
      "5 | temporal_decoder | _ResidualBlock   | 594   \n",
      "6 | lookback_skip    | Linear           | 13    \n",
      "------------------------------------------------------\n",
      "41.1 K    Trainable params\n",
      "0         Non-trainable params\n",
      "41.1 K    Total params\n",
      "0.164     Total estimated model params size (MB)\n"
     ]
    },
    {
     "data": {
      "text/plain": "Training: |          | 0/? [00:00<?, ?it/s]",
      "application/vnd.jupyter.widget-view+json": {
       "version_major": 2,
       "version_minor": 0,
       "model_id": "d2a9c4637ab54297afc8601f5ce7fac2"
      }
     },
     "metadata": {},
     "output_type": "display_data"
    },
    {
     "name": "stderr",
     "output_type": "stream",
     "text": [
      "`Trainer.fit` stopped: `max_epochs=100` reached.\n",
      "GPU available: False, used: False\n",
      "TPU available: False, using: 0 TPU cores\n",
      "IPU available: False, using: 0 IPUs\n",
      "HPU available: False, using: 0 HPUs\n"
     ]
    },
    {
     "name": "stdout",
     "output_type": "stream",
     "text": [
      "\u001B[33;1mTrain dataset contains 72 samples.\u001B[0m\n",
      "\u001B[33;1mTime series values are 64-bits; casting model to float64.\u001B[0m\n"
     ]
    },
    {
     "name": "stderr",
     "output_type": "stream",
     "text": [
      "GPU available: False, used: False\n",
      "TPU available: False, using: 0 TPU cores\n",
      "IPU available: False, using: 0 IPUs\n",
      "HPU available: False, using: 0 HPUs\n",
      "\n",
      "  | Name             | Type             | Params\n",
      "------------------------------------------------------\n",
      "0 | criterion        | MSELoss          | 0     \n",
      "1 | train_metrics    | MetricCollection | 0     \n",
      "2 | val_metrics      | MetricCollection | 0     \n",
      "3 | encoders         | Sequential       | 19.8 K\n",
      "4 | decoders         | Sequential       | 20.6 K\n",
      "5 | temporal_decoder | _ResidualBlock   | 594   \n",
      "6 | lookback_skip    | Linear           | 13    \n",
      "------------------------------------------------------\n",
      "41.1 K    Trainable params\n",
      "0         Non-trainable params\n",
      "41.1 K    Total params\n",
      "0.164     Total estimated model params size (MB)\n"
     ]
    },
    {
     "data": {
      "text/plain": "Training: |          | 0/? [00:00<?, ?it/s]",
      "application/vnd.jupyter.widget-view+json": {
       "version_major": 2,
       "version_minor": 0,
       "model_id": "39dd828586ae4eeabd4ed413b92c5989"
      }
     },
     "metadata": {},
     "output_type": "display_data"
    },
    {
     "name": "stderr",
     "output_type": "stream",
     "text": [
      "`Trainer.fit` stopped: `max_epochs=100` reached.\n",
      "GPU available: False, used: False\n",
      "TPU available: False, using: 0 TPU cores\n",
      "IPU available: False, using: 0 IPUs\n",
      "HPU available: False, using: 0 HPUs\n"
     ]
    },
    {
     "name": "stdout",
     "output_type": "stream",
     "text": [
      "\u001B[33;1mTrain dataset contains 73 samples.\u001B[0m\n",
      "\u001B[33;1mTime series values are 64-bits; casting model to float64.\u001B[0m\n"
     ]
    },
    {
     "name": "stderr",
     "output_type": "stream",
     "text": [
      "GPU available: False, used: False\n",
      "TPU available: False, using: 0 TPU cores\n",
      "IPU available: False, using: 0 IPUs\n",
      "HPU available: False, using: 0 HPUs\n",
      "\n",
      "  | Name             | Type             | Params\n",
      "------------------------------------------------------\n",
      "0 | criterion        | MSELoss          | 0     \n",
      "1 | train_metrics    | MetricCollection | 0     \n",
      "2 | val_metrics      | MetricCollection | 0     \n",
      "3 | encoders         | Sequential       | 19.8 K\n",
      "4 | decoders         | Sequential       | 20.6 K\n",
      "5 | temporal_decoder | _ResidualBlock   | 594   \n",
      "6 | lookback_skip    | Linear           | 13    \n",
      "------------------------------------------------------\n",
      "41.1 K    Trainable params\n",
      "0         Non-trainable params\n",
      "41.1 K    Total params\n",
      "0.164     Total estimated model params size (MB)\n"
     ]
    },
    {
     "data": {
      "text/plain": "Training: |          | 0/? [00:00<?, ?it/s]",
      "application/vnd.jupyter.widget-view+json": {
       "version_major": 2,
       "version_minor": 0,
       "model_id": "d54b6d97b305425b97f3aba302c99c91"
      }
     },
     "metadata": {},
     "output_type": "display_data"
    },
    {
     "name": "stderr",
     "output_type": "stream",
     "text": [
      "`Trainer.fit` stopped: `max_epochs=100` reached.\n",
      "GPU available: False, used: False\n",
      "TPU available: False, using: 0 TPU cores\n",
      "IPU available: False, using: 0 IPUs\n",
      "HPU available: False, using: 0 HPUs\n"
     ]
    },
    {
     "name": "stdout",
     "output_type": "stream",
     "text": [
      "\u001B[33;1mTrain dataset contains 74 samples.\u001B[0m\n",
      "\u001B[33;1mTime series values are 64-bits; casting model to float64.\u001B[0m\n"
     ]
    },
    {
     "name": "stderr",
     "output_type": "stream",
     "text": [
      "GPU available: False, used: False\n",
      "TPU available: False, using: 0 TPU cores\n",
      "IPU available: False, using: 0 IPUs\n",
      "HPU available: False, using: 0 HPUs\n",
      "\n",
      "  | Name             | Type             | Params\n",
      "------------------------------------------------------\n",
      "0 | criterion        | MSELoss          | 0     \n",
      "1 | train_metrics    | MetricCollection | 0     \n",
      "2 | val_metrics      | MetricCollection | 0     \n",
      "3 | encoders         | Sequential       | 19.8 K\n",
      "4 | decoders         | Sequential       | 20.6 K\n",
      "5 | temporal_decoder | _ResidualBlock   | 594   \n",
      "6 | lookback_skip    | Linear           | 13    \n",
      "------------------------------------------------------\n",
      "41.1 K    Trainable params\n",
      "0         Non-trainable params\n",
      "41.1 K    Total params\n",
      "0.164     Total estimated model params size (MB)\n"
     ]
    },
    {
     "data": {
      "text/plain": "Training: |          | 0/? [00:00<?, ?it/s]",
      "application/vnd.jupyter.widget-view+json": {
       "version_major": 2,
       "version_minor": 0,
       "model_id": "384e77e66f084035b95b3caf2868e265"
      }
     },
     "metadata": {},
     "output_type": "display_data"
    },
    {
     "name": "stderr",
     "output_type": "stream",
     "text": [
      "`Trainer.fit` stopped: `max_epochs=100` reached.\n",
      "GPU available: False, used: False\n",
      "TPU available: False, using: 0 TPU cores\n",
      "IPU available: False, using: 0 IPUs\n",
      "HPU available: False, using: 0 HPUs\n"
     ]
    },
    {
     "name": "stdout",
     "output_type": "stream",
     "text": [
      "\u001B[33;1mTrain dataset contains 75 samples.\u001B[0m\n",
      "\u001B[33;1mTime series values are 64-bits; casting model to float64.\u001B[0m\n"
     ]
    },
    {
     "name": "stderr",
     "output_type": "stream",
     "text": [
      "GPU available: False, used: False\n",
      "TPU available: False, using: 0 TPU cores\n",
      "IPU available: False, using: 0 IPUs\n",
      "HPU available: False, using: 0 HPUs\n",
      "\n",
      "  | Name             | Type             | Params\n",
      "------------------------------------------------------\n",
      "0 | criterion        | MSELoss          | 0     \n",
      "1 | train_metrics    | MetricCollection | 0     \n",
      "2 | val_metrics      | MetricCollection | 0     \n",
      "3 | encoders         | Sequential       | 19.8 K\n",
      "4 | decoders         | Sequential       | 20.6 K\n",
      "5 | temporal_decoder | _ResidualBlock   | 594   \n",
      "6 | lookback_skip    | Linear           | 13    \n",
      "------------------------------------------------------\n",
      "41.1 K    Trainable params\n",
      "0         Non-trainable params\n",
      "41.1 K    Total params\n",
      "0.164     Total estimated model params size (MB)\n"
     ]
    },
    {
     "data": {
      "text/plain": "Training: |          | 0/? [00:00<?, ?it/s]",
      "application/vnd.jupyter.widget-view+json": {
       "version_major": 2,
       "version_minor": 0,
       "model_id": "4c92ea153b5b44d0952f27525fa00153"
      }
     },
     "metadata": {},
     "output_type": "display_data"
    },
    {
     "name": "stderr",
     "output_type": "stream",
     "text": [
      "`Trainer.fit` stopped: `max_epochs=100` reached.\n",
      "GPU available: False, used: False\n",
      "TPU available: False, using: 0 TPU cores\n",
      "IPU available: False, using: 0 IPUs\n",
      "HPU available: False, using: 0 HPUs\n"
     ]
    },
    {
     "name": "stdout",
     "output_type": "stream",
     "text": [
      "\u001B[33;1mTrain dataset contains 76 samples.\u001B[0m\n",
      "\u001B[33;1mTime series values are 64-bits; casting model to float64.\u001B[0m\n"
     ]
    },
    {
     "name": "stderr",
     "output_type": "stream",
     "text": [
      "GPU available: False, used: False\n",
      "TPU available: False, using: 0 TPU cores\n",
      "IPU available: False, using: 0 IPUs\n",
      "HPU available: False, using: 0 HPUs\n",
      "\n",
      "  | Name             | Type             | Params\n",
      "------------------------------------------------------\n",
      "0 | criterion        | MSELoss          | 0     \n",
      "1 | train_metrics    | MetricCollection | 0     \n",
      "2 | val_metrics      | MetricCollection | 0     \n",
      "3 | encoders         | Sequential       | 19.8 K\n",
      "4 | decoders         | Sequential       | 20.6 K\n",
      "5 | temporal_decoder | _ResidualBlock   | 594   \n",
      "6 | lookback_skip    | Linear           | 13    \n",
      "------------------------------------------------------\n",
      "41.1 K    Trainable params\n",
      "0         Non-trainable params\n",
      "41.1 K    Total params\n",
      "0.164     Total estimated model params size (MB)\n"
     ]
    },
    {
     "data": {
      "text/plain": "Training: |          | 0/? [00:00<?, ?it/s]",
      "application/vnd.jupyter.widget-view+json": {
       "version_major": 2,
       "version_minor": 0,
       "model_id": "872e09366d5f4256938e7caa9ffc8e07"
      }
     },
     "metadata": {},
     "output_type": "display_data"
    },
    {
     "name": "stderr",
     "output_type": "stream",
     "text": [
      "GPU available: False, used: False\n",
      "TPU available: False, using: 0 TPU cores\n",
      "IPU available: False, using: 0 IPUs\n",
      "HPU available: False, using: 0 HPUs\n"
     ]
    },
    {
     "name": "stdout",
     "output_type": "stream",
     "text": [
      "\u001B[33;1mTrain dataset contains 77 samples.\u001B[0m\n",
      "\u001B[33;1mTime series values are 64-bits; casting model to float64.\u001B[0m\n"
     ]
    },
    {
     "name": "stderr",
     "output_type": "stream",
     "text": [
      "GPU available: False, used: False\n",
      "TPU available: False, using: 0 TPU cores\n",
      "IPU available: False, using: 0 IPUs\n",
      "HPU available: False, using: 0 HPUs\n",
      "\n",
      "  | Name             | Type             | Params\n",
      "------------------------------------------------------\n",
      "0 | criterion        | MSELoss          | 0     \n",
      "1 | train_metrics    | MetricCollection | 0     \n",
      "2 | val_metrics      | MetricCollection | 0     \n",
      "3 | encoders         | Sequential       | 19.8 K\n",
      "4 | decoders         | Sequential       | 20.6 K\n",
      "5 | temporal_decoder | _ResidualBlock   | 594   \n",
      "6 | lookback_skip    | Linear           | 13    \n",
      "------------------------------------------------------\n",
      "41.1 K    Trainable params\n",
      "0         Non-trainable params\n",
      "41.1 K    Total params\n",
      "0.164     Total estimated model params size (MB)\n"
     ]
    },
    {
     "data": {
      "text/plain": "Training: |          | 0/? [00:00<?, ?it/s]",
      "application/vnd.jupyter.widget-view+json": {
       "version_major": 2,
       "version_minor": 0,
       "model_id": "d51b2df47ce8481999d3a39eb1dcf20c"
      }
     },
     "metadata": {},
     "output_type": "display_data"
    },
    {
     "name": "stderr",
     "output_type": "stream",
     "text": [
      "`Trainer.fit` stopped: `max_epochs=100` reached.\n",
      "GPU available: False, used: False\n",
      "TPU available: False, using: 0 TPU cores\n",
      "IPU available: False, using: 0 IPUs\n",
      "HPU available: False, using: 0 HPUs\n"
     ]
    },
    {
     "name": "stdout",
     "output_type": "stream",
     "text": [
      "\u001B[33;1mTrain dataset contains 78 samples.\u001B[0m\n",
      "\u001B[33;1mTime series values are 64-bits; casting model to float64.\u001B[0m\n"
     ]
    },
    {
     "name": "stderr",
     "output_type": "stream",
     "text": [
      "GPU available: False, used: False\n",
      "TPU available: False, using: 0 TPU cores\n",
      "IPU available: False, using: 0 IPUs\n",
      "HPU available: False, using: 0 HPUs\n",
      "\n",
      "  | Name             | Type             | Params\n",
      "------------------------------------------------------\n",
      "0 | criterion        | MSELoss          | 0     \n",
      "1 | train_metrics    | MetricCollection | 0     \n",
      "2 | val_metrics      | MetricCollection | 0     \n",
      "3 | encoders         | Sequential       | 19.8 K\n",
      "4 | decoders         | Sequential       | 20.6 K\n",
      "5 | temporal_decoder | _ResidualBlock   | 594   \n",
      "6 | lookback_skip    | Linear           | 13    \n",
      "------------------------------------------------------\n",
      "41.1 K    Trainable params\n",
      "0         Non-trainable params\n",
      "41.1 K    Total params\n",
      "0.164     Total estimated model params size (MB)\n"
     ]
    },
    {
     "data": {
      "text/plain": "Training: |          | 0/? [00:00<?, ?it/s]",
      "application/vnd.jupyter.widget-view+json": {
       "version_major": 2,
       "version_minor": 0,
       "model_id": "2a97f31e4f5b42d6b36e489f1f4d8d6a"
      }
     },
     "metadata": {},
     "output_type": "display_data"
    },
    {
     "name": "stderr",
     "output_type": "stream",
     "text": [
      "`Trainer.fit` stopped: `max_epochs=100` reached.\n",
      "GPU available: False, used: False\n",
      "TPU available: False, using: 0 TPU cores\n",
      "IPU available: False, using: 0 IPUs\n",
      "HPU available: False, using: 0 HPUs\n"
     ]
    },
    {
     "name": "stdout",
     "output_type": "stream",
     "text": [
      "\u001B[33;1mTrain dataset contains 79 samples.\u001B[0m\n",
      "\u001B[33;1mTime series values are 64-bits; casting model to float64.\u001B[0m\n"
     ]
    },
    {
     "name": "stderr",
     "output_type": "stream",
     "text": [
      "GPU available: False, used: False\n",
      "TPU available: False, using: 0 TPU cores\n",
      "IPU available: False, using: 0 IPUs\n",
      "HPU available: False, using: 0 HPUs\n",
      "\n",
      "  | Name             | Type             | Params\n",
      "------------------------------------------------------\n",
      "0 | criterion        | MSELoss          | 0     \n",
      "1 | train_metrics    | MetricCollection | 0     \n",
      "2 | val_metrics      | MetricCollection | 0     \n",
      "3 | encoders         | Sequential       | 19.8 K\n",
      "4 | decoders         | Sequential       | 20.6 K\n",
      "5 | temporal_decoder | _ResidualBlock   | 594   \n",
      "6 | lookback_skip    | Linear           | 13    \n",
      "------------------------------------------------------\n",
      "41.1 K    Trainable params\n",
      "0         Non-trainable params\n",
      "41.1 K    Total params\n",
      "0.164     Total estimated model params size (MB)\n"
     ]
    },
    {
     "data": {
      "text/plain": "Training: |          | 0/? [00:00<?, ?it/s]",
      "application/vnd.jupyter.widget-view+json": {
       "version_major": 2,
       "version_minor": 0,
       "model_id": "e82fcfe878bc49adaf25423c4ee8a64a"
      }
     },
     "metadata": {},
     "output_type": "display_data"
    },
    {
     "name": "stderr",
     "output_type": "stream",
     "text": [
      "`Trainer.fit` stopped: `max_epochs=100` reached.\n",
      "GPU available: False, used: False\n",
      "TPU available: False, using: 0 TPU cores\n",
      "IPU available: False, using: 0 IPUs\n",
      "HPU available: False, using: 0 HPUs\n"
     ]
    },
    {
     "name": "stdout",
     "output_type": "stream",
     "text": [
      "\u001B[33;1mTrain dataset contains 80 samples.\u001B[0m\n",
      "\u001B[33;1mTime series values are 64-bits; casting model to float64.\u001B[0m\n"
     ]
    },
    {
     "name": "stderr",
     "output_type": "stream",
     "text": [
      "GPU available: False, used: False\n",
      "TPU available: False, using: 0 TPU cores\n",
      "IPU available: False, using: 0 IPUs\n",
      "HPU available: False, using: 0 HPUs\n",
      "\n",
      "  | Name             | Type             | Params\n",
      "------------------------------------------------------\n",
      "0 | criterion        | MSELoss          | 0     \n",
      "1 | train_metrics    | MetricCollection | 0     \n",
      "2 | val_metrics      | MetricCollection | 0     \n",
      "3 | encoders         | Sequential       | 19.8 K\n",
      "4 | decoders         | Sequential       | 20.6 K\n",
      "5 | temporal_decoder | _ResidualBlock   | 594   \n",
      "6 | lookback_skip    | Linear           | 13    \n",
      "------------------------------------------------------\n",
      "41.1 K    Trainable params\n",
      "0         Non-trainable params\n",
      "41.1 K    Total params\n",
      "0.164     Total estimated model params size (MB)\n"
     ]
    },
    {
     "data": {
      "text/plain": "Training: |          | 0/? [00:00<?, ?it/s]",
      "application/vnd.jupyter.widget-view+json": {
       "version_major": 2,
       "version_minor": 0,
       "model_id": "ff8b3f09d8024eb3a8e5df6421e067dc"
      }
     },
     "metadata": {},
     "output_type": "display_data"
    },
    {
     "name": "stderr",
     "output_type": "stream",
     "text": [
      "`Trainer.fit` stopped: `max_epochs=100` reached.\n",
      "GPU available: False, used: False\n",
      "TPU available: False, using: 0 TPU cores\n",
      "IPU available: False, using: 0 IPUs\n",
      "HPU available: False, using: 0 HPUs\n"
     ]
    },
    {
     "name": "stdout",
     "output_type": "stream",
     "text": [
      "\u001B[33;1mTrain dataset contains 81 samples.\u001B[0m\n",
      "\u001B[33;1mTime series values are 64-bits; casting model to float64.\u001B[0m\n"
     ]
    },
    {
     "name": "stderr",
     "output_type": "stream",
     "text": [
      "GPU available: False, used: False\n",
      "TPU available: False, using: 0 TPU cores\n",
      "IPU available: False, using: 0 IPUs\n",
      "HPU available: False, using: 0 HPUs\n",
      "\n",
      "  | Name             | Type             | Params\n",
      "------------------------------------------------------\n",
      "0 | criterion        | MSELoss          | 0     \n",
      "1 | train_metrics    | MetricCollection | 0     \n",
      "2 | val_metrics      | MetricCollection | 0     \n",
      "3 | encoders         | Sequential       | 19.8 K\n",
      "4 | decoders         | Sequential       | 20.6 K\n",
      "5 | temporal_decoder | _ResidualBlock   | 594   \n",
      "6 | lookback_skip    | Linear           | 13    \n",
      "------------------------------------------------------\n",
      "41.1 K    Trainable params\n",
      "0         Non-trainable params\n",
      "41.1 K    Total params\n",
      "0.164     Total estimated model params size (MB)\n"
     ]
    },
    {
     "data": {
      "text/plain": "Training: |          | 0/? [00:00<?, ?it/s]",
      "application/vnd.jupyter.widget-view+json": {
       "version_major": 2,
       "version_minor": 0,
       "model_id": "f1dd91cd6a7b4f2997e93959acc76d15"
      }
     },
     "metadata": {},
     "output_type": "display_data"
    },
    {
     "name": "stderr",
     "output_type": "stream",
     "text": [
      "`Trainer.fit` stopped: `max_epochs=100` reached.\n",
      "GPU available: False, used: False\n",
      "TPU available: False, using: 0 TPU cores\n",
      "IPU available: False, using: 0 IPUs\n",
      "HPU available: False, using: 0 HPUs\n"
     ]
    },
    {
     "name": "stdout",
     "output_type": "stream",
     "text": [
      "\u001B[33;1mTrain dataset contains 82 samples.\u001B[0m\n",
      "\u001B[33;1mTime series values are 64-bits; casting model to float64.\u001B[0m\n"
     ]
    },
    {
     "name": "stderr",
     "output_type": "stream",
     "text": [
      "GPU available: False, used: False\n",
      "TPU available: False, using: 0 TPU cores\n",
      "IPU available: False, using: 0 IPUs\n",
      "HPU available: False, using: 0 HPUs\n",
      "\n",
      "  | Name             | Type             | Params\n",
      "------------------------------------------------------\n",
      "0 | criterion        | MSELoss          | 0     \n",
      "1 | train_metrics    | MetricCollection | 0     \n",
      "2 | val_metrics      | MetricCollection | 0     \n",
      "3 | encoders         | Sequential       | 19.8 K\n",
      "4 | decoders         | Sequential       | 20.6 K\n",
      "5 | temporal_decoder | _ResidualBlock   | 594   \n",
      "6 | lookback_skip    | Linear           | 13    \n",
      "------------------------------------------------------\n",
      "41.1 K    Trainable params\n",
      "0         Non-trainable params\n",
      "41.1 K    Total params\n",
      "0.164     Total estimated model params size (MB)\n"
     ]
    },
    {
     "data": {
      "text/plain": "Training: |          | 0/? [00:00<?, ?it/s]",
      "application/vnd.jupyter.widget-view+json": {
       "version_major": 2,
       "version_minor": 0,
       "model_id": "5cf0bebb022f41aaa5252bd79d46dc37"
      }
     },
     "metadata": {},
     "output_type": "display_data"
    },
    {
     "name": "stderr",
     "output_type": "stream",
     "text": [
      "`Trainer.fit` stopped: `max_epochs=100` reached.\n",
      "GPU available: False, used: False\n",
      "TPU available: False, using: 0 TPU cores\n",
      "IPU available: False, using: 0 IPUs\n",
      "HPU available: False, using: 0 HPUs\n"
     ]
    },
    {
     "name": "stdout",
     "output_type": "stream",
     "text": [
      "\u001B[33;1mTrain dataset contains 83 samples.\u001B[0m\n",
      "\u001B[33;1mTime series values are 64-bits; casting model to float64.\u001B[0m\n"
     ]
    },
    {
     "name": "stderr",
     "output_type": "stream",
     "text": [
      "GPU available: False, used: False\n",
      "TPU available: False, using: 0 TPU cores\n",
      "IPU available: False, using: 0 IPUs\n",
      "HPU available: False, using: 0 HPUs\n",
      "\n",
      "  | Name             | Type             | Params\n",
      "------------------------------------------------------\n",
      "0 | criterion        | MSELoss          | 0     \n",
      "1 | train_metrics    | MetricCollection | 0     \n",
      "2 | val_metrics      | MetricCollection | 0     \n",
      "3 | encoders         | Sequential       | 19.8 K\n",
      "4 | decoders         | Sequential       | 20.6 K\n",
      "5 | temporal_decoder | _ResidualBlock   | 594   \n",
      "6 | lookback_skip    | Linear           | 13    \n",
      "------------------------------------------------------\n",
      "41.1 K    Trainable params\n",
      "0         Non-trainable params\n",
      "41.1 K    Total params\n",
      "0.164     Total estimated model params size (MB)\n"
     ]
    },
    {
     "data": {
      "text/plain": "Training: |          | 0/? [00:00<?, ?it/s]",
      "application/vnd.jupyter.widget-view+json": {
       "version_major": 2,
       "version_minor": 0,
       "model_id": "970c3e5a311345a4850e68800666f43f"
      }
     },
     "metadata": {},
     "output_type": "display_data"
    },
    {
     "name": "stderr",
     "output_type": "stream",
     "text": [
      "`Trainer.fit` stopped: `max_epochs=100` reached.\n",
      "GPU available: False, used: False\n",
      "TPU available: False, using: 0 TPU cores\n",
      "IPU available: False, using: 0 IPUs\n",
      "HPU available: False, using: 0 HPUs\n"
     ]
    },
    {
     "name": "stdout",
     "output_type": "stream",
     "text": [
      "\u001B[33;1mTrain dataset contains 84 samples.\u001B[0m\n",
      "\u001B[33;1mTime series values are 64-bits; casting model to float64.\u001B[0m\n"
     ]
    },
    {
     "name": "stderr",
     "output_type": "stream",
     "text": [
      "GPU available: False, used: False\n",
      "TPU available: False, using: 0 TPU cores\n",
      "IPU available: False, using: 0 IPUs\n",
      "HPU available: False, using: 0 HPUs\n",
      "\n",
      "  | Name             | Type             | Params\n",
      "------------------------------------------------------\n",
      "0 | criterion        | MSELoss          | 0     \n",
      "1 | train_metrics    | MetricCollection | 0     \n",
      "2 | val_metrics      | MetricCollection | 0     \n",
      "3 | encoders         | Sequential       | 19.8 K\n",
      "4 | decoders         | Sequential       | 20.6 K\n",
      "5 | temporal_decoder | _ResidualBlock   | 594   \n",
      "6 | lookback_skip    | Linear           | 13    \n",
      "------------------------------------------------------\n",
      "41.1 K    Trainable params\n",
      "0         Non-trainable params\n",
      "41.1 K    Total params\n",
      "0.164     Total estimated model params size (MB)\n"
     ]
    },
    {
     "data": {
      "text/plain": "Training: |          | 0/? [00:00<?, ?it/s]",
      "application/vnd.jupyter.widget-view+json": {
       "version_major": 2,
       "version_minor": 0,
       "model_id": "769e2561488b483c86ab506100e05828"
      }
     },
     "metadata": {},
     "output_type": "display_data"
    },
    {
     "name": "stderr",
     "output_type": "stream",
     "text": [
      "`Trainer.fit` stopped: `max_epochs=100` reached.\n",
      "GPU available: False, used: False\n",
      "TPU available: False, using: 0 TPU cores\n",
      "IPU available: False, using: 0 IPUs\n",
      "HPU available: False, using: 0 HPUs\n"
     ]
    },
    {
     "name": "stdout",
     "output_type": "stream",
     "text": [
      "\u001B[33;1mTrain dataset contains 85 samples.\u001B[0m\n",
      "\u001B[33;1mTime series values are 64-bits; casting model to float64.\u001B[0m\n"
     ]
    },
    {
     "name": "stderr",
     "output_type": "stream",
     "text": [
      "GPU available: False, used: False\n",
      "TPU available: False, using: 0 TPU cores\n",
      "IPU available: False, using: 0 IPUs\n",
      "HPU available: False, using: 0 HPUs\n",
      "\n",
      "  | Name             | Type             | Params\n",
      "------------------------------------------------------\n",
      "0 | criterion        | MSELoss          | 0     \n",
      "1 | train_metrics    | MetricCollection | 0     \n",
      "2 | val_metrics      | MetricCollection | 0     \n",
      "3 | encoders         | Sequential       | 19.8 K\n",
      "4 | decoders         | Sequential       | 20.6 K\n",
      "5 | temporal_decoder | _ResidualBlock   | 594   \n",
      "6 | lookback_skip    | Linear           | 13    \n",
      "------------------------------------------------------\n",
      "41.1 K    Trainable params\n",
      "0         Non-trainable params\n",
      "41.1 K    Total params\n",
      "0.164     Total estimated model params size (MB)\n"
     ]
    },
    {
     "data": {
      "text/plain": "Training: |          | 0/? [00:00<?, ?it/s]",
      "application/vnd.jupyter.widget-view+json": {
       "version_major": 2,
       "version_minor": 0,
       "model_id": "69eadfe5258746a788b088a1d5af4491"
      }
     },
     "metadata": {},
     "output_type": "display_data"
    },
    {
     "name": "stderr",
     "output_type": "stream",
     "text": [
      "`Trainer.fit` stopped: `max_epochs=100` reached.\n",
      "GPU available: False, used: False\n",
      "TPU available: False, using: 0 TPU cores\n",
      "IPU available: False, using: 0 IPUs\n",
      "HPU available: False, using: 0 HPUs\n"
     ]
    },
    {
     "name": "stdout",
     "output_type": "stream",
     "text": [
      "\u001B[33;1mTrain dataset contains 86 samples.\u001B[0m\n",
      "\u001B[33;1mTime series values are 64-bits; casting model to float64.\u001B[0m\n"
     ]
    },
    {
     "name": "stderr",
     "output_type": "stream",
     "text": [
      "GPU available: False, used: False\n",
      "TPU available: False, using: 0 TPU cores\n",
      "IPU available: False, using: 0 IPUs\n",
      "HPU available: False, using: 0 HPUs\n",
      "\n",
      "  | Name             | Type             | Params\n",
      "------------------------------------------------------\n",
      "0 | criterion        | MSELoss          | 0     \n",
      "1 | train_metrics    | MetricCollection | 0     \n",
      "2 | val_metrics      | MetricCollection | 0     \n",
      "3 | encoders         | Sequential       | 19.8 K\n",
      "4 | decoders         | Sequential       | 20.6 K\n",
      "5 | temporal_decoder | _ResidualBlock   | 594   \n",
      "6 | lookback_skip    | Linear           | 13    \n",
      "------------------------------------------------------\n",
      "41.1 K    Trainable params\n",
      "0         Non-trainable params\n",
      "41.1 K    Total params\n",
      "0.164     Total estimated model params size (MB)\n"
     ]
    },
    {
     "data": {
      "text/plain": "Training: |          | 0/? [00:00<?, ?it/s]",
      "application/vnd.jupyter.widget-view+json": {
       "version_major": 2,
       "version_minor": 0,
       "model_id": "2eb5a886a81c4402af20b7c53a3ecb78"
      }
     },
     "metadata": {},
     "output_type": "display_data"
    },
    {
     "name": "stderr",
     "output_type": "stream",
     "text": [
      "`Trainer.fit` stopped: `max_epochs=100` reached.\n",
      "GPU available: False, used: False\n",
      "TPU available: False, using: 0 TPU cores\n",
      "IPU available: False, using: 0 IPUs\n",
      "HPU available: False, using: 0 HPUs\n"
     ]
    },
    {
     "name": "stdout",
     "output_type": "stream",
     "text": [
      "\u001B[33;1mTrain dataset contains 87 samples.\u001B[0m\n",
      "\u001B[33;1mTime series values are 64-bits; casting model to float64.\u001B[0m\n"
     ]
    },
    {
     "name": "stderr",
     "output_type": "stream",
     "text": [
      "GPU available: False, used: False\n",
      "TPU available: False, using: 0 TPU cores\n",
      "IPU available: False, using: 0 IPUs\n",
      "HPU available: False, using: 0 HPUs\n",
      "\n",
      "  | Name             | Type             | Params\n",
      "------------------------------------------------------\n",
      "0 | criterion        | MSELoss          | 0     \n",
      "1 | train_metrics    | MetricCollection | 0     \n",
      "2 | val_metrics      | MetricCollection | 0     \n",
      "3 | encoders         | Sequential       | 19.8 K\n",
      "4 | decoders         | Sequential       | 20.6 K\n",
      "5 | temporal_decoder | _ResidualBlock   | 594   \n",
      "6 | lookback_skip    | Linear           | 13    \n",
      "------------------------------------------------------\n",
      "41.1 K    Trainable params\n",
      "0         Non-trainable params\n",
      "41.1 K    Total params\n",
      "0.164     Total estimated model params size (MB)\n"
     ]
    },
    {
     "data": {
      "text/plain": "Training: |          | 0/? [00:00<?, ?it/s]",
      "application/vnd.jupyter.widget-view+json": {
       "version_major": 2,
       "version_minor": 0,
       "model_id": "6f12c19d90d743ed997b3d5fd942d7cc"
      }
     },
     "metadata": {},
     "output_type": "display_data"
    },
    {
     "name": "stderr",
     "output_type": "stream",
     "text": [
      "`Trainer.fit` stopped: `max_epochs=100` reached.\n",
      "GPU available: False, used: False\n",
      "TPU available: False, using: 0 TPU cores\n",
      "IPU available: False, using: 0 IPUs\n",
      "HPU available: False, using: 0 HPUs\n"
     ]
    },
    {
     "name": "stdout",
     "output_type": "stream",
     "text": [
      "\u001B[33;1mTrain dataset contains 88 samples.\u001B[0m\n",
      "\u001B[33;1mTime series values are 64-bits; casting model to float64.\u001B[0m\n"
     ]
    },
    {
     "name": "stderr",
     "output_type": "stream",
     "text": [
      "GPU available: False, used: False\n",
      "TPU available: False, using: 0 TPU cores\n",
      "IPU available: False, using: 0 IPUs\n",
      "HPU available: False, using: 0 HPUs\n",
      "\n",
      "  | Name             | Type             | Params\n",
      "------------------------------------------------------\n",
      "0 | criterion        | MSELoss          | 0     \n",
      "1 | train_metrics    | MetricCollection | 0     \n",
      "2 | val_metrics      | MetricCollection | 0     \n",
      "3 | encoders         | Sequential       | 19.8 K\n",
      "4 | decoders         | Sequential       | 20.6 K\n",
      "5 | temporal_decoder | _ResidualBlock   | 594   \n",
      "6 | lookback_skip    | Linear           | 13    \n",
      "------------------------------------------------------\n",
      "41.1 K    Trainable params\n",
      "0         Non-trainable params\n",
      "41.1 K    Total params\n",
      "0.164     Total estimated model params size (MB)\n"
     ]
    },
    {
     "data": {
      "text/plain": "Training: |          | 0/? [00:00<?, ?it/s]",
      "application/vnd.jupyter.widget-view+json": {
       "version_major": 2,
       "version_minor": 0,
       "model_id": "d8880130488a47e6a7ac990cd193aea7"
      }
     },
     "metadata": {},
     "output_type": "display_data"
    },
    {
     "name": "stderr",
     "output_type": "stream",
     "text": [
      "`Trainer.fit` stopped: `max_epochs=100` reached.\n",
      "GPU available: False, used: False\n",
      "TPU available: False, using: 0 TPU cores\n",
      "IPU available: False, using: 0 IPUs\n",
      "HPU available: False, using: 0 HPUs\n"
     ]
    },
    {
     "name": "stdout",
     "output_type": "stream",
     "text": [
      "\u001B[33;1mTrain dataset contains 89 samples.\u001B[0m\n",
      "\u001B[33;1mTime series values are 64-bits; casting model to float64.\u001B[0m\n"
     ]
    },
    {
     "name": "stderr",
     "output_type": "stream",
     "text": [
      "GPU available: False, used: False\n",
      "TPU available: False, using: 0 TPU cores\n",
      "IPU available: False, using: 0 IPUs\n",
      "HPU available: False, using: 0 HPUs\n",
      "\n",
      "  | Name             | Type             | Params\n",
      "------------------------------------------------------\n",
      "0 | criterion        | MSELoss          | 0     \n",
      "1 | train_metrics    | MetricCollection | 0     \n",
      "2 | val_metrics      | MetricCollection | 0     \n",
      "3 | encoders         | Sequential       | 19.8 K\n",
      "4 | decoders         | Sequential       | 20.6 K\n",
      "5 | temporal_decoder | _ResidualBlock   | 594   \n",
      "6 | lookback_skip    | Linear           | 13    \n",
      "------------------------------------------------------\n",
      "41.1 K    Trainable params\n",
      "0         Non-trainable params\n",
      "41.1 K    Total params\n",
      "0.164     Total estimated model params size (MB)\n"
     ]
    },
    {
     "data": {
      "text/plain": "Training: |          | 0/? [00:00<?, ?it/s]",
      "application/vnd.jupyter.widget-view+json": {
       "version_major": 2,
       "version_minor": 0,
       "model_id": "2b011eacaa13407f87d1781ccf71a9cb"
      }
     },
     "metadata": {},
     "output_type": "display_data"
    },
    {
     "name": "stderr",
     "output_type": "stream",
     "text": [
      "`Trainer.fit` stopped: `max_epochs=100` reached.\n",
      "GPU available: False, used: False\n",
      "TPU available: False, using: 0 TPU cores\n",
      "IPU available: False, using: 0 IPUs\n",
      "HPU available: False, using: 0 HPUs\n"
     ]
    },
    {
     "name": "stdout",
     "output_type": "stream",
     "text": [
      "\u001B[33;1mTrain dataset contains 90 samples.\u001B[0m\n",
      "\u001B[33;1mTime series values are 64-bits; casting model to float64.\u001B[0m\n"
     ]
    },
    {
     "name": "stderr",
     "output_type": "stream",
     "text": [
      "GPU available: False, used: False\n",
      "TPU available: False, using: 0 TPU cores\n",
      "IPU available: False, using: 0 IPUs\n",
      "HPU available: False, using: 0 HPUs\n",
      "\n",
      "  | Name             | Type             | Params\n",
      "------------------------------------------------------\n",
      "0 | criterion        | MSELoss          | 0     \n",
      "1 | train_metrics    | MetricCollection | 0     \n",
      "2 | val_metrics      | MetricCollection | 0     \n",
      "3 | encoders         | Sequential       | 19.8 K\n",
      "4 | decoders         | Sequential       | 20.6 K\n",
      "5 | temporal_decoder | _ResidualBlock   | 594   \n",
      "6 | lookback_skip    | Linear           | 13    \n",
      "------------------------------------------------------\n",
      "41.1 K    Trainable params\n",
      "0         Non-trainable params\n",
      "41.1 K    Total params\n",
      "0.164     Total estimated model params size (MB)\n"
     ]
    },
    {
     "data": {
      "text/plain": "Training: |          | 0/? [00:00<?, ?it/s]",
      "application/vnd.jupyter.widget-view+json": {
       "version_major": 2,
       "version_minor": 0,
       "model_id": "e1bdea97827f4dbbb419cb0721fe58f9"
      }
     },
     "metadata": {},
     "output_type": "display_data"
    },
    {
     "name": "stderr",
     "output_type": "stream",
     "text": [
      "`Trainer.fit` stopped: `max_epochs=100` reached.\n",
      "GPU available: False, used: False\n",
      "TPU available: False, using: 0 TPU cores\n",
      "IPU available: False, using: 0 IPUs\n",
      "HPU available: False, using: 0 HPUs\n"
     ]
    },
    {
     "name": "stdout",
     "output_type": "stream",
     "text": [
      "\u001B[33;1mTrain dataset contains 91 samples.\u001B[0m\n",
      "\u001B[33;1mTime series values are 64-bits; casting model to float64.\u001B[0m\n"
     ]
    },
    {
     "name": "stderr",
     "output_type": "stream",
     "text": [
      "GPU available: False, used: False\n",
      "TPU available: False, using: 0 TPU cores\n",
      "IPU available: False, using: 0 IPUs\n",
      "HPU available: False, using: 0 HPUs\n",
      "\n",
      "  | Name             | Type             | Params\n",
      "------------------------------------------------------\n",
      "0 | criterion        | MSELoss          | 0     \n",
      "1 | train_metrics    | MetricCollection | 0     \n",
      "2 | val_metrics      | MetricCollection | 0     \n",
      "3 | encoders         | Sequential       | 19.8 K\n",
      "4 | decoders         | Sequential       | 20.6 K\n",
      "5 | temporal_decoder | _ResidualBlock   | 594   \n",
      "6 | lookback_skip    | Linear           | 13    \n",
      "------------------------------------------------------\n",
      "41.1 K    Trainable params\n",
      "0         Non-trainable params\n",
      "41.1 K    Total params\n",
      "0.164     Total estimated model params size (MB)\n"
     ]
    },
    {
     "data": {
      "text/plain": "Training: |          | 0/? [00:00<?, ?it/s]",
      "application/vnd.jupyter.widget-view+json": {
       "version_major": 2,
       "version_minor": 0,
       "model_id": "66d2bfc2b8f64656a803024991370490"
      }
     },
     "metadata": {},
     "output_type": "display_data"
    },
    {
     "name": "stderr",
     "output_type": "stream",
     "text": [
      "`Trainer.fit` stopped: `max_epochs=100` reached.\n",
      "GPU available: False, used: False\n",
      "TPU available: False, using: 0 TPU cores\n",
      "IPU available: False, using: 0 IPUs\n",
      "HPU available: False, using: 0 HPUs\n"
     ]
    },
    {
     "name": "stdout",
     "output_type": "stream",
     "text": [
      "\u001B[33;1mTrain dataset contains 92 samples.\u001B[0m\n",
      "\u001B[33;1mTime series values are 64-bits; casting model to float64.\u001B[0m\n"
     ]
    },
    {
     "name": "stderr",
     "output_type": "stream",
     "text": [
      "GPU available: False, used: False\n",
      "TPU available: False, using: 0 TPU cores\n",
      "IPU available: False, using: 0 IPUs\n",
      "HPU available: False, using: 0 HPUs\n",
      "\n",
      "  | Name             | Type             | Params\n",
      "------------------------------------------------------\n",
      "0 | criterion        | MSELoss          | 0     \n",
      "1 | train_metrics    | MetricCollection | 0     \n",
      "2 | val_metrics      | MetricCollection | 0     \n",
      "3 | encoders         | Sequential       | 19.8 K\n",
      "4 | decoders         | Sequential       | 20.6 K\n",
      "5 | temporal_decoder | _ResidualBlock   | 594   \n",
      "6 | lookback_skip    | Linear           | 13    \n",
      "------------------------------------------------------\n",
      "41.1 K    Trainable params\n",
      "0         Non-trainable params\n",
      "41.1 K    Total params\n",
      "0.164     Total estimated model params size (MB)\n"
     ]
    },
    {
     "data": {
      "text/plain": "Training: |          | 0/? [00:00<?, ?it/s]",
      "application/vnd.jupyter.widget-view+json": {
       "version_major": 2,
       "version_minor": 0,
       "model_id": "8e531597a8ed4fd2a3b3c22d2ee40864"
      }
     },
     "metadata": {},
     "output_type": "display_data"
    },
    {
     "name": "stderr",
     "output_type": "stream",
     "text": [
      "`Trainer.fit` stopped: `max_epochs=100` reached.\n",
      "GPU available: False, used: False\n",
      "TPU available: False, using: 0 TPU cores\n",
      "IPU available: False, using: 0 IPUs\n",
      "HPU available: False, using: 0 HPUs\n"
     ]
    },
    {
     "name": "stdout",
     "output_type": "stream",
     "text": [
      "\u001B[33;1mTrain dataset contains 93 samples.\u001B[0m\n",
      "\u001B[33;1mTime series values are 64-bits; casting model to float64.\u001B[0m\n"
     ]
    },
    {
     "name": "stderr",
     "output_type": "stream",
     "text": [
      "GPU available: False, used: False\n",
      "TPU available: False, using: 0 TPU cores\n",
      "IPU available: False, using: 0 IPUs\n",
      "HPU available: False, using: 0 HPUs\n",
      "\n",
      "  | Name             | Type             | Params\n",
      "------------------------------------------------------\n",
      "0 | criterion        | MSELoss          | 0     \n",
      "1 | train_metrics    | MetricCollection | 0     \n",
      "2 | val_metrics      | MetricCollection | 0     \n",
      "3 | encoders         | Sequential       | 19.8 K\n",
      "4 | decoders         | Sequential       | 20.6 K\n",
      "5 | temporal_decoder | _ResidualBlock   | 594   \n",
      "6 | lookback_skip    | Linear           | 13    \n",
      "------------------------------------------------------\n",
      "41.1 K    Trainable params\n",
      "0         Non-trainable params\n",
      "41.1 K    Total params\n",
      "0.164     Total estimated model params size (MB)\n"
     ]
    },
    {
     "data": {
      "text/plain": "Training: |          | 0/? [00:00<?, ?it/s]",
      "application/vnd.jupyter.widget-view+json": {
       "version_major": 2,
       "version_minor": 0,
       "model_id": "c1e3160f76f149b38f9d107e6ecc3ecb"
      }
     },
     "metadata": {},
     "output_type": "display_data"
    },
    {
     "name": "stderr",
     "output_type": "stream",
     "text": [
      "`Trainer.fit` stopped: `max_epochs=100` reached.\n",
      "GPU available: False, used: False\n",
      "TPU available: False, using: 0 TPU cores\n",
      "IPU available: False, using: 0 IPUs\n",
      "HPU available: False, using: 0 HPUs\n"
     ]
    },
    {
     "name": "stdout",
     "output_type": "stream",
     "text": [
      "\u001B[33;1mTrain dataset contains 94 samples.\u001B[0m\n",
      "\u001B[33;1mTime series values are 64-bits; casting model to float64.\u001B[0m\n"
     ]
    },
    {
     "name": "stderr",
     "output_type": "stream",
     "text": [
      "GPU available: False, used: False\n",
      "TPU available: False, using: 0 TPU cores\n",
      "IPU available: False, using: 0 IPUs\n",
      "HPU available: False, using: 0 HPUs\n",
      "\n",
      "  | Name             | Type             | Params\n",
      "------------------------------------------------------\n",
      "0 | criterion        | MSELoss          | 0     \n",
      "1 | train_metrics    | MetricCollection | 0     \n",
      "2 | val_metrics      | MetricCollection | 0     \n",
      "3 | encoders         | Sequential       | 19.8 K\n",
      "4 | decoders         | Sequential       | 20.6 K\n",
      "5 | temporal_decoder | _ResidualBlock   | 594   \n",
      "6 | lookback_skip    | Linear           | 13    \n",
      "------------------------------------------------------\n",
      "41.1 K    Trainable params\n",
      "0         Non-trainable params\n",
      "41.1 K    Total params\n",
      "0.164     Total estimated model params size (MB)\n"
     ]
    },
    {
     "data": {
      "text/plain": "Training: |          | 0/? [00:00<?, ?it/s]",
      "application/vnd.jupyter.widget-view+json": {
       "version_major": 2,
       "version_minor": 0,
       "model_id": "ed4759afcbff40c78729c42f030089e4"
      }
     },
     "metadata": {},
     "output_type": "display_data"
    },
    {
     "name": "stderr",
     "output_type": "stream",
     "text": [
      "`Trainer.fit` stopped: `max_epochs=100` reached.\n",
      "GPU available: False, used: False\n",
      "TPU available: False, using: 0 TPU cores\n",
      "IPU available: False, using: 0 IPUs\n",
      "HPU available: False, using: 0 HPUs\n"
     ]
    },
    {
     "name": "stdout",
     "output_type": "stream",
     "text": [
      "\u001B[33;1mTrain dataset contains 95 samples.\u001B[0m\n",
      "\u001B[33;1mTime series values are 64-bits; casting model to float64.\u001B[0m\n"
     ]
    },
    {
     "name": "stderr",
     "output_type": "stream",
     "text": [
      "GPU available: False, used: False\n",
      "TPU available: False, using: 0 TPU cores\n",
      "IPU available: False, using: 0 IPUs\n",
      "HPU available: False, using: 0 HPUs\n",
      "\n",
      "  | Name             | Type             | Params\n",
      "------------------------------------------------------\n",
      "0 | criterion        | MSELoss          | 0     \n",
      "1 | train_metrics    | MetricCollection | 0     \n",
      "2 | val_metrics      | MetricCollection | 0     \n",
      "3 | encoders         | Sequential       | 19.8 K\n",
      "4 | decoders         | Sequential       | 20.6 K\n",
      "5 | temporal_decoder | _ResidualBlock   | 594   \n",
      "6 | lookback_skip    | Linear           | 13    \n",
      "------------------------------------------------------\n",
      "41.1 K    Trainable params\n",
      "0         Non-trainable params\n",
      "41.1 K    Total params\n",
      "0.164     Total estimated model params size (MB)\n"
     ]
    },
    {
     "data": {
      "text/plain": "Training: |          | 0/? [00:00<?, ?it/s]",
      "application/vnd.jupyter.widget-view+json": {
       "version_major": 2,
       "version_minor": 0,
       "model_id": "371d763bf5b94e22864ffbe1f2ffef26"
      }
     },
     "metadata": {},
     "output_type": "display_data"
    },
    {
     "name": "stderr",
     "output_type": "stream",
     "text": [
      "`Trainer.fit` stopped: `max_epochs=100` reached.\n",
      "GPU available: False, used: False\n",
      "TPU available: False, using: 0 TPU cores\n",
      "IPU available: False, using: 0 IPUs\n",
      "HPU available: False, using: 0 HPUs\n"
     ]
    },
    {
     "name": "stdout",
     "output_type": "stream",
     "text": [
      "\u001B[33;1mTrain dataset contains 96 samples.\u001B[0m\n",
      "\u001B[33;1mTime series values are 64-bits; casting model to float64.\u001B[0m\n"
     ]
    },
    {
     "name": "stderr",
     "output_type": "stream",
     "text": [
      "GPU available: False, used: False\n",
      "TPU available: False, using: 0 TPU cores\n",
      "IPU available: False, using: 0 IPUs\n",
      "HPU available: False, using: 0 HPUs\n",
      "\n",
      "  | Name             | Type             | Params\n",
      "------------------------------------------------------\n",
      "0 | criterion        | MSELoss          | 0     \n",
      "1 | train_metrics    | MetricCollection | 0     \n",
      "2 | val_metrics      | MetricCollection | 0     \n",
      "3 | encoders         | Sequential       | 19.8 K\n",
      "4 | decoders         | Sequential       | 20.6 K\n",
      "5 | temporal_decoder | _ResidualBlock   | 594   \n",
      "6 | lookback_skip    | Linear           | 13    \n",
      "------------------------------------------------------\n",
      "41.1 K    Trainable params\n",
      "0         Non-trainable params\n",
      "41.1 K    Total params\n",
      "0.164     Total estimated model params size (MB)\n"
     ]
    },
    {
     "data": {
      "text/plain": "Training: |          | 0/? [00:00<?, ?it/s]",
      "application/vnd.jupyter.widget-view+json": {
       "version_major": 2,
       "version_minor": 0,
       "model_id": "e6a6b2b30e044f649d08c28ef6ba5f1c"
      }
     },
     "metadata": {},
     "output_type": "display_data"
    },
    {
     "name": "stderr",
     "output_type": "stream",
     "text": [
      "`Trainer.fit` stopped: `max_epochs=100` reached.\n",
      "GPU available: False, used: False\n",
      "TPU available: False, using: 0 TPU cores\n",
      "IPU available: False, using: 0 IPUs\n",
      "HPU available: False, using: 0 HPUs\n"
     ]
    },
    {
     "name": "stdout",
     "output_type": "stream",
     "text": [
      "\u001B[33;1mTrain dataset contains 97 samples.\u001B[0m\n",
      "\u001B[33;1mTime series values are 64-bits; casting model to float64.\u001B[0m\n"
     ]
    },
    {
     "name": "stderr",
     "output_type": "stream",
     "text": [
      "GPU available: False, used: False\n",
      "TPU available: False, using: 0 TPU cores\n",
      "IPU available: False, using: 0 IPUs\n",
      "HPU available: False, using: 0 HPUs\n",
      "\n",
      "  | Name             | Type             | Params\n",
      "------------------------------------------------------\n",
      "0 | criterion        | MSELoss          | 0     \n",
      "1 | train_metrics    | MetricCollection | 0     \n",
      "2 | val_metrics      | MetricCollection | 0     \n",
      "3 | encoders         | Sequential       | 19.8 K\n",
      "4 | decoders         | Sequential       | 20.6 K\n",
      "5 | temporal_decoder | _ResidualBlock   | 594   \n",
      "6 | lookback_skip    | Linear           | 13    \n",
      "------------------------------------------------------\n",
      "41.1 K    Trainable params\n",
      "0         Non-trainable params\n",
      "41.1 K    Total params\n",
      "0.164     Total estimated model params size (MB)\n"
     ]
    },
    {
     "data": {
      "text/plain": "Training: |          | 0/? [00:00<?, ?it/s]",
      "application/vnd.jupyter.widget-view+json": {
       "version_major": 2,
       "version_minor": 0,
       "model_id": "b125ce9a53294c4b87ae27899d87a749"
      }
     },
     "metadata": {},
     "output_type": "display_data"
    },
    {
     "name": "stderr",
     "output_type": "stream",
     "text": [
      "`Trainer.fit` stopped: `max_epochs=100` reached.\n",
      "GPU available: False, used: False\n",
      "TPU available: False, using: 0 TPU cores\n",
      "IPU available: False, using: 0 IPUs\n",
      "HPU available: False, using: 0 HPUs\n"
     ]
    },
    {
     "name": "stdout",
     "output_type": "stream",
     "text": [
      "\u001B[33;1mTrain dataset contains 98 samples.\u001B[0m\n",
      "\u001B[33;1mTime series values are 64-bits; casting model to float64.\u001B[0m\n"
     ]
    },
    {
     "name": "stderr",
     "output_type": "stream",
     "text": [
      "GPU available: False, used: False\n",
      "TPU available: False, using: 0 TPU cores\n",
      "IPU available: False, using: 0 IPUs\n",
      "HPU available: False, using: 0 HPUs\n",
      "\n",
      "  | Name             | Type             | Params\n",
      "------------------------------------------------------\n",
      "0 | criterion        | MSELoss          | 0     \n",
      "1 | train_metrics    | MetricCollection | 0     \n",
      "2 | val_metrics      | MetricCollection | 0     \n",
      "3 | encoders         | Sequential       | 19.8 K\n",
      "4 | decoders         | Sequential       | 20.6 K\n",
      "5 | temporal_decoder | _ResidualBlock   | 594   \n",
      "6 | lookback_skip    | Linear           | 13    \n",
      "------------------------------------------------------\n",
      "41.1 K    Trainable params\n",
      "0         Non-trainable params\n",
      "41.1 K    Total params\n",
      "0.164     Total estimated model params size (MB)\n"
     ]
    },
    {
     "data": {
      "text/plain": "Training: |          | 0/? [00:00<?, ?it/s]",
      "application/vnd.jupyter.widget-view+json": {
       "version_major": 2,
       "version_minor": 0,
       "model_id": "a98a5accc6704e4c80dd01cfc6d90f93"
      }
     },
     "metadata": {},
     "output_type": "display_data"
    },
    {
     "name": "stderr",
     "output_type": "stream",
     "text": [
      "`Trainer.fit` stopped: `max_epochs=100` reached.\n",
      "GPU available: False, used: False\n",
      "TPU available: False, using: 0 TPU cores\n",
      "IPU available: False, using: 0 IPUs\n",
      "HPU available: False, using: 0 HPUs\n"
     ]
    },
    {
     "name": "stdout",
     "output_type": "stream",
     "text": [
      "\u001B[33;1mTrain dataset contains 99 samples.\u001B[0m\n",
      "\u001B[33;1mTime series values are 64-bits; casting model to float64.\u001B[0m\n"
     ]
    },
    {
     "name": "stderr",
     "output_type": "stream",
     "text": [
      "GPU available: False, used: False\n",
      "TPU available: False, using: 0 TPU cores\n",
      "IPU available: False, using: 0 IPUs\n",
      "HPU available: False, using: 0 HPUs\n",
      "\n",
      "  | Name             | Type             | Params\n",
      "------------------------------------------------------\n",
      "0 | criterion        | MSELoss          | 0     \n",
      "1 | train_metrics    | MetricCollection | 0     \n",
      "2 | val_metrics      | MetricCollection | 0     \n",
      "3 | encoders         | Sequential       | 19.8 K\n",
      "4 | decoders         | Sequential       | 20.6 K\n",
      "5 | temporal_decoder | _ResidualBlock   | 594   \n",
      "6 | lookback_skip    | Linear           | 13    \n",
      "------------------------------------------------------\n",
      "41.1 K    Trainable params\n",
      "0         Non-trainable params\n",
      "41.1 K    Total params\n",
      "0.164     Total estimated model params size (MB)\n"
     ]
    },
    {
     "data": {
      "text/plain": "Training: |          | 0/? [00:00<?, ?it/s]",
      "application/vnd.jupyter.widget-view+json": {
       "version_major": 2,
       "version_minor": 0,
       "model_id": "988bedaf47fc4c66b4a511a4ebf0d25d"
      }
     },
     "metadata": {},
     "output_type": "display_data"
    },
    {
     "name": "stderr",
     "output_type": "stream",
     "text": [
      "`Trainer.fit` stopped: `max_epochs=100` reached.\n",
      "GPU available: False, used: False\n",
      "TPU available: False, using: 0 TPU cores\n",
      "IPU available: False, using: 0 IPUs\n",
      "HPU available: False, using: 0 HPUs\n"
     ]
    },
    {
     "name": "stdout",
     "output_type": "stream",
     "text": [
      "\u001B[33;1mTrain dataset contains 100 samples.\u001B[0m\n",
      "\u001B[33;1mTime series values are 64-bits; casting model to float64.\u001B[0m\n"
     ]
    },
    {
     "name": "stderr",
     "output_type": "stream",
     "text": [
      "GPU available: False, used: False\n",
      "TPU available: False, using: 0 TPU cores\n",
      "IPU available: False, using: 0 IPUs\n",
      "HPU available: False, using: 0 HPUs\n",
      "\n",
      "  | Name             | Type             | Params\n",
      "------------------------------------------------------\n",
      "0 | criterion        | MSELoss          | 0     \n",
      "1 | train_metrics    | MetricCollection | 0     \n",
      "2 | val_metrics      | MetricCollection | 0     \n",
      "3 | encoders         | Sequential       | 19.8 K\n",
      "4 | decoders         | Sequential       | 20.6 K\n",
      "5 | temporal_decoder | _ResidualBlock   | 594   \n",
      "6 | lookback_skip    | Linear           | 13    \n",
      "------------------------------------------------------\n",
      "41.1 K    Trainable params\n",
      "0         Non-trainable params\n",
      "41.1 K    Total params\n",
      "0.164     Total estimated model params size (MB)\n"
     ]
    },
    {
     "data": {
      "text/plain": "Training: |          | 0/? [00:00<?, ?it/s]",
      "application/vnd.jupyter.widget-view+json": {
       "version_major": 2,
       "version_minor": 0,
       "model_id": "bb1b13a3bd4142af9a6c44eb501d521f"
      }
     },
     "metadata": {},
     "output_type": "display_data"
    },
    {
     "name": "stderr",
     "output_type": "stream",
     "text": [
      "`Trainer.fit` stopped: `max_epochs=100` reached.\n",
      "GPU available: False, used: False\n",
      "TPU available: False, using: 0 TPU cores\n",
      "IPU available: False, using: 0 IPUs\n",
      "HPU available: False, using: 0 HPUs\n"
     ]
    },
    {
     "name": "stdout",
     "output_type": "stream",
     "text": [
      "\u001B[33;1mTrain dataset contains 101 samples.\u001B[0m\n",
      "\u001B[33;1mTime series values are 64-bits; casting model to float64.\u001B[0m\n"
     ]
    },
    {
     "name": "stderr",
     "output_type": "stream",
     "text": [
      "GPU available: False, used: False\n",
      "TPU available: False, using: 0 TPU cores\n",
      "IPU available: False, using: 0 IPUs\n",
      "HPU available: False, using: 0 HPUs\n",
      "\n",
      "  | Name             | Type             | Params\n",
      "------------------------------------------------------\n",
      "0 | criterion        | MSELoss          | 0     \n",
      "1 | train_metrics    | MetricCollection | 0     \n",
      "2 | val_metrics      | MetricCollection | 0     \n",
      "3 | encoders         | Sequential       | 19.8 K\n",
      "4 | decoders         | Sequential       | 20.6 K\n",
      "5 | temporal_decoder | _ResidualBlock   | 594   \n",
      "6 | lookback_skip    | Linear           | 13    \n",
      "------------------------------------------------------\n",
      "41.1 K    Trainable params\n",
      "0         Non-trainable params\n",
      "41.1 K    Total params\n",
      "0.164     Total estimated model params size (MB)\n"
     ]
    },
    {
     "data": {
      "text/plain": "Training: |          | 0/? [00:00<?, ?it/s]",
      "application/vnd.jupyter.widget-view+json": {
       "version_major": 2,
       "version_minor": 0,
       "model_id": "fb8bb7a6c22c4744aa77150b3c7bb548"
      }
     },
     "metadata": {},
     "output_type": "display_data"
    },
    {
     "name": "stderr",
     "output_type": "stream",
     "text": [
      "`Trainer.fit` stopped: `max_epochs=100` reached.\n",
      "GPU available: False, used: False\n",
      "TPU available: False, using: 0 TPU cores\n",
      "IPU available: False, using: 0 IPUs\n",
      "HPU available: False, using: 0 HPUs\n"
     ]
    },
    {
     "name": "stdout",
     "output_type": "stream",
     "text": [
      "\u001B[33;1mTrain dataset contains 102 samples.\u001B[0m\n",
      "\u001B[33;1mTime series values are 64-bits; casting model to float64.\u001B[0m\n"
     ]
    },
    {
     "name": "stderr",
     "output_type": "stream",
     "text": [
      "GPU available: False, used: False\n",
      "TPU available: False, using: 0 TPU cores\n",
      "IPU available: False, using: 0 IPUs\n",
      "HPU available: False, using: 0 HPUs\n",
      "\n",
      "  | Name             | Type             | Params\n",
      "------------------------------------------------------\n",
      "0 | criterion        | MSELoss          | 0     \n",
      "1 | train_metrics    | MetricCollection | 0     \n",
      "2 | val_metrics      | MetricCollection | 0     \n",
      "3 | encoders         | Sequential       | 19.8 K\n",
      "4 | decoders         | Sequential       | 20.6 K\n",
      "5 | temporal_decoder | _ResidualBlock   | 594   \n",
      "6 | lookback_skip    | Linear           | 13    \n",
      "------------------------------------------------------\n",
      "41.1 K    Trainable params\n",
      "0         Non-trainable params\n",
      "41.1 K    Total params\n",
      "0.164     Total estimated model params size (MB)\n"
     ]
    },
    {
     "data": {
      "text/plain": "Training: |          | 0/? [00:00<?, ?it/s]",
      "application/vnd.jupyter.widget-view+json": {
       "version_major": 2,
       "version_minor": 0,
       "model_id": "e5168a938a694ea4ac51871aca01c91a"
      }
     },
     "metadata": {},
     "output_type": "display_data"
    },
    {
     "name": "stderr",
     "output_type": "stream",
     "text": [
      "`Trainer.fit` stopped: `max_epochs=100` reached.\n",
      "GPU available: False, used: False\n",
      "TPU available: False, using: 0 TPU cores\n",
      "IPU available: False, using: 0 IPUs\n",
      "HPU available: False, using: 0 HPUs\n"
     ]
    },
    {
     "name": "stdout",
     "output_type": "stream",
     "text": [
      "\u001B[33;1mTrain dataset contains 103 samples.\u001B[0m\n",
      "\u001B[33;1mTime series values are 64-bits; casting model to float64.\u001B[0m\n"
     ]
    },
    {
     "name": "stderr",
     "output_type": "stream",
     "text": [
      "GPU available: False, used: False\n",
      "TPU available: False, using: 0 TPU cores\n",
      "IPU available: False, using: 0 IPUs\n",
      "HPU available: False, using: 0 HPUs\n",
      "\n",
      "  | Name             | Type             | Params\n",
      "------------------------------------------------------\n",
      "0 | criterion        | MSELoss          | 0     \n",
      "1 | train_metrics    | MetricCollection | 0     \n",
      "2 | val_metrics      | MetricCollection | 0     \n",
      "3 | encoders         | Sequential       | 19.8 K\n",
      "4 | decoders         | Sequential       | 20.6 K\n",
      "5 | temporal_decoder | _ResidualBlock   | 594   \n",
      "6 | lookback_skip    | Linear           | 13    \n",
      "------------------------------------------------------\n",
      "41.1 K    Trainable params\n",
      "0         Non-trainable params\n",
      "41.1 K    Total params\n",
      "0.164     Total estimated model params size (MB)\n"
     ]
    },
    {
     "data": {
      "text/plain": "Training: |          | 0/? [00:00<?, ?it/s]",
      "application/vnd.jupyter.widget-view+json": {
       "version_major": 2,
       "version_minor": 0,
       "model_id": "cb3a9106fb5f494fb0a4ce856ea54676"
      }
     },
     "metadata": {},
     "output_type": "display_data"
    },
    {
     "name": "stderr",
     "output_type": "stream",
     "text": [
      "`Trainer.fit` stopped: `max_epochs=100` reached.\n",
      "GPU available: False, used: False\n",
      "TPU available: False, using: 0 TPU cores\n",
      "IPU available: False, using: 0 IPUs\n",
      "HPU available: False, using: 0 HPUs\n"
     ]
    },
    {
     "name": "stdout",
     "output_type": "stream",
     "text": [
      "\u001B[33;1mTrain dataset contains 104 samples.\u001B[0m\n",
      "\u001B[33;1mTime series values are 64-bits; casting model to float64.\u001B[0m\n"
     ]
    },
    {
     "name": "stderr",
     "output_type": "stream",
     "text": [
      "GPU available: False, used: False\n",
      "TPU available: False, using: 0 TPU cores\n",
      "IPU available: False, using: 0 IPUs\n",
      "HPU available: False, using: 0 HPUs\n",
      "\n",
      "  | Name             | Type             | Params\n",
      "------------------------------------------------------\n",
      "0 | criterion        | MSELoss          | 0     \n",
      "1 | train_metrics    | MetricCollection | 0     \n",
      "2 | val_metrics      | MetricCollection | 0     \n",
      "3 | encoders         | Sequential       | 19.8 K\n",
      "4 | decoders         | Sequential       | 20.6 K\n",
      "5 | temporal_decoder | _ResidualBlock   | 594   \n",
      "6 | lookback_skip    | Linear           | 13    \n",
      "------------------------------------------------------\n",
      "41.1 K    Trainable params\n",
      "0         Non-trainable params\n",
      "41.1 K    Total params\n",
      "0.164     Total estimated model params size (MB)\n"
     ]
    },
    {
     "data": {
      "text/plain": "Training: |          | 0/? [00:00<?, ?it/s]",
      "application/vnd.jupyter.widget-view+json": {
       "version_major": 2,
       "version_minor": 0,
       "model_id": "a18a928b285f48468c8708134b87c637"
      }
     },
     "metadata": {},
     "output_type": "display_data"
    },
    {
     "name": "stderr",
     "output_type": "stream",
     "text": [
      "`Trainer.fit` stopped: `max_epochs=100` reached.\n",
      "GPU available: False, used: False\n",
      "TPU available: False, using: 0 TPU cores\n",
      "IPU available: False, using: 0 IPUs\n",
      "HPU available: False, using: 0 HPUs\n"
     ]
    },
    {
     "name": "stdout",
     "output_type": "stream",
     "text": [
      "\u001B[33;1mTrain dataset contains 105 samples.\u001B[0m\n",
      "\u001B[33;1mTime series values are 64-bits; casting model to float64.\u001B[0m\n"
     ]
    },
    {
     "name": "stderr",
     "output_type": "stream",
     "text": [
      "GPU available: False, used: False\n",
      "TPU available: False, using: 0 TPU cores\n",
      "IPU available: False, using: 0 IPUs\n",
      "HPU available: False, using: 0 HPUs\n",
      "\n",
      "  | Name             | Type             | Params\n",
      "------------------------------------------------------\n",
      "0 | criterion        | MSELoss          | 0     \n",
      "1 | train_metrics    | MetricCollection | 0     \n",
      "2 | val_metrics      | MetricCollection | 0     \n",
      "3 | encoders         | Sequential       | 19.8 K\n",
      "4 | decoders         | Sequential       | 20.6 K\n",
      "5 | temporal_decoder | _ResidualBlock   | 594   \n",
      "6 | lookback_skip    | Linear           | 13    \n",
      "------------------------------------------------------\n",
      "41.1 K    Trainable params\n",
      "0         Non-trainable params\n",
      "41.1 K    Total params\n",
      "0.164     Total estimated model params size (MB)\n"
     ]
    },
    {
     "data": {
      "text/plain": "Training: |          | 0/? [00:00<?, ?it/s]",
      "application/vnd.jupyter.widget-view+json": {
       "version_major": 2,
       "version_minor": 0,
       "model_id": "26d8d564bfe247e3921b5670c7b1bf23"
      }
     },
     "metadata": {},
     "output_type": "display_data"
    },
    {
     "name": "stderr",
     "output_type": "stream",
     "text": [
      "`Trainer.fit` stopped: `max_epochs=100` reached.\n",
      "GPU available: False, used: False\n",
      "TPU available: False, using: 0 TPU cores\n",
      "IPU available: False, using: 0 IPUs\n",
      "HPU available: False, using: 0 HPUs\n"
     ]
    },
    {
     "name": "stdout",
     "output_type": "stream",
     "text": [
      "\u001B[33;1mTrain dataset contains 106 samples.\u001B[0m\n",
      "\u001B[33;1mTime series values are 64-bits; casting model to float64.\u001B[0m\n"
     ]
    },
    {
     "name": "stderr",
     "output_type": "stream",
     "text": [
      "GPU available: False, used: False\n",
      "TPU available: False, using: 0 TPU cores\n",
      "IPU available: False, using: 0 IPUs\n",
      "HPU available: False, using: 0 HPUs\n",
      "\n",
      "  | Name             | Type             | Params\n",
      "------------------------------------------------------\n",
      "0 | criterion        | MSELoss          | 0     \n",
      "1 | train_metrics    | MetricCollection | 0     \n",
      "2 | val_metrics      | MetricCollection | 0     \n",
      "3 | encoders         | Sequential       | 19.8 K\n",
      "4 | decoders         | Sequential       | 20.6 K\n",
      "5 | temporal_decoder | _ResidualBlock   | 594   \n",
      "6 | lookback_skip    | Linear           | 13    \n",
      "------------------------------------------------------\n",
      "41.1 K    Trainable params\n",
      "0         Non-trainable params\n",
      "41.1 K    Total params\n",
      "0.164     Total estimated model params size (MB)\n"
     ]
    },
    {
     "data": {
      "text/plain": "Training: |          | 0/? [00:00<?, ?it/s]",
      "application/vnd.jupyter.widget-view+json": {
       "version_major": 2,
       "version_minor": 0,
       "model_id": "48016064aefd4cf594f9476c003f028b"
      }
     },
     "metadata": {},
     "output_type": "display_data"
    },
    {
     "name": "stderr",
     "output_type": "stream",
     "text": [
      "`Trainer.fit` stopped: `max_epochs=100` reached.\n",
      "GPU available: False, used: False\n",
      "TPU available: False, using: 0 TPU cores\n",
      "IPU available: False, using: 0 IPUs\n",
      "HPU available: False, using: 0 HPUs\n"
     ]
    },
    {
     "name": "stdout",
     "output_type": "stream",
     "text": [
      "\u001B[33;1mTrain dataset contains 107 samples.\u001B[0m\n",
      "\u001B[33;1mTime series values are 64-bits; casting model to float64.\u001B[0m\n"
     ]
    },
    {
     "name": "stderr",
     "output_type": "stream",
     "text": [
      "GPU available: False, used: False\n",
      "TPU available: False, using: 0 TPU cores\n",
      "IPU available: False, using: 0 IPUs\n",
      "HPU available: False, using: 0 HPUs\n",
      "\n",
      "  | Name             | Type             | Params\n",
      "------------------------------------------------------\n",
      "0 | criterion        | MSELoss          | 0     \n",
      "1 | train_metrics    | MetricCollection | 0     \n",
      "2 | val_metrics      | MetricCollection | 0     \n",
      "3 | encoders         | Sequential       | 19.8 K\n",
      "4 | decoders         | Sequential       | 20.6 K\n",
      "5 | temporal_decoder | _ResidualBlock   | 594   \n",
      "6 | lookback_skip    | Linear           | 13    \n",
      "------------------------------------------------------\n",
      "41.1 K    Trainable params\n",
      "0         Non-trainable params\n",
      "41.1 K    Total params\n",
      "0.164     Total estimated model params size (MB)\n"
     ]
    },
    {
     "data": {
      "text/plain": "Training: |          | 0/? [00:00<?, ?it/s]",
      "application/vnd.jupyter.widget-view+json": {
       "version_major": 2,
       "version_minor": 0,
       "model_id": "af1e6597940a4055a5f78ff66f722054"
      }
     },
     "metadata": {},
     "output_type": "display_data"
    },
    {
     "name": "stderr",
     "output_type": "stream",
     "text": [
      "`Trainer.fit` stopped: `max_epochs=100` reached.\n",
      "GPU available: False, used: False\n",
      "TPU available: False, using: 0 TPU cores\n",
      "IPU available: False, using: 0 IPUs\n",
      "HPU available: False, using: 0 HPUs\n"
     ]
    },
    {
     "name": "stdout",
     "output_type": "stream",
     "text": [
      "\u001B[33;1mTrain dataset contains 108 samples.\u001B[0m\n",
      "\u001B[33;1mTime series values are 64-bits; casting model to float64.\u001B[0m\n"
     ]
    },
    {
     "name": "stderr",
     "output_type": "stream",
     "text": [
      "GPU available: False, used: False\n",
      "TPU available: False, using: 0 TPU cores\n",
      "IPU available: False, using: 0 IPUs\n",
      "HPU available: False, using: 0 HPUs\n",
      "\n",
      "  | Name             | Type             | Params\n",
      "------------------------------------------------------\n",
      "0 | criterion        | MSELoss          | 0     \n",
      "1 | train_metrics    | MetricCollection | 0     \n",
      "2 | val_metrics      | MetricCollection | 0     \n",
      "3 | encoders         | Sequential       | 19.8 K\n",
      "4 | decoders         | Sequential       | 20.6 K\n",
      "5 | temporal_decoder | _ResidualBlock   | 594   \n",
      "6 | lookback_skip    | Linear           | 13    \n",
      "------------------------------------------------------\n",
      "41.1 K    Trainable params\n",
      "0         Non-trainable params\n",
      "41.1 K    Total params\n",
      "0.164     Total estimated model params size (MB)\n"
     ]
    },
    {
     "data": {
      "text/plain": "Training: |          | 0/? [00:00<?, ?it/s]",
      "application/vnd.jupyter.widget-view+json": {
       "version_major": 2,
       "version_minor": 0,
       "model_id": "c2e70a6d3c8a4e95a70504cf6a33bcd2"
      }
     },
     "metadata": {},
     "output_type": "display_data"
    },
    {
     "name": "stderr",
     "output_type": "stream",
     "text": [
      "`Trainer.fit` stopped: `max_epochs=100` reached.\n",
      "GPU available: False, used: False\n",
      "TPU available: False, using: 0 TPU cores\n",
      "IPU available: False, using: 0 IPUs\n",
      "HPU available: False, using: 0 HPUs\n"
     ]
    },
    {
     "name": "stdout",
     "output_type": "stream",
     "text": [
      "\u001B[33;1mTrain dataset contains 109 samples.\u001B[0m\n",
      "\u001B[33;1mTime series values are 64-bits; casting model to float64.\u001B[0m\n"
     ]
    },
    {
     "name": "stderr",
     "output_type": "stream",
     "text": [
      "GPU available: False, used: False\n",
      "TPU available: False, using: 0 TPU cores\n",
      "IPU available: False, using: 0 IPUs\n",
      "HPU available: False, using: 0 HPUs\n",
      "\n",
      "  | Name             | Type             | Params\n",
      "------------------------------------------------------\n",
      "0 | criterion        | MSELoss          | 0     \n",
      "1 | train_metrics    | MetricCollection | 0     \n",
      "2 | val_metrics      | MetricCollection | 0     \n",
      "3 | encoders         | Sequential       | 19.8 K\n",
      "4 | decoders         | Sequential       | 20.6 K\n",
      "5 | temporal_decoder | _ResidualBlock   | 594   \n",
      "6 | lookback_skip    | Linear           | 13    \n",
      "------------------------------------------------------\n",
      "41.1 K    Trainable params\n",
      "0         Non-trainable params\n",
      "41.1 K    Total params\n",
      "0.164     Total estimated model params size (MB)\n"
     ]
    },
    {
     "data": {
      "text/plain": "Training: |          | 0/? [00:00<?, ?it/s]",
      "application/vnd.jupyter.widget-view+json": {
       "version_major": 2,
       "version_minor": 0,
       "model_id": "8579ff6879d0437ba666a3959c08fd6f"
      }
     },
     "metadata": {},
     "output_type": "display_data"
    },
    {
     "name": "stderr",
     "output_type": "stream",
     "text": [
      "GPU available: False, used: False\n",
      "TPU available: False, using: 0 TPU cores\n",
      "IPU available: False, using: 0 IPUs\n",
      "HPU available: False, using: 0 HPUs\n"
     ]
    },
    {
     "name": "stdout",
     "output_type": "stream",
     "text": [
      "\u001B[33;1mTrain dataset contains 110 samples.\u001B[0m\n",
      "\u001B[33;1mTime series values are 64-bits; casting model to float64.\u001B[0m\n"
     ]
    },
    {
     "name": "stderr",
     "output_type": "stream",
     "text": [
      "GPU available: False, used: False\n",
      "TPU available: False, using: 0 TPU cores\n",
      "IPU available: False, using: 0 IPUs\n",
      "HPU available: False, using: 0 HPUs\n",
      "\n",
      "  | Name             | Type             | Params\n",
      "------------------------------------------------------\n",
      "0 | criterion        | MSELoss          | 0     \n",
      "1 | train_metrics    | MetricCollection | 0     \n",
      "2 | val_metrics      | MetricCollection | 0     \n",
      "3 | encoders         | Sequential       | 19.8 K\n",
      "4 | decoders         | Sequential       | 20.6 K\n",
      "5 | temporal_decoder | _ResidualBlock   | 594   \n",
      "6 | lookback_skip    | Linear           | 13    \n",
      "------------------------------------------------------\n",
      "41.1 K    Trainable params\n",
      "0         Non-trainable params\n",
      "41.1 K    Total params\n",
      "0.164     Total estimated model params size (MB)\n"
     ]
    },
    {
     "data": {
      "text/plain": "Training: |          | 0/? [00:00<?, ?it/s]",
      "application/vnd.jupyter.widget-view+json": {
       "version_major": 2,
       "version_minor": 0,
       "model_id": "454569d8e77f47bda48951163be6241c"
      }
     },
     "metadata": {},
     "output_type": "display_data"
    },
    {
     "name": "stderr",
     "output_type": "stream",
     "text": [
      "`Trainer.fit` stopped: `max_epochs=100` reached.\n",
      "GPU available: False, used: False\n",
      "TPU available: False, using: 0 TPU cores\n",
      "IPU available: False, using: 0 IPUs\n",
      "HPU available: False, using: 0 HPUs\n"
     ]
    },
    {
     "name": "stdout",
     "output_type": "stream",
     "text": [
      "\u001B[33;1mTrain dataset contains 111 samples.\u001B[0m\n",
      "\u001B[33;1mTime series values are 64-bits; casting model to float64.\u001B[0m\n"
     ]
    },
    {
     "name": "stderr",
     "output_type": "stream",
     "text": [
      "GPU available: False, used: False\n",
      "TPU available: False, using: 0 TPU cores\n",
      "IPU available: False, using: 0 IPUs\n",
      "HPU available: False, using: 0 HPUs\n",
      "\n",
      "  | Name             | Type             | Params\n",
      "------------------------------------------------------\n",
      "0 | criterion        | MSELoss          | 0     \n",
      "1 | train_metrics    | MetricCollection | 0     \n",
      "2 | val_metrics      | MetricCollection | 0     \n",
      "3 | encoders         | Sequential       | 19.8 K\n",
      "4 | decoders         | Sequential       | 20.6 K\n",
      "5 | temporal_decoder | _ResidualBlock   | 594   \n",
      "6 | lookback_skip    | Linear           | 13    \n",
      "------------------------------------------------------\n",
      "41.1 K    Trainable params\n",
      "0         Non-trainable params\n",
      "41.1 K    Total params\n",
      "0.164     Total estimated model params size (MB)\n"
     ]
    },
    {
     "data": {
      "text/plain": "Training: |          | 0/? [00:00<?, ?it/s]",
      "application/vnd.jupyter.widget-view+json": {
       "version_major": 2,
       "version_minor": 0,
       "model_id": "6f053eb6f00f444e801d73b5e901a346"
      }
     },
     "metadata": {},
     "output_type": "display_data"
    },
    {
     "name": "stderr",
     "output_type": "stream",
     "text": [
      "`Trainer.fit` stopped: `max_epochs=100` reached.\n",
      "GPU available: False, used: False\n",
      "TPU available: False, using: 0 TPU cores\n",
      "IPU available: False, using: 0 IPUs\n",
      "HPU available: False, using: 0 HPUs\n"
     ]
    },
    {
     "name": "stdout",
     "output_type": "stream",
     "text": [
      "\u001B[33;1mTrain dataset contains 112 samples.\u001B[0m\n",
      "\u001B[33;1mTime series values are 64-bits; casting model to float64.\u001B[0m\n"
     ]
    },
    {
     "name": "stderr",
     "output_type": "stream",
     "text": [
      "GPU available: False, used: False\n",
      "TPU available: False, using: 0 TPU cores\n",
      "IPU available: False, using: 0 IPUs\n",
      "HPU available: False, using: 0 HPUs\n",
      "\n",
      "  | Name             | Type             | Params\n",
      "------------------------------------------------------\n",
      "0 | criterion        | MSELoss          | 0     \n",
      "1 | train_metrics    | MetricCollection | 0     \n",
      "2 | val_metrics      | MetricCollection | 0     \n",
      "3 | encoders         | Sequential       | 19.8 K\n",
      "4 | decoders         | Sequential       | 20.6 K\n",
      "5 | temporal_decoder | _ResidualBlock   | 594   \n",
      "6 | lookback_skip    | Linear           | 13    \n",
      "------------------------------------------------------\n",
      "41.1 K    Trainable params\n",
      "0         Non-trainable params\n",
      "41.1 K    Total params\n",
      "0.164     Total estimated model params size (MB)\n"
     ]
    },
    {
     "data": {
      "text/plain": "Training: |          | 0/? [00:00<?, ?it/s]",
      "application/vnd.jupyter.widget-view+json": {
       "version_major": 2,
       "version_minor": 0,
       "model_id": "c08c9031269a40e6838b591dad6b81bf"
      }
     },
     "metadata": {},
     "output_type": "display_data"
    },
    {
     "name": "stderr",
     "output_type": "stream",
     "text": [
      "`Trainer.fit` stopped: `max_epochs=100` reached.\n",
      "GPU available: False, used: False\n",
      "TPU available: False, using: 0 TPU cores\n",
      "IPU available: False, using: 0 IPUs\n",
      "HPU available: False, using: 0 HPUs\n"
     ]
    },
    {
     "name": "stdout",
     "output_type": "stream",
     "text": [
      "\u001B[33;1mTrain dataset contains 113 samples.\u001B[0m\n",
      "\u001B[33;1mTime series values are 64-bits; casting model to float64.\u001B[0m\n"
     ]
    },
    {
     "name": "stderr",
     "output_type": "stream",
     "text": [
      "GPU available: False, used: False\n",
      "TPU available: False, using: 0 TPU cores\n",
      "IPU available: False, using: 0 IPUs\n",
      "HPU available: False, using: 0 HPUs\n",
      "\n",
      "  | Name             | Type             | Params\n",
      "------------------------------------------------------\n",
      "0 | criterion        | MSELoss          | 0     \n",
      "1 | train_metrics    | MetricCollection | 0     \n",
      "2 | val_metrics      | MetricCollection | 0     \n",
      "3 | encoders         | Sequential       | 19.8 K\n",
      "4 | decoders         | Sequential       | 20.6 K\n",
      "5 | temporal_decoder | _ResidualBlock   | 594   \n",
      "6 | lookback_skip    | Linear           | 13    \n",
      "------------------------------------------------------\n",
      "41.1 K    Trainable params\n",
      "0         Non-trainable params\n",
      "41.1 K    Total params\n",
      "0.164     Total estimated model params size (MB)\n"
     ]
    },
    {
     "data": {
      "text/plain": "Training: |          | 0/? [00:00<?, ?it/s]",
      "application/vnd.jupyter.widget-view+json": {
       "version_major": 2,
       "version_minor": 0,
       "model_id": "4f587b6cb669457c8ed87b6e1629ecd5"
      }
     },
     "metadata": {},
     "output_type": "display_data"
    },
    {
     "name": "stderr",
     "output_type": "stream",
     "text": [
      "`Trainer.fit` stopped: `max_epochs=100` reached.\n",
      "GPU available: False, used: False\n",
      "TPU available: False, using: 0 TPU cores\n",
      "IPU available: False, using: 0 IPUs\n",
      "HPU available: False, using: 0 HPUs\n"
     ]
    },
    {
     "name": "stdout",
     "output_type": "stream",
     "text": [
      "\u001B[33;1mTrain dataset contains 114 samples.\u001B[0m\n",
      "\u001B[33;1mTime series values are 64-bits; casting model to float64.\u001B[0m\n"
     ]
    },
    {
     "name": "stderr",
     "output_type": "stream",
     "text": [
      "GPU available: False, used: False\n",
      "TPU available: False, using: 0 TPU cores\n",
      "IPU available: False, using: 0 IPUs\n",
      "HPU available: False, using: 0 HPUs\n",
      "\n",
      "  | Name             | Type             | Params\n",
      "------------------------------------------------------\n",
      "0 | criterion        | MSELoss          | 0     \n",
      "1 | train_metrics    | MetricCollection | 0     \n",
      "2 | val_metrics      | MetricCollection | 0     \n",
      "3 | encoders         | Sequential       | 19.8 K\n",
      "4 | decoders         | Sequential       | 20.6 K\n",
      "5 | temporal_decoder | _ResidualBlock   | 594   \n",
      "6 | lookback_skip    | Linear           | 13    \n",
      "------------------------------------------------------\n",
      "41.1 K    Trainable params\n",
      "0         Non-trainable params\n",
      "41.1 K    Total params\n",
      "0.164     Total estimated model params size (MB)\n"
     ]
    },
    {
     "data": {
      "text/plain": "Training: |          | 0/? [00:00<?, ?it/s]",
      "application/vnd.jupyter.widget-view+json": {
       "version_major": 2,
       "version_minor": 0,
       "model_id": "4030fa38d3b84e93bb360ce661907775"
      }
     },
     "metadata": {},
     "output_type": "display_data"
    },
    {
     "name": "stderr",
     "output_type": "stream",
     "text": [
      "`Trainer.fit` stopped: `max_epochs=100` reached.\n",
      "GPU available: False, used: False\n",
      "TPU available: False, using: 0 TPU cores\n",
      "IPU available: False, using: 0 IPUs\n",
      "HPU available: False, using: 0 HPUs\n"
     ]
    },
    {
     "name": "stdout",
     "output_type": "stream",
     "text": [
      "\u001B[33;1mTrain dataset contains 115 samples.\u001B[0m\n",
      "\u001B[33;1mTime series values are 64-bits; casting model to float64.\u001B[0m\n"
     ]
    },
    {
     "name": "stderr",
     "output_type": "stream",
     "text": [
      "GPU available: False, used: False\n",
      "TPU available: False, using: 0 TPU cores\n",
      "IPU available: False, using: 0 IPUs\n",
      "HPU available: False, using: 0 HPUs\n",
      "\n",
      "  | Name             | Type             | Params\n",
      "------------------------------------------------------\n",
      "0 | criterion        | MSELoss          | 0     \n",
      "1 | train_metrics    | MetricCollection | 0     \n",
      "2 | val_metrics      | MetricCollection | 0     \n",
      "3 | encoders         | Sequential       | 19.8 K\n",
      "4 | decoders         | Sequential       | 20.6 K\n",
      "5 | temporal_decoder | _ResidualBlock   | 594   \n",
      "6 | lookback_skip    | Linear           | 13    \n",
      "------------------------------------------------------\n",
      "41.1 K    Trainable params\n",
      "0         Non-trainable params\n",
      "41.1 K    Total params\n",
      "0.164     Total estimated model params size (MB)\n"
     ]
    },
    {
     "data": {
      "text/plain": "Training: |          | 0/? [00:00<?, ?it/s]",
      "application/vnd.jupyter.widget-view+json": {
       "version_major": 2,
       "version_minor": 0,
       "model_id": "1e9d627436eb4722b5ec1d0d1d51d74d"
      }
     },
     "metadata": {},
     "output_type": "display_data"
    },
    {
     "name": "stderr",
     "output_type": "stream",
     "text": [
      "`Trainer.fit` stopped: `max_epochs=100` reached.\n",
      "GPU available: False, used: False\n",
      "TPU available: False, using: 0 TPU cores\n",
      "IPU available: False, using: 0 IPUs\n",
      "HPU available: False, using: 0 HPUs\n"
     ]
    },
    {
     "name": "stdout",
     "output_type": "stream",
     "text": [
      "\u001B[33;1mTrain dataset contains 116 samples.\u001B[0m\n",
      "\u001B[33;1mTime series values are 64-bits; casting model to float64.\u001B[0m\n"
     ]
    },
    {
     "name": "stderr",
     "output_type": "stream",
     "text": [
      "GPU available: False, used: False\n",
      "TPU available: False, using: 0 TPU cores\n",
      "IPU available: False, using: 0 IPUs\n",
      "HPU available: False, using: 0 HPUs\n",
      "\n",
      "  | Name             | Type             | Params\n",
      "------------------------------------------------------\n",
      "0 | criterion        | MSELoss          | 0     \n",
      "1 | train_metrics    | MetricCollection | 0     \n",
      "2 | val_metrics      | MetricCollection | 0     \n",
      "3 | encoders         | Sequential       | 19.8 K\n",
      "4 | decoders         | Sequential       | 20.6 K\n",
      "5 | temporal_decoder | _ResidualBlock   | 594   \n",
      "6 | lookback_skip    | Linear           | 13    \n",
      "------------------------------------------------------\n",
      "41.1 K    Trainable params\n",
      "0         Non-trainable params\n",
      "41.1 K    Total params\n",
      "0.164     Total estimated model params size (MB)\n"
     ]
    },
    {
     "data": {
      "text/plain": "Training: |          | 0/? [00:00<?, ?it/s]",
      "application/vnd.jupyter.widget-view+json": {
       "version_major": 2,
       "version_minor": 0,
       "model_id": "f638dcc0adb14c13b5598b4c93f1af71"
      }
     },
     "metadata": {},
     "output_type": "display_data"
    },
    {
     "name": "stderr",
     "output_type": "stream",
     "text": [
      "`Trainer.fit` stopped: `max_epochs=100` reached.\n",
      "GPU available: False, used: False\n",
      "TPU available: False, using: 0 TPU cores\n",
      "IPU available: False, using: 0 IPUs\n",
      "HPU available: False, using: 0 HPUs\n"
     ]
    },
    {
     "name": "stdout",
     "output_type": "stream",
     "text": [
      "\u001B[33;1mTrain dataset contains 117 samples.\u001B[0m\n",
      "\u001B[33;1mTime series values are 64-bits; casting model to float64.\u001B[0m\n"
     ]
    },
    {
     "name": "stderr",
     "output_type": "stream",
     "text": [
      "GPU available: False, used: False\n",
      "TPU available: False, using: 0 TPU cores\n",
      "IPU available: False, using: 0 IPUs\n",
      "HPU available: False, using: 0 HPUs\n",
      "\n",
      "  | Name             | Type             | Params\n",
      "------------------------------------------------------\n",
      "0 | criterion        | MSELoss          | 0     \n",
      "1 | train_metrics    | MetricCollection | 0     \n",
      "2 | val_metrics      | MetricCollection | 0     \n",
      "3 | encoders         | Sequential       | 19.8 K\n",
      "4 | decoders         | Sequential       | 20.6 K\n",
      "5 | temporal_decoder | _ResidualBlock   | 594   \n",
      "6 | lookback_skip    | Linear           | 13    \n",
      "------------------------------------------------------\n",
      "41.1 K    Trainable params\n",
      "0         Non-trainable params\n",
      "41.1 K    Total params\n",
      "0.164     Total estimated model params size (MB)\n"
     ]
    },
    {
     "data": {
      "text/plain": "Training: |          | 0/? [00:00<?, ?it/s]",
      "application/vnd.jupyter.widget-view+json": {
       "version_major": 2,
       "version_minor": 0,
       "model_id": "d1aa38976b0d435081a096695ba08d79"
      }
     },
     "metadata": {},
     "output_type": "display_data"
    },
    {
     "name": "stderr",
     "output_type": "stream",
     "text": [
      "`Trainer.fit` stopped: `max_epochs=100` reached.\n",
      "GPU available: False, used: False\n",
      "TPU available: False, using: 0 TPU cores\n",
      "IPU available: False, using: 0 IPUs\n",
      "HPU available: False, using: 0 HPUs\n"
     ]
    },
    {
     "name": "stdout",
     "output_type": "stream",
     "text": [
      "\u001B[33;1mTrain dataset contains 118 samples.\u001B[0m\n",
      "\u001B[33;1mTime series values are 64-bits; casting model to float64.\u001B[0m\n"
     ]
    },
    {
     "name": "stderr",
     "output_type": "stream",
     "text": [
      "GPU available: False, used: False\n",
      "TPU available: False, using: 0 TPU cores\n",
      "IPU available: False, using: 0 IPUs\n",
      "HPU available: False, using: 0 HPUs\n",
      "\n",
      "  | Name             | Type             | Params\n",
      "------------------------------------------------------\n",
      "0 | criterion        | MSELoss          | 0     \n",
      "1 | train_metrics    | MetricCollection | 0     \n",
      "2 | val_metrics      | MetricCollection | 0     \n",
      "3 | encoders         | Sequential       | 19.8 K\n",
      "4 | decoders         | Sequential       | 20.6 K\n",
      "5 | temporal_decoder | _ResidualBlock   | 594   \n",
      "6 | lookback_skip    | Linear           | 13    \n",
      "------------------------------------------------------\n",
      "41.1 K    Trainable params\n",
      "0         Non-trainable params\n",
      "41.1 K    Total params\n",
      "0.164     Total estimated model params size (MB)\n"
     ]
    },
    {
     "data": {
      "text/plain": "Training: |          | 0/? [00:00<?, ?it/s]",
      "application/vnd.jupyter.widget-view+json": {
       "version_major": 2,
       "version_minor": 0,
       "model_id": "c52d445a812b4e82b38de8280d1e05bb"
      }
     },
     "metadata": {},
     "output_type": "display_data"
    },
    {
     "name": "stderr",
     "output_type": "stream",
     "text": [
      "`Trainer.fit` stopped: `max_epochs=100` reached.\n",
      "GPU available: False, used: False\n",
      "TPU available: False, using: 0 TPU cores\n",
      "IPU available: False, using: 0 IPUs\n",
      "HPU available: False, using: 0 HPUs\n"
     ]
    },
    {
     "name": "stdout",
     "output_type": "stream",
     "text": [
      "\u001B[33;1mTrain dataset contains 119 samples.\u001B[0m\n",
      "\u001B[33;1mTime series values are 64-bits; casting model to float64.\u001B[0m\n"
     ]
    },
    {
     "name": "stderr",
     "output_type": "stream",
     "text": [
      "GPU available: False, used: False\n",
      "TPU available: False, using: 0 TPU cores\n",
      "IPU available: False, using: 0 IPUs\n",
      "HPU available: False, using: 0 HPUs\n",
      "\n",
      "  | Name             | Type             | Params\n",
      "------------------------------------------------------\n",
      "0 | criterion        | MSELoss          | 0     \n",
      "1 | train_metrics    | MetricCollection | 0     \n",
      "2 | val_metrics      | MetricCollection | 0     \n",
      "3 | encoders         | Sequential       | 19.8 K\n",
      "4 | decoders         | Sequential       | 20.6 K\n",
      "5 | temporal_decoder | _ResidualBlock   | 594   \n",
      "6 | lookback_skip    | Linear           | 13    \n",
      "------------------------------------------------------\n",
      "41.1 K    Trainable params\n",
      "0         Non-trainable params\n",
      "41.1 K    Total params\n",
      "0.164     Total estimated model params size (MB)\n"
     ]
    },
    {
     "data": {
      "text/plain": "Training: |          | 0/? [00:00<?, ?it/s]",
      "application/vnd.jupyter.widget-view+json": {
       "version_major": 2,
       "version_minor": 0,
       "model_id": "eff9eb5c96aa4c4bbc505e0cb51cf31a"
      }
     },
     "metadata": {},
     "output_type": "display_data"
    },
    {
     "name": "stderr",
     "output_type": "stream",
     "text": [
      "`Trainer.fit` stopped: `max_epochs=100` reached.\n",
      "GPU available: False, used: False\n",
      "TPU available: False, using: 0 TPU cores\n",
      "IPU available: False, using: 0 IPUs\n",
      "HPU available: False, using: 0 HPUs\n"
     ]
    },
    {
     "name": "stdout",
     "output_type": "stream",
     "text": [
      "\u001B[33;1mTrain dataset contains 120 samples.\u001B[0m\n",
      "\u001B[33;1mTime series values are 64-bits; casting model to float64.\u001B[0m\n"
     ]
    },
    {
     "name": "stderr",
     "output_type": "stream",
     "text": [
      "GPU available: False, used: False\n",
      "TPU available: False, using: 0 TPU cores\n",
      "IPU available: False, using: 0 IPUs\n",
      "HPU available: False, using: 0 HPUs\n",
      "\n",
      "  | Name             | Type             | Params\n",
      "------------------------------------------------------\n",
      "0 | criterion        | MSELoss          | 0     \n",
      "1 | train_metrics    | MetricCollection | 0     \n",
      "2 | val_metrics      | MetricCollection | 0     \n",
      "3 | encoders         | Sequential       | 19.8 K\n",
      "4 | decoders         | Sequential       | 20.6 K\n",
      "5 | temporal_decoder | _ResidualBlock   | 594   \n",
      "6 | lookback_skip    | Linear           | 13    \n",
      "------------------------------------------------------\n",
      "41.1 K    Trainable params\n",
      "0         Non-trainable params\n",
      "41.1 K    Total params\n",
      "0.164     Total estimated model params size (MB)\n"
     ]
    },
    {
     "data": {
      "text/plain": "Training: |          | 0/? [00:00<?, ?it/s]",
      "application/vnd.jupyter.widget-view+json": {
       "version_major": 2,
       "version_minor": 0,
       "model_id": "b125343c73e842ac823187883946dae2"
      }
     },
     "metadata": {},
     "output_type": "display_data"
    }
   ],
   "source": [
    "df_dict = df_dict[\"StrongSARIMA\"]\n",
    "output_dictionaries = run_pipeline(\n",
    "    df=df_dict, models=MODELS, metrics=METRICS,\n",
    "    # end=\"2010-12-31\",\n",
    "    select_ensemblers=[\"Simple\"],\n",
    "    select_forecasters=[\"Naive\", \"TiDE\", \"STL\"],\n",
    "    fh=1, verbose=True, export_path=PAPER_PIPE_OUTPUT_DIR\n",
    ") "
   ],
   "metadata": {
    "collapsed": false,
    "is_executing": true,
    "ExecuteTime": {
     "start_time": "2024-03-11T08:32:21.074313Z"
    }
   },
   "execution_count": null
  },
  {
   "cell_type": "markdown",
   "source": [
    "## 3) Show Ranking Tables"
   ],
   "metadata": {
    "collapsed": false
   }
  },
  {
   "cell_type": "code",
   "execution_count": null,
   "metadata": {
    "is_executing": true
   },
   "outputs": [],
   "source": [
    "# Sort\n",
    "# sorted(output_dictionaries.items(), key=lambda pair: select_datasets.index(pair[0]))\n",
    "# Show\n",
    "# If just using one DataFrame:\n",
    "display(output_dictionaries['metrics ranking'])\n",
    "# for df, output_dict in output_dictionaries.items():\n",
    "#     print(f\"Metrics ranking for {df}:\")\n",
    "#     display_ranking_table(output_dict['metrics ranking'])\n",
    "#     print(\"\\n\")"
   ]
  },
  {
   "cell_type": "markdown",
   "source": [
    "Note: For now you need to restart kernel and if you want to re-run pipeline with different settings."
   ],
   "metadata": {
    "collapsed": false
   }
  },
  {
   "cell_type": "code",
   "outputs": [],
   "source": [
    "display_ranking_table(output_dictionaries['metrics ranking'])"
   ],
   "metadata": {
    "collapsed": false,
    "is_executing": true
   },
   "execution_count": null
  },
  {
   "cell_type": "code",
   "outputs": [],
   "source": [],
   "metadata": {
    "collapsed": false,
    "is_executing": true
   },
   "execution_count": null
  }
 ],
 "metadata": {
  "kernelspec": {
   "display_name": "Python 3",
   "language": "python",
   "name": "python3"
  },
  "language_info": {
   "codemirror_mode": {
    "name": "ipython",
    "version": 3
   },
   "file_extension": ".py",
   "mimetype": "text/x-python",
   "name": "python",
   "nbconvert_exporter": "python",
   "pygments_lexer": "ipython3",
   "version": "3.11.3"
  }
 },
 "nbformat": 4,
 "nbformat_minor": 2
}
