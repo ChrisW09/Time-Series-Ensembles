{
 "cells": [
  {
   "cell_type": "markdown",
   "metadata": {},
   "source": [
    "# Interface for Pipeline Execution \n",
    "## (Simulated Data from SARIMAX Process)"
   ]
  },
  {
   "cell_type": "markdown",
   "source": [
    "## 1) Import Models, Metrics, Paths, and Functions"
   ],
   "metadata": {
    "collapsed": false
   }
  },
  {
   "cell_type": "code",
   "outputs": [
    {
     "name": "stdout",
     "output_type": "stream",
     "text": [
      "Loading helper functions...\n",
      "Loading paths...\n",
      "Loading data transformers...\n",
      "Loading models...\n",
      "Loading metrics...\n"
     ]
    }
   ],
   "source": [
    "from src.utils.helpers import csv_reader, display_ranking_table\n",
    "from src.utils.paths import *\n",
    "from src.pipeline.run_pipeline import run_pipeline\n",
    "\n",
    "\n",
    "from src.models import MODELS\n",
    "from src.metrics import METRICS\n"
   ],
   "metadata": {
    "collapsed": false,
    "ExecuteTime": {
     "end_time": "2024-03-08T08:50:14.077751Z",
     "start_time": "2024-03-08T08:49:40.841036Z"
    }
   },
   "execution_count": 2
  },
  {
   "cell_type": "code",
   "outputs": [],
   "source": [
    "# print(METRICS)\n",
    "# print(MODELS)"
   ],
   "metadata": {
    "collapsed": false,
    "ExecuteTime": {
     "end_time": "2024-03-08T08:50:14.088662Z",
     "start_time": "2024-03-08T08:50:14.081764Z"
    }
   },
   "execution_count": 3
  },
  {
   "cell_type": "markdown",
   "source": [
    "## 2) Select Input Data "
   ],
   "metadata": {
    "collapsed": false
   }
  },
  {
   "cell_type": "code",
   "execution_count": 4,
   "metadata": {
    "ExecuteTime": {
     "end_time": "2024-03-08T08:50:14.130025Z",
     "start_time": "2024-03-08T08:50:14.091682Z"
    }
   },
   "outputs": [
    {
     "name": "stdout",
     "output_type": "stream",
     "text": [
      "                    y          x1         x2          x3\n",
      "Date                                                    \n",
      "2004-01-01  50.840469  427.595799  55.337904  900.325291\n",
      "2004-02-01  52.871538  434.062163  54.959155  900.775888\n",
      "2004-03-01  53.769316  453.264284  56.470633  899.510058\n",
      "2004-04-01  57.672973  459.367523  56.704233  903.524834\n",
      "2004-05-01  57.182051  462.354356  61.557907  905.071762\n"
     ]
    }
   ],
   "source": [
    "# Read input data\n",
    "df = csv_reader(SIMDATA_DIR, 'noisy_simdata')\n",
    "print(df.head())"
   ]
  },
  {
   "cell_type": "markdown",
   "source": [
    "## 3) Run Pipeline"
   ],
   "metadata": {
    "collapsed": false
   }
  },
  {
   "cell_type": "code",
   "outputs": [
    {
     "name": "stdout",
     "output_type": "stream",
     "text": [
      "\u001B[33;1m=================================================================================\n",
      "[2024-03-08 09:50] Starting  Pipeline...\u001B[0m\n",
      "\u001B[33;1m\n",
      "=========================================\n",
      "== Pipeline Step 1: Data Preprocessing ==\n",
      "=========================================\n",
      "\u001B[0m\n",
      "\u001B[33;1mSearching time information...\u001B[0m\n",
      "\u001B[33;1mDates found in 'index' column!\u001B[0m\n",
      "\u001B[33;1mInferred frequency: month start\u001B[0m\n",
      "\u001B[33;1mData goes from 2004-01 to 2015-12, resulting in 144 observations.\n",
      "\u001B[0m\n",
      "\u001B[33;1mSelecting target and covariates...\u001B[0m\n",
      "\u001B[33;1mTarget: y\u001B[0m\n",
      "\u001B[33;1mCovariates: x1, x2, x3\u001B[0m\n",
      "\u001B[33;1m\n",
      "Data Insights:\u001B[0m\n",
      "\u001B[33;1m                 y          x1         x2          x3\n",
      "Date                                                 \n",
      "2004-01  50.840469  427.595799  55.337904  900.325291\n",
      "2004-02  52.871538  434.062163  54.959155  900.775888\n",
      "2004-03  53.769316  453.264284  56.470633  899.510058\n",
      "2004-04  57.672973  459.367523  56.704233  903.524834\n",
      "2004-05  57.182051  462.354356  61.557907  905.071762\u001B[0m\n",
      "\u001B[33;1m\n",
      "[Time elapsed: 00s]\n",
      "\u001B[0m\n",
      "\u001B[33;1m\n",
      "=====================================================\n",
      "== Pipeline Step 2: Individual Models' Predictions ==\n",
      "=====================================================\n",
      "\u001B[0m\n",
      "\u001B[33;1mSplitting data for training of forecasters (train/test ratio: 30/70)...\u001B[0m\n",
      "\u001B[33;1mInitial training set has 44 observations and goes from 2004-01 to 2007-08.\u001B[0m\n",
      "\u001B[33;1m\n",
      "In an historical expanding window approach, there are 100 periods to be forecasted by the individual models: 2007-09 to 2015-12\u001B[0m\n",
      "\u001B[33;1mOut-of-sample predictions are generated for next period: 2016-01\u001B[0m\n",
      "\u001B[33;1m\n",
      "Now generating 100 one-step ahead historical expanding window predictions from model: Naive (sktime)\u001B[0m\n",
      "\u001B[33;1mPerforming out-of-sample predictions...\u001B[0m\n",
      "\u001B[33;1m...finished!\u001B[0m\n",
      "\u001B[33;1m\n",
      "Now generating 100 one-step ahead historical expanding window predictions from model: STL (sktime)\u001B[0m\n",
      "\u001B[33;1mPerforming out-of-sample predictions...\u001B[0m\n",
      "\u001B[33;1m...finished!\u001B[0m\n",
      "\u001B[33;1m\n",
      "Now generating 100 one-step ahead historical expanding window predictions from model: XGBoost (darts)\u001B[0m\n",
      "\u001B[33;1mNow performing corresponding out-of-sample predictions...\u001B[0m\n",
      "\u001B[33;1m...finished!\u001B[0m\n",
      "\u001B[33;1mSkipping with_covariates since no models are provided.\u001B[0m\n",
      "\u001B[33;1m\n",
      "Finished predictions of individual forecasters!\u001B[0m\n",
      "\u001B[33;1m\n",
      "Insights into forecasters' historical predictions:\u001B[0m\n",
      "\u001B[33;1m             Naive        STL    XGBoost\n",
      "Date                                    \n",
      "2007-09  39.396929  45.096682  40.291088\n",
      "2007-10  43.742069  42.109471  41.772690\n",
      "2007-11  43.020168  45.768581  41.873455\n",
      "2007-12  47.340548  44.613499  46.844360\n",
      "2008-01  48.280066  42.637916  49.353115\u001B[0m\n",
      "\u001B[33;1m\n",
      "Insights into forecasters' future predictions:\u001B[0m\n",
      "\u001B[33;1m             Naive        STL    XGBoost\n",
      "Date                                    \n",
      "2016-01  84.936483  91.278306  84.968803\u001B[0m\n",
      "\u001B[33;1m\n",
      "[Time elapsed: 44s]\n",
      "\u001B[0m\n",
      "\u001B[33;1m\n",
      "===================================================\n",
      "== Pipeline Step 3: Ensemble Models' Predictions ==\n",
      "===================================================\n",
      "\u001B[0m\n",
      "\u001B[33;1mSplitting individual forecast data (n = 100) for training of ensemblers (train/test ratio: 25/75)...\u001B[0m\n",
      "\u001B[33;1mInitial training set has 25 observations and goes from 2007-09 to 2009-09\u001B[0m\n",
      "\u001B[33;1m\n",
      "In an historical expanding window approach, there are 75 periods to be forecasted by the ensemble models: 2009-10 to 2015-12\u001B[0m\n",
      "\u001B[33;1mOut-of-sample predictions are generated for next period: 2015-12-31 00:00:00\u001B[0m\n",
      "\u001B[33;1m\n",
      "Now generating 75 one-step ahead historical expanding window predictions from ensemble model: 'Weighted - Simple'\u001B[0m\n",
      "\u001B[33;1m...Forecast 1 / 75\u001B[0m\n",
      "\u001B[33;1m...Forecast 19 / 75\u001B[0m\n",
      "\u001B[33;1m...Forecast 38 / 75\u001B[0m\n",
      "\u001B[33;1m...Forecast 57 / 75\u001B[0m\n",
      "\u001B[33;1m...finished!\u001B[0m\n",
      "\u001B[33;1mPerforming out-of-sample predictions...\u001B[0m\n",
      "\u001B[33;1m...finished!\u001B[0m\n",
      "\u001B[33;1m\n",
      "Finished predictions of ensemble forecasters!\u001B[0m\n",
      "\u001B[33;1m\n",
      "Insights into ensemblers' historical predictions:\u001B[0m\n",
      "\u001B[33;1m         Weighted Ensemble: Simple\n",
      "2009-10                  60.000553\n",
      "2009-11                  61.120487\n",
      "2009-12                  62.143678\n",
      "2010-01                  61.011465\n",
      "2010-02                  61.240424\u001B[0m\n",
      "\u001B[33;1m\n",
      "Insights into ensemblers' future predictions:\u001B[0m\n",
      "\u001B[33;1m         Weighted Ensemble: Simple\n",
      "Date                              \n",
      "2016-01                  87.061198\u001B[0m\n",
      "\u001B[33;1m\n",
      "Merging...\u001B[0m\n",
      "\u001B[33;1m...finished!\n",
      "\u001B[0m\n",
      "\u001B[33;1m\n",
      "Exporting historical predictions and future predictions as csv to C:\\Users\\Work\\OneDrive\\GAU\\3. Semester\\Statistisches Praktikum\\Git\\NEW_Ensemble_Techniques_TS_FC\\user\\outputs\\noisy_simdata\\20240308_0950...\u001B[0m\n",
      "\u001B[33;1m...finished!\u001B[0m\n",
      "\u001B[33;1m\n",
      "[Time elapsed: 45s]\n",
      "\u001B[0m\n",
      "\u001B[33;1m\n",
      "==============================================================\n",
      "== Pipeline Step 4: Ranking Models' Predictive Performance ==\n",
      "==============================================================\n",
      "\u001B[0m\n",
      "\u001B[33;1mCalculating RMSE, MAPE, sMAPE per model...\u001B[0m\n",
      "\u001B[33;1mRanking models ...\u001B[0m\n",
      "\u001B[33;1m...finished!\u001B[0m\n",
      "\u001B[33;1m\n",
      "Results:\u001B[0m\n",
      "\u001B[33;1m                               RMSE      MAPE     sMAPE  RMSE Ranking  \\\n",
      "Model                                                                   \n",
      "Naive                      2.883142  0.029242  1.957764             1   \n",
      "Weighted Ensemble: Simple  3.121506  0.030401  2.042777             2   \n",
      "XGBoost                    3.342290  0.032360  2.187298             3   \n",
      "STL                        4.901734  0.050245  3.360780             4   \n",
      "\n",
      "                           MAPE Ranking  sMAPE Ranking  \n",
      "Model                                                   \n",
      "Naive                                 1              1  \n",
      "Weighted Ensemble: Simple             2              2  \n",
      "XGBoost                               3              3  \n",
      "STL                                   4              4  \u001B[0m\n",
      "\u001B[33;1m\n",
      "The 'Naive' is identified as the best model based on the MAPE value of its the historical predictions.\u001B[0m\n",
      "\u001B[33;1mThus, it is recommended to work with the future predictions coming from this model:\u001B[0m\n",
      "\u001B[33;1mDate\n",
      "2016-01    84.936483\n",
      "Freq: M, Name: Naive, dtype: float64\u001B[0m\n",
      "\u001B[33;1m\n",
      "Exporting metrics_ranking as csv to C:\\Users\\Work\\OneDrive\\GAU\\3. Semester\\Statistisches Praktikum\\Git\\NEW_Ensemble_Techniques_TS_FC\\user\\outputs\\noisy_simdata\\20240308_0950...\u001B[0m\n",
      "\u001B[33;1m...finished!\u001B[0m\n",
      "\u001B[33;1m\n",
      "[2024-03-08 09:50] Finished Pipeline!\n",
      "[Total time elapsed: 45s]\n",
      "=================================================================================\u001B[0m\n"
     ]
    }
   ],
   "source": [
    "output_dict = run_pipeline(\n",
    "    df=df, models=MODELS, metrics=METRICS,\n",
    "    fh=1,\n",
    "    select_forecasters=['Naive', 'XGBoost', 'STL'],\n",
    "    select_ensemblers='Simple',\n",
    "    start=\"2004-01-01\", end=\"2015-12-31\",  # filtering the first 6 years of data\n",
    "    verbose=True\n",
    ")"
   ],
   "metadata": {
    "collapsed": false,
    "ExecuteTime": {
     "end_time": "2024-03-08T08:50:59.665044Z",
     "start_time": "2024-03-08T08:50:14.136054Z"
    }
   },
   "execution_count": 5
  },
  {
   "cell_type": "markdown",
   "source": [
    "## 4) Show Ranking Table"
   ],
   "metadata": {
    "collapsed": false
   }
  },
  {
   "cell_type": "code",
   "execution_count": 6,
   "metadata": {
    "ExecuteTime": {
     "end_time": "2024-03-08T08:50:59.891051Z",
     "start_time": "2024-03-08T08:50:59.670058Z"
    }
   },
   "outputs": [
    {
     "data": {
      "text/plain": "<pandas.io.formats.style.Styler at 0x21a6c22c950>",
      "text/html": "<style type=\"text/css\">\n</style>\n<table id=\"T_ffbfd\">\n  <thead>\n    <tr>\n      <th class=\"blank level0\" >&nbsp;</th>\n      <th id=\"T_ffbfd_level0_col0\" class=\"col_heading level0 col0\" >RMSE</th>\n      <th id=\"T_ffbfd_level0_col1\" class=\"col_heading level0 col1\" >MAPE</th>\n      <th id=\"T_ffbfd_level0_col2\" class=\"col_heading level0 col2\" >sMAPE</th>\n      <th id=\"T_ffbfd_level0_col3\" class=\"col_heading level0 col3\" >RMSE Ranking</th>\n      <th id=\"T_ffbfd_level0_col4\" class=\"col_heading level0 col4\" >MAPE Ranking</th>\n      <th id=\"T_ffbfd_level0_col5\" class=\"col_heading level0 col5\" >sMAPE Ranking</th>\n    </tr>\n    <tr>\n      <th class=\"index_name level0\" >Model</th>\n      <th class=\"blank col0\" >&nbsp;</th>\n      <th class=\"blank col1\" >&nbsp;</th>\n      <th class=\"blank col2\" >&nbsp;</th>\n      <th class=\"blank col3\" >&nbsp;</th>\n      <th class=\"blank col4\" >&nbsp;</th>\n      <th class=\"blank col5\" >&nbsp;</th>\n    </tr>\n  </thead>\n  <tbody>\n    <tr>\n      <th id=\"T_ffbfd_level0_row0\" class=\"row_heading level0 row0\" >Naive</th>\n      <td id=\"T_ffbfd_row0_col0\" class=\"data row0 col0\" >2.883</td>\n      <td id=\"T_ffbfd_row0_col1\" class=\"data row0 col1\" >0.029</td>\n      <td id=\"T_ffbfd_row0_col2\" class=\"data row0 col2\" >1.958</td>\n      <td id=\"T_ffbfd_row0_col3\" class=\"data row0 col3\" >1</td>\n      <td id=\"T_ffbfd_row0_col4\" class=\"data row0 col4\" >1</td>\n      <td id=\"T_ffbfd_row0_col5\" class=\"data row0 col5\" >1</td>\n    </tr>\n    <tr>\n      <th id=\"T_ffbfd_level0_row1\" class=\"row_heading level0 row1\" >Weighted Ensemble: Simple</th>\n      <td id=\"T_ffbfd_row1_col0\" class=\"data row1 col0\" >3.122</td>\n      <td id=\"T_ffbfd_row1_col1\" class=\"data row1 col1\" >0.030</td>\n      <td id=\"T_ffbfd_row1_col2\" class=\"data row1 col2\" >2.043</td>\n      <td id=\"T_ffbfd_row1_col3\" class=\"data row1 col3\" >2</td>\n      <td id=\"T_ffbfd_row1_col4\" class=\"data row1 col4\" >2</td>\n      <td id=\"T_ffbfd_row1_col5\" class=\"data row1 col5\" >2</td>\n    </tr>\n    <tr>\n      <th id=\"T_ffbfd_level0_row2\" class=\"row_heading level0 row2\" >XGBoost</th>\n      <td id=\"T_ffbfd_row2_col0\" class=\"data row2 col0\" >3.342</td>\n      <td id=\"T_ffbfd_row2_col1\" class=\"data row2 col1\" >0.032</td>\n      <td id=\"T_ffbfd_row2_col2\" class=\"data row2 col2\" >2.187</td>\n      <td id=\"T_ffbfd_row2_col3\" class=\"data row2 col3\" >3</td>\n      <td id=\"T_ffbfd_row2_col4\" class=\"data row2 col4\" >3</td>\n      <td id=\"T_ffbfd_row2_col5\" class=\"data row2 col5\" >3</td>\n    </tr>\n    <tr>\n      <th id=\"T_ffbfd_level0_row3\" class=\"row_heading level0 row3\" >STL</th>\n      <td id=\"T_ffbfd_row3_col0\" class=\"data row3 col0\" >4.902</td>\n      <td id=\"T_ffbfd_row3_col1\" class=\"data row3 col1\" >0.050</td>\n      <td id=\"T_ffbfd_row3_col2\" class=\"data row3 col2\" >3.361</td>\n      <td id=\"T_ffbfd_row3_col3\" class=\"data row3 col3\" >4</td>\n      <td id=\"T_ffbfd_row3_col4\" class=\"data row3 col4\" >4</td>\n      <td id=\"T_ffbfd_row3_col5\" class=\"data row3 col5\" >4</td>\n    </tr>\n  </tbody>\n</table>\n"
     },
     "metadata": {},
     "output_type": "display_data"
    }
   ],
   "source": [
    "display_ranking_table(output_dict['metrics ranking'])"
   ]
  }
 ],
 "metadata": {
  "kernelspec": {
   "display_name": "Python 3",
   "language": "python",
   "name": "python3"
  },
  "language_info": {
   "codemirror_mode": {
    "name": "ipython",
    "version": 3
   },
   "file_extension": ".py",
   "mimetype": "text/x-python",
   "name": "python",
   "nbconvert_exporter": "python",
   "pygments_lexer": "ipython3",
   "version": "3.11.3"
  }
 },
 "nbformat": 4,
 "nbformat_minor": 2
}
