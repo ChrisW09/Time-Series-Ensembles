{
 "cells": [
  {
   "cell_type": "markdown",
   "metadata": {},
   "source": [
    "# Interface for Pipeline Execution\n",
    "## (EUR-USD Exchange Data)"
   ]
  },
  {
   "cell_type": "code",
   "execution_count": 1,
   "metadata": {
    "ExecuteTime": {
     "end_time": "2024-03-09T23:57:49.111195Z",
     "start_time": "2024-03-09T23:57:29.603669Z"
    }
   },
   "outputs": [
    {
     "name": "stdout",
     "output_type": "stream",
     "text": [
      "Loading helper functions...\n",
      "Loading paths...\n",
      "Loading data transformers...\n",
      "Loading models...\n",
      "C:\\Users\\Work\\OneDrive\\GAU\\3. Semester\\Statistisches Praktikum\\Git\\NEW_Ensemble_Techniques_TS_FC\\user\\inputs\n",
      "Loading metrics...\n"
     ]
    }
   ],
   "source": [
    "from src.utils.helpers import csv_reader\n",
    "from src.paper import display_ranking_table\n",
    "from src.utils.paths import *\n",
    "from src.pipeline.run_pipeline import run_pipeline\n",
    "\n",
    "from src.models import MODELS\n",
    "from src.metrics import METRICS"
   ]
  },
  {
   "cell_type": "code",
   "execution_count": 2,
   "metadata": {
    "ExecuteTime": {
     "end_time": "2024-03-09T23:58:00.744436Z",
     "start_time": "2024-03-09T23:58:00.736759Z"
    }
   },
   "outputs": [
    {
     "name": "stdout",
     "output_type": "stream",
     "text": [
      "{'RMSE': <function root_mean_squared_error at 0x0000023EC5B9A660>, 'MAPE': <function mean_absolute_percentage_error at 0x0000023EC5A76200>, 'sMAPE': <function symmetric_mean_absolute_percentage_error at 0x0000023EC5B99F80>}\n"
     ]
    }
   ],
   "source": [
    "# Get current models and metrics\n",
    "# print(METRICS)\n",
    "# print(MODELS)"
   ]
  },
  {
   "cell_type": "code",
   "execution_count": 3,
   "metadata": {
    "ExecuteTime": {
     "end_time": "2024-03-10T00:08:16.156213Z",
     "start_time": "2024-03-10T00:08:15.657537Z"
    }
   },
   "outputs": [],
   "source": [
    "## Using the EUR-USD Exchange Rate data\n",
    "\n",
    "# Read EUR-USD exchange data\n",
    "df = csv_reader(TESTDATA_DIR, 'eurusd')"
   ]
  },
  {
   "cell_type": "code",
   "outputs": [
    {
     "data": {
      "text/plain": "                     bid_open  bid_high  bid_low  bid_close  ask_open  \\\ndatetime                                                                \n2020-01-01 00:00:00       NaN       NaN      NaN        NaN       NaN   \n2020-01-01 00:15:00       NaN       NaN      NaN        NaN       NaN   \n2020-01-01 00:30:00       NaN       NaN      NaN        NaN       NaN   \n2020-01-01 00:45:00       NaN       NaN      NaN        NaN       NaN   \n2020-01-01 01:00:00       NaN       NaN      NaN        NaN       NaN   \n...                       ...       ...      ...        ...       ...   \n2024-02-05 23:00:00   1.07424   1.07426  1.07414    1.07419   1.07443   \n2024-02-05 23:15:00   1.07419   1.07426  1.07419    1.07423   1.07439   \n2024-02-05 23:30:00   1.07423   1.07423  1.07403    1.07420   1.07438   \n2024-02-05 23:45:00   1.07420   1.07427  1.07401    1.07404   1.07437   \n2024-02-06 00:00:00   1.07403   1.07432  1.07403    1.07415   1.07419   \n\n                     ask_high  ask_low  ask_close  \ndatetime                                           \n2020-01-01 00:00:00       NaN      NaN        NaN  \n2020-01-01 00:15:00       NaN      NaN        NaN  \n2020-01-01 00:30:00       NaN      NaN        NaN  \n2020-01-01 00:45:00       NaN      NaN        NaN  \n2020-01-01 01:00:00       NaN      NaN        NaN  \n...                       ...      ...        ...  \n2024-02-05 23:00:00   1.07445  1.07431    1.07439  \n2024-02-05 23:15:00   1.07443  1.07434    1.07438  \n2024-02-05 23:30:00   1.07440  1.07420    1.07437  \n2024-02-05 23:45:00   1.07443  1.07417    1.07419  \n2024-02-06 00:00:00   1.07447  1.07419    1.07431  \n\n[143713 rows x 8 columns]",
      "text/html": "<div>\n<style scoped>\n    .dataframe tbody tr th:only-of-type {\n        vertical-align: middle;\n    }\n\n    .dataframe tbody tr th {\n        vertical-align: top;\n    }\n\n    .dataframe thead th {\n        text-align: right;\n    }\n</style>\n<table border=\"1\" class=\"dataframe\">\n  <thead>\n    <tr style=\"text-align: right;\">\n      <th></th>\n      <th>bid_open</th>\n      <th>bid_high</th>\n      <th>bid_low</th>\n      <th>bid_close</th>\n      <th>ask_open</th>\n      <th>ask_high</th>\n      <th>ask_low</th>\n      <th>ask_close</th>\n    </tr>\n    <tr>\n      <th>datetime</th>\n      <th></th>\n      <th></th>\n      <th></th>\n      <th></th>\n      <th></th>\n      <th></th>\n      <th></th>\n      <th></th>\n    </tr>\n  </thead>\n  <tbody>\n    <tr>\n      <th>2020-01-01 00:00:00</th>\n      <td>NaN</td>\n      <td>NaN</td>\n      <td>NaN</td>\n      <td>NaN</td>\n      <td>NaN</td>\n      <td>NaN</td>\n      <td>NaN</td>\n      <td>NaN</td>\n    </tr>\n    <tr>\n      <th>2020-01-01 00:15:00</th>\n      <td>NaN</td>\n      <td>NaN</td>\n      <td>NaN</td>\n      <td>NaN</td>\n      <td>NaN</td>\n      <td>NaN</td>\n      <td>NaN</td>\n      <td>NaN</td>\n    </tr>\n    <tr>\n      <th>2020-01-01 00:30:00</th>\n      <td>NaN</td>\n      <td>NaN</td>\n      <td>NaN</td>\n      <td>NaN</td>\n      <td>NaN</td>\n      <td>NaN</td>\n      <td>NaN</td>\n      <td>NaN</td>\n    </tr>\n    <tr>\n      <th>2020-01-01 00:45:00</th>\n      <td>NaN</td>\n      <td>NaN</td>\n      <td>NaN</td>\n      <td>NaN</td>\n      <td>NaN</td>\n      <td>NaN</td>\n      <td>NaN</td>\n      <td>NaN</td>\n    </tr>\n    <tr>\n      <th>2020-01-01 01:00:00</th>\n      <td>NaN</td>\n      <td>NaN</td>\n      <td>NaN</td>\n      <td>NaN</td>\n      <td>NaN</td>\n      <td>NaN</td>\n      <td>NaN</td>\n      <td>NaN</td>\n    </tr>\n    <tr>\n      <th>...</th>\n      <td>...</td>\n      <td>...</td>\n      <td>...</td>\n      <td>...</td>\n      <td>...</td>\n      <td>...</td>\n      <td>...</td>\n      <td>...</td>\n    </tr>\n    <tr>\n      <th>2024-02-05 23:00:00</th>\n      <td>1.07424</td>\n      <td>1.07426</td>\n      <td>1.07414</td>\n      <td>1.07419</td>\n      <td>1.07443</td>\n      <td>1.07445</td>\n      <td>1.07431</td>\n      <td>1.07439</td>\n    </tr>\n    <tr>\n      <th>2024-02-05 23:15:00</th>\n      <td>1.07419</td>\n      <td>1.07426</td>\n      <td>1.07419</td>\n      <td>1.07423</td>\n      <td>1.07439</td>\n      <td>1.07443</td>\n      <td>1.07434</td>\n      <td>1.07438</td>\n    </tr>\n    <tr>\n      <th>2024-02-05 23:30:00</th>\n      <td>1.07423</td>\n      <td>1.07423</td>\n      <td>1.07403</td>\n      <td>1.07420</td>\n      <td>1.07438</td>\n      <td>1.07440</td>\n      <td>1.07420</td>\n      <td>1.07437</td>\n    </tr>\n    <tr>\n      <th>2024-02-05 23:45:00</th>\n      <td>1.07420</td>\n      <td>1.07427</td>\n      <td>1.07401</td>\n      <td>1.07404</td>\n      <td>1.07437</td>\n      <td>1.07443</td>\n      <td>1.07417</td>\n      <td>1.07419</td>\n    </tr>\n    <tr>\n      <th>2024-02-06 00:00:00</th>\n      <td>1.07403</td>\n      <td>1.07432</td>\n      <td>1.07403</td>\n      <td>1.07415</td>\n      <td>1.07419</td>\n      <td>1.07447</td>\n      <td>1.07419</td>\n      <td>1.07431</td>\n    </tr>\n  </tbody>\n</table>\n<p>143713 rows × 8 columns</p>\n</div>"
     },
     "metadata": {},
     "output_type": "display_data"
    }
   ],
   "source": [
    "display(df)"
   ],
   "metadata": {
    "collapsed": false,
    "ExecuteTime": {
     "end_time": "2024-03-10T00:08:17.185683Z",
     "start_time": "2024-03-10T00:08:17.139110Z"
    }
   },
   "execution_count": 4
  },
  {
   "cell_type": "code",
   "execution_count": 6,
   "metadata": {
    "ExecuteTime": {
     "end_time": "2024-03-10T00:08:58.209440Z",
     "start_time": "2024-03-10T00:08:45.841669Z"
    }
   },
   "outputs": [
    {
     "name": "stdout",
     "output_type": "stream",
     "text": [
      "\u001B[33;1m=================================================================================\n",
      "[2024-03-10 01:08] Starting  Pipeline...\u001B[0m\n",
      "\u001B[33;1m=================================================================================\n",
      "[2024-03-10 01:08] Starting  Pipeline...\u001B[0m\n",
      "\u001B[33;1m\n",
      "=========================================\n",
      "== Pipeline Step 1: Data Preprocessing ==\n",
      "=========================================\n",
      "\u001B[0m\n",
      "\u001B[33;1m\n",
      "=========================================\n",
      "== Pipeline Step 1: Data Preprocessing ==\n",
      "=========================================\n",
      "\u001B[0m\n",
      "\u001B[33;1mSearching time information...\u001B[0m\n",
      "\u001B[33;1mSearching time information...\u001B[0m\n",
      "\u001B[33;1mDates found in 'index' column!\u001B[0m\n",
      "\u001B[33;1mDates found in 'index' column!\u001B[0m\n",
      "\u001B[33;1mInferred frequency: 15T\u001B[0m\n",
      "\u001B[33;1mInferred frequency: 15T\u001B[0m\n",
      "\u001B[33;1mData goes from 2020-01-01 00:00 to 2020-03-31 23:45, resulting in 8736 observations.\n",
      "\u001B[0m\n",
      "\u001B[33;1mData goes from 2020-01-01 00:00 to 2020-03-31 23:45, resulting in 8736 observations.\n",
      "\u001B[0m\n",
      "\u001B[33;1mAggregating data to frequency 'business day' using method 'last' and dropping NaNs...\u001B[0m\n",
      "\u001B[33;1mAggregating data to frequency 'business day' using method 'last' and dropping NaNs...\u001B[0m\n",
      "\u001B[33;1m...finished!\n",
      "Data now has 64 observations.\n",
      "\u001B[0m\n",
      "\u001B[33;1m...finished!\n",
      "Data now has 64 observations.\n",
      "\u001B[0m\n",
      "\u001B[33;1mSelecting target...\u001B[0m\n",
      "\u001B[33;1mSelecting target...\u001B[0m\n",
      "\u001B[33;1mTarget: bid_close\u001B[0m\n",
      "\u001B[33;1mTarget: bid_close\u001B[0m\n",
      "\u001B[33;1mCovariates: None\u001B[0m\n",
      "\u001B[33;1mCovariates: None\u001B[0m\n",
      "\u001B[33;1m\n",
      "Data Insights:\u001B[0m\n",
      "\u001B[33;1m\n",
      "Data Insights:\u001B[0m\n",
      "\u001B[33;1m            bid_close\n",
      "datetime             \n",
      "2020-01-02    1.11702\n",
      "2020-01-03    1.11599\n",
      "2020-01-06    1.11948\n",
      "2020-01-07    1.11530\n",
      "2020-01-08    1.11124\u001B[0m\n",
      "\u001B[33;1m            bid_close\n",
      "datetime             \n",
      "2020-01-02    1.11702\n",
      "2020-01-03    1.11599\n",
      "2020-01-06    1.11948\n",
      "2020-01-07    1.11530\n",
      "2020-01-08    1.11124\u001B[0m\n",
      "\u001B[33;1m\n",
      "[Time elapsed: 00s]\n",
      "\u001B[0m\n",
      "\u001B[33;1m\n",
      "[Time elapsed: 00s]\n",
      "\u001B[0m\n",
      "\u001B[33;1m\n",
      "=====================================================\n",
      "== Pipeline Step 2: Individual Models' Predictions ==\n",
      "=====================================================\n",
      "\u001B[0m\n",
      "\u001B[33;1m\n",
      "=====================================================\n",
      "== Pipeline Step 2: Individual Models' Predictions ==\n",
      "=====================================================\n",
      "\u001B[0m\n",
      "\u001B[33;1mSplitting data for training of forecasters (train/test ratio: 30/70)...\u001B[0m\n",
      "\u001B[33;1mSplitting data for training of forecasters (train/test ratio: 30/70)...\u001B[0m\n",
      "\u001B[33;1mInitial training set has 20 observations and goes from 2020-01-02 to 2020-01-29.\u001B[0m\n",
      "\u001B[33;1mInitial training set has 20 observations and goes from 2020-01-02 to 2020-01-29.\u001B[0m\n",
      "\u001B[33;1m\n",
      "In an historical expanding window approach, there are 44 periods to be forecasted by the individual models: 2020-01-30 to 2020-03-31\u001B[0m\n",
      "\u001B[33;1m\n",
      "In an historical expanding window approach, there are 44 periods to be forecasted by the individual models: 2020-01-30 to 2020-03-31\u001B[0m\n",
      "\u001B[33;1mOut-of-sample predictions are generated for next period: 2020-04-01\u001B[0m\n",
      "\u001B[33;1mOut-of-sample predictions are generated for next period: 2020-04-01\u001B[0m\n",
      "\u001B[33;1m\n",
      "Now generating 44 one-step ahead historical expanding window predictions from model: Naive (sktime)\u001B[0m\n",
      "\u001B[33;1m\n",
      "Now generating 44 one-step ahead historical expanding window predictions from model: Naive (sktime)\u001B[0m\n",
      "\u001B[33;1mPerforming out-of-sample predictions...\u001B[0m\n",
      "\u001B[33;1mPerforming out-of-sample predictions...\u001B[0m\n",
      "\u001B[33;1m...finished!\u001B[0m\n",
      "\u001B[33;1m...finished!\u001B[0m\n",
      "\u001B[33;1m\n",
      "Now generating 44 one-step ahead historical expanding window predictions from model: Naive (drift) (sktime)\u001B[0m\n",
      "\u001B[33;1m\n",
      "Now generating 44 one-step ahead historical expanding window predictions from model: Naive (drift) (sktime)\u001B[0m\n",
      "\u001B[33;1mPerforming out-of-sample predictions...\u001B[0m\n",
      "\u001B[33;1mPerforming out-of-sample predictions...\u001B[0m\n",
      "\u001B[33;1m...finished!\u001B[0m\n",
      "\u001B[33;1m...finished!\u001B[0m\n",
      "\u001B[33;1m\n",
      "Now generating 44 one-step ahead historical expanding window predictions from model: AutoSARIMA (sktime)\u001B[0m\n",
      "\u001B[33;1m\n",
      "Now generating 44 one-step ahead historical expanding window predictions from model: AutoSARIMA (sktime)\u001B[0m\n",
      "\u001B[33;1mAuto-fitting model. Refitting every 15th period.\u001B[0m\n",
      "\u001B[33;1mAuto-fitting model. Refitting every 15th period.\u001B[0m\n",
      "\u001B[33;1m...forecast 1 / 44\u001B[0m\n",
      "\u001B[33;1m...forecast 1 / 44\u001B[0m\n",
      "\u001B[33;1m...forecast 11 / 44\u001B[0m\n",
      "\u001B[33;1m...forecast 11 / 44\u001B[0m\n"
     ]
    },
    {
     "ename": "KeyboardInterrupt",
     "evalue": "",
     "output_type": "error",
     "traceback": [
      "\u001B[1;31m---------------------------------------------------------------------------\u001B[0m",
      "\u001B[1;31mKeyboardInterrupt\u001B[0m                         Traceback (most recent call last)",
      "Cell \u001B[1;32mIn[6], line 2\u001B[0m\n\u001B[0;32m      1\u001B[0m output_dict \u001B[38;5;241m=\u001B[39m (\n\u001B[1;32m----> 2\u001B[0m     \u001B[43mrun_pipeline\u001B[49m\u001B[43m(\u001B[49m\n\u001B[0;32m      3\u001B[0m \u001B[43m        \u001B[49m\u001B[43mdf\u001B[49m\u001B[38;5;241;43m=\u001B[39;49m\u001B[43mdf\u001B[49m\u001B[43m,\u001B[49m\u001B[43m \u001B[49m\u001B[43mmodels\u001B[49m\u001B[38;5;241;43m=\u001B[39;49m\u001B[43mMODELS\u001B[49m\u001B[43m,\u001B[49m\u001B[43m \u001B[49m\u001B[43mmetrics\u001B[49m\u001B[38;5;241;43m=\u001B[39;49m\u001B[43mMETRICS\u001B[49m\u001B[43m,\u001B[49m\n\u001B[0;32m      4\u001B[0m \u001B[43m        \u001B[49m\u001B[43mfh\u001B[49m\u001B[38;5;241;43m=\u001B[39;49m\u001B[38;5;241;43m1\u001B[39;49m\u001B[43m,\u001B[49m\n\u001B[0;32m      5\u001B[0m \u001B[43m        \u001B[49m\u001B[43mstart\u001B[49m\u001B[38;5;241;43m=\u001B[39;49m\u001B[38;5;124;43m\"\u001B[39;49m\u001B[38;5;124;43m2020-01-01\u001B[39;49m\u001B[38;5;124;43m\"\u001B[39;49m\u001B[43m,\u001B[49m\u001B[43m \u001B[49m\u001B[43mend\u001B[49m\u001B[38;5;241;43m=\u001B[39;49m\u001B[38;5;124;43m\"\u001B[39;49m\u001B[38;5;124;43m2020-03-31\u001B[39;49m\u001B[38;5;124;43m\"\u001B[39;49m\u001B[43m,\u001B[49m\n\u001B[0;32m      6\u001B[0m \u001B[43m        \u001B[49m\u001B[43magg_method\u001B[49m\u001B[38;5;241;43m=\u001B[39;49m\u001B[38;5;124;43m'\u001B[39;49m\u001B[38;5;124;43mlast\u001B[39;49m\u001B[38;5;124;43m'\u001B[39;49m\u001B[43m,\u001B[49m\u001B[43m \u001B[49m\u001B[43magg_freq\u001B[49m\u001B[38;5;241;43m=\u001B[39;49m\u001B[38;5;124;43m'\u001B[39;49m\u001B[38;5;124;43mB\u001B[39;49m\u001B[38;5;124;43m'\u001B[39;49m\u001B[43m,\u001B[49m\n\u001B[0;32m      7\u001B[0m \u001B[43m        \u001B[49m\u001B[43mtarget\u001B[49m\u001B[38;5;241;43m=\u001B[39;49m\u001B[38;5;124;43m'\u001B[39;49m\u001B[38;5;124;43mbid_close\u001B[39;49m\u001B[38;5;124;43m'\u001B[39;49m\u001B[43m,\u001B[49m\u001B[43m \u001B[49m\u001B[43mcovariates\u001B[49m\u001B[38;5;241;43m=\u001B[39;49m\u001B[38;5;28;43;01mNone\u001B[39;49;00m\u001B[43m,\u001B[49m\n\u001B[0;32m      8\u001B[0m \u001B[43m        \u001B[49m\u001B[43mselect_forecaster\u001B[49m\u001B[38;5;241;43m=\u001B[39;49m\u001B[38;5;124;43m'\u001B[39;49m\u001B[38;5;124;43mall\u001B[39;49m\u001B[38;5;124;43m'\u001B[39;49m\u001B[43m,\u001B[49m\n\u001B[0;32m      9\u001B[0m \u001B[43m        \u001B[49m\u001B[43mselect_ensemblers\u001B[49m\u001B[38;5;241;43m=\u001B[39;49m\u001B[38;5;124;43m'\u001B[39;49m\u001B[38;5;124;43mall\u001B[39;49m\u001B[38;5;124;43m'\u001B[39;49m\u001B[43m,\u001B[49m\n\u001B[0;32m     10\u001B[0m \u001B[43m        \u001B[49m\u001B[43mexport\u001B[49m\u001B[38;5;241;43m=\u001B[39;49m\u001B[38;5;28;43;01mFalse\u001B[39;49;00m\u001B[43m,\u001B[49m\n\u001B[0;32m     11\u001B[0m \u001B[43m        \u001B[49m\u001B[43mverbose\u001B[49m\u001B[38;5;241;43m=\u001B[39;49m\u001B[38;5;28;43;01mTrue\u001B[39;49;00m\n\u001B[0;32m     12\u001B[0m \u001B[43m    \u001B[49m\u001B[43m)\u001B[49m\n\u001B[0;32m     13\u001B[0m )\n",
      "File \u001B[1;32m~\\OneDrive\\GAU\\3. Semester\\Statistisches Praktikum\\Git\\NEW_Ensemble_Techniques_TS_FC\\src\\pipeline\\run_pipeline.py:176\u001B[0m, in \u001B[0;36mrun_pipeline\u001B[1;34m(df, models, metrics, fh, start, end, date_col, date_format, target, covariates, exclude, agg_method, agg_freq, select_forecasters, forecast_init_train, autosarimax_refit_interval, select_ensemblers, ensemble_init_train, sort_by, export, errors, verbose, *args, **kwargs)\u001B[0m\n\u001B[0;32m    173\u001B[0m \u001B[38;5;66;03m# Iterate over pipeline processes\u001B[39;00m\n\u001B[0;32m    174\u001B[0m \u001B[38;5;28;01mfor\u001B[39;00m step, process \u001B[38;5;129;01min\u001B[39;00m \u001B[38;5;28menumerate\u001B[39m(processes):\n\u001B[0;32m    175\u001B[0m     \u001B[38;5;66;03m# Execute each process\u001B[39;00m\n\u001B[1;32m--> 176\u001B[0m     pipe_output \u001B[38;5;241m=\u001B[39m \u001B[43mprocess\u001B[49m\u001B[43m(\u001B[49m\n\u001B[0;32m    177\u001B[0m \u001B[43m        \u001B[49m\u001B[38;5;66;43;03m# Provide required input (DataFrame or result from previous pipeline step)\u001B[39;49;00m\n\u001B[0;32m    178\u001B[0m \u001B[43m        \u001B[49m\u001B[43mpipe_input\u001B[49m\u001B[43m,\u001B[49m\n\u001B[0;32m    179\u001B[0m \u001B[43m        \u001B[49m\u001B[38;5;66;43;03m# Provide arguments for Pipe 1\u001B[39;49;00m\n\u001B[0;32m    180\u001B[0m \u001B[43m        \u001B[49m\u001B[43mstart\u001B[49m\u001B[38;5;241;43m=\u001B[39;49m\u001B[43mstart\u001B[49m\u001B[43m,\u001B[49m\u001B[43m \u001B[49m\u001B[43mend\u001B[49m\u001B[38;5;241;43m=\u001B[39;49m\u001B[43mend\u001B[49m\u001B[43m,\u001B[49m\n\u001B[0;32m    181\u001B[0m \u001B[43m        \u001B[49m\u001B[43mdate_col\u001B[49m\u001B[38;5;241;43m=\u001B[39;49m\u001B[43mdate_col\u001B[49m\u001B[43m,\u001B[49m\u001B[43m \u001B[49m\u001B[43mdate_format\u001B[49m\u001B[38;5;241;43m=\u001B[39;49m\u001B[43mdate_format\u001B[49m\u001B[43m,\u001B[49m\n\u001B[0;32m    182\u001B[0m \u001B[43m        \u001B[49m\u001B[43mtarget\u001B[49m\u001B[38;5;241;43m=\u001B[39;49m\u001B[43mtarget\u001B[49m\u001B[43m,\u001B[49m\u001B[43m \u001B[49m\u001B[43mcovariates\u001B[49m\u001B[38;5;241;43m=\u001B[39;49m\u001B[43mcovariates\u001B[49m\u001B[43m,\u001B[49m\u001B[43m \u001B[49m\u001B[43mexclude\u001B[49m\u001B[38;5;241;43m=\u001B[39;49m\u001B[43mexclude\u001B[49m\u001B[43m,\u001B[49m\n\u001B[0;32m    183\u001B[0m \u001B[43m        \u001B[49m\u001B[43magg_method\u001B[49m\u001B[38;5;241;43m=\u001B[39;49m\u001B[43magg_method\u001B[49m\u001B[43m,\u001B[49m\u001B[43m \u001B[49m\u001B[43magg_freq\u001B[49m\u001B[38;5;241;43m=\u001B[39;49m\u001B[43magg_freq\u001B[49m\u001B[43m,\u001B[49m\n\u001B[0;32m    184\u001B[0m \u001B[43m        \u001B[49m\u001B[38;5;66;43;03m# Provide arguments for Pipe 2\u001B[39;49;00m\n\u001B[0;32m    185\u001B[0m \u001B[43m        \u001B[49m\u001B[43mforecasters\u001B[49m\u001B[38;5;241;43m=\u001B[39;49m\u001B[43mmodels\u001B[49m\u001B[43m[\u001B[49m\u001B[38;5;124;43m'\u001B[39;49m\u001B[38;5;124;43mFORECASTERS\u001B[39;49m\u001B[38;5;124;43m'\u001B[39;49m\u001B[43m]\u001B[49m\u001B[43m,\u001B[49m\u001B[43m \u001B[49m\u001B[43mselect_forecasters\u001B[49m\u001B[38;5;241;43m=\u001B[39;49m\u001B[43mselect_forecasters\u001B[49m\u001B[43m,\u001B[49m\n\u001B[0;32m    186\u001B[0m \u001B[43m        \u001B[49m\u001B[43mforecast_init_train\u001B[49m\u001B[38;5;241;43m=\u001B[39;49m\u001B[43mforecast_init_train\u001B[49m\u001B[43m,\u001B[49m\n\u001B[0;32m    187\u001B[0m \u001B[43m        \u001B[49m\u001B[43mautosarimax_refit_interval\u001B[49m\u001B[38;5;241;43m=\u001B[39;49m\u001B[43mautosarimax_refit_interval\u001B[49m\u001B[43m,\u001B[49m\n\u001B[0;32m    188\u001B[0m \u001B[43m        \u001B[49m\u001B[38;5;66;43;03m# Provide arguments for Pipe 3\u001B[39;49;00m\n\u001B[0;32m    189\u001B[0m \u001B[43m        \u001B[49m\u001B[43mensemblers\u001B[49m\u001B[38;5;241;43m=\u001B[39;49m\u001B[43mmodels\u001B[49m\u001B[43m[\u001B[49m\u001B[38;5;124;43m'\u001B[39;49m\u001B[38;5;124;43mENSEMBLERS\u001B[39;49m\u001B[38;5;124;43m'\u001B[39;49m\u001B[43m]\u001B[49m\u001B[43m,\u001B[49m\u001B[43m \u001B[49m\u001B[43mselect_ensemblers\u001B[49m\u001B[38;5;241;43m=\u001B[39;49m\u001B[43mselect_ensemblers\u001B[49m\u001B[43m,\u001B[49m\n\u001B[0;32m    190\u001B[0m \u001B[43m        \u001B[49m\u001B[43mensemble_init_train\u001B[49m\u001B[38;5;241;43m=\u001B[39;49m\u001B[43mensemble_init_train\u001B[49m\u001B[43m,\u001B[49m\n\u001B[0;32m    191\u001B[0m \u001B[43m        \u001B[49m\u001B[38;5;66;43;03m# Provide arguments for Pipe 4\u001B[39;49;00m\n\u001B[0;32m    192\u001B[0m \u001B[43m        \u001B[49m\u001B[43mmetrics\u001B[49m\u001B[38;5;241;43m=\u001B[39;49m\u001B[43mmetrics\u001B[49m\u001B[43m,\u001B[49m\n\u001B[0;32m    193\u001B[0m \u001B[43m        \u001B[49m\u001B[43msort_by\u001B[49m\u001B[38;5;241;43m=\u001B[39;49m\u001B[43msort_by\u001B[49m\u001B[43m,\u001B[49m\n\u001B[0;32m    194\u001B[0m \u001B[43m        \u001B[49m\u001B[38;5;66;43;03m# Generic/shared arguments\u001B[39;49;00m\n\u001B[0;32m    195\u001B[0m \u001B[43m        \u001B[49m\u001B[43mfh\u001B[49m\u001B[38;5;241;43m=\u001B[39;49m\u001B[43mfh\u001B[49m\u001B[43m,\u001B[49m\n\u001B[0;32m    196\u001B[0m \u001B[43m        \u001B[49m\u001B[43mexport_path\u001B[49m\u001B[38;5;241;43m=\u001B[39;49m\u001B[43mexport_path\u001B[49m\u001B[43m,\u001B[49m\n\u001B[0;32m    197\u001B[0m \u001B[43m        \u001B[49m\u001B[43merrors\u001B[49m\u001B[38;5;241;43m=\u001B[39;49m\u001B[43merrors\u001B[49m\u001B[43m,\u001B[49m\u001B[43m \u001B[49m\u001B[43mverbose\u001B[49m\u001B[38;5;241;43m=\u001B[39;49m\u001B[43mverbose\u001B[49m\u001B[43m,\u001B[49m\n\u001B[0;32m    198\u001B[0m \u001B[43m        \u001B[49m\u001B[38;5;241;43m*\u001B[39;49m\u001B[43margs\u001B[49m\u001B[43m,\u001B[49m\u001B[43m \u001B[49m\u001B[38;5;241;43m*\u001B[39;49m\u001B[38;5;241;43m*\u001B[39;49m\u001B[43mkwargs\u001B[49m\n\u001B[0;32m    199\u001B[0m \u001B[43m    \u001B[49m\u001B[43m)\u001B[49m\n\u001B[0;32m    201\u001B[0m     \u001B[38;5;66;03m# Store results to output dictionary\u001B[39;00m\n\u001B[0;32m    202\u001B[0m     output_dict[expected_outputs[step]] \u001B[38;5;241m=\u001B[39m pipe_output\n",
      "File \u001B[1;32m~\\OneDrive\\GAU\\3. Semester\\Statistisches Praktikum\\Git\\NEW_Ensemble_Techniques_TS_FC\\src\\pipeline\\processes\\pipe2_individual_forecasts.py:419\u001B[0m, in \u001B[0;36mpipe2_individual_forecasts\u001B[1;34m(target_covariates_tuple, forecasters, forecast_init_train, fh, select_forecasters, autosarimax_refit_interval, export_path, verbose, *args, **kwargs)\u001B[0m\n\u001B[0;32m    414\u001B[0m     model\u001B[38;5;241m.\u001B[39mfit(y\u001B[38;5;241m=\u001B[39mcurrent_y_train_arima, X\u001B[38;5;241m=\u001B[39mcurrent_X_train_arima)\n\u001B[0;32m    416\u001B[0m \u001B[38;5;66;03m# Update:\u001B[39;00m\n\u001B[0;32m    417\u001B[0m \u001B[38;5;28;01melse\u001B[39;00m:\n\u001B[0;32m    418\u001B[0m     \u001B[38;5;66;03m# Update model parameters/coefficients in all other periods\u001B[39;00m\n\u001B[1;32m--> 419\u001B[0m     \u001B[43mmodel\u001B[49m\u001B[38;5;241;43m.\u001B[39;49m\u001B[43mupdate\u001B[49m\u001B[43m(\u001B[49m\n\u001B[0;32m    420\u001B[0m \u001B[43m        \u001B[49m\u001B[43my\u001B[49m\u001B[38;5;241;43m=\u001B[39;49m\u001B[43mcurrent_y_train_arima\u001B[49m\u001B[43m,\u001B[49m\u001B[43m \u001B[49m\u001B[43mX\u001B[49m\u001B[38;5;241;43m=\u001B[39;49m\u001B[43mcurrent_X_train_arima\u001B[49m\n\u001B[0;32m    421\u001B[0m \u001B[43m    \u001B[49m\u001B[43m)\u001B[49m\n\u001B[0;32m    423\u001B[0m \u001B[38;5;66;03m# Print forecast update\u001B[39;00m\n\u001B[0;32m    424\u001B[0m \u001B[38;5;28;01mif\u001B[39;00m k \u001B[38;5;241m+\u001B[39m \u001B[38;5;241m1\u001B[39m \u001B[38;5;129;01min\u001B[39;00m printed_k:\n",
      "File \u001B[1;32m~\\OneDrive\\GAU\\3. Semester\\Statistisches Praktikum\\Git\\NEW_Ensemble_Techniques_TS_FC\\venv\\Lib\\site-packages\\sktime\\forecasting\\base\\_base.py:949\u001B[0m, in \u001B[0;36mBaseForecaster.update\u001B[1;34m(self, y, X, update_params)\u001B[0m\n\u001B[0;32m    947\u001B[0m \u001B[38;5;66;03m# checks and conversions complete, pass to inner fit\u001B[39;00m\n\u001B[0;32m    948\u001B[0m \u001B[38;5;28;01mif\u001B[39;00m \u001B[38;5;129;01mnot\u001B[39;00m \u001B[38;5;28mself\u001B[39m\u001B[38;5;241m.\u001B[39m_is_vectorized:\n\u001B[1;32m--> 949\u001B[0m     \u001B[38;5;28;43mself\u001B[39;49m\u001B[38;5;241;43m.\u001B[39;49m\u001B[43m_update\u001B[49m\u001B[43m(\u001B[49m\u001B[43my\u001B[49m\u001B[38;5;241;43m=\u001B[39;49m\u001B[43my_inner\u001B[49m\u001B[43m,\u001B[49m\u001B[43m \u001B[49m\u001B[43mX\u001B[49m\u001B[38;5;241;43m=\u001B[39;49m\u001B[43mX_inner\u001B[49m\u001B[43m,\u001B[49m\u001B[43m \u001B[49m\u001B[43mupdate_params\u001B[49m\u001B[38;5;241;43m=\u001B[39;49m\u001B[43mupdate_params\u001B[49m\u001B[43m)\u001B[49m\n\u001B[0;32m    950\u001B[0m \u001B[38;5;28;01melse\u001B[39;00m:\n\u001B[0;32m    951\u001B[0m     \u001B[38;5;28mself\u001B[39m\u001B[38;5;241m.\u001B[39m_vectorize(\u001B[38;5;124m\"\u001B[39m\u001B[38;5;124mupdate\u001B[39m\u001B[38;5;124m\"\u001B[39m, y\u001B[38;5;241m=\u001B[39my_inner, X\u001B[38;5;241m=\u001B[39mX_inner, update_params\u001B[38;5;241m=\u001B[39mupdate_params)\n",
      "File \u001B[1;32m~\\OneDrive\\GAU\\3. Semester\\Statistisches Praktikum\\Git\\NEW_Ensemble_Techniques_TS_FC\\venv\\Lib\\site-packages\\sktime\\forecasting\\arima\\_pmdarima.py:455\u001B[0m, in \u001B[0;36mAutoARIMA._update\u001B[1;34m(self, y, X, update_params)\u001B[0m\n\u001B[0;32m    453\u001B[0m         \u001B[38;5;28;01mif\u001B[39;00m X \u001B[38;5;129;01mis\u001B[39;00m \u001B[38;5;129;01mnot\u001B[39;00m \u001B[38;5;28;01mNone\u001B[39;00m:\n\u001B[0;32m    454\u001B[0m             X \u001B[38;5;241m=\u001B[39m X\u001B[38;5;241m.\u001B[39mloc[y\u001B[38;5;241m.\u001B[39mindex]\n\u001B[1;32m--> 455\u001B[0m         \u001B[38;5;28;43mself\u001B[39;49m\u001B[38;5;241;43m.\u001B[39;49m\u001B[43m_forecaster\u001B[49m\u001B[38;5;241;43m.\u001B[39;49m\u001B[43mupdate\u001B[49m\u001B[43m(\u001B[49m\u001B[43my\u001B[49m\u001B[38;5;241;43m=\u001B[39;49m\u001B[43my\u001B[49m\u001B[43m,\u001B[49m\u001B[43m \u001B[49m\u001B[43mX\u001B[49m\u001B[38;5;241;43m=\u001B[39;49m\u001B[43mX\u001B[49m\u001B[43m)\u001B[49m\n\u001B[0;32m    456\u001B[0m \u001B[38;5;28;01mreturn\u001B[39;00m \u001B[38;5;28mself\u001B[39m\n",
      "File \u001B[1;32m~\\OneDrive\\GAU\\3. Semester\\Statistisches Praktikum\\Git\\NEW_Ensemble_Techniques_TS_FC\\venv\\Lib\\site-packages\\pmdarima\\utils\\metaestimators.py:53\u001B[0m, in \u001B[0;36m_IffHasDelegate.__get__.<locals>.<lambda>\u001B[1;34m(*args, **kwargs)\u001B[0m\n\u001B[0;32m     50\u001B[0m         attrgetter(\u001B[38;5;28mself\u001B[39m\u001B[38;5;241m.\u001B[39mdelegate_names[\u001B[38;5;241m-\u001B[39m\u001B[38;5;241m1\u001B[39m])(obj)\n\u001B[0;32m     52\u001B[0m \u001B[38;5;66;03m# lambda, but not partial, allows help() to work with update_wrapper\u001B[39;00m\n\u001B[1;32m---> 53\u001B[0m out \u001B[38;5;241m=\u001B[39m (\u001B[38;5;28;01mlambda\u001B[39;00m \u001B[38;5;241m*\u001B[39margs, \u001B[38;5;241m*\u001B[39m\u001B[38;5;241m*\u001B[39mkwargs: \u001B[38;5;28;43mself\u001B[39;49m\u001B[38;5;241;43m.\u001B[39;49m\u001B[43mfn\u001B[49m\u001B[43m(\u001B[49m\u001B[43mobj\u001B[49m\u001B[43m,\u001B[49m\u001B[43m \u001B[49m\u001B[38;5;241;43m*\u001B[39;49m\u001B[43margs\u001B[49m\u001B[43m,\u001B[49m\u001B[43m \u001B[49m\u001B[38;5;241;43m*\u001B[39;49m\u001B[38;5;241;43m*\u001B[39;49m\u001B[43mkwargs\u001B[49m\u001B[43m)\u001B[49m)\n\u001B[0;32m     54\u001B[0m \u001B[38;5;66;03m# update the docstring of the returned function\u001B[39;00m\n\u001B[0;32m     55\u001B[0m update_wrapper(out, \u001B[38;5;28mself\u001B[39m\u001B[38;5;241m.\u001B[39mfn)\n",
      "File \u001B[1;32m~\\OneDrive\\GAU\\3. Semester\\Statistisches Praktikum\\Git\\NEW_Ensemble_Techniques_TS_FC\\venv\\Lib\\site-packages\\pmdarima\\arima\\auto.py:258\u001B[0m, in \u001B[0;36mAutoARIMA.update\u001B[1;34m(self, y, X, maxiter, **kwargs)\u001B[0m\n\u001B[0;32m    250\u001B[0m \u001B[38;5;129m@if_has_delegate\u001B[39m(\u001B[38;5;124m\"\u001B[39m\u001B[38;5;124mmodel_\u001B[39m\u001B[38;5;124m\"\u001B[39m)\n\u001B[0;32m    251\u001B[0m \u001B[38;5;28;01mdef\u001B[39;00m \u001B[38;5;21mupdate\u001B[39m(\n\u001B[0;32m    252\u001B[0m     \u001B[38;5;28mself\u001B[39m,\n\u001B[1;32m   (...)\u001B[0m\n\u001B[0;32m    256\u001B[0m     \u001B[38;5;241m*\u001B[39m\u001B[38;5;241m*\u001B[39mkwargs,\n\u001B[0;32m    257\u001B[0m ):\n\u001B[1;32m--> 258\u001B[0m     \u001B[38;5;28;01mreturn\u001B[39;00m \u001B[38;5;28;43mself\u001B[39;49m\u001B[38;5;241;43m.\u001B[39;49m\u001B[43mmodel_\u001B[49m\u001B[38;5;241;43m.\u001B[39;49m\u001B[43mupdate\u001B[49m\u001B[43m(\u001B[49m\n\u001B[0;32m    259\u001B[0m \u001B[43m        \u001B[49m\u001B[43my\u001B[49m\u001B[43m,\u001B[49m\n\u001B[0;32m    260\u001B[0m \u001B[43m        \u001B[49m\u001B[43mX\u001B[49m\u001B[38;5;241;43m=\u001B[39;49m\u001B[43mX\u001B[49m\u001B[43m,\u001B[49m\n\u001B[0;32m    261\u001B[0m \u001B[43m        \u001B[49m\u001B[43mmaxiter\u001B[49m\u001B[38;5;241;43m=\u001B[39;49m\u001B[43mmaxiter\u001B[49m\u001B[43m,\u001B[49m\n\u001B[0;32m    262\u001B[0m \u001B[43m        \u001B[49m\u001B[38;5;241;43m*\u001B[39;49m\u001B[38;5;241;43m*\u001B[39;49m\u001B[43mkwargs\u001B[49m\n\u001B[0;32m    263\u001B[0m \u001B[43m    \u001B[49m\u001B[43m)\u001B[49m\n",
      "File \u001B[1;32m~\\OneDrive\\GAU\\3. Semester\\Statistisches Praktikum\\Git\\NEW_Ensemble_Techniques_TS_FC\\venv\\Lib\\site-packages\\pmdarima\\arima\\arima.py:973\u001B[0m, in \u001B[0;36mARIMA.update\u001B[1;34m(self, y, X, maxiter, **kwargs)\u001B[0m\n\u001B[0;32m    968\u001B[0m \u001B[38;5;66;03m# Get the model parameters, then we have to \"fit\" a new one. If you're\u001B[39;00m\n\u001B[0;32m    969\u001B[0m \u001B[38;5;66;03m# reading this source code, don't panic! We're not just fitting a new\u001B[39;00m\n\u001B[0;32m    970\u001B[0m \u001B[38;5;66;03m# arbitrary model. Statsmodels does not handle patching new samples in\u001B[39;00m\n\u001B[0;32m    971\u001B[0m \u001B[38;5;66;03m# very well, so we seed the new model with the existing parameters.\u001B[39;00m\n\u001B[0;32m    972\u001B[0m params \u001B[38;5;241m=\u001B[39m model_res\u001B[38;5;241m.\u001B[39mparams\n\u001B[1;32m--> 973\u001B[0m \u001B[38;5;28;43mself\u001B[39;49m\u001B[38;5;241;43m.\u001B[39;49m\u001B[43m_fit\u001B[49m\u001B[43m(\u001B[49m\u001B[43my\u001B[49m\u001B[43m,\u001B[49m\u001B[43m \u001B[49m\u001B[43mX_prime\u001B[49m\u001B[43m,\u001B[49m\u001B[43m \u001B[49m\u001B[43mstart_params\u001B[49m\u001B[38;5;241;43m=\u001B[39;49m\u001B[43mparams\u001B[49m\u001B[43m,\u001B[49m\u001B[43m \u001B[49m\u001B[43mmaxiter\u001B[49m\u001B[38;5;241;43m=\u001B[39;49m\u001B[43mmaxiter\u001B[49m\u001B[43m,\u001B[49m\u001B[43m \u001B[49m\u001B[38;5;241;43m*\u001B[39;49m\u001B[38;5;241;43m*\u001B[39;49m\u001B[43mkwargs\u001B[49m\u001B[43m)\u001B[49m\n\u001B[0;32m    975\u001B[0m \u001B[38;5;66;03m# Behaves like `fit`\u001B[39;00m\n\u001B[0;32m    976\u001B[0m \u001B[38;5;28;01mreturn\u001B[39;00m \u001B[38;5;28mself\u001B[39m\n",
      "File \u001B[1;32m~\\OneDrive\\GAU\\3. Semester\\Statistisches Praktikum\\Git\\NEW_Ensemble_Techniques_TS_FC\\venv\\Lib\\site-packages\\pmdarima\\arima\\arima.py:524\u001B[0m, in \u001B[0;36mARIMA._fit\u001B[1;34m(self, y, X, **fit_args)\u001B[0m\n\u001B[0;32m    522\u001B[0m     \u001B[38;5;28;01mwith\u001B[39;00m warnings\u001B[38;5;241m.\u001B[39mcatch_warnings(record\u001B[38;5;241m=\u001B[39m\u001B[38;5;28;01mFalse\u001B[39;00m):\n\u001B[0;32m    523\u001B[0m         warnings\u001B[38;5;241m.\u001B[39msimplefilter(\u001B[38;5;124m'\u001B[39m\u001B[38;5;124mignore\u001B[39m\u001B[38;5;124m'\u001B[39m)\n\u001B[1;32m--> 524\u001B[0m         fit, \u001B[38;5;28mself\u001B[39m\u001B[38;5;241m.\u001B[39marima_res_ \u001B[38;5;241m=\u001B[39m \u001B[43m_fit_wrapper\u001B[49m\u001B[43m(\u001B[49m\u001B[43m)\u001B[49m\n\u001B[0;32m    525\u001B[0m \u001B[38;5;28;01melse\u001B[39;00m:\n\u001B[0;32m    526\u001B[0m     fit, \u001B[38;5;28mself\u001B[39m\u001B[38;5;241m.\u001B[39marima_res_ \u001B[38;5;241m=\u001B[39m _fit_wrapper()\n",
      "File \u001B[1;32m~\\OneDrive\\GAU\\3. Semester\\Statistisches Praktikum\\Git\\NEW_Ensemble_Techniques_TS_FC\\venv\\Lib\\site-packages\\pmdarima\\arima\\arima.py:510\u001B[0m, in \u001B[0;36mARIMA._fit.<locals>._fit_wrapper\u001B[1;34m()\u001B[0m\n\u001B[0;32m    507\u001B[0m _maxiter \u001B[38;5;241m=\u001B[39m fit_args\u001B[38;5;241m.\u001B[39mpop(\u001B[38;5;124m\"\u001B[39m\u001B[38;5;124mmaxiter\u001B[39m\u001B[38;5;124m\"\u001B[39m, _maxiter)\n\u001B[0;32m    509\u001B[0m disp \u001B[38;5;241m=\u001B[39m fit_args\u001B[38;5;241m.\u001B[39mpop(\u001B[38;5;124m\"\u001B[39m\u001B[38;5;124mdisp\u001B[39m\u001B[38;5;124m\"\u001B[39m, \u001B[38;5;241m0\u001B[39m)\n\u001B[1;32m--> 510\u001B[0m fitted \u001B[38;5;241m=\u001B[39m \u001B[43marima\u001B[49m\u001B[38;5;241;43m.\u001B[39;49m\u001B[43mfit\u001B[49m\u001B[43m(\u001B[49m\n\u001B[0;32m    511\u001B[0m \u001B[43m    \u001B[49m\u001B[43mstart_params\u001B[49m\u001B[38;5;241;43m=\u001B[39;49m\u001B[43mstart_params\u001B[49m\u001B[43m,\u001B[49m\n\u001B[0;32m    512\u001B[0m \u001B[43m    \u001B[49m\u001B[43mmethod\u001B[49m\u001B[38;5;241;43m=\u001B[39;49m\u001B[43mmethod\u001B[49m\u001B[43m,\u001B[49m\n\u001B[0;32m    513\u001B[0m \u001B[43m    \u001B[49m\u001B[43mmaxiter\u001B[49m\u001B[38;5;241;43m=\u001B[39;49m\u001B[43m_maxiter\u001B[49m\u001B[43m,\u001B[49m\n\u001B[0;32m    514\u001B[0m \u001B[43m    \u001B[49m\u001B[43mdisp\u001B[49m\u001B[38;5;241;43m=\u001B[39;49m\u001B[43mdisp\u001B[49m\u001B[43m,\u001B[49m\n\u001B[0;32m    515\u001B[0m \u001B[43m    \u001B[49m\u001B[38;5;241;43m*\u001B[39;49m\u001B[38;5;241;43m*\u001B[39;49m\u001B[43mfit_args\u001B[49m\u001B[43m,\u001B[49m\n\u001B[0;32m    516\u001B[0m \u001B[43m\u001B[49m\u001B[43m)\u001B[49m\n\u001B[0;32m    518\u001B[0m \u001B[38;5;28;01mreturn\u001B[39;00m arima, fitted\n",
      "File \u001B[1;32m~\\OneDrive\\GAU\\3. Semester\\Statistisches Praktikum\\Git\\NEW_Ensemble_Techniques_TS_FC\\venv\\Lib\\site-packages\\statsmodels\\tsa\\statespace\\mlemodel.py:704\u001B[0m, in \u001B[0;36mMLEModel.fit\u001B[1;34m(self, start_params, transformed, includes_fixed, cov_type, cov_kwds, method, maxiter, full_output, disp, callback, return_params, optim_score, optim_complex_step, optim_hessian, flags, low_memory, **kwargs)\u001B[0m\n\u001B[0;32m    702\u001B[0m         flags[\u001B[38;5;124m'\u001B[39m\u001B[38;5;124mhessian_method\u001B[39m\u001B[38;5;124m'\u001B[39m] \u001B[38;5;241m=\u001B[39m optim_hessian\n\u001B[0;32m    703\u001B[0m     fargs \u001B[38;5;241m=\u001B[39m (flags,)\n\u001B[1;32m--> 704\u001B[0m     mlefit \u001B[38;5;241m=\u001B[39m \u001B[38;5;28;43msuper\u001B[39;49m\u001B[43m(\u001B[49m\u001B[43mMLEModel\u001B[49m\u001B[43m,\u001B[49m\u001B[43m \u001B[49m\u001B[38;5;28;43mself\u001B[39;49m\u001B[43m)\u001B[49m\u001B[38;5;241;43m.\u001B[39;49m\u001B[43mfit\u001B[49m\u001B[43m(\u001B[49m\u001B[43mstart_params\u001B[49m\u001B[43m,\u001B[49m\u001B[43m \u001B[49m\u001B[43mmethod\u001B[49m\u001B[38;5;241;43m=\u001B[39;49m\u001B[43mmethod\u001B[49m\u001B[43m,\u001B[49m\n\u001B[0;32m    705\u001B[0m \u001B[43m                                       \u001B[49m\u001B[43mfargs\u001B[49m\u001B[38;5;241;43m=\u001B[39;49m\u001B[43mfargs\u001B[49m\u001B[43m,\u001B[49m\n\u001B[0;32m    706\u001B[0m \u001B[43m                                       \u001B[49m\u001B[43mmaxiter\u001B[49m\u001B[38;5;241;43m=\u001B[39;49m\u001B[43mmaxiter\u001B[49m\u001B[43m,\u001B[49m\n\u001B[0;32m    707\u001B[0m \u001B[43m                                       \u001B[49m\u001B[43mfull_output\u001B[49m\u001B[38;5;241;43m=\u001B[39;49m\u001B[43mfull_output\u001B[49m\u001B[43m,\u001B[49m\n\u001B[0;32m    708\u001B[0m \u001B[43m                                       \u001B[49m\u001B[43mdisp\u001B[49m\u001B[38;5;241;43m=\u001B[39;49m\u001B[43mdisp\u001B[49m\u001B[43m,\u001B[49m\u001B[43m \u001B[49m\u001B[43mcallback\u001B[49m\u001B[38;5;241;43m=\u001B[39;49m\u001B[43mcallback\u001B[49m\u001B[43m,\u001B[49m\n\u001B[0;32m    709\u001B[0m \u001B[43m                                       \u001B[49m\u001B[43mskip_hessian\u001B[49m\u001B[38;5;241;43m=\u001B[39;49m\u001B[38;5;28;43;01mTrue\u001B[39;49;00m\u001B[43m,\u001B[49m\u001B[43m \u001B[49m\u001B[38;5;241;43m*\u001B[39;49m\u001B[38;5;241;43m*\u001B[39;49m\u001B[43mkwargs\u001B[49m\u001B[43m)\u001B[49m\n\u001B[0;32m    711\u001B[0m \u001B[38;5;66;03m# Just return the fitted parameters if requested\u001B[39;00m\n\u001B[0;32m    712\u001B[0m \u001B[38;5;28;01mif\u001B[39;00m return_params:\n",
      "File \u001B[1;32m~\\OneDrive\\GAU\\3. Semester\\Statistisches Praktikum\\Git\\NEW_Ensemble_Techniques_TS_FC\\venv\\Lib\\site-packages\\statsmodels\\base\\model.py:566\u001B[0m, in \u001B[0;36mLikelihoodModel.fit\u001B[1;34m(self, start_params, method, maxiter, full_output, disp, fargs, callback, retall, skip_hessian, **kwargs)\u001B[0m\n\u001B[0;32m    563\u001B[0m     \u001B[38;5;28;01mdel\u001B[39;00m kwargs[\u001B[38;5;124m\"\u001B[39m\u001B[38;5;124muse_t\u001B[39m\u001B[38;5;124m\"\u001B[39m]\n\u001B[0;32m    565\u001B[0m optimizer \u001B[38;5;241m=\u001B[39m Optimizer()\n\u001B[1;32m--> 566\u001B[0m xopt, retvals, optim_settings \u001B[38;5;241m=\u001B[39m \u001B[43moptimizer\u001B[49m\u001B[38;5;241;43m.\u001B[39;49m\u001B[43m_fit\u001B[49m\u001B[43m(\u001B[49m\u001B[43mf\u001B[49m\u001B[43m,\u001B[49m\u001B[43m \u001B[49m\u001B[43mscore\u001B[49m\u001B[43m,\u001B[49m\u001B[43m \u001B[49m\u001B[43mstart_params\u001B[49m\u001B[43m,\u001B[49m\n\u001B[0;32m    567\u001B[0m \u001B[43m                                               \u001B[49m\u001B[43mfargs\u001B[49m\u001B[43m,\u001B[49m\u001B[43m \u001B[49m\u001B[43mkwargs\u001B[49m\u001B[43m,\u001B[49m\n\u001B[0;32m    568\u001B[0m \u001B[43m                                               \u001B[49m\u001B[43mhessian\u001B[49m\u001B[38;5;241;43m=\u001B[39;49m\u001B[43mhess\u001B[49m\u001B[43m,\u001B[49m\n\u001B[0;32m    569\u001B[0m \u001B[43m                                               \u001B[49m\u001B[43mmethod\u001B[49m\u001B[38;5;241;43m=\u001B[39;49m\u001B[43mmethod\u001B[49m\u001B[43m,\u001B[49m\n\u001B[0;32m    570\u001B[0m \u001B[43m                                               \u001B[49m\u001B[43mdisp\u001B[49m\u001B[38;5;241;43m=\u001B[39;49m\u001B[43mdisp\u001B[49m\u001B[43m,\u001B[49m\n\u001B[0;32m    571\u001B[0m \u001B[43m                                               \u001B[49m\u001B[43mmaxiter\u001B[49m\u001B[38;5;241;43m=\u001B[39;49m\u001B[43mmaxiter\u001B[49m\u001B[43m,\u001B[49m\n\u001B[0;32m    572\u001B[0m \u001B[43m                                               \u001B[49m\u001B[43mcallback\u001B[49m\u001B[38;5;241;43m=\u001B[39;49m\u001B[43mcallback\u001B[49m\u001B[43m,\u001B[49m\n\u001B[0;32m    573\u001B[0m \u001B[43m                                               \u001B[49m\u001B[43mretall\u001B[49m\u001B[38;5;241;43m=\u001B[39;49m\u001B[43mretall\u001B[49m\u001B[43m,\u001B[49m\n\u001B[0;32m    574\u001B[0m \u001B[43m                                               \u001B[49m\u001B[43mfull_output\u001B[49m\u001B[38;5;241;43m=\u001B[39;49m\u001B[43mfull_output\u001B[49m\u001B[43m)\u001B[49m\n\u001B[0;32m    575\u001B[0m \u001B[38;5;66;03m# Restore cov_type, cov_kwds and use_t\u001B[39;00m\n\u001B[0;32m    576\u001B[0m optim_settings\u001B[38;5;241m.\u001B[39mupdate(kwds)\n",
      "File \u001B[1;32m~\\OneDrive\\GAU\\3. Semester\\Statistisches Praktikum\\Git\\NEW_Ensemble_Techniques_TS_FC\\venv\\Lib\\site-packages\\statsmodels\\base\\optimizer.py:242\u001B[0m, in \u001B[0;36mOptimizer._fit\u001B[1;34m(self, objective, gradient, start_params, fargs, kwargs, hessian, method, maxiter, full_output, disp, callback, retall)\u001B[0m\n\u001B[0;32m    239\u001B[0m     fit_funcs\u001B[38;5;241m.\u001B[39mupdate(extra_fit_funcs)\n\u001B[0;32m    241\u001B[0m func \u001B[38;5;241m=\u001B[39m fit_funcs[method]\n\u001B[1;32m--> 242\u001B[0m xopt, retvals \u001B[38;5;241m=\u001B[39m \u001B[43mfunc\u001B[49m\u001B[43m(\u001B[49m\u001B[43mobjective\u001B[49m\u001B[43m,\u001B[49m\u001B[43m \u001B[49m\u001B[43mgradient\u001B[49m\u001B[43m,\u001B[49m\u001B[43m \u001B[49m\u001B[43mstart_params\u001B[49m\u001B[43m,\u001B[49m\u001B[43m \u001B[49m\u001B[43mfargs\u001B[49m\u001B[43m,\u001B[49m\u001B[43m \u001B[49m\u001B[43mkwargs\u001B[49m\u001B[43m,\u001B[49m\n\u001B[0;32m    243\u001B[0m \u001B[43m                     \u001B[49m\u001B[43mdisp\u001B[49m\u001B[38;5;241;43m=\u001B[39;49m\u001B[43mdisp\u001B[49m\u001B[43m,\u001B[49m\u001B[43m \u001B[49m\u001B[43mmaxiter\u001B[49m\u001B[38;5;241;43m=\u001B[39;49m\u001B[43mmaxiter\u001B[49m\u001B[43m,\u001B[49m\u001B[43m \u001B[49m\u001B[43mcallback\u001B[49m\u001B[38;5;241;43m=\u001B[39;49m\u001B[43mcallback\u001B[49m\u001B[43m,\u001B[49m\n\u001B[0;32m    244\u001B[0m \u001B[43m                     \u001B[49m\u001B[43mretall\u001B[49m\u001B[38;5;241;43m=\u001B[39;49m\u001B[43mretall\u001B[49m\u001B[43m,\u001B[49m\u001B[43m \u001B[49m\u001B[43mfull_output\u001B[49m\u001B[38;5;241;43m=\u001B[39;49m\u001B[43mfull_output\u001B[49m\u001B[43m,\u001B[49m\n\u001B[0;32m    245\u001B[0m \u001B[43m                     \u001B[49m\u001B[43mhess\u001B[49m\u001B[38;5;241;43m=\u001B[39;49m\u001B[43mhessian\u001B[49m\u001B[43m)\u001B[49m\n\u001B[0;32m    247\u001B[0m optim_settings \u001B[38;5;241m=\u001B[39m {\u001B[38;5;124m'\u001B[39m\u001B[38;5;124moptimizer\u001B[39m\u001B[38;5;124m'\u001B[39m: method, \u001B[38;5;124m'\u001B[39m\u001B[38;5;124mstart_params\u001B[39m\u001B[38;5;124m'\u001B[39m: start_params,\n\u001B[0;32m    248\u001B[0m                   \u001B[38;5;124m'\u001B[39m\u001B[38;5;124mmaxiter\u001B[39m\u001B[38;5;124m'\u001B[39m: maxiter, \u001B[38;5;124m'\u001B[39m\u001B[38;5;124mfull_output\u001B[39m\u001B[38;5;124m'\u001B[39m: full_output,\n\u001B[0;32m    249\u001B[0m                   \u001B[38;5;124m'\u001B[39m\u001B[38;5;124mdisp\u001B[39m\u001B[38;5;124m'\u001B[39m: disp, \u001B[38;5;124m'\u001B[39m\u001B[38;5;124mfargs\u001B[39m\u001B[38;5;124m'\u001B[39m: fargs, \u001B[38;5;124m'\u001B[39m\u001B[38;5;124mcallback\u001B[39m\u001B[38;5;124m'\u001B[39m: callback,\n\u001B[0;32m    250\u001B[0m                   \u001B[38;5;124m'\u001B[39m\u001B[38;5;124mretall\u001B[39m\u001B[38;5;124m'\u001B[39m: retall, \u001B[38;5;124m\"\u001B[39m\u001B[38;5;124mextra_fit_funcs\u001B[39m\u001B[38;5;124m\"\u001B[39m: extra_fit_funcs}\n\u001B[0;32m    251\u001B[0m optim_settings\u001B[38;5;241m.\u001B[39mupdate(kwargs)\n",
      "File \u001B[1;32m~\\OneDrive\\GAU\\3. Semester\\Statistisches Praktikum\\Git\\NEW_Ensemble_Techniques_TS_FC\\venv\\Lib\\site-packages\\statsmodels\\base\\optimizer.py:659\u001B[0m, in \u001B[0;36m_fit_lbfgs\u001B[1;34m(f, score, start_params, fargs, kwargs, disp, maxiter, callback, retall, full_output, hess)\u001B[0m\n\u001B[0;32m    656\u001B[0m \u001B[38;5;28;01melif\u001B[39;00m approx_grad:\n\u001B[0;32m    657\u001B[0m     func \u001B[38;5;241m=\u001B[39m f\n\u001B[1;32m--> 659\u001B[0m retvals \u001B[38;5;241m=\u001B[39m \u001B[43moptimize\u001B[49m\u001B[38;5;241;43m.\u001B[39;49m\u001B[43mfmin_l_bfgs_b\u001B[49m\u001B[43m(\u001B[49m\u001B[43mfunc\u001B[49m\u001B[43m,\u001B[49m\u001B[43m \u001B[49m\u001B[43mstart_params\u001B[49m\u001B[43m,\u001B[49m\u001B[43m \u001B[49m\u001B[43mmaxiter\u001B[49m\u001B[38;5;241;43m=\u001B[39;49m\u001B[43mmaxiter\u001B[49m\u001B[43m,\u001B[49m\n\u001B[0;32m    660\u001B[0m \u001B[43m                                 \u001B[49m\u001B[43mcallback\u001B[49m\u001B[38;5;241;43m=\u001B[39;49m\u001B[43mcallback\u001B[49m\u001B[43m,\u001B[49m\u001B[43m \u001B[49m\u001B[43margs\u001B[49m\u001B[38;5;241;43m=\u001B[39;49m\u001B[43mfargs\u001B[49m\u001B[43m,\u001B[49m\n\u001B[0;32m    661\u001B[0m \u001B[43m                                 \u001B[49m\u001B[43mbounds\u001B[49m\u001B[38;5;241;43m=\u001B[39;49m\u001B[43mbounds\u001B[49m\u001B[43m,\u001B[49m\u001B[43m \u001B[49m\u001B[43mdisp\u001B[49m\u001B[38;5;241;43m=\u001B[39;49m\u001B[43mdisp\u001B[49m\u001B[43m,\u001B[49m\n\u001B[0;32m    662\u001B[0m \u001B[43m                                 \u001B[49m\u001B[38;5;241;43m*\u001B[39;49m\u001B[38;5;241;43m*\u001B[39;49m\u001B[43mextra_kwargs\u001B[49m\u001B[43m)\u001B[49m\n\u001B[0;32m    664\u001B[0m \u001B[38;5;28;01mif\u001B[39;00m full_output:\n\u001B[0;32m    665\u001B[0m     xopt, fopt, d \u001B[38;5;241m=\u001B[39m retvals\n",
      "File \u001B[1;32m~\\OneDrive\\GAU\\3. Semester\\Statistisches Praktikum\\Git\\NEW_Ensemble_Techniques_TS_FC\\venv\\Lib\\site-packages\\scipy\\optimize\\_lbfgsb_py.py:199\u001B[0m, in \u001B[0;36mfmin_l_bfgs_b\u001B[1;34m(func, x0, fprime, args, approx_grad, bounds, m, factr, pgtol, epsilon, iprint, maxfun, maxiter, disp, callback, maxls)\u001B[0m\n\u001B[0;32m    187\u001B[0m callback \u001B[38;5;241m=\u001B[39m _wrap_callback(callback)\n\u001B[0;32m    188\u001B[0m opts \u001B[38;5;241m=\u001B[39m {\u001B[38;5;124m'\u001B[39m\u001B[38;5;124mdisp\u001B[39m\u001B[38;5;124m'\u001B[39m: disp,\n\u001B[0;32m    189\u001B[0m         \u001B[38;5;124m'\u001B[39m\u001B[38;5;124miprint\u001B[39m\u001B[38;5;124m'\u001B[39m: iprint,\n\u001B[0;32m    190\u001B[0m         \u001B[38;5;124m'\u001B[39m\u001B[38;5;124mmaxcor\u001B[39m\u001B[38;5;124m'\u001B[39m: m,\n\u001B[1;32m   (...)\u001B[0m\n\u001B[0;32m    196\u001B[0m         \u001B[38;5;124m'\u001B[39m\u001B[38;5;124mcallback\u001B[39m\u001B[38;5;124m'\u001B[39m: callback,\n\u001B[0;32m    197\u001B[0m         \u001B[38;5;124m'\u001B[39m\u001B[38;5;124mmaxls\u001B[39m\u001B[38;5;124m'\u001B[39m: maxls}\n\u001B[1;32m--> 199\u001B[0m res \u001B[38;5;241m=\u001B[39m \u001B[43m_minimize_lbfgsb\u001B[49m\u001B[43m(\u001B[49m\u001B[43mfun\u001B[49m\u001B[43m,\u001B[49m\u001B[43m \u001B[49m\u001B[43mx0\u001B[49m\u001B[43m,\u001B[49m\u001B[43m \u001B[49m\u001B[43margs\u001B[49m\u001B[38;5;241;43m=\u001B[39;49m\u001B[43margs\u001B[49m\u001B[43m,\u001B[49m\u001B[43m \u001B[49m\u001B[43mjac\u001B[49m\u001B[38;5;241;43m=\u001B[39;49m\u001B[43mjac\u001B[49m\u001B[43m,\u001B[49m\u001B[43m \u001B[49m\u001B[43mbounds\u001B[49m\u001B[38;5;241;43m=\u001B[39;49m\u001B[43mbounds\u001B[49m\u001B[43m,\u001B[49m\n\u001B[0;32m    200\u001B[0m \u001B[43m                       \u001B[49m\u001B[38;5;241;43m*\u001B[39;49m\u001B[38;5;241;43m*\u001B[39;49m\u001B[43mopts\u001B[49m\u001B[43m)\u001B[49m\n\u001B[0;32m    201\u001B[0m d \u001B[38;5;241m=\u001B[39m {\u001B[38;5;124m'\u001B[39m\u001B[38;5;124mgrad\u001B[39m\u001B[38;5;124m'\u001B[39m: res[\u001B[38;5;124m'\u001B[39m\u001B[38;5;124mjac\u001B[39m\u001B[38;5;124m'\u001B[39m],\n\u001B[0;32m    202\u001B[0m      \u001B[38;5;124m'\u001B[39m\u001B[38;5;124mtask\u001B[39m\u001B[38;5;124m'\u001B[39m: res[\u001B[38;5;124m'\u001B[39m\u001B[38;5;124mmessage\u001B[39m\u001B[38;5;124m'\u001B[39m],\n\u001B[0;32m    203\u001B[0m      \u001B[38;5;124m'\u001B[39m\u001B[38;5;124mfuncalls\u001B[39m\u001B[38;5;124m'\u001B[39m: res[\u001B[38;5;124m'\u001B[39m\u001B[38;5;124mnfev\u001B[39m\u001B[38;5;124m'\u001B[39m],\n\u001B[0;32m    204\u001B[0m      \u001B[38;5;124m'\u001B[39m\u001B[38;5;124mnit\u001B[39m\u001B[38;5;124m'\u001B[39m: res[\u001B[38;5;124m'\u001B[39m\u001B[38;5;124mnit\u001B[39m\u001B[38;5;124m'\u001B[39m],\n\u001B[0;32m    205\u001B[0m      \u001B[38;5;124m'\u001B[39m\u001B[38;5;124mwarnflag\u001B[39m\u001B[38;5;124m'\u001B[39m: res[\u001B[38;5;124m'\u001B[39m\u001B[38;5;124mstatus\u001B[39m\u001B[38;5;124m'\u001B[39m]}\n\u001B[0;32m    206\u001B[0m f \u001B[38;5;241m=\u001B[39m res[\u001B[38;5;124m'\u001B[39m\u001B[38;5;124mfun\u001B[39m\u001B[38;5;124m'\u001B[39m]\n",
      "File \u001B[1;32m~\\OneDrive\\GAU\\3. Semester\\Statistisches Praktikum\\Git\\NEW_Ensemble_Techniques_TS_FC\\venv\\Lib\\site-packages\\scipy\\optimize\\_lbfgsb_py.py:369\u001B[0m, in \u001B[0;36m_minimize_lbfgsb\u001B[1;34m(fun, x0, args, jac, bounds, disp, maxcor, ftol, gtol, eps, maxfun, maxiter, iprint, callback, maxls, finite_diff_rel_step, **unknown_options)\u001B[0m\n\u001B[0;32m    363\u001B[0m task_str \u001B[38;5;241m=\u001B[39m task\u001B[38;5;241m.\u001B[39mtobytes()\n\u001B[0;32m    364\u001B[0m \u001B[38;5;28;01mif\u001B[39;00m task_str\u001B[38;5;241m.\u001B[39mstartswith(\u001B[38;5;124mb\u001B[39m\u001B[38;5;124m'\u001B[39m\u001B[38;5;124mFG\u001B[39m\u001B[38;5;124m'\u001B[39m):\n\u001B[0;32m    365\u001B[0m     \u001B[38;5;66;03m# The minimization routine wants f and g at the current x.\u001B[39;00m\n\u001B[0;32m    366\u001B[0m     \u001B[38;5;66;03m# Note that interruptions due to maxfun are postponed\u001B[39;00m\n\u001B[0;32m    367\u001B[0m     \u001B[38;5;66;03m# until the completion of the current minimization iteration.\u001B[39;00m\n\u001B[0;32m    368\u001B[0m     \u001B[38;5;66;03m# Overwrite f and g:\u001B[39;00m\n\u001B[1;32m--> 369\u001B[0m     f, g \u001B[38;5;241m=\u001B[39m \u001B[43mfunc_and_grad\u001B[49m\u001B[43m(\u001B[49m\u001B[43mx\u001B[49m\u001B[43m)\u001B[49m\n\u001B[0;32m    370\u001B[0m \u001B[38;5;28;01melif\u001B[39;00m task_str\u001B[38;5;241m.\u001B[39mstartswith(\u001B[38;5;124mb\u001B[39m\u001B[38;5;124m'\u001B[39m\u001B[38;5;124mNEW_X\u001B[39m\u001B[38;5;124m'\u001B[39m):\n\u001B[0;32m    371\u001B[0m     \u001B[38;5;66;03m# new iteration\u001B[39;00m\n\u001B[0;32m    372\u001B[0m     n_iterations \u001B[38;5;241m+\u001B[39m\u001B[38;5;241m=\u001B[39m \u001B[38;5;241m1\u001B[39m\n",
      "File \u001B[1;32m~\\OneDrive\\GAU\\3. Semester\\Statistisches Praktikum\\Git\\NEW_Ensemble_Techniques_TS_FC\\venv\\Lib\\site-packages\\scipy\\optimize\\_differentiable_functions.py:296\u001B[0m, in \u001B[0;36mScalarFunction.fun_and_grad\u001B[1;34m(self, x)\u001B[0m\n\u001B[0;32m    294\u001B[0m \u001B[38;5;28;01mif\u001B[39;00m \u001B[38;5;129;01mnot\u001B[39;00m np\u001B[38;5;241m.\u001B[39marray_equal(x, \u001B[38;5;28mself\u001B[39m\u001B[38;5;241m.\u001B[39mx):\n\u001B[0;32m    295\u001B[0m     \u001B[38;5;28mself\u001B[39m\u001B[38;5;241m.\u001B[39m_update_x_impl(x)\n\u001B[1;32m--> 296\u001B[0m \u001B[38;5;28;43mself\u001B[39;49m\u001B[38;5;241;43m.\u001B[39;49m\u001B[43m_update_fun\u001B[49m\u001B[43m(\u001B[49m\u001B[43m)\u001B[49m\n\u001B[0;32m    297\u001B[0m \u001B[38;5;28mself\u001B[39m\u001B[38;5;241m.\u001B[39m_update_grad()\n\u001B[0;32m    298\u001B[0m \u001B[38;5;28;01mreturn\u001B[39;00m \u001B[38;5;28mself\u001B[39m\u001B[38;5;241m.\u001B[39mf, \u001B[38;5;28mself\u001B[39m\u001B[38;5;241m.\u001B[39mg\n",
      "File \u001B[1;32m~\\OneDrive\\GAU\\3. Semester\\Statistisches Praktikum\\Git\\NEW_Ensemble_Techniques_TS_FC\\venv\\Lib\\site-packages\\scipy\\optimize\\_differentiable_functions.py:262\u001B[0m, in \u001B[0;36mScalarFunction._update_fun\u001B[1;34m(self)\u001B[0m\n\u001B[0;32m    260\u001B[0m \u001B[38;5;28;01mdef\u001B[39;00m \u001B[38;5;21m_update_fun\u001B[39m(\u001B[38;5;28mself\u001B[39m):\n\u001B[0;32m    261\u001B[0m     \u001B[38;5;28;01mif\u001B[39;00m \u001B[38;5;129;01mnot\u001B[39;00m \u001B[38;5;28mself\u001B[39m\u001B[38;5;241m.\u001B[39mf_updated:\n\u001B[1;32m--> 262\u001B[0m         \u001B[38;5;28;43mself\u001B[39;49m\u001B[38;5;241;43m.\u001B[39;49m\u001B[43m_update_fun_impl\u001B[49m\u001B[43m(\u001B[49m\u001B[43m)\u001B[49m\n\u001B[0;32m    263\u001B[0m         \u001B[38;5;28mself\u001B[39m\u001B[38;5;241m.\u001B[39mf_updated \u001B[38;5;241m=\u001B[39m \u001B[38;5;28;01mTrue\u001B[39;00m\n",
      "File \u001B[1;32m~\\OneDrive\\GAU\\3. Semester\\Statistisches Praktikum\\Git\\NEW_Ensemble_Techniques_TS_FC\\venv\\Lib\\site-packages\\scipy\\optimize\\_differentiable_functions.py:163\u001B[0m, in \u001B[0;36mScalarFunction.__init__.<locals>.update_fun\u001B[1;34m()\u001B[0m\n\u001B[0;32m    162\u001B[0m \u001B[38;5;28;01mdef\u001B[39;00m \u001B[38;5;21mupdate_fun\u001B[39m():\n\u001B[1;32m--> 163\u001B[0m     \u001B[38;5;28mself\u001B[39m\u001B[38;5;241m.\u001B[39mf \u001B[38;5;241m=\u001B[39m \u001B[43mfun_wrapped\u001B[49m\u001B[43m(\u001B[49m\u001B[38;5;28;43mself\u001B[39;49m\u001B[38;5;241;43m.\u001B[39;49m\u001B[43mx\u001B[49m\u001B[43m)\u001B[49m\n",
      "File \u001B[1;32m~\\OneDrive\\GAU\\3. Semester\\Statistisches Praktikum\\Git\\NEW_Ensemble_Techniques_TS_FC\\venv\\Lib\\site-packages\\scipy\\optimize\\_differentiable_functions.py:145\u001B[0m, in \u001B[0;36mScalarFunction.__init__.<locals>.fun_wrapped\u001B[1;34m(x)\u001B[0m\n\u001B[0;32m    141\u001B[0m \u001B[38;5;28mself\u001B[39m\u001B[38;5;241m.\u001B[39mnfev \u001B[38;5;241m+\u001B[39m\u001B[38;5;241m=\u001B[39m \u001B[38;5;241m1\u001B[39m\n\u001B[0;32m    142\u001B[0m \u001B[38;5;66;03m# Send a copy because the user may overwrite it.\u001B[39;00m\n\u001B[0;32m    143\u001B[0m \u001B[38;5;66;03m# Overwriting results in undefined behaviour because\u001B[39;00m\n\u001B[0;32m    144\u001B[0m \u001B[38;5;66;03m# fun(self.x) will change self.x, with the two no longer linked.\u001B[39;00m\n\u001B[1;32m--> 145\u001B[0m fx \u001B[38;5;241m=\u001B[39m fun(\u001B[43mnp\u001B[49m\u001B[38;5;241;43m.\u001B[39;49m\u001B[43mcopy\u001B[49m\u001B[43m(\u001B[49m\u001B[43mx\u001B[49m\u001B[43m)\u001B[49m, \u001B[38;5;241m*\u001B[39margs)\n\u001B[0;32m    146\u001B[0m \u001B[38;5;66;03m# Make sure the function returns a true scalar\u001B[39;00m\n\u001B[0;32m    147\u001B[0m \u001B[38;5;28;01mif\u001B[39;00m \u001B[38;5;129;01mnot\u001B[39;00m np\u001B[38;5;241m.\u001B[39misscalar(fx):\n",
      "File \u001B[1;32m~\\OneDrive\\GAU\\3. Semester\\Statistisches Praktikum\\Git\\NEW_Ensemble_Techniques_TS_FC\\venv\\Lib\\site-packages\\numpy\\lib\\function_base.py:962\u001B[0m, in \u001B[0;36mcopy\u001B[1;34m(a, order, subok)\u001B[0m\n\u001B[0;32m    873\u001B[0m \u001B[38;5;129m@array_function_dispatch\u001B[39m(_copy_dispatcher)\n\u001B[0;32m    874\u001B[0m \u001B[38;5;28;01mdef\u001B[39;00m \u001B[38;5;21mcopy\u001B[39m(a, order\u001B[38;5;241m=\u001B[39m\u001B[38;5;124m'\u001B[39m\u001B[38;5;124mK\u001B[39m\u001B[38;5;124m'\u001B[39m, subok\u001B[38;5;241m=\u001B[39m\u001B[38;5;28;01mFalse\u001B[39;00m):\n\u001B[0;32m    875\u001B[0m \u001B[38;5;250m    \u001B[39m\u001B[38;5;124;03m\"\"\"\u001B[39;00m\n\u001B[0;32m    876\u001B[0m \u001B[38;5;124;03m    Return an array copy of the given object.\u001B[39;00m\n\u001B[0;32m    877\u001B[0m \n\u001B[1;32m   (...)\u001B[0m\n\u001B[0;32m    960\u001B[0m \n\u001B[0;32m    961\u001B[0m \u001B[38;5;124;03m    \"\"\"\u001B[39;00m\n\u001B[1;32m--> 962\u001B[0m     \u001B[38;5;28;01mreturn\u001B[39;00m array(a, order\u001B[38;5;241m=\u001B[39morder, subok\u001B[38;5;241m=\u001B[39msubok, copy\u001B[38;5;241m=\u001B[39m\u001B[38;5;28;01mTrue\u001B[39;00m)\n",
      "\u001B[1;31mKeyboardInterrupt\u001B[0m: "
     ]
    }
   ],
   "source": [
    "output_dict = (\n",
    "    run_pipeline(\n",
    "        df=df, models=MODELS, metrics=METRICS,\n",
    "        fh=1,\n",
    "        start=\"2020-01-01\", end=\"2020-03-31\",\n",
    "        agg_method='last', agg_freq='B',\n",
    "        target='bid_close', covariates=None,\n",
    "        select_forecaster='all',\n",
    "        select_ensemblers='all',\n",
    "        export_path=PIPE_OUTPUT_DIR,\n",
    "        verbose=True\n",
    "    )\n",
    ")"
   ]
  },
  {
   "cell_type": "code",
   "execution_count": 6,
   "metadata": {
    "ExecuteTime": {
     "end_time": "2024-03-07T23:46:37.114352Z",
     "start_time": "2024-03-07T23:46:36.984299Z"
    }
   },
   "outputs": [
    {
     "data": {
      "text/plain": "<pandas.io.formats.style.Styler at 0x1d35a4f0990>",
      "text/html": "<style type=\"text/css\">\n</style>\n<table id=\"T_f82db\">\n  <thead>\n    <tr>\n      <th id=\"T_f82db_level0_col0\" class=\"col_heading level0 col0\" >Model</th>\n      <th id=\"T_f82db_level0_col1\" class=\"col_heading level0 col1\" >RMSE</th>\n      <th id=\"T_f82db_level0_col2\" class=\"col_heading level0 col2\" >MAPE</th>\n      <th id=\"T_f82db_level0_col3\" class=\"col_heading level0 col3\" >sMAPE</th>\n      <th id=\"T_f82db_level0_col4\" class=\"col_heading level0 col4\" >RMSE Ranking</th>\n      <th id=\"T_f82db_level0_col5\" class=\"col_heading level0 col5\" >MAPE Ranking</th>\n      <th id=\"T_f82db_level0_col6\" class=\"col_heading level0 col6\" >sMAPE Ranking</th>\n    </tr>\n  </thead>\n  <tbody>\n    <tr>\n      <td id=\"T_f82db_row0_col0\" class=\"data row0 col0\" >Naive</td>\n      <td id=\"T_f82db_row0_col1\" class=\"data row0 col1\" >0.009</td>\n      <td id=\"T_f82db_row0_col2\" class=\"data row0 col2\" >0.006</td>\n      <td id=\"T_f82db_row0_col3\" class=\"data row0 col3\" >0.390</td>\n      <td id=\"T_f82db_row0_col4\" class=\"data row0 col4\" >1</td>\n      <td id=\"T_f82db_row0_col5\" class=\"data row0 col5\" >1</td>\n      <td id=\"T_f82db_row0_col6\" class=\"data row0 col6\" >1</td>\n    </tr>\n    <tr>\n      <td id=\"T_f82db_row1_col0\" class=\"data row1 col0\" >Exponential Smoothing</td>\n      <td id=\"T_f82db_row1_col1\" class=\"data row1 col1\" >0.009</td>\n      <td id=\"T_f82db_row1_col2\" class=\"data row1 col2\" >0.006</td>\n      <td id=\"T_f82db_row1_col3\" class=\"data row1 col3\" >0.391</td>\n      <td id=\"T_f82db_row1_col4\" class=\"data row1 col4\" >2</td>\n      <td id=\"T_f82db_row1_col5\" class=\"data row1 col5\" >2</td>\n      <td id=\"T_f82db_row1_col6\" class=\"data row1 col6\" >2</td>\n    </tr>\n    <tr>\n      <td id=\"T_f82db_row2_col0\" class=\"data row2 col0\" >Weighted Ensemble: Inverse Error Covariance</td>\n      <td id=\"T_f82db_row2_col1\" class=\"data row2 col1\" >0.009</td>\n      <td id=\"T_f82db_row2_col2\" class=\"data row2 col2\" >0.006</td>\n      <td id=\"T_f82db_row2_col3\" class=\"data row2 col3\" >0.398</td>\n      <td id=\"T_f82db_row2_col4\" class=\"data row2 col4\" >3</td>\n      <td id=\"T_f82db_row2_col5\" class=\"data row2 col5\" >3</td>\n      <td id=\"T_f82db_row2_col6\" class=\"data row2 col6\" >3</td>\n    </tr>\n    <tr>\n      <td id=\"T_f82db_row3_col0\" class=\"data row3 col0\" >Naive (drift)</td>\n      <td id=\"T_f82db_row3_col1\" class=\"data row3 col1\" >0.009</td>\n      <td id=\"T_f82db_row3_col2\" class=\"data row3 col2\" >0.006</td>\n      <td id=\"T_f82db_row3_col3\" class=\"data row3 col3\" >0.407</td>\n      <td id=\"T_f82db_row3_col4\" class=\"data row3 col4\" >4</td>\n      <td id=\"T_f82db_row3_col5\" class=\"data row3 col5\" >4</td>\n      <td id=\"T_f82db_row3_col6\" class=\"data row3 col6\" >4</td>\n    </tr>\n    <tr>\n      <td id=\"T_f82db_row4_col0\" class=\"data row4 col0\" >Weighted Ensemble: Inverse RMSE</td>\n      <td id=\"T_f82db_row4_col1\" class=\"data row4 col1\" >0.009</td>\n      <td id=\"T_f82db_row4_col2\" class=\"data row4 col2\" >0.007</td>\n      <td id=\"T_f82db_row4_col3\" class=\"data row4 col3\" >0.436</td>\n      <td id=\"T_f82db_row4_col4\" class=\"data row4 col4\" >5</td>\n      <td id=\"T_f82db_row4_col5\" class=\"data row4 col5\" >5</td>\n      <td id=\"T_f82db_row4_col6\" class=\"data row4 col6\" >5</td>\n    </tr>\n    <tr>\n      <td id=\"T_f82db_row5_col0\" class=\"data row5 col0\" >Weighted Ensemble: Inverse Variance</td>\n      <td id=\"T_f82db_row5_col1\" class=\"data row5 col1\" >0.010</td>\n      <td id=\"T_f82db_row5_col2\" class=\"data row5 col2\" >0.007</td>\n      <td id=\"T_f82db_row5_col3\" class=\"data row5 col3\" >0.446</td>\n      <td id=\"T_f82db_row5_col4\" class=\"data row5 col4\" >6</td>\n      <td id=\"T_f82db_row5_col5\" class=\"data row5 col5\" >6</td>\n      <td id=\"T_f82db_row5_col6\" class=\"data row5 col6\" >6</td>\n    </tr>\n    <tr>\n      <td id=\"T_f82db_row6_col0\" class=\"data row6 col0\" >AutoSARIMA</td>\n      <td id=\"T_f82db_row6_col1\" class=\"data row6 col1\" >0.010</td>\n      <td id=\"T_f82db_row6_col2\" class=\"data row6 col2\" >0.007</td>\n      <td id=\"T_f82db_row6_col3\" class=\"data row6 col3\" >0.448</td>\n      <td id=\"T_f82db_row6_col4\" class=\"data row6 col4\" >9</td>\n      <td id=\"T_f82db_row6_col5\" class=\"data row6 col5\" >7</td>\n      <td id=\"T_f82db_row6_col6\" class=\"data row6 col6\" >7</td>\n    </tr>\n    <tr>\n      <td id=\"T_f82db_row7_col0\" class=\"data row7 col0\" >Weighted Ensemble: Simple</td>\n      <td id=\"T_f82db_row7_col1\" class=\"data row7 col1\" >0.010</td>\n      <td id=\"T_f82db_row7_col2\" class=\"data row7 col2\" >0.007</td>\n      <td id=\"T_f82db_row7_col3\" class=\"data row7 col3\" >0.455</td>\n      <td id=\"T_f82db_row7_col4\" class=\"data row7 col4\" >8</td>\n      <td id=\"T_f82db_row7_col5\" class=\"data row7 col5\" >8</td>\n      <td id=\"T_f82db_row7_col6\" class=\"data row7 col6\" >8</td>\n    </tr>\n    <tr>\n      <td id=\"T_f82db_row8_col0\" class=\"data row8 col0\" >Meta Ensemble: Linear Regression</td>\n      <td id=\"T_f82db_row8_col1\" class=\"data row8 col1\" >0.010</td>\n      <td id=\"T_f82db_row8_col2\" class=\"data row8 col2\" >0.007</td>\n      <td id=\"T_f82db_row8_col3\" class=\"data row8 col3\" >0.456</td>\n      <td id=\"T_f82db_row8_col4\" class=\"data row8 col4\" >7</td>\n      <td id=\"T_f82db_row8_col5\" class=\"data row8 col5\" >9</td>\n      <td id=\"T_f82db_row8_col6\" class=\"data row8 col6\" >9</td>\n    </tr>\n    <tr>\n      <td id=\"T_f82db_row9_col0\" class=\"data row9 col0\" >XGBoost</td>\n      <td id=\"T_f82db_row9_col1\" class=\"data row9 col1\" >0.011</td>\n      <td id=\"T_f82db_row9_col2\" class=\"data row9 col2\" >0.007</td>\n      <td id=\"T_f82db_row9_col3\" class=\"data row9 col3\" >0.485</td>\n      <td id=\"T_f82db_row9_col4\" class=\"data row9 col4\" >11</td>\n      <td id=\"T_f82db_row9_col5\" class=\"data row9 col5\" >10</td>\n      <td id=\"T_f82db_row9_col6\" class=\"data row9 col6\" >10</td>\n    </tr>\n    <tr>\n      <td id=\"T_f82db_row10_col0\" class=\"data row10 col0\" >Meta Ensemble: RandomForest</td>\n      <td id=\"T_f82db_row10_col1\" class=\"data row10 col1\" >0.010</td>\n      <td id=\"T_f82db_row10_col2\" class=\"data row10 col2\" >0.007</td>\n      <td id=\"T_f82db_row10_col3\" class=\"data row10 col3\" >0.492</td>\n      <td id=\"T_f82db_row10_col4\" class=\"data row10 col4\" >10</td>\n      <td id=\"T_f82db_row10_col5\" class=\"data row10 col5\" >11</td>\n      <td id=\"T_f82db_row10_col6\" class=\"data row10 col6\" >11</td>\n    </tr>\n    <tr>\n      <td id=\"T_f82db_row11_col0\" class=\"data row11 col0\" >STL</td>\n      <td id=\"T_f82db_row11_col1\" class=\"data row11 col1\" >0.017</td>\n      <td id=\"T_f82db_row11_col2\" class=\"data row11 col2\" >0.011</td>\n      <td id=\"T_f82db_row11_col3\" class=\"data row11 col3\" >0.753</td>\n      <td id=\"T_f82db_row11_col4\" class=\"data row11 col4\" >12</td>\n      <td id=\"T_f82db_row11_col5\" class=\"data row11 col5\" >12</td>\n      <td id=\"T_f82db_row11_col6\" class=\"data row11 col6\" >12</td>\n    </tr>\n    <tr>\n      <td id=\"T_f82db_row12_col0\" class=\"data row12 col0\" >Meta Ensemble: SVR</td>\n      <td id=\"T_f82db_row12_col1\" class=\"data row12 col1\" >0.019</td>\n      <td id=\"T_f82db_row12_col2\" class=\"data row12 col2\" >0.014</td>\n      <td id=\"T_f82db_row12_col3\" class=\"data row12 col3\" >0.929</td>\n      <td id=\"T_f82db_row12_col4\" class=\"data row12 col4\" >13</td>\n      <td id=\"T_f82db_row12_col5\" class=\"data row12 col5\" >13</td>\n      <td id=\"T_f82db_row12_col6\" class=\"data row12 col6\" >13</td>\n    </tr>\n    <tr>\n      <td id=\"T_f82db_row13_col0\" class=\"data row13 col0\" >Meta Ensemble: Ridge</td>\n      <td id=\"T_f82db_row13_col1\" class=\"data row13 col1\" >0.019</td>\n      <td id=\"T_f82db_row13_col2\" class=\"data row13 col2\" >0.014</td>\n      <td id=\"T_f82db_row13_col3\" class=\"data row13 col3\" >0.959</td>\n      <td id=\"T_f82db_row13_col4\" class=\"data row13 col4\" >14</td>\n      <td id=\"T_f82db_row13_col5\" class=\"data row13 col5\" >14</td>\n      <td id=\"T_f82db_row13_col6\" class=\"data row13 col6\" >14</td>\n    </tr>\n    <tr>\n      <td id=\"T_f82db_row14_col0\" class=\"data row14 col0\" >Meta Ensemble: MLP</td>\n      <td id=\"T_f82db_row14_col1\" class=\"data row14 col1\" >0.265</td>\n      <td id=\"T_f82db_row14_col2\" class=\"data row14 col2\" >0.220</td>\n      <td id=\"T_f82db_row14_col3\" class=\"data row14 col3\" >13.469</td>\n      <td id=\"T_f82db_row14_col4\" class=\"data row14 col4\" >15</td>\n      <td id=\"T_f82db_row14_col5\" class=\"data row14 col5\" >15</td>\n      <td id=\"T_f82db_row14_col6\" class=\"data row14 col6\" >15</td>\n    </tr>\n  </tbody>\n</table>\n"
     },
     "metadata": {},
     "output_type": "display_data"
    }
   ],
   "source": [
    "display_ranking_table(output_dict['metrics ranking'])\n"
   ]
  },
  {
   "cell_type": "markdown",
   "source": [
    "Note: For now you need to restart kernel and if you want to re-run pipeline with different settings."
   ],
   "metadata": {
    "collapsed": false
   }
  }
 ],
 "metadata": {
  "kernelspec": {
   "display_name": "Python 3",
   "language": "python",
   "name": "python3"
  },
  "language_info": {
   "codemirror_mode": {
    "name": "ipython",
    "version": 3
   },
   "file_extension": ".py",
   "mimetype": "text/x-python",
   "name": "python",
   "nbconvert_exporter": "python",
   "pygments_lexer": "ipython3",
   "version": "3.11.1"
  }
 },
 "nbformat": 4,
 "nbformat_minor": 2
}
